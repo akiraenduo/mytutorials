{
 "cells": [
  {
   "cell_type": "markdown",
   "metadata": {},
   "source": [
    "# Tutorial for deepSpeech.pytorch\n",
    "\n",
    "this jupyter notebooks is explaining how deepspeech.pytorch work.\n",
    "I put every componento on this notebooks, so you can check each step from data preprocessing to model to training.\n",
    "\n",
    "## What is deepspeech.pytorch ?\n",
    "deepspeech.pytorch is an awesome implentation of Baidu's DeepSpeech 2 paper.\n",
    "\n",
    "https://github.com/SeanNaren/deepspeech.pytorch\n",
    "\n",
    "## Requirements\n",
    "### Warp-CTC\n",
    "you need Warp-CTC for loss function.\n",
    "please follow the instruction at https://github.com/SeanNaren/deepspeech.pytorch to install Warp-CTC.  \n",
    "```\n",
    "git clone https://github.com/SeanNaren/warp-ctc.git\n",
    "cd warp-ctc; mkdir build; cd build; cmake ..; make\n",
    "export CUDA_HOME=\"/usr/local/cuda\"\n",
    "cd ../pytorch_binding && python setup.py install\n",
    "```\n",
    "\n",
    "### other dependancy:  \n",
    "scipy, numpy, soundfile,  python-levenshtein, torch, torchelastic, wget, librosa, tqdm, matplotlib, sox, sklearn\n",
    "\n",
    "I remove apex part so that you can test this code even with CPU."
   ]
  },
  {
   "cell_type": "code",
   "execution_count": 1,
   "metadata": {},
   "outputs": [],
   "source": [
    "# this is just a jupyter things\n",
    "%reload_ext autoreload\n",
    "%autoreload 2\n",
    "%matplotlib inline"
   ]
  },
  {
   "cell_type": "code",
   "execution_count": 2,
   "metadata": {},
   "outputs": [],
   "source": [
    "# import basic library\n",
    "import json\n",
    "import os\n",
    "import random\n",
    "import time"
   ]
  },
  {
   "cell_type": "code",
   "execution_count": 3,
   "metadata": {},
   "outputs": [],
   "source": [
    "# import deep learning related\n",
    "import torch\n",
    "from warpctc_pytorch import CTCLoss"
   ]
  },
  {
   "cell_type": "markdown",
   "metadata": {},
   "source": [
    "## Let's define modules "
   ]
  },
  {
   "cell_type": "markdown",
   "metadata": {},
   "source": [
    "### Define SpectrogramDataset, DSRandomSampler, AudioDataLoader\n",
    "This is equivalent of ```from data.data_loader import SpectrogramDataset, DSRandomSampler, AudioDataLoader```"
   ]
  },
  {
   "cell_type": "code",
   "execution_count": 4,
   "metadata": {},
   "outputs": [],
   "source": [
    "# pip install numba==0.48"
   ]
  },
  {
   "cell_type": "code",
   "execution_count": 5,
   "metadata": {},
   "outputs": [],
   "source": [
    "import math\n",
    "import os\n",
    "from tempfile import NamedTemporaryFile\n",
    "import librosa\n",
    "import numpy as np\n",
    "import scipy.signal\n",
    "import soundfile as sf\n",
    "import sox\n",
    "import torch\n",
    "from torch.utils.data import Dataset, Sampler, DataLoader\n",
    "\n",
    "windows = {\n",
    "    'hamming': scipy.signal.hamming,\n",
    "    'hann': scipy.signal.hann,\n",
    "    'blackman': scipy.signal.blackman,\n",
    "    'bartlett': scipy.signal.bartlett\n",
    "}"
   ]
  },
  {
   "cell_type": "code",
   "execution_count": 6,
   "metadata": {},
   "outputs": [],
   "source": [
    "def augment_audio_with_sox(path, sample_rate, tempo, gain):\n",
    "    \"\"\"\n",
    "    Changes tempo and gain of the recording with sox and loads it.\n",
    "    \"\"\"\n",
    "    with NamedTemporaryFile(suffix=\".wav\") as augmented_file:\n",
    "        augmented_filename = augmented_file.name\n",
    "        sox_augment_params = [\"tempo\", \"{:.3f}\".format(tempo), \"gain\", \"{:.3f}\".format(gain)]\n",
    "        sox_params = \"sox \\\"{}\\\" -r {} -c 1 -b 16 -e si {} {} >/dev/null 2>&1\".format(path, sample_rate,\n",
    "                                                                                      augmented_filename,\n",
    "                                                                                      \" \".join(sox_augment_params))\n",
    "        os.system(sox_params)\n",
    "        y = load_audio(augmented_filename)\n",
    "        return y\n"
   ]
  },
  {
   "cell_type": "code",
   "execution_count": 7,
   "metadata": {},
   "outputs": [],
   "source": [
    "def load_randomly_augmented_audio(path, sample_rate=16000, tempo_range=(0.85, 1.15),\n",
    "                                  gain_range=(-6, 8)):\n",
    "    \"\"\"\n",
    "    Picks tempo and gain uniformly, applies it to the utterance by using sox utility.\n",
    "    Returns the augmented utterance.\n",
    "    \"\"\"\n",
    "    low_tempo, high_tempo = tempo_range\n",
    "    tempo_value = np.random.uniform(low=low_tempo, high=high_tempo)\n",
    "    low_gain, high_gain = gain_range\n",
    "    gain_value = np.random.uniform(low=low_gain, high=high_gain)\n",
    "    audio = augment_audio_with_sox(path=path, sample_rate=sample_rate,\n",
    "                                   tempo=tempo_value, gain=gain_value)\n",
    "    return audio"
   ]
  },
  {
   "cell_type": "code",
   "execution_count": 8,
   "metadata": {},
   "outputs": [],
   "source": [
    "\n",
    "class AudioParser(object):\n",
    "    def parse_transcript(self, transcript_path):\n",
    "        \"\"\"\n",
    "        :param transcript_path: Path where transcript is stored from the manifest file\n",
    "        :return: Transcript in training/testing format\n",
    "        \"\"\"\n",
    "        raise NotImplementedError\n",
    "\n",
    "    def parse_audio(self, audio_path):\n",
    "        \"\"\"\n",
    "        :param audio_path: Path where audio is stored from the manifest file\n",
    "        :return: Audio in training/testing format\n",
    "        \"\"\"\n",
    "        raise NotImplementedError"
   ]
  },
  {
   "cell_type": "code",
   "execution_count": 9,
   "metadata": {},
   "outputs": [],
   "source": [
    "\n",
    "class SpectrogramParser(AudioParser):\n",
    "    def __init__(self, audio_conf, normalize=False, speed_volume_perturb=False, spec_augment=False):\n",
    "        \"\"\"\n",
    "        Parses audio file into spectrogram with optional normalization and various augmentations\n",
    "        :param audio_conf: Dictionary containing the sample rate, window and the window length/stride in seconds\n",
    "        :param normalize(default False):  Apply standard mean and deviation normalization to audio tensor\n",
    "        :param speed_volume_perturb(default False): Apply random tempo and gain perturbations\n",
    "        :param spec_augment(default False): Apply simple spectral augmentation to mel spectograms\n",
    "        \"\"\"\n",
    "        super(SpectrogramParser, self).__init__()\n",
    "        self.window_stride = audio_conf['window_stride']\n",
    "        self.window_size = audio_conf['window_size']\n",
    "        self.sample_rate = audio_conf['sample_rate']\n",
    "        # self.window = windows.get(audio_conf['window'], windows['hamming'])\n",
    "        self.window = windows.get(audio_conf['window'], windows['hamming'])\n",
    "        self.normalize = normalize\n",
    "        self.speed_volume_perturb = speed_volume_perturb\n",
    "        self.spec_augment = spec_augment\n",
    "        self.noiseInjector = NoiseInjection(audio_conf['noise_dir'], self.sample_rate,\n",
    "                                            audio_conf['noise_levels']) if audio_conf.get(\n",
    "            'noise_dir') is not None else None\n",
    "        self.noise_prob = audio_conf.get('noise_prob')\n",
    "\n",
    "    def parse_audio(self, audio_path):\n",
    "        if self.speed_volume_perturb:\n",
    "            y = load_randomly_augmented_audio(audio_path, self.sample_rate)\n",
    "        else:\n",
    "            y = load_audio(audio_path)\n",
    "        if self.noiseInjector:\n",
    "            add_noise = np.random.binomial(1, self.noise_prob)\n",
    "            if add_noise:\n",
    "                y = self.noiseInjector.inject_noise(y)\n",
    "        n_fft = int(self.sample_rate * self.window_size)\n",
    "        win_length = n_fft\n",
    "        hop_length = int(self.sample_rate * self.window_stride)\n",
    "        # STFT\n",
    "        D = librosa.stft(y, n_fft=n_fft, hop_length=hop_length,\n",
    "                         win_length=win_length, window=self.window)\n",
    "        spect, phase = librosa.magphase(D)\n",
    "        # S = log(S+1)\n",
    "        spect = np.log1p(spect)\n",
    "        spect = torch.FloatTensor(spect)\n",
    "        if self.normalize:\n",
    "            mean = spect.mean()\n",
    "            std = spect.std()\n",
    "            spect.add_(-mean)\n",
    "            spect.div_(std)\n",
    "\n",
    "        if self.spec_augment:\n",
    "            spect = spec_augment(spect)\n",
    "\n",
    "        return spect\n",
    "\n",
    "    def parse_transcript(self, transcript_path):\n",
    "        raise NotImplementedError"
   ]
  },
  {
   "cell_type": "code",
   "execution_count": 10,
   "metadata": {},
   "outputs": [],
   "source": [
    "class SpectrogramDataset(Dataset, SpectrogramParser):\n",
    "    def __init__(self, audio_conf, manifest_filepath, labels, normalize=False, speed_volume_perturb=False,\n",
    "                 spec_augment=False):\n",
    "        \"\"\"\n",
    "        Dataset that loads tensors via a csv containing file paths to audio files and transcripts separated by\n",
    "        a comma. Each new line is a different sample. Example below:\n",
    "\n",
    "        /path/to/audio.wav,/path/to/audio.txt\n",
    "        ...\n",
    "\n",
    "        :param audio_conf: Dictionary containing the sample rate, window and the window length/stride in seconds\n",
    "        :param manifest_filepath: Path to manifest csv as describe above\n",
    "        :param labels: String containing all the possible characters to map to\n",
    "        :param normalize: Apply standard mean and deviation normalization to audio tensor\n",
    "        :param speed_volume_perturb(default False): Apply random tempo and gain perturbations\n",
    "        :param spec_augment(default False): Apply simple spectral augmentation to mel spectograms\n",
    "        \"\"\"\n",
    "        with open(manifest_filepath) as f:\n",
    "            ids = f.readlines()\n",
    "        ids = [x.strip().split(',') for x in ids]\n",
    "        self.ids = ids\n",
    "        self.size = len(ids)\n",
    "        self.labels_map = dict([(labels[i], i) for i in range(len(labels))])\n",
    "        super(SpectrogramDataset, self).__init__(audio_conf, normalize, speed_volume_perturb, spec_augment)\n",
    "\n",
    "    def __getitem__(self, index):\n",
    "        sample = self.ids[index]\n",
    "        audio_path, transcript_path = sample[0], sample[1]\n",
    "        spect = self.parse_audio(audio_path)\n",
    "        transcript = self.parse_transcript(transcript_path)\n",
    "        return spect, transcript\n",
    "\n",
    "    def parse_transcript(self, transcript_path):\n",
    "        with open(transcript_path, 'r', encoding='utf8') as transcript_file:\n",
    "            transcript = transcript_file.read().replace('\\n', '')\n",
    "        transcript = list(filter(None, [self.labels_map.get(x) for x in list(transcript)]))\n",
    "        return transcript\n",
    "\n",
    "    def __len__(self):\n",
    "        return self.size\n"
   ]
  },
  {
   "cell_type": "code",
   "execution_count": 11,
   "metadata": {},
   "outputs": [],
   "source": [
    "class DSRandomSampler(Sampler):\n",
    "    \"\"\"\n",
    "    Implementation of a Random Sampler for sampling the dataset.\n",
    "    Added to ensure we reset the start index when an epoch is finished.\n",
    "    This is essential since we support saving/loading state during an epoch.\n",
    "    \"\"\"\n",
    "\n",
    "    def __init__(self, dataset, batch_size=1, start_index=0):\n",
    "        super().__init__(data_source=dataset)\n",
    "\n",
    "        self.dataset = dataset\n",
    "        self.start_index = start_index\n",
    "        self.batch_size = batch_size\n",
    "        ids = list(range(len(self.dataset)))\n",
    "        self.bins = [ids[i:i + self.batch_size] for i in range(0, len(ids), self.batch_size)]\n",
    "\n",
    "    def __iter__(self):\n",
    "        # deterministically shuffle based on epoch\n",
    "        g = torch.Generator()\n",
    "        g.manual_seed(self.epoch)\n",
    "        indices = (\n",
    "            torch.randperm(len(self.bins) - self.start_index, generator=g)\n",
    "                .add(self.start_index)\n",
    "                .tolist()\n",
    "        )\n",
    "        for x in indices:\n",
    "            batch_ids = self.bins[x]\n",
    "            np.random.shuffle(batch_ids)\n",
    "            yield batch_ids\n",
    "\n",
    "    def __len__(self):\n",
    "        return len(self.bins) - self.start_index\n",
    "\n",
    "    def set_epoch(self, epoch):\n",
    "        self.epoch = epoch\n",
    "\n",
    "    def reset_training_step(self, training_step):\n",
    "        self.start_index = training_step"
   ]
  },
  {
   "cell_type": "code",
   "execution_count": 12,
   "metadata": {},
   "outputs": [],
   "source": [
    "def _collate_fn(batch):\n",
    "\n",
    "    def func(p):\n",
    "        return p[0].size(1)\n",
    "\n",
    "    batch = sorted(batch, key=lambda sample: sample[0].size(1), reverse=True)\n",
    "    longest_sample = max(batch, key=func)[0]\n",
    "    freq_size = longest_sample.size(0)\n",
    "    minibatch_size = len(batch)\n",
    "    max_seqlength = longest_sample.size(1)\n",
    "    inputs = torch.zeros(minibatch_size, 1, freq_size, max_seqlength)\n",
    "    input_percentages = torch.FloatTensor(minibatch_size)\n",
    "    target_sizes = torch.IntTensor(minibatch_size)\n",
    "    targets = []\n",
    "    # audio_paths = []\n",
    "    for x in range(minibatch_size):\n",
    "        sample = batch[x]\n",
    "        tensor = sample[0]\n",
    "        target = sample[1]\n",
    "        seq_length = tensor.size(1)\n",
    "        inputs[x][0].narrow(1, 0, seq_length).copy_(tensor)\n",
    "        input_percentages[x] = seq_length / float(max_seqlength)\n",
    "        target_sizes[x] = len(target)\n",
    "        targets.extend(target)\n",
    "        # audio_path = sample[2]\n",
    "        # audio_paths.append(audio_path)\n",
    "    targets = torch.IntTensor(targets)\n",
    "    return inputs, targets, input_percentages, target_sizes"
   ]
  },
  {
   "cell_type": "code",
   "execution_count": 13,
   "metadata": {},
   "outputs": [],
   "source": [
    "\n",
    "class AudioDataLoader(DataLoader):\n",
    "    def __init__(self, *args, **kwargs):\n",
    "        \"\"\"\n",
    "        Creates a data loader for AudioDatasets.\n",
    "        \"\"\"\n",
    "        super(AudioDataLoader, self).__init__(*args, **kwargs)\n",
    "        self.collate_fn = _collate_fn"
   ]
  },
  {
   "cell_type": "markdown",
   "metadata": {},
   "source": [
    "### define GreedyDecoder, decoder\n",
    "this is equivalent of ```from decoder import GreedyDecoder```\n",
    "\n",
    "You can use *BeamDecoder*. But you need to install ctcdecode at that case."
   ]
  },
  {
   "cell_type": "code",
   "execution_count": 14,
   "metadata": {},
   "outputs": [],
   "source": [
    "import Levenshtein as Lev\n",
    "import torch\n",
    "from six.moves import xrange"
   ]
  },
  {
   "cell_type": "code",
   "execution_count": 15,
   "metadata": {},
   "outputs": [],
   "source": [
    "class Decoder(object):\n",
    "    \"\"\"\n",
    "    Basic decoder class from which all other decoders inherit. Implements several\n",
    "    helper functions. Subclasses should implement the decode() method.\n",
    "\n",
    "    Arguments:\n",
    "        labels (list): mapping from integers to characters.\n",
    "        blank_index (int, optional): index for the blank '_' character. Defaults to 0.\n",
    "        space_index (int, optional): index for the space ' ' character. Defaults to 28.\n",
    "    \"\"\"\n",
    "\n",
    "    def __init__(self, labels, blank_index=0):\n",
    "        self.labels = labels\n",
    "        self.int_to_char = dict([(i, c) for (i, c) in enumerate(labels)])\n",
    "        self.blank_index = blank_index\n",
    "        space_index = len(labels)  # To prevent errors in decode, we add an out of bounds index for the space\n",
    "        if ' ' in labels:\n",
    "            space_index = labels.index(' ')\n",
    "        self.space_index = space_index\n",
    "\n",
    "    def wer(self, s1, s2):\n",
    "        \"\"\"\n",
    "        Computes the Word Error Rate, defined as the edit distance between the\n",
    "        two provided sentences after tokenizing to words.\n",
    "        Arguments:\n",
    "            s1 (string): space-separated sentence\n",
    "            s2 (string): space-separated sentence\n",
    "        \"\"\"\n",
    "\n",
    "        # build mapping of words to integers\n",
    "        b = set(s1.split() + s2.split())\n",
    "        word2char = dict(zip(b, range(len(b))))\n",
    "\n",
    "        # map the words to a char array (Levenshtein packages only accepts\n",
    "        # strings)\n",
    "        w1 = [chr(word2char[w]) for w in s1.split()]\n",
    "        w2 = [chr(word2char[w]) for w in s2.split()]\n",
    "\n",
    "        return Lev.distance(''.join(w1), ''.join(w2))\n",
    "\n",
    "    def cer(self, s1, s2):\n",
    "        \"\"\"\n",
    "        Computes the Character Error Rate, defined as the edit distance.\n",
    "\n",
    "        Arguments:\n",
    "            s1 (string): space-separated sentence\n",
    "            s2 (string): space-separated sentence\n",
    "        \"\"\"\n",
    "        s1, s2, = s1.replace(' ', ''), s2.replace(' ', '')\n",
    "        return Lev.distance(s1, s2)\n",
    "\n",
    "    def decode(self, probs, sizes=None):\n",
    "        \"\"\"\n",
    "        Given a matrix of character probabilities, returns the decoder's\n",
    "        best guess of the transcription\n",
    "\n",
    "        Arguments:\n",
    "            probs: Tensor of character probabilities, where probs[c,t]\n",
    "                            is the probability of character c at time t\n",
    "            sizes(optional): Size of each sequence in the mini-batch\n",
    "        Returns:\n",
    "            string: sequence of the model's best guess for the transcription\n",
    "        \"\"\"\n",
    "        raise NotImplementedError\n"
   ]
  },
  {
   "cell_type": "code",
   "execution_count": 16,
   "metadata": {},
   "outputs": [],
   "source": [
    "class GreedyDecoder(Decoder):\n",
    "    def __init__(self, labels, blank_index=0):\n",
    "        super(GreedyDecoder, self).__init__(labels, blank_index)\n",
    "\n",
    "    def convert_to_strings(self, sequences, sizes=None, remove_repetitions=False, return_offsets=False):\n",
    "        \"\"\"Given a list of numeric sequences, returns the corresponding strings\"\"\"\n",
    "        strings = []\n",
    "        offsets = [] if return_offsets else None\n",
    "        for x in xrange(len(sequences)):\n",
    "            seq_len = sizes[x] if sizes is not None else len(sequences[x])\n",
    "            string, string_offsets = self.process_string(sequences[x], seq_len, remove_repetitions)\n",
    "            strings.append([string])  # We only return one path\n",
    "            if return_offsets:\n",
    "                offsets.append([string_offsets])\n",
    "        if return_offsets:\n",
    "            return strings, offsets\n",
    "        else:\n",
    "            return strings\n",
    "\n",
    "    def process_string(self, sequence, size, remove_repetitions=False):\n",
    "        string = ''\n",
    "        offsets = []\n",
    "        for i in range(size):\n",
    "            char = self.int_to_char[sequence[i].item()]\n",
    "            if char != self.int_to_char[self.blank_index]:\n",
    "                # if this char is a repetition and remove_repetitions=true, then skip\n",
    "                if remove_repetitions and i != 0 and char == self.int_to_char[sequence[i - 1].item()]:\n",
    "                    pass\n",
    "                elif char == self.labels[self.space_index]:\n",
    "                    string += ' '\n",
    "                    offsets.append(i)\n",
    "                else:\n",
    "                    string = string + char\n",
    "                    offsets.append(i)\n",
    "        return string, torch.tensor(offsets, dtype=torch.int)\n",
    "\n",
    "    def decode(self, probs, sizes=None):\n",
    "        \"\"\"\n",
    "        Returns the argmax decoding given the probability matrix. Removes\n",
    "        repeated elements in the sequence, as well as blanks.\n",
    "\n",
    "        Arguments:\n",
    "            probs: Tensor of character probabilities from the network. Expected shape of batch x seq_length x output_dim\n",
    "            sizes(optional): Size of each sequence in the mini-batch\n",
    "        Returns:\n",
    "            strings: sequences of the model's best guess for the transcription on inputs\n",
    "            offsets: time step per character predicted\n",
    "        \"\"\"\n",
    "        _, max_probs = torch.max(probs, 2)\n",
    "        strings, offsets = self.convert_to_strings(max_probs.view(max_probs.size(0), max_probs.size(1)), sizes,\n",
    "                                                   remove_repetitions=True, return_offsets=True)\n",
    "        return strings, offsets\n"
   ]
  },
  {
   "cell_type": "markdown",
   "metadata": {},
   "source": [
    "### Define DeepSpeech, and supported_rnns\n",
    "This is equivalent of ```from model import DeepSpeech, supported_rnns```"
   ]
  },
  {
   "cell_type": "code",
   "execution_count": 17,
   "metadata": {},
   "outputs": [],
   "source": [
    "import math\n",
    "from collections import OrderedDict\n",
    "\n",
    "import torch\n",
    "import torch.nn as nn\n",
    "import torch.nn.functional as F"
   ]
  },
  {
   "cell_type": "code",
   "execution_count": 18,
   "metadata": {},
   "outputs": [],
   "source": [
    "class InferenceBatchSoftmax(nn.Module):\n",
    "    def forward(self, input_):\n",
    "        if not self.training:\n",
    "            return F.softmax(input_, dim=-1)\n",
    "        else:\n",
    "            return input_\n"
   ]
  },
  {
   "cell_type": "code",
   "execution_count": 19,
   "metadata": {},
   "outputs": [],
   "source": [
    "class BatchRNN(nn.Module):\n",
    "    def __init__(self, input_size, hidden_size, rnn_type=nn.LSTM, bidirectional=False, batch_norm=True):\n",
    "        super(BatchRNN, self).__init__()\n",
    "        self.input_size = input_size\n",
    "        self.hidden_size = hidden_size\n",
    "        self.bidirectional = bidirectional\n",
    "        self.batch_norm = SequenceWise(nn.BatchNorm1d(input_size)) if batch_norm else None\n",
    "        self.rnn = rnn_type(input_size=input_size, hidden_size=hidden_size,\n",
    "                            bidirectional=bidirectional, bias=True)\n",
    "        self.num_directions = 2 if bidirectional else 1\n",
    "\n",
    "    def flatten_parameters(self):\n",
    "        self.rnn.flatten_parameters()\n",
    "\n",
    "    def forward(self, x, output_lengths):\n",
    "        if self.batch_norm is not None:\n",
    "            x = self.batch_norm(x)\n",
    "        x = nn.utils.rnn.pack_padded_sequence(x, output_lengths)\n",
    "        x, h = self.rnn(x)\n",
    "        x, _ = nn.utils.rnn.pad_packed_sequence(x)\n",
    "        if self.bidirectional:\n",
    "            x = x.view(x.size(0), x.size(1), 2, -1).sum(2).view(x.size(0), x.size(1), -1)  # (TxNxH*2) -> (TxNxH) by sum\n",
    "        return x\n"
   ]
  },
  {
   "cell_type": "code",
   "execution_count": 20,
   "metadata": {},
   "outputs": [],
   "source": [
    "\n",
    "class SequenceWise(nn.Module):\n",
    "    def __init__(self, module):\n",
    "        \"\"\"\n",
    "        Collapses input of dim T*N*H to (T*N)*H, and applies to a module.\n",
    "        Allows handling of variable sequence lengths and minibatch sizes.\n",
    "        :param module: Module to apply input to.\n",
    "        \"\"\"\n",
    "        super(SequenceWise, self).__init__()\n",
    "        self.module = module\n",
    "\n",
    "    def forward(self, x):\n",
    "        t, n = x.size(0), x.size(1)\n",
    "        x = x.view(t * n, -1)\n",
    "        x = self.module(x)\n",
    "        x = x.view(t, n, -1)\n",
    "        return x\n",
    "\n",
    "    def __repr__(self):\n",
    "        tmpstr = self.__class__.__name__ + ' (\\n'\n",
    "        tmpstr += self.module.__repr__()\n",
    "        tmpstr += ')'\n",
    "        return tmpstr"
   ]
  },
  {
   "cell_type": "code",
   "execution_count": 21,
   "metadata": {},
   "outputs": [],
   "source": [
    "class MaskConv(nn.Module):\n",
    "    def __init__(self, seq_module):\n",
    "        \"\"\"\n",
    "        Adds padding to the output of the module based on the given lengths. This is to ensure that the\n",
    "        results of the model do not change when batch sizes change during inference.\n",
    "        Input needs to be in the shape of (BxCxDxT)\n",
    "        :param seq_module: The sequential module containing the conv stack.\n",
    "        \"\"\"\n",
    "        super(MaskConv, self).__init__()\n",
    "        self.seq_module = seq_module\n",
    "\n",
    "    def forward(self, x, lengths):\n",
    "        \"\"\"\n",
    "        :param x: The input of size BxCxDxT\n",
    "        :param lengths: The actual length of each sequence in the batch\n",
    "        :return: Masked output from the module\n",
    "        \"\"\"\n",
    "        for module in self.seq_module:\n",
    "            x = module(x)\n",
    "            mask = torch.BoolTensor(x.size()).fill_(0)\n",
    "            if x.is_cuda:\n",
    "                mask = mask.cuda()\n",
    "            for i, length in enumerate(lengths):\n",
    "                length = length.item()\n",
    "                if (mask[i].size(2) - length) > 0:\n",
    "                    mask[i].narrow(2, length, mask[i].size(2) - length).fill_(1)\n",
    "            x = x.masked_fill(mask, 0)\n",
    "        return x, lengths"
   ]
  },
  {
   "cell_type": "code",
   "execution_count": 22,
   "metadata": {},
   "outputs": [],
   "source": [
    "class DeepSpeech(nn.Module):\n",
    "    def __init__(self, rnn_type, labels, rnn_hidden_size, nb_layers, audio_conf,\n",
    "                 bidirectional, context=20):\n",
    "        super(DeepSpeech, self).__init__()\n",
    "\n",
    "        self.hidden_size = rnn_hidden_size\n",
    "        self.hidden_layers = nb_layers\n",
    "        self.rnn_type = rnn_type\n",
    "        self.audio_conf = audio_conf\n",
    "        self.labels = labels\n",
    "        self.bidirectional = bidirectional\n",
    "\n",
    "        sample_rate = self.audio_conf[\"sample_rate\"]\n",
    "        window_size = self.audio_conf[\"window_size\"]\n",
    "        num_classes = len(self.labels)\n",
    "\n",
    "        self.conv = MaskConv(nn.Sequential(\n",
    "            nn.Conv2d(1, 32, kernel_size=(41, 11), stride=(2, 2), padding=(20, 5)),\n",
    "            nn.BatchNorm2d(32),\n",
    "            nn.Hardtanh(0, 20, inplace=True),\n",
    "            nn.Conv2d(32, 32, kernel_size=(21, 11), stride=(2, 1), padding=(10, 5)),\n",
    "            nn.BatchNorm2d(32),\n",
    "            nn.Hardtanh(0, 20, inplace=True)\n",
    "        ))\n",
    "        # Based on above convolutions and spectrogram size using conv formula (W - F + 2P)/ S+1\n",
    "        rnn_input_size = int(math.floor((sample_rate * window_size) / 2) + 1)\n",
    "        rnn_input_size = int(math.floor(rnn_input_size + 2 * 20 - 41) / 2 + 1)\n",
    "        rnn_input_size = int(math.floor(rnn_input_size + 2 * 10 - 21) / 2 + 1)\n",
    "        rnn_input_size *= 32\n",
    "\n",
    "        rnns = []\n",
    "        rnn = BatchRNN(input_size=rnn_input_size, hidden_size=rnn_hidden_size, rnn_type=rnn_type,\n",
    "                       bidirectional=bidirectional, batch_norm=False)\n",
    "        rnns.append(('0', rnn))\n",
    "        for x in range(nb_layers - 1):\n",
    "            rnn = BatchRNN(input_size=rnn_hidden_size, hidden_size=rnn_hidden_size, rnn_type=rnn_type,\n",
    "                           bidirectional=bidirectional)\n",
    "            rnns.append(('%d' % (x + 1), rnn))\n",
    "        self.rnns = nn.Sequential(OrderedDict(rnns))\n",
    "        self.lookahead = nn.Sequential(\n",
    "            # consider adding batch norm?\n",
    "            Lookahead(rnn_hidden_size, context=context),\n",
    "            nn.Hardtanh(0, 20, inplace=True)\n",
    "        ) if not bidirectional else None\n",
    "\n",
    "        fully_connected = nn.Sequential(\n",
    "            nn.BatchNorm1d(rnn_hidden_size),\n",
    "            nn.Linear(rnn_hidden_size, num_classes, bias=False)\n",
    "        )\n",
    "        self.fc = nn.Sequential(\n",
    "            SequenceWise(fully_connected),\n",
    "        )\n",
    "        self.inference_softmax = InferenceBatchSoftmax()\n",
    "\n",
    "    def forward(self, x, lengths):\n",
    "        lengths = lengths.cpu().int()\n",
    "        output_lengths = self.get_seq_lens(lengths)\n",
    "        x, _ = self.conv(x, output_lengths)\n",
    "\n",
    "        sizes = x.size()\n",
    "        x = x.view(sizes[0], sizes[1] * sizes[2], sizes[3])  # Collapse feature dimension\n",
    "        x = x.transpose(1, 2).transpose(0, 1).contiguous()  # TxNxH\n",
    "\n",
    "        for rnn in self.rnns:\n",
    "            x = rnn(x, output_lengths)\n",
    "\n",
    "        if not self.bidirectional:  # no need for lookahead layer in bidirectional\n",
    "            x = self.lookahead(x)\n",
    "\n",
    "        x = self.fc(x)\n",
    "        x = x.transpose(0, 1)\n",
    "        # identity in training mode, softmax in eval mode\n",
    "        x = self.inference_softmax(x)\n",
    "        return x, output_lengths\n",
    "\n",
    "    def get_seq_lens(self, input_length):\n",
    "        \"\"\"\n",
    "        Given a 1D Tensor or Variable containing integer sequence lengths, return a 1D tensor or variable\n",
    "        containing the size sequences that will be output by the network.\n",
    "        :param input_length: 1D Tensor\n",
    "        :return: 1D Tensor scaled by model\n",
    "        \"\"\"\n",
    "        seq_len = input_length\n",
    "        for m in self.conv.modules():\n",
    "            if type(m) == nn.modules.conv.Conv2d:\n",
    "                seq_len = ((seq_len + 2 * m.padding[1] - m.dilation[1] * (m.kernel_size[1] - 1) - 1) / m.stride[1] + 1)\n",
    "        return seq_len.int()\n",
    "\n",
    "    @classmethod\n",
    "    def load_model(cls, path):\n",
    "        package = torch.load(path, map_location=lambda storage, loc: storage)\n",
    "        model = DeepSpeech.load_model_package(package)\n",
    "        return model\n",
    "\n",
    "    @classmethod\n",
    "    def load_model_package(cls, package):\n",
    "        model = cls(rnn_hidden_size=package['hidden_size'],\n",
    "                    nb_layers=package['hidden_layers'],\n",
    "                    labels=package['labels'],\n",
    "                    audio_conf=package['audio_conf'],\n",
    "                    rnn_type=supported_rnns[package['rnn_type']],\n",
    "                    bidirectional=package.get('bidirectional', True))\n",
    "        model.load_state_dict(package['state_dict'])\n",
    "        return model\n",
    "\n",
    "    def serialize_state(self):\n",
    "        return {\n",
    "            'hidden_size': self.hidden_size,\n",
    "            'hidden_layers': self.hidden_layers,\n",
    "            'rnn_type': supported_rnns_inv.get(self.rnn_type, self.rnn_type.__name__.lower()),\n",
    "            'audio_conf': self.audio_conf,\n",
    "            'labels': self.labels,\n",
    "            'state_dict': self.state_dict(),\n",
    "            'bidirectional': self.bidirectional,\n",
    "        }\n",
    "\n",
    "    @staticmethod\n",
    "    def get_param_size(model):\n",
    "        params = 0\n",
    "        for p in model.parameters():\n",
    "            tmp = 1\n",
    "            for x in p.size():\n",
    "                tmp *= x\n",
    "            params += tmp\n",
    "        return params\n"
   ]
  },
  {
   "cell_type": "code",
   "execution_count": 23,
   "metadata": {},
   "outputs": [],
   "source": [
    "supported_rnns = {\n",
    "    'lstm': nn.LSTM,\n",
    "    'rnn': nn.RNN,\n",
    "    'gru': nn.GRU\n",
    "}\n",
    "supported_rnns_inv = dict((v, k) for k, v in supported_rnns.items())"
   ]
  },
  {
   "cell_type": "code",
   "execution_count": null,
   "metadata": {},
   "outputs": [],
   "source": []
  },
  {
   "cell_type": "markdown",
   "metadata": {},
   "source": [
    "### Define TrainingState\n",
    "this is equivalent of ```from state import TrainingState```"
   ]
  },
  {
   "cell_type": "code",
   "execution_count": 24,
   "metadata": {},
   "outputs": [],
   "source": [
    "import torch"
   ]
  },
  {
   "cell_type": "code",
   "execution_count": 25,
   "metadata": {},
   "outputs": [],
   "source": [
    "def remove_parallel_wrapper(model):\n",
    "    \"\"\"\n",
    "    Return the model or extract the model out of the parallel wrapper\n",
    "    :param model: The training model\n",
    "    :return: The model without parallel wrapper\n",
    "    \"\"\"\n",
    "    # Take care of distributed/data-parallel wrapper\n",
    "    model_no_wrapper = model.module if hasattr(model, \"module\") else model\n",
    "    return model_no_wrapper"
   ]
  },
  {
   "cell_type": "code",
   "execution_count": 26,
   "metadata": {},
   "outputs": [],
   "source": [
    "class ResultState:\n",
    "    def __init__(self,\n",
    "                 loss_results,\n",
    "                 wer_results,\n",
    "                 cer_results):\n",
    "        self.loss_results = loss_results\n",
    "        self.wer_results = wer_results\n",
    "        self.cer_results = cer_results\n",
    "\n",
    "    def add_results(self,\n",
    "                    epoch,\n",
    "                    loss_result,\n",
    "                    wer_result,\n",
    "                    cer_result):\n",
    "        self.loss_results[epoch] = loss_result\n",
    "        self.wer_results[epoch] = wer_result\n",
    "        self.cer_results[epoch] = cer_result\n",
    "\n",
    "    def serialize_state(self):\n",
    "        return {\n",
    "            'loss_results': self.loss_results,\n",
    "            'wer_results': self.wer_results,\n",
    "            'cer_results': self.cer_results\n",
    "        }"
   ]
  },
  {
   "cell_type": "code",
   "execution_count": 27,
   "metadata": {},
   "outputs": [],
   "source": [
    "class TrainingState:\n",
    "    def __init__(self,\n",
    "                 model,\n",
    "                 result_state=None,\n",
    "                 optim_state=None,\n",
    "                 amp_state=None,\n",
    "                 best_wer=None,\n",
    "                 avg_loss=0,\n",
    "                 epoch=0,\n",
    "                 training_step=0):\n",
    "        \"\"\"\n",
    "        Wraps around training model and states for saving/loading convenience.\n",
    "        For backwards compatibility there are more states being saved than necessary.\n",
    "        \"\"\"\n",
    "        self.model = model\n",
    "        self.result_state = result_state\n",
    "        self.optim_state = optim_state\n",
    "        self.amp_state = amp_state\n",
    "        self.best_wer = best_wer\n",
    "        self.avg_loss = avg_loss\n",
    "        self.epoch = epoch\n",
    "        self.training_step = training_step\n",
    "\n",
    "    def track_optim_state(self, optimizer):\n",
    "        self.optim_state = optimizer.state_dict()\n",
    "\n",
    "    def track_amp_state(self, amp):\n",
    "        self.amp_state = amp.state_dict()\n",
    "\n",
    "    def init_results_tracking(self, epochs):\n",
    "        self.result_state = ResultState(loss_results=torch.IntTensor(epochs),\n",
    "                                        wer_results=torch.IntTensor(epochs),\n",
    "                                        cer_results=torch.IntTensor(epochs))\n",
    "\n",
    "    def add_results(self,\n",
    "                    epoch,\n",
    "                    loss_result,\n",
    "                    wer_result,\n",
    "                    cer_result):\n",
    "        self.result_state.add_results(epoch=epoch,\n",
    "                                      loss_result=loss_result,\n",
    "                                      wer_result=wer_result,\n",
    "                                      cer_result=cer_result)\n",
    "\n",
    "    def init_finetune_states(self, epochs):\n",
    "        \"\"\"\n",
    "        Resets the training environment, but keeps model specific states in tact.\n",
    "        This is when fine-tuning a model on another dataset where training is to be reset but the model\n",
    "        weights are to be loaded\n",
    "        :param epochs: Number of epochs fine-tuning.\n",
    "        \"\"\"\n",
    "        self.init_results_tracking(epochs)\n",
    "        self._reset_amp_state()\n",
    "        self._reset_optim_state()\n",
    "        self._reset_epoch()\n",
    "        self.reset_training_step()\n",
    "        self._reset_best_wer()\n",
    "\n",
    "    def serialize_state(self, epoch, iteration):\n",
    "        model = remove_parallel_wrapper(self.model)\n",
    "        model_dict = model.serialize_state()\n",
    "        training_dict = self._serialize_training_state(epoch=epoch,\n",
    "                                                       iteration=iteration)\n",
    "        results_dict = self.result_state.serialize_state()\n",
    "        # Ensure flat structure for backwards compatibility\n",
    "        state_dict = {**model_dict, **training_dict, **results_dict}  # Combine dicts\n",
    "        return state_dict\n",
    "\n",
    "    def _serialize_training_state(self, epoch, iteration):\n",
    "        return {\n",
    "            'optim_dict': self.optim_state,\n",
    "            'amp': self.amp_state,\n",
    "            'avg_loss': self.avg_loss,\n",
    "            'best_wer': self.best_wer,\n",
    "            'epoch': epoch + 1,  # increment for readability\n",
    "            'iteration': iteration,\n",
    "        }\n",
    "\n",
    "    @classmethod\n",
    "    def load_state(cls, state_path):\n",
    "        print(\"Loading state from model %s\" % state_path)\n",
    "        state = torch.load(state_path, map_location=lambda storage, loc: storage)\n",
    "        model = DeepSpeech.load_model_package(state)\n",
    "        optim_state = state['optim_dict']\n",
    "        amp_state = state['amp']\n",
    "        epoch = int(state.get('epoch', 1)) - 1  # Index start at 0 for training\n",
    "        training_step = state.get('iteration', None)\n",
    "        if training_step is None:\n",
    "            epoch += 1  # We saved model after epoch finished, start at the next epoch.\n",
    "            training_step = 0\n",
    "        else:\n",
    "            training_step += 1\n",
    "        avg_loss = int(state.get('avg_loss', 0))\n",
    "        loss_results = state['loss_results']\n",
    "        cer_results = state['cer_results']\n",
    "        wer_results = state['wer_results']\n",
    "        best_wer = state.get('best_wer')\n",
    "\n",
    "        result_state = ResultState(loss_results=loss_results,\n",
    "                                   cer_results=cer_results,\n",
    "                                   wer_results=wer_results)\n",
    "        return cls(optim_state=optim_state,\n",
    "                   amp_state=amp_state,\n",
    "                   model=model,\n",
    "                   result_state=result_state,\n",
    "                   best_wer=best_wer,\n",
    "                   avg_loss=avg_loss,\n",
    "                   epoch=epoch,\n",
    "                   training_step=training_step)\n",
    "\n",
    "    def set_epoch(self, epoch):\n",
    "        self.epoch = epoch\n",
    "\n",
    "    def set_best_wer(self, wer):\n",
    "        self.best_wer = wer\n",
    "\n",
    "    def set_training_step(self, training_step):\n",
    "        self.training_step = training_step\n",
    "\n",
    "    def reset_training_step(self):\n",
    "        self.training_step = 0\n",
    "\n",
    "    def reset_avg_loss(self):\n",
    "        self.avg_loss = 0\n",
    "\n",
    "    def _reset_amp_state(self):\n",
    "        self.amp_state = None\n",
    "\n",
    "    def _reset_optim_state(self):\n",
    "        self.optim_state = None\n",
    "\n",
    "    def _reset_epoch(self):\n",
    "        self.epoch = 0\n",
    "\n",
    "    def _reset_best_wer(self):\n",
    "        self.best_wer = None\n"
   ]
  },
  {
   "cell_type": "markdown",
   "metadata": {},
   "source": [
    "### Define evaluate\n",
    "this is equivalent of ```from test import evaluate```"
   ]
  },
  {
   "cell_type": "code",
   "execution_count": 28,
   "metadata": {},
   "outputs": [],
   "source": [
    "import torch\n",
    "from tqdm import tqdm"
   ]
  },
  {
   "cell_type": "code",
   "execution_count": 29,
   "metadata": {},
   "outputs": [],
   "source": [
    "def evaluate(test_loader, device, model, decoder, target_decoder, save_output=None, verbose=False, half=False):\n",
    "    model.eval()\n",
    "    total_cer, total_wer, num_tokens, num_chars = 0, 0, 0, 0\n",
    "    output_data = []\n",
    "    for i, (data) in tqdm(enumerate(test_loader), total=len(test_loader)):\n",
    "        \n",
    "        inputs, targets, input_percentages, target_sizes = data\n",
    "\n",
    "        input_sizes = input_percentages.mul_(int(inputs.size(3))).int()\n",
    "        inputs = inputs.to(device)\n",
    "        if half:\n",
    "            inputs = inputs.half()\n",
    "        # unflatten targets\n",
    "        split_targets = []\n",
    "        offset = 0\n",
    "        for size in target_sizes:\n",
    "            split_targets.append(targets[offset:offset + size])\n",
    "            offset += size\n",
    "\n",
    "        out, output_sizes = model(inputs, input_sizes)\n",
    "\n",
    "        decoded_output, _ = decoder.decode(out, output_sizes)\n",
    "        target_strings = target_decoder.convert_to_strings(split_targets)\n",
    "\n",
    "        if save_output is not None:\n",
    "            # add output to data array, and continue\n",
    "            output_data.append((out.cpu(), output_sizes, target_strings))\n",
    "        for x in range(len(target_strings)):\n",
    "            transcript, reference = decoded_output[x][0], target_strings[x][0]\n",
    "            wer_inst = decoder.wer(transcript, reference)\n",
    "            cer_inst = decoder.cer(transcript, reference)\n",
    "            total_wer += wer_inst\n",
    "            total_cer += cer_inst\n",
    "            num_tokens += len(reference.split())\n",
    "            num_chars += len(reference.replace(' ', ''))\n",
    "            if verbose:\n",
    "                print(\"Ref:\", reference.lower())\n",
    "                print(\"Hyp:\", transcript.lower())\n",
    "                print(\"WER:\", float(wer_inst) / len(reference.split()),\n",
    "                      \"CER:\", float(cer_inst) / len(reference.replace(' ', '')), \"\\n\")\n",
    "    wer = float(total_wer) / num_tokens\n",
    "    cer = float(total_cer) / num_chars\n",
    "    return wer * 100, cer * 100, output_data"
   ]
  },
  {
   "cell_type": "code",
   "execution_count": null,
   "metadata": {},
   "outputs": [],
   "source": []
  },
  {
   "cell_type": "markdown",
   "metadata": {},
   "source": [
    "### Define check_loss, CheckpointHandler\n",
    "this is equivalent of ```from utils import check_loss, CheckpointHandler```"
   ]
  },
  {
   "cell_type": "code",
   "execution_count": 30,
   "metadata": {},
   "outputs": [],
   "source": [
    "import os\n",
    "from pathlib import Path\n",
    "import torch"
   ]
  },
  {
   "cell_type": "code",
   "execution_count": 31,
   "metadata": {},
   "outputs": [],
   "source": [
    "def check_loss(loss, loss_value):\n",
    "    \"\"\"\n",
    "    Check that warp-ctc loss is valid and will not break training\n",
    "    :return: Return if loss is valid, and the error in case it is not\n",
    "    \"\"\"\n",
    "    loss_valid = True\n",
    "    error = ''\n",
    "    if loss_value == float(\"inf\") or loss_value == float(\"-inf\"):\n",
    "        loss_valid = False\n",
    "        error = \"WARNING: received an inf loss\"\n",
    "    elif torch.isnan(loss).sum() > 0:\n",
    "        loss_valid = False\n",
    "        error = 'WARNING: received a nan loss, setting loss value to 0'\n",
    "    elif loss_value < 0:\n",
    "        loss_valid = False\n",
    "        error = \"WARNING: received a negative loss\"\n",
    "    return loss_valid, error"
   ]
  },
  {
   "cell_type": "code",
   "execution_count": 32,
   "metadata": {},
   "outputs": [],
   "source": [
    "class CheckpointHandler:\n",
    "    def __init__(self,\n",
    "                 save_folder: str,\n",
    "                 best_val_model_name: str,\n",
    "                 checkpoint_per_iteration: int,\n",
    "                 save_n_recent_models: int):\n",
    "        self.save_folder = Path(save_folder)\n",
    "        self.save_folder.mkdir(parents=True, exist_ok=True)  # Ensure save folder exists\n",
    "        self.checkpoint_prefix = 'deepspeech_checkpoint_'  # TODO do we want to expose this?\n",
    "        self.checkpoint_prefix_path = self.save_folder / self.checkpoint_prefix\n",
    "        self.best_val_path = self.save_folder / best_val_model_name\n",
    "        self.checkpoint_per_iteration = checkpoint_per_iteration\n",
    "        self.save_n_recent_models = save_n_recent_models\n",
    "\n",
    "    def find_latest_checkpoint(self):\n",
    "        \"\"\"\n",
    "        Finds the latest checkpoint in a folder based on the timestamp of the file.\n",
    "        If there are no checkpoints, returns None.\n",
    "        :return: The latest checkpoint path, or None if no checkpoints are found.\n",
    "        \"\"\"\n",
    "        paths = list(self.save_folder.rglob(self.checkpoint_prefix + '*'))\n",
    "        if paths:\n",
    "            paths.sort(key=os.path.getctime)\n",
    "            latest_checkpoint_path = paths[-1]\n",
    "            return latest_checkpoint_path\n",
    "        else:\n",
    "            return None\n",
    "\n",
    "    def check_and_delete_oldest_checkpoint(self):\n",
    "        paths = list(self.save_folder.rglob(self.checkpoint_prefix + '*'))\n",
    "        if paths and len(paths) >= self.save_n_recent_models:\n",
    "            paths.sort(key=os.path.getctime)\n",
    "            print(\"Deleting old checkpoint %s\" % str(paths[0]))\n",
    "            os.remove(paths[0])\n",
    "\n",
    "    def save_checkpoint_model(self, epoch, state, i=None):\n",
    "        if self.save_n_recent_models > 0:\n",
    "            self.check_and_delete_oldest_checkpoint()\n",
    "        model_path = self._create_checkpoint_path(epoch=epoch,\n",
    "                                                  i=i)\n",
    "        print(\"Saving checkpoint model to %s\" % model_path)\n",
    "        torch.save(obj=state.serialize_state(epoch=epoch,\n",
    "                                             iteration=i),\n",
    "                   f=model_path)\n",
    "\n",
    "    def save_iter_checkpoint_model(self, epoch, state, i):\n",
    "        if self.checkpoint_per_iteration > 0 and i > 0 and (i + 1) % self.checkpoint_per_iteration == 0:\n",
    "            self.save_checkpoint_model(epoch=epoch,\n",
    "                                       state=state,\n",
    "                                       i=i)\n",
    "\n",
    "    def save_best_model(self, epoch, state):\n",
    "        print(\"Found better validated model, saving to %s\" % self.best_val_path)\n",
    "        torch.save(obj=state.serialize_state(epoch=epoch,\n",
    "                                             iteration=None),\n",
    "                   f=self.best_val_path)\n",
    "\n",
    "    def _create_checkpoint_path(self, epoch, i=None):\n",
    "        \"\"\"\n",
    "        Creates path to save checkpoint.\n",
    "        We automatically iterate the epoch and iteration for readibility.\n",
    "        :param epoch: The epoch (index starts at 0).\n",
    "        :param i: The iteration (index starts at 0).\n",
    "        :return: The path to save the model\n",
    "        \"\"\"\n",
    "        if i:\n",
    "            checkpoint_path = str(self.checkpoint_prefix_path) + 'epoch_%d_iter_%d.pth' % (epoch + 1, i + 1)\n",
    "        else:\n",
    "            checkpoint_path = str(self.checkpoint_prefix_path) + 'epoch_%d.pth' % (epoch + 1)\n",
    "        return checkpoint_path"
   ]
  },
  {
   "cell_type": "markdown",
   "metadata": {},
   "source": [
    "## Finally We're ready to start"
   ]
  },
  {
   "cell_type": "markdown",
   "metadata": {},
   "source": [
    "### Prepare datasets\n",
    "we use an4 audio dataset, which is relatively small and easy to experiment  \n",
    "http://www.speech.cs.cmu.edu/databases/an4/\n",
    "\n",
    "Input is wav file  \n",
    "Outout is text file which contains text of course."
   ]
  },
  {
   "cell_type": "code",
   "execution_count": 33,
   "metadata": {},
   "outputs": [],
   "source": [
    "import os\n",
    "import io\n",
    "import shutil\n",
    "import tarfile\n",
    "\n",
    "from sklearn.model_selection import train_test_split\n",
    "import wget\n",
    "\n",
    "# from data.utils import create_manifest\n",
    "import fnmatch\n",
    "import io\n",
    "import os\n",
    "import subprocess\n",
    "from tqdm import tqdm"
   ]
  },
  {
   "cell_type": "code",
   "execution_count": 34,
   "metadata": {},
   "outputs": [],
   "source": [
    "def create_manifest(data_path, output_path, min_duration=None, max_duration=None):\n",
    "    file_paths = [os.path.join(dirpath, f)\n",
    "                  for dirpath, dirnames, files in os.walk(data_path)\n",
    "                  for f in fnmatch.filter(files, '*.wav')]\n",
    "\n",
    "\n",
    "    # print(\"file_paths: \", file_paths)\n",
    "\n",
    "    file_paths = order_and_prune_files(file_paths, min_duration, max_duration)\n",
    "    with io.FileIO(output_path, \"w\") as file:\n",
    "        for wav_path in tqdm(file_paths, total=len(file_paths)):\n",
    "            transcript_path = wav_path.replace('/wav/', '/txt/').replace('.wav', '.txt')\n",
    "            sample = os.path.abspath(wav_path) + ',' + os.path.abspath(transcript_path) + '\\n'\n",
    "            file.write(sample.encode('utf-8'))\n",
    "    print('\\n')\n",
    "    \n",
    "def order_and_prune_files(file_paths, min_duration, max_duration):\n",
    "    print(\"Sorting manifests...\")\n",
    "    duration_file_paths = [(path, float(subprocess.check_output(\n",
    "        ['soxi -D \\\"%s\\\"' % path.strip()], shell=True))) for path in file_paths]\n",
    "    if min_duration and max_duration:\n",
    "        print(\"Pruning manifests between %d and %d seconds\" % (min_duration, max_duration))\n",
    "        duration_file_paths = [(path, duration) for path, duration in duration_file_paths if\n",
    "                               min_duration <= duration <= max_duration]\n",
    "\n",
    "    def func(element):\n",
    "        return element[1]\n",
    "\n",
    "    duration_file_paths.sort(key=func)\n",
    "    return [x[0] for x in duration_file_paths]  # Remove durations"
   ]
  },
  {
   "cell_type": "code",
   "execution_count": 35,
   "metadata": {},
   "outputs": [],
   "source": [
    "def _format_test_data(root_path):\n",
    "    wav_path = root_path + 'wav/'\n",
    "    file_ids_path = root_path + 'etc/an4_test.fileids'\n",
    "    transcripts_path = root_path + 'etc/an4_test.transcription'\n",
    "    root_wav_path = wav_path + 'an4test_clstk'\n",
    "\n",
    "    _convert_audio_to_wav(root_wav_path)\n",
    "    file_ids, transcripts = _retrieve_file_ids_and_transcripts(file_ids_path, transcripts_path)\n",
    "\n",
    "    _save_wav_transcripts(data_type='test',\n",
    "                          file_ids=file_ids,\n",
    "                          transcripts=transcripts,\n",
    "                          wav_dir=wav_path)\n",
    "\n",
    "\n",
    "def _process_transcript(transcript):\n",
    "    \"\"\"\n",
    "    Removes tags found in AN4.\n",
    "    \"\"\"\n",
    "    extracted_transcript = transcript.split('(')[0].strip(\"<s>\").split('<')[0].strip().upper()\n",
    "    return extracted_transcript\n",
    "\n",
    "def _save_files(file_ids, transcripts, wav_dir, new_wav_dir, new_transcript_dir):\n",
    "    for file_id, transcript in zip(file_ids, transcripts):\n",
    "        path = wav_dir + file_id.strip() + '.wav'\n",
    "        filename = path.split('/')[-1]\n",
    "        extracted_transcript = _process_transcript(transcript)\n",
    "        new_path = new_wav_dir + filename\n",
    "        text_path = new_transcript_dir + filename.replace('.wav', '.txt')\n",
    "        with io.FileIO(text_path, \"w\") as file:\n",
    "            file.write(extracted_transcript.encode('utf-8'))\n",
    "        current_path = os.path.abspath(path)\n",
    "        os.rename(current_path, new_path)\n",
    "\n",
    "\n",
    "def _save_wav_transcripts(data_type, file_ids, transcripts, wav_dir):\n",
    "    \n",
    "    target_dir = './data/an4_dataset/'\n",
    "    \n",
    "    data_path = target_dir + data_type + '/an4/'\n",
    "    new_transcript_dir = data_path + '/txt/'\n",
    "    new_wav_dir = data_path + '/wav/'\n",
    "\n",
    "    os.makedirs(new_transcript_dir)\n",
    "    os.makedirs(new_wav_dir)\n",
    "\n",
    "    _save_files(file_ids=file_ids,\n",
    "                transcripts=transcripts,\n",
    "                wav_dir=wav_dir,\n",
    "                new_wav_dir=new_wav_dir,\n",
    "                new_transcript_dir=new_transcript_dir)\n",
    "\n",
    "\n",
    "def _retrieve_file_ids_and_transcripts(file_id_path, transcripts_path):\n",
    "    with open(file_id_path, 'r') as f:\n",
    "        file_ids = f.readlines()\n",
    "    with open(transcripts_path, 'r') as t:\n",
    "        transcripts = t.readlines()\n",
    "    return file_ids, transcripts\n",
    "\n",
    "def _convert_audio_to_wav(an4_audio_path):\n",
    "    with os.popen('find %s -type f -name \"*.raw\"' % an4_audio_path) as pipe:\n",
    "        for line in pipe:\n",
    "            raw_path = line.strip()\n",
    "            new_path = line.replace('.raw', '.wav').strip()\n",
    "            cmd = 'sox -t raw -r %d -b 16 -e signed-integer -B -c 1 \\\"%s\\\" \\\"%s\\\"' % (\n",
    "                16000, raw_path, new_path)\n",
    "            os.system(cmd)\n",
    "\n",
    "def _format_training_data(root_path):\n",
    "    \n",
    "    val_fraction = 0.1 \n",
    "    \n",
    "    wav_path = root_path + 'wav/'\n",
    "    file_ids_path = root_path + 'etc/an4_train.fileids'\n",
    "    transcripts_path = root_path + 'etc/an4_train.transcription'\n",
    "    root_wav_path = wav_path + 'an4_clstk'\n",
    "\n",
    "    _convert_audio_to_wav(root_wav_path)\n",
    "    file_ids, transcripts = _retrieve_file_ids_and_transcripts(file_ids_path, transcripts_path)\n",
    "\n",
    "    split_files = train_test_split(file_ids, transcripts, test_size=val_fraction)\n",
    "    train_file_ids, val_file_ids, train_transcripts, val_transcripts = split_files\n",
    "\n",
    "    _save_wav_transcripts(data_type='train',\n",
    "                          file_ids=train_file_ids,\n",
    "                          transcripts=train_transcripts,\n",
    "                          wav_dir=wav_path)\n",
    "    _save_wav_transcripts(data_type='val',\n",
    "                          file_ids=val_file_ids,\n",
    "                          transcripts=val_transcripts,\n",
    "                          wav_dir=wav_path)\n",
    "\n",
    "\n",
    "def parepare_dataset():\n",
    "    \n",
    "    target_dir = './data/an4_dataset/'\n",
    "    min_duration = 2\n",
    "    max_duration = 15\n",
    "#     val_fraction = 0.1 \n",
    "    \n",
    "    root_path = 'data/an4/'\n",
    "    \n",
    "    raw_tar_path = './data/an4_raw.bigendian.tar.gz'\n",
    "\n",
    "    if not os.path.exists(raw_tar_path):\n",
    "        wget.download('http://www.speech.cs.cmu.edu/databases/an4/an4_raw.bigendian.tar.gz')\n",
    "        os.rename(\"an4_raw.bigendian.tar.gz\", \"data/an4_raw.bigendian.tar.gz\")\n",
    "\n",
    "    tar = tarfile.open(raw_tar_path)\n",
    "    tar.extractall()\n",
    "\n",
    "    # move\n",
    "    os.rename(\"an4\", \"data/an4\")\n",
    "\n",
    "    os.makedirs(target_dir)\n",
    "    _format_training_data(root_path=root_path)\n",
    "    _format_test_data(root_path=root_path)\n",
    "    shutil.rmtree(root_path)\n",
    "    # os.remove(raw_tar_path)\n",
    "    train_path = target_dir + '/train/'\n",
    "    val_path = target_dir + '/val/'\n",
    "    test_path = target_dir + '/test/'\n",
    "    print('Creating manifests...')\n",
    "    create_manifest(train_path, './data/an4_train_manifest.csv', min_duration, max_duration)\n",
    "    create_manifest(val_path, './data/an4_val_manifest.csv', min_duration, max_duration)\n",
    "    create_manifest(test_path, './data/an4_test_manifest.csv')\n"
   ]
  },
  {
   "cell_type": "code",
   "execution_count": 36,
   "metadata": {},
   "outputs": [
    {
     "name": "stdout",
     "output_type": "stream",
     "text": [
      "Creating manifests...\n",
      "Sorting manifests...\n"
     ]
    },
    {
     "name": "stderr",
     "output_type": "stream",
     "text": [
      "100%|██████████| 611/611 [00:00<00:00, 31009.14it/s]"
     ]
    },
    {
     "name": "stdout",
     "output_type": "stream",
     "text": [
      "Pruning manifests between 2 and 15 seconds\n",
      "\n",
      "\n",
      "Sorting manifests...\n"
     ]
    },
    {
     "name": "stderr",
     "output_type": "stream",
     "text": [
      "\n",
      "100%|██████████| 73/73 [00:00<00:00, 36089.60it/s]"
     ]
    },
    {
     "name": "stdout",
     "output_type": "stream",
     "text": [
      "Pruning manifests between 2 and 15 seconds\n",
      "\n",
      "\n",
      "Sorting manifests...\n"
     ]
    },
    {
     "name": "stderr",
     "output_type": "stream",
     "text": [
      "\n",
      "100%|██████████| 130/130 [00:00<00:00, 39173.76it/s]"
     ]
    },
    {
     "name": "stdout",
     "output_type": "stream",
     "text": [
      "\n",
      "\n"
     ]
    },
    {
     "name": "stderr",
     "output_type": "stream",
     "text": [
      "\n"
     ]
    }
   ],
   "source": [
    "# do it once\n",
    "!mkdir data\n",
    "parepare_dataset()"
   ]
  },
  {
   "cell_type": "code",
   "execution_count": 37,
   "metadata": {},
   "outputs": [],
   "source": [
    "# see audio example \n",
    "import IPython.display"
   ]
  },
  {
   "cell_type": "code",
   "execution_count": 38,
   "metadata": {},
   "outputs": [
    {
     "data": {
      "text/html": [
       "\n",
       "                <audio  controls=\"controls\" >\n",
       "                    <source src=\"data:audio/x-wav;base64,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\" type=\"audio/x-wav\" />\n",
       "                    Your browser does not support the audio element.\n",
       "                </audio>\n",
       "              "
      ],
      "text/plain": [
       "<IPython.lib.display.Audio object>"
      ]
     },
     "execution_count": 38,
     "metadata": {},
     "output_type": "execute_result"
    }
   ],
   "source": [
    "audio_example_path = \"data/an4_dataset/test/an4/wav/an391-mjwl-b.wav\"\n",
    "IPython.display.Audio(audio_example_path)"
   ]
  },
  {
   "cell_type": "code",
   "execution_count": 39,
   "metadata": {},
   "outputs": [
    {
     "name": "stdout",
     "output_type": "stream",
     "text": [
      "ENTER TWO NINE EIGHT ONE"
     ]
    }
   ],
   "source": [
    "# label for this\n",
    "! cat \"data/an4_dataset/test/an4/txt/an391-mjwl-b.txt\""
   ]
  },
  {
   "cell_type": "code",
   "execution_count": 40,
   "metadata": {},
   "outputs": [],
   "source": [
    "# let's visualize it\n",
    "\n",
    "def visualization_spectrogram(mel_spectrogram, title):\n",
    "    \"\"\"visualizing result of SpecAugment\n",
    "    # Arguments:\n",
    "      mel_spectrogram(ndarray): mel_spectrogram to visualize.\n",
    "      title(String): plot figure's title\n",
    "    \"\"\"\n",
    "    \n",
    "    # Show mel-spectrogram using librosa's specshow.\n",
    "    plt.figure(figsize=(10, 4))\n",
    "    # librosa.display.specshow(librosa.power_to_db(mel_spectrogram[0, :, :], ref=np.max), y_axis='mel', fmax=8000, x_axis='time')\n",
    "    librosa.display.specshow(librosa.power_to_db(mel_spectrogram, ref=np.max), y_axis='mel', fmax=8000, x_axis='time')\n",
    "\n",
    "    # plt.colorbar(format='%+2.0f dB')\n",
    "    plt.title(title)\n",
    "    plt.tight_layout()\n",
    "    plt.show()\n"
   ]
  },
  {
   "cell_type": "code",
   "execution_count": 41,
   "metadata": {},
   "outputs": [],
   "source": [
    "# load audio\n",
    "from scipy.io.wavfile import read\n",
    "import librosa\n",
    "import librosa.display # need this for ver 0.5.0+\n",
    "import numpy as np\n",
    "import matplotlib.pyplot as plt\n",
    "\n",
    "def load_audio(path):\n",
    "\n",
    "    try:\n",
    "        sample_rate, sound = read(path)\n",
    "    except:\n",
    "        print(\"path: \", path)\n",
    "    \n",
    "    sound = sound.astype('float32') / 32767  # normalize audio\n",
    "    if len(sound.shape) > 1:\n",
    "        if sound.shape[1] == 1:\n",
    "            sound = sound.squeeze()\n",
    "        else:\n",
    "            sound = sound.mean(axis=1)  # multiple channels, average\n",
    "    return sound"
   ]
  },
  {
   "cell_type": "code",
   "execution_count": 42,
   "metadata": {},
   "outputs": [],
   "source": [
    "# pase audio \n",
    "\n",
    "sample_rate = 16000\n",
    "window_size = .02\n",
    "window_stride = .01\n",
    "window = 'hamming'\n",
    "\n",
    "def parse_audio(audio_path, spec_augment_flg=True):\n",
    "\n",
    "    y = load_audio(audio_path)\n",
    "\n",
    "    n_fft = int(sample_rate * window_size)\n",
    "    win_length = n_fft\n",
    "    hop_length = int(sample_rate * window_stride)\n",
    "    # STFT\n",
    "    D = librosa.stft(y, n_fft=n_fft, hop_length=hop_length,\n",
    "                     win_length=win_length, window=window)\n",
    "    spect, phase = librosa.magphase(D)\n",
    "    # S = log(S+1)\n",
    "    spect = np.log1p(spect)\n",
    "    spect = torch.FloatTensor(spect)\n",
    "    \n",
    "    # if self.normalize:\n",
    "    # True\n",
    "    mean = spect.mean()\n",
    "    std = spect.std()\n",
    "    spect.add_(-mean)\n",
    "    spect.div_(std)\n",
    "\n",
    "#     if spec_augment_flg is True:\n",
    "#         spect= spec_augment(spect)\n",
    "\n",
    "    return spect"
   ]
  },
  {
   "cell_type": "code",
   "execution_count": 43,
   "metadata": {},
   "outputs": [
    {
     "data": {
      "text/plain": [
       "torch.Size([161, 201])"
      ]
     },
     "execution_count": 43,
     "metadata": {},
     "output_type": "execute_result"
    }
   ],
   "source": [
    "spect_example = parse_audio(audio_example_path)\n",
    "spect_example.shape"
   ]
  },
  {
   "cell_type": "code",
   "execution_count": 44,
   "metadata": {},
   "outputs": [],
   "source": [
    "%reload_ext autoreload\n",
    "%autoreload 2\n",
    "%matplotlib inline"
   ]
  },
  {
   "cell_type": "code",
   "execution_count": 45,
   "metadata": {},
   "outputs": [
    {
     "data": {
      "image/png": "[encoded data removed]",
      "text/plain": [
       "<Figure size 720x288 with 1 Axes>"
      ]
     },
     "metadata": {
      "needs_background": "light"
     },
     "output_type": "display_data"
    }
   ],
   "source": [
    "# lets visualized it\n",
    "visualization_spectrogram(spect_example, 'mel_spectrogram example')"
   ]
  },
  {
   "cell_type": "code",
   "execution_count": 46,
   "metadata": {},
   "outputs": [
    {
     "name": "stdout",
     "output_type": "stream",
     "text": [
      "[-2.7046679e-04 -1.8308080e-04  4.0133193e-05 ... -1.3140017e-04\n",
      " -3.3551152e-04 -3.2280976e-04] 22050\n"
     ]
    },
    {
     "data": {
      "text/plain": [
       "<matplotlib.collections.PolyCollection at 0x7fb5f00a96d0>"
      ]
     },
     "execution_count": 46,
     "metadata": {},
     "output_type": "execute_result"
    },
    {
     "data": {
      "image/png": "[encoded data removed]",
      "text/plain": [
       "<Figure size 1008x360 with 1 Axes>"
      ]
     },
     "metadata": {
      "needs_background": "light"
     },
     "output_type": "display_data"
    }
   ],
   "source": [
    "# let's see wave form too\n",
    "\n",
    "import librosa\n",
    "x, sr = librosa.load(audio_example_path)\n",
    "print(x, sr)\n",
    "\n",
    "plt.figure(figsize=(14, 5))\n",
    "librosa.display.waveplot(x, sr=sr)"
   ]
  },
  {
   "cell_type": "code",
   "execution_count": null,
   "metadata": {},
   "outputs": [],
   "source": []
  },
  {
   "cell_type": "markdown",
   "metadata": {},
   "source": [
    "### Traininfg process"
   ]
  },
  {
   "cell_type": "code",
   "execution_count": 47,
   "metadata": {},
   "outputs": [],
   "source": [
    "# params for training...\n",
    "\n",
    "class Parser:\n",
    "    \"\"\"Parameters for training\"\"\"\n",
    "    def __init__(self):\n",
    "        self.lr = 3e-4\n",
    "        # self.lr = 4e-4\n",
    "        self.epochs = 25\n",
    "        self.batch_size = 16\n",
    "        self.num_workers = 1\n",
    "        self.hidden_size = 1024\n",
    "        self.hidden_layers = 5\n",
    "        self.bidirectional = True\n",
    "        self.seed = 42\n",
    "        self.momentum = 0.9\n",
    "        self.wd = 1e-5\n",
    "        self.opt_level = 'O0'\n",
    "        self.keep_batchnorm_fp32 = None\n",
    "        self.loss_scale = 1\n",
    "        # self.max_norm = 400\n",
    "        self.max_norm = 300\n",
    "        self.checkpoint_per_iteration = 0\n",
    "        self.checkpoint = False\n",
    "        self.save_folder = 'snapshots'\n",
    "        self.best_val_model_name = \"deepspeech_final.pth\"\n",
    "        self.save_n_recent_models = 0\n",
    "        self.learning_anneal = 1.01\n",
    "        self.eps = 1e-8 # for adamw\n",
    "        self.betas = (0.9, 0.999) # for adamw\n",
    "    \n",
    "args = Parser()"
   ]
  },
  {
   "cell_type": "markdown",
   "metadata": {},
   "source": [
    "### labels\n",
    "tokens are alphabets and \"_\" and \"'\" and \" \""
   ]
  },
  {
   "cell_type": "code",
   "execution_count": 48,
   "metadata": {},
   "outputs": [],
   "source": [
    "# # labels\n",
    "# labels_path = \"labels.json\"\n",
    "# with open(labels_path) as label_file:\n",
    "#     labels = json.load(label_file)"
   ]
  },
  {
   "cell_type": "code",
   "execution_count": 49,
   "metadata": {},
   "outputs": [],
   "source": [
    "# labels to map token to index\n",
    "labels = [\n",
    "  \"_\",\n",
    "  \"'\",\n",
    "  \"A\",\n",
    "  \"B\",\n",
    "  \"C\",\n",
    "  \"D\",\n",
    "  \"E\",\n",
    "  \"F\",\n",
    "  \"G\",\n",
    "  \"H\",\n",
    "  \"I\",\n",
    "  \"J\",\n",
    "  \"K\",\n",
    "  \"L\",\n",
    "  \"M\",\n",
    "  \"N\",\n",
    "  \"O\",\n",
    "  \"P\",\n",
    "  \"Q\",\n",
    "  \"R\",\n",
    "  \"S\",\n",
    "  \"T\",\n",
    "  \"U\",\n",
    "  \"V\",\n",
    "  \"W\",\n",
    "  \"X\",\n",
    "  \"Y\",\n",
    "  \"Z\",\n",
    "  \" \"\n",
    "]"
   ]
  },
  {
   "cell_type": "code",
   "execution_count": 50,
   "metadata": {},
   "outputs": [],
   "source": [
    "# labels[:10]"
   ]
  },
  {
   "cell_type": "code",
   "execution_count": 51,
   "metadata": {},
   "outputs": [],
   "source": [
    "# audio conf\n",
    "audio_conf = dict(sample_rate=16000,\n",
    "                  window_size=.02,\n",
    "                  window_stride=.01,\n",
    "                  window='hamming',\n",
    "                  noise_dir=None,\n",
    "                  noise_prob=0.4,\n",
    "                  noise_levels=(0.0, 0.5))"
   ]
  },
  {
   "cell_type": "code",
   "execution_count": 52,
   "metadata": {},
   "outputs": [],
   "source": [
    "# csv file for input wav and output text file \n",
    "train_manifest = 'data/an4_train_manifest.csv'\n",
    "val_manifest = 'data/an4_val_manifest.csv'"
   ]
  },
  {
   "cell_type": "code",
   "execution_count": 53,
   "metadata": {},
   "outputs": [],
   "source": [
    "# Dataset\n",
    "train_dataset = SpectrogramDataset(audio_conf=audio_conf,\n",
    "                                   manifest_filepath=train_manifest,\n",
    "                                   labels=labels,\n",
    "                                   normalize=True,\n",
    "                                   speed_volume_perturb=True,\n",
    "                                   spec_augment=False)\n",
    "test_dataset = SpectrogramDataset(audio_conf=audio_conf,\n",
    "                                  manifest_filepath=val_manifest,\n",
    "                                  labels=labels,\n",
    "                                  normalize=True,\n",
    "                                  speed_volume_perturb=False,\n",
    "                                  spec_augment=False)"
   ]
  },
  {
   "cell_type": "code",
   "execution_count": 54,
   "metadata": {},
   "outputs": [],
   "source": [
    "# sampler to use bins\n",
    "train_sampler = DSRandomSampler(dataset=train_dataset,\n",
    "                                batch_size=args.batch_size,\n",
    "                                start_index=0)"
   ]
  },
  {
   "cell_type": "code",
   "execution_count": 55,
   "metadata": {},
   "outputs": [],
   "source": [
    "# data loader\n",
    "\n",
    "train_loader = AudioDataLoader(dataset=train_dataset,\n",
    "                               num_workers=args.num_workers,\n",
    "                               batch_sampler=train_sampler)\n",
    "test_loader = AudioDataLoader(dataset=test_dataset,\n",
    "                              num_workers=args.num_workers,\n",
    "                              batch_size=args.batch_size)"
   ]
  },
  {
   "cell_type": "markdown",
   "metadata": {},
   "source": [
    "### model "
   ]
  },
  {
   "cell_type": "code",
   "execution_count": 56,
   "metadata": {},
   "outputs": [
    {
     "data": {
      "text/plain": [
       "DeepSpeech(\n",
       "  (conv): MaskConv(\n",
       "    (seq_module): Sequential(\n",
       "      (0): Conv2d(1, 32, kernel_size=(41, 11), stride=(2, 2), padding=(20, 5))\n",
       "      (1): BatchNorm2d(32, eps=1e-05, momentum=0.1, affine=True, track_running_stats=True)\n",
       "      (2): Hardtanh(min_val=0, max_val=20, inplace=True)\n",
       "      (3): Conv2d(32, 32, kernel_size=(21, 11), stride=(2, 1), padding=(10, 5))\n",
       "      (4): BatchNorm2d(32, eps=1e-05, momentum=0.1, affine=True, track_running_stats=True)\n",
       "      (5): Hardtanh(min_val=0, max_val=20, inplace=True)\n",
       "    )\n",
       "  )\n",
       "  (rnns): Sequential(\n",
       "    (0): BatchRNN(\n",
       "      (rnn): LSTM(1312, 1024, bidirectional=True)\n",
       "    )\n",
       "    (1): BatchRNN(\n",
       "      (batch_norm): SequenceWise (\n",
       "      BatchNorm1d(1024, eps=1e-05, momentum=0.1, affine=True, track_running_stats=True))\n",
       "      (rnn): LSTM(1024, 1024, bidirectional=True)\n",
       "    )\n",
       "    (2): BatchRNN(\n",
       "      (batch_norm): SequenceWise (\n",
       "      BatchNorm1d(1024, eps=1e-05, momentum=0.1, affine=True, track_running_stats=True))\n",
       "      (rnn): LSTM(1024, 1024, bidirectional=True)\n",
       "    )\n",
       "    (3): BatchRNN(\n",
       "      (batch_norm): SequenceWise (\n",
       "      BatchNorm1d(1024, eps=1e-05, momentum=0.1, affine=True, track_running_stats=True))\n",
       "      (rnn): LSTM(1024, 1024, bidirectional=True)\n",
       "    )\n",
       "    (4): BatchRNN(\n",
       "      (batch_norm): SequenceWise (\n",
       "      BatchNorm1d(1024, eps=1e-05, momentum=0.1, affine=True, track_running_stats=True))\n",
       "      (rnn): LSTM(1024, 1024, bidirectional=True)\n",
       "    )\n",
       "  )\n",
       "  (fc): Sequential(\n",
       "    (0): SequenceWise (\n",
       "    Sequential(\n",
       "      (0): BatchNorm1d(1024, eps=1e-05, momentum=0.1, affine=True, track_running_stats=True)\n",
       "      (1): Linear(in_features=1024, out_features=29, bias=False)\n",
       "    ))\n",
       "  )\n",
       "  (inference_softmax): InferenceBatchSoftmax()\n",
       ")"
      ]
     },
     "execution_count": 56,
     "metadata": {},
     "output_type": "execute_result"
    }
   ],
   "source": [
    "# set rnn type\n",
    "rnn_type = 'lstm'\n",
    "\n",
    "# prepare model\n",
    "model = DeepSpeech(rnn_hidden_size=args.hidden_size,\n",
    "                   nb_layers=args.hidden_layers,\n",
    "                   labels=labels,\n",
    "                   rnn_type=supported_rnns[rnn_type],\n",
    "                   audio_conf=audio_conf,\n",
    "                   bidirectional=args.bidirectional)\n",
    "\n",
    "model"
   ]
  },
  {
   "cell_type": "code",
   "execution_count": 57,
   "metadata": {},
   "outputs": [],
   "source": [
    "# use TrainingState to track training state\n",
    "state = TrainingState(model=model)\n",
    "state.init_results_tracking(epochs=args.epochs)"
   ]
  },
  {
   "cell_type": "code",
   "execution_count": 58,
   "metadata": {},
   "outputs": [],
   "source": [
    "# use greedy decoder. you can use BeamDecoder also\n",
    "evaluation_decoder = GreedyDecoder(model.labels)  # Decoder used for validation"
   ]
  },
  {
   "cell_type": "code",
   "execution_count": 59,
   "metadata": {},
   "outputs": [],
   "source": [
    "# device = torch.device(\"cpu\" if args.no_cuda else \"cuda\")\n",
    "device = torch.device(\"cuda\")"
   ]
  },
  {
   "cell_type": "code",
   "execution_count": 62,
   "metadata": {},
   "outputs": [],
   "source": [
    "# optim\n",
    "model = model.to(device)\n",
    "parameters = model.parameters()"
   ]
  },
  {
   "cell_type": "code",
   "execution_count": 63,
   "metadata": {},
   "outputs": [],
   "source": [
    "# loss go inf if i use SGD, use AdamW\n",
    "\n",
    "# optimizer = torch.optim.SGD(parameters,\n",
    "#                             lr=args.lr,\n",
    "#                             momentum=args.momentum,\n",
    "#                             nesterov=True,\n",
    "#                             weight_decay=args.wd)\n",
    "\n",
    "optimizer = torch.optim.AdamW(parameters,\n",
    "                              lr=args.lr,\n",
    "                              betas=args.betas,\n",
    "                              eps=args.eps,\n",
    "                              weight_decay=args.wd)"
   ]
  },
  {
   "cell_type": "code",
   "execution_count": 64,
   "metadata": {},
   "outputs": [],
   "source": [
    "# Track states for optimizer\n",
    "state.track_optim_state(optimizer)"
   ]
  },
  {
   "cell_type": "code",
   "execution_count": 65,
   "metadata": {},
   "outputs": [],
   "source": [
    "class AverageMeter(object):\n",
    "    \"\"\"Computes and stores the average and current value\"\"\"\n",
    "\n",
    "    def __init__(self):\n",
    "        self.reset()\n",
    "\n",
    "    def reset(self):\n",
    "        self.val = 0\n",
    "        self.avg = 0\n",
    "        self.sum = 0\n",
    "        self.count = 0\n",
    "\n",
    "    def update(self, val, n=1):\n",
    "        self.val = val\n",
    "        self.sum += val * n\n",
    "        self.count += n\n",
    "        self.avg = self.sum / self.count\n"
   ]
  },
  {
   "cell_type": "code",
   "execution_count": 66,
   "metadata": {},
   "outputs": [],
   "source": [
    "# use CTC for our loss\n",
    "criterion = CTCLoss()\n",
    "batch_time = AverageMeter()\n",
    "data_time = AverageMeter()\n",
    "losses = AverageMeter()"
   ]
  },
  {
   "cell_type": "code",
   "execution_count": 67,
   "metadata": {},
   "outputs": [
    {
     "data": {
      "text/plain": [
       "39"
      ]
     },
     "execution_count": 67,
     "metadata": {},
     "output_type": "execute_result"
    }
   ],
   "source": [
    "# check step count\n",
    "len(train_loader)"
   ]
  },
  {
   "cell_type": "code",
   "execution_count": 68,
   "metadata": {},
   "outputs": [],
   "source": [
    "# prepare check point handler\n",
    "checkpoint_handler = CheckpointHandler(save_folder=args.save_folder,\n",
    "                                       best_val_model_name=args.best_val_model_name,\n",
    "                                       checkpoint_per_iteration=args.checkpoint_per_iteration,\n",
    "                                       save_n_recent_models=args.save_n_recent_models)\n"
   ]
  },
  {
   "cell_type": "markdown",
   "metadata": {},
   "source": [
    "### finally training loop"
   ]
  },
  {
   "cell_type": "code",
   "execution_count": 69,
   "metadata": {},
   "outputs": [
    {
     "name": "stdout",
     "output_type": "stream",
     "text": [
      "Epoch: [1][1/39]\tTime 1.976 (1.976)\tData 1.536 (1.536)\tLoss 521.6663 (521.6663)\t\n",
      "Epoch: [1][6/39]\tTime 1.494 (1.497)\tData 1.157 (1.141)\tLoss 69.7005 (192.0656)\t\n",
      "Epoch: [1][11/39]\tTime 1.499 (1.447)\tData 1.193 (1.121)\tLoss 65.7531 (140.5103)\t\n",
      "Epoch: [1][16/39]\tTime 1.471 (1.437)\tData 1.139 (1.120)\tLoss 80.1211 (117.8095)\t\n",
      "Epoch: [1][21/39]\tTime 1.393 (1.428)\tData 1.000 (1.119)\tLoss 71.6677 (105.8230)\t\n"
     ]
    },
    {
     "ename": "KeyboardInterrupt",
     "evalue": "",
     "output_type": "error",
     "traceback": [
      "\u001b[0;31m---------------------------------------------------------------------------\u001b[0m",
      "\u001b[0;31mKeyboardInterrupt\u001b[0m                         Traceback (most recent call last)",
      "\u001b[0;32m<ipython-input-69-a7c6ff42cdef>\u001b[0m in \u001b[0;36m<module>\u001b[0;34m\u001b[0m\n\u001b[1;32m     32\u001b[0m \u001b[0;34m\u001b[0m\u001b[0m\n\u001b[1;32m     33\u001b[0m             \u001b[0;31m# compute gradient\u001b[0m\u001b[0;34m\u001b[0m\u001b[0;34m\u001b[0m\u001b[0;34m\u001b[0m\u001b[0m\n\u001b[0;32m---> 34\u001b[0;31m             \u001b[0mloss\u001b[0m\u001b[0;34m.\u001b[0m\u001b[0mbackward\u001b[0m\u001b[0;34m(\u001b[0m\u001b[0;34m)\u001b[0m\u001b[0;34m\u001b[0m\u001b[0;34m\u001b[0m\u001b[0m\n\u001b[0m\u001b[1;32m     35\u001b[0m \u001b[0;34m\u001b[0m\u001b[0m\n\u001b[1;32m     36\u001b[0m             \u001b[0mtorch\u001b[0m\u001b[0;34m.\u001b[0m\u001b[0mnn\u001b[0m\u001b[0;34m.\u001b[0m\u001b[0mutils\u001b[0m\u001b[0;34m.\u001b[0m\u001b[0mclip_grad_norm_\u001b[0m\u001b[0;34m(\u001b[0m\u001b[0mparameters\u001b[0m\u001b[0;34m,\u001b[0m \u001b[0margs\u001b[0m\u001b[0;34m.\u001b[0m\u001b[0mmax_norm\u001b[0m\u001b[0;34m)\u001b[0m\u001b[0;34m\u001b[0m\u001b[0;34m\u001b[0m\u001b[0m\n",
      "\u001b[0;32m~/anaconda3/envs/pysyft/lib/python3.7/site-packages/torch/tensor.py\u001b[0m in \u001b[0;36mbackward\u001b[0;34m(self, gradient, retain_graph, create_graph)\u001b[0m\n\u001b[1;32m    193\u001b[0m                 \u001b[0mproducts\u001b[0m\u001b[0;34m.\u001b[0m \u001b[0mDefaults\u001b[0m \u001b[0mto\u001b[0m\u001b[0;31m \u001b[0m\u001b[0;31m`\u001b[0m\u001b[0;31m`\u001b[0m\u001b[0;32mFalse\u001b[0m\u001b[0;31m`\u001b[0m\u001b[0;31m`\u001b[0m\u001b[0;34m.\u001b[0m\u001b[0;34m\u001b[0m\u001b[0;34m\u001b[0m\u001b[0m\n\u001b[1;32m    194\u001b[0m         \"\"\"\n\u001b[0;32m--> 195\u001b[0;31m         \u001b[0mtorch\u001b[0m\u001b[0;34m.\u001b[0m\u001b[0mautograd\u001b[0m\u001b[0;34m.\u001b[0m\u001b[0mbackward\u001b[0m\u001b[0;34m(\u001b[0m\u001b[0mself\u001b[0m\u001b[0;34m,\u001b[0m \u001b[0mgradient\u001b[0m\u001b[0;34m,\u001b[0m \u001b[0mretain_graph\u001b[0m\u001b[0;34m,\u001b[0m \u001b[0mcreate_graph\u001b[0m\u001b[0;34m)\u001b[0m\u001b[0;34m\u001b[0m\u001b[0;34m\u001b[0m\u001b[0m\n\u001b[0m\u001b[1;32m    196\u001b[0m \u001b[0;34m\u001b[0m\u001b[0m\n\u001b[1;32m    197\u001b[0m     \u001b[0;32mdef\u001b[0m \u001b[0mregister_hook\u001b[0m\u001b[0;34m(\u001b[0m\u001b[0mself\u001b[0m\u001b[0;34m,\u001b[0m \u001b[0mhook\u001b[0m\u001b[0;34m)\u001b[0m\u001b[0;34m:\u001b[0m\u001b[0;34m\u001b[0m\u001b[0;34m\u001b[0m\u001b[0m\n",
      "\u001b[0;32m~/anaconda3/envs/pysyft/lib/python3.7/site-packages/torch/autograd/__init__.py\u001b[0m in \u001b[0;36mbackward\u001b[0;34m(tensors, grad_tensors, retain_graph, create_graph, grad_variables)\u001b[0m\n\u001b[1;32m     97\u001b[0m     Variable._execution_engine.run_backward(\n\u001b[1;32m     98\u001b[0m         \u001b[0mtensors\u001b[0m\u001b[0;34m,\u001b[0m \u001b[0mgrad_tensors\u001b[0m\u001b[0;34m,\u001b[0m \u001b[0mretain_graph\u001b[0m\u001b[0;34m,\u001b[0m \u001b[0mcreate_graph\u001b[0m\u001b[0;34m,\u001b[0m\u001b[0;34m\u001b[0m\u001b[0;34m\u001b[0m\u001b[0m\n\u001b[0;32m---> 99\u001b[0;31m         allow_unreachable=True)  # allow_unreachable flag\n\u001b[0m\u001b[1;32m    100\u001b[0m \u001b[0;34m\u001b[0m\u001b[0m\n\u001b[1;32m    101\u001b[0m \u001b[0;34m\u001b[0m\u001b[0m\n",
      "\u001b[0;31mKeyboardInterrupt\u001b[0m: "
     ]
    }
   ],
   "source": [
    "# training loop\n",
    "\n",
    "main_proc = True\n",
    "\n",
    "for epoch in range(state.epoch, args.epochs):\n",
    "    model.train()\n",
    "    end = time.time()\n",
    "    start_epoch_time = time.time()\n",
    "    state.set_epoch(epoch=epoch)\n",
    "    train_sampler.set_epoch(epoch=epoch)\n",
    "    train_sampler.reset_training_step(training_step=state.training_step)\n",
    "    for idx, (data) in enumerate(train_loader, start=state.training_step):\n",
    "        state.set_training_step(training_step=idx)\n",
    "        inputs, targets, input_percentages, target_sizes = data\n",
    "        input_sizes = input_percentages.mul_(int(inputs.size(3))).int()\n",
    "        # measure data loading time\n",
    "        data_time.update(time.time() - end)\n",
    "        inputs = inputs.to(device)\n",
    "\n",
    "        out, output_sizes = model(inputs, input_sizes)\n",
    "        out = out.transpose(0, 1)  # TxNxH\n",
    "\n",
    "        float_out = out.float()  # ensure float32 for loss\n",
    "        loss = criterion(float_out, targets, output_sizes, target_sizes).to(device)\n",
    "        loss = loss / inputs.size(0)  # average the loss by minibatch\n",
    "        loss_value = loss.item()\n",
    "\n",
    "        # Check to ensure valid loss was calculated\n",
    "        valid_loss, error = check_loss(loss, loss_value)\n",
    "        if valid_loss:\n",
    "            optimizer.zero_grad()\n",
    "            \n",
    "            # compute gradient\n",
    "            loss.backward()\n",
    "    \n",
    "            torch.nn.utils.clip_grad_norm_(parameters, args.max_norm)\n",
    "            optimizer.step()\n",
    "        else:\n",
    "            # print(error)\n",
    "            # print('Skipping grad update')\n",
    "            loss_value = 0\n",
    "\n",
    "        state.avg_loss += loss_value\n",
    "        losses.update(loss_value, inputs.size(0))\n",
    "\n",
    "        # measure elapsed time\n",
    "        batch_time.update(time.time() - end)\n",
    "        end = time.time()\n",
    "        if idx % 5 == 0:\n",
    "            print('Epoch: [{0}][{1}/{2}]\\t'\n",
    "                  'Time {batch_time.val:.3f} ({batch_time.avg:.3f})\\t'\n",
    "                  'Data {data_time.val:.3f} ({data_time.avg:.3f})\\t'\n",
    "                  'Loss {loss.val:.4f} ({loss.avg:.4f})\\t'.format(\n",
    "                (epoch + 1), (idx + 1), len(train_loader), batch_time=batch_time, data_time=data_time, loss=losses))\n",
    "\n",
    "        if main_proc and args.checkpoint_per_iteration:\n",
    "            checkpoint_handler.save_iter_checkpoint_model(epoch=epoch, i=idx, state=state)\n",
    "            \n",
    "        del loss, out, float_out\n",
    "\n",
    "    state.avg_loss /= len(train_dataset)\n",
    "\n",
    "    epoch_time = time.time() - start_epoch_time\n",
    "    print('Training Summary Epoch: [{0}]\\t'\n",
    "          'Time taken (s): {epoch_time:.0f}\\t'\n",
    "          'Average Loss {loss:.3f}\\t'.format(epoch + 1, epoch_time=epoch_time, loss=state.avg_loss))\n",
    "\n",
    "    with torch.no_grad():\n",
    "        wer, cer, output_data = evaluate(test_loader=test_loader,\n",
    "                                         device=device,\n",
    "                                         model=model,\n",
    "                                         decoder=evaluation_decoder,\n",
    "                                         target_decoder=evaluation_decoder)\n",
    "\n",
    "    state.add_results(epoch=epoch,\n",
    "                      loss_result=state.avg_loss,\n",
    "                      wer_result=wer,\n",
    "                      cer_result=cer)\n",
    "\n",
    "    print('Validation Summary Epoch: [{0}]\\t'\n",
    "          'Average WER {wer:.3f}\\t'\n",
    "          'Average CER {cer:.3f}\\t'.format(epoch + 1, wer=wer, cer=cer))\n",
    "\n",
    "    if main_proc and args.checkpoint:  # Save epoch checkpoint\n",
    "        checkpoint_handler.save_checkpoint_model(epoch=epoch, state=state)\n",
    "    # anneal lr\n",
    "    for g in optimizer.param_groups:\n",
    "        g['lr'] = g['lr'] / args.learning_anneal\n",
    "    print('Learning rate annealed to: {lr:.6f}'.format(lr=g['lr']))\n",
    "\n",
    "    if main_proc and (state.best_wer is None or state.best_wer > wer):\n",
    "        checkpoint_handler.save_best_model(epoch=epoch, state=state)\n",
    "        state.set_best_wer(wer)\n",
    "        state.reset_avg_loss()\n",
    "    state.reset_training_step()  # Reset training step for next epoch\n"
   ]
  },
  {
   "cell_type": "code",
   "execution_count": null,
   "metadata": {},
   "outputs": [],
   "source": []
  },
  {
   "cell_type": "markdown",
   "metadata": {},
   "source": [
    "## let's evaluate the model we trained just now"
   ]
  },
  {
   "cell_type": "code",
   "execution_count": 70,
   "metadata": {},
   "outputs": [],
   "source": [
    "# function to get inference\n",
    "\n",
    "def transcribe(audio_path, spect_parser, model, decoder, device, use_half):\n",
    "    spect = spect_parser.parse_audio(audio_path).contiguous()\n",
    "    spect = spect.view(1, 1, spect.size(0), spect.size(1))\n",
    "    spect = spect.to(device)\n",
    "    if use_half:\n",
    "        spect = spect.half()\n",
    "    input_sizes = torch.IntTensor([spect.size(3)]).int()\n",
    "    out, output_sizes = model(spect, input_sizes)\n",
    "    decoded_output, decoded_offsets = decoder.decode(out, output_sizes)\n",
    "    return decoded_output, decoded_offsets\n"
   ]
  },
  {
   "cell_type": "code",
   "execution_count": 71,
   "metadata": {},
   "outputs": [],
   "source": [
    "# decode inference\n",
    "\n",
    "def decode_results(decoded_output, decoded_offsets):\n",
    "    results = {\n",
    "        \"output\": [],\n",
    "        \"_meta\": {\n",
    "            \"acoustic_model\": {\n",
    "                \"name\": os.path.basename(\"snapshots/deepspeech_final.pth\")\n",
    "            },\n",
    "            \"language_model\": {\n",
    "                \"name\": None,\n",
    "            },\n",
    "            \"decoder\": {\n",
    "                \"lm\": None,\n",
    "                \"alpha\": None,\n",
    "                \"beta\": None,\n",
    "                \"type\": \"GreedyDecoder\",\n",
    "            }\n",
    "        }\n",
    "    }\n",
    "\n",
    "    for b in range(len(decoded_output)):\n",
    "        for pi in range(min(1, len(decoded_output[b]))):\n",
    "            result = {'transcription': decoded_output[b][pi]}\n",
    "            results['output'].append(result)\n",
    "    return results"
   ]
  },
  {
   "cell_type": "code",
   "execution_count": 73,
   "metadata": {},
   "outputs": [],
   "source": [
    "# this is sample audio \n",
    "audio_test_path = \"data/an4_dataset/test/an4/wav/cen2-mjwl-b.wav\""
   ]
  },
  {
   "cell_type": "code",
   "execution_count": 75,
   "metadata": {},
   "outputs": [],
   "source": [
    "# from utils import load_model\n",
    "def load_model(device, model_path, use_half):\n",
    "    model = DeepSpeech.load_model(model_path)\n",
    "    model.eval()\n",
    "    model = model.to(device)\n",
    "    if use_half:\n",
    "        model = model.half()\n",
    "    return model"
   ]
  },
  {
   "cell_type": "code",
   "execution_count": 77,
   "metadata": {},
   "outputs": [],
   "source": [
    "# load model\n",
    "model = load_model(\"cpu\", \"./snapshots/deepspeech_final.pth\", False)"
   ]
  },
  {
   "cell_type": "code",
   "execution_count": 78,
   "metadata": {},
   "outputs": [],
   "source": [
    "decoder = GreedyDecoder(model.labels, blank_index=model.labels.index('_'))"
   ]
  },
  {
   "cell_type": "code",
   "execution_count": null,
   "metadata": {},
   "outputs": [],
   "source": []
  },
  {
   "cell_type": "code",
   "execution_count": 79,
   "metadata": {},
   "outputs": [],
   "source": [
    "spect_parser = SpectrogramParser(model.audio_conf, normalize=True)"
   ]
  },
  {
   "cell_type": "code",
   "execution_count": 80,
   "metadata": {},
   "outputs": [],
   "source": [
    "decoded_output, decoded_offsets = transcribe(audio_path=audio_test_path,\n",
    "                                             spect_parser=spect_parser,\n",
    "                                             model=model,\n",
    "                                             decoder=decoder,\n",
    "                                             device=\"cpu\",\n",
    "                                             use_half=False)"
   ]
  },
  {
   "cell_type": "code",
   "execution_count": 81,
   "metadata": {},
   "outputs": [],
   "source": [
    "final_result = decode_results(decoded_output, decoded_offsets)"
   ]
  },
  {
   "cell_type": "code",
   "execution_count": 82,
   "metadata": {},
   "outputs": [
    {
     "data": {
      "text/plain": [
       "{'output': [{'transcription': 'J E F F R E Y'}],\n",
       " '_meta': {'acoustic_model': {'name': 'deepspeech_final.pth'},\n",
       "  'language_model': {'name': None},\n",
       "  'decoder': {'lm': None,\n",
       "   'alpha': None,\n",
       "   'beta': None,\n",
       "   'type': 'GreedyDecoder'}}}"
      ]
     },
     "execution_count": 82,
     "metadata": {},
     "output_type": "execute_result"
    }
   ],
   "source": [
    "final_result"
   ]
  },
  {
   "cell_type": "code",
   "execution_count": 83,
   "metadata": {},
   "outputs": [
    {
     "data": {
      "text/html": [
       "\n",
       "                <audio  controls=\"controls\" >\n",
       "                    <source src=\"data:audio/x-wav;base64,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\" type=\"audio/x-wav\" />\n",
       "                    Your browser does not support the audio element.\n",
       "                </audio>\n",
       "              "
      ],
      "text/plain": [
       "<IPython.lib.display.Audio object>"
      ]
     },
     "execution_count": 83,
     "metadata": {},
     "output_type": "execute_result"
    }
   ],
   "source": [
    "IPython.display.Audio(audio_test_path)"
   ]
  },
  {
   "cell_type": "code",
   "execution_count": 84,
   "metadata": {},
   "outputs": [
    {
     "name": "stdout",
     "output_type": "stream",
     "text": [
      "J E F F R E Y"
     ]
    }
   ],
   "source": [
    "! cat data/an4_dataset/test/an4/txt/cen2-mjwl-b.txt"
   ]
  },
  {
   "cell_type": "code",
   "execution_count": null,
   "metadata": {},
   "outputs": [],
   "source": []
  },
  {
   "cell_type": "code",
   "execution_count": null,
   "metadata": {},
   "outputs": [],
   "source": []
  }
 ],
 "metadata": {
  "kernelspec": {
   "display_name": "Python 3",
   "language": "python",
   "name": "python3"
  },
  "language_info": {
   "codemirror_mode": {
    "name": "ipython",
    "version": 3
   },
   "file_extension": ".py",
   "mimetype": "text/x-python",
   "name": "python",
   "nbconvert_exporter": "python",
   "pygments_lexer": "ipython3",
   "version": "3.7.7"
  }
 },
 "nbformat": 4,
 "nbformat_minor": 2
}
