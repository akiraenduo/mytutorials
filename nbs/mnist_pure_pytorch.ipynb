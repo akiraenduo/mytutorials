{
 "cells": [
  {
   "cell_type": "code",
   "execution_count": 100,
   "metadata": {},
   "outputs": [],
   "source": [
    "# future\n",
    "from __future__ import print_function"
   ]
  },
  {
   "cell_type": "code",
   "execution_count": 101,
   "metadata": {},
   "outputs": [],
   "source": [
    "# third party\n",
    "import torch\n",
    "import torch.nn as nn\n",
    "import torch.nn.functional as F\n",
    "import torch.optim as optim\n",
    "from torch.optim.lr_scheduler import StepLR\n",
    "from torchvision import datasets\n",
    "from torchvision import transforms"
   ]
  },
  {
   "cell_type": "code",
   "execution_count": 102,
   "metadata": {},
   "outputs": [
    {
     "data": {
      "text/plain": [
       "False"
      ]
     },
     "execution_count": 102,
     "metadata": {},
     "output_type": "execute_result"
    }
   ],
   "source": [
    "# let's prepare parameters パラメータ定義\n",
    "class Args():\n",
    "    def __init__(self):\n",
    "        super(Args, self).__init__()\n",
    "        \n",
    "        # 何個ずつデータを処理するか？\n",
    "        self.batch_size = 64\n",
    "        \n",
    "        # 全てのデータを何周回すか？\n",
    "        self.epochs = 2\n",
    "#        self.epochs = 14\n",
    "        \n",
    "        # learning rate\n",
    "        self.lr = 1.0\n",
    "        \n",
    "        # ガンマ。LRが回るたびにへったり小さくなったり、をどれくらい小さくするか。LRの調整かオプティマイズて使用するパラメータ\n",
    "        self.gamma = 0.7\n",
    "        \n",
    "        # True: CPU, False: GPU\n",
    "        self.no_cuda = False\n",
    "        \n",
    "        # 通常は不要。Trueになると1　epoch回した時に止める。実験で試したい時に使用\n",
    "        self.dry_run = False\n",
    "        \n",
    "        # 乱数固定することで全く同じ結果を再現する\n",
    "        self.seed = 42\n",
    "        \n",
    "        # 64個つづアーキテクチャにブッコム。これを１つとしたときに100stepごとにログを出すと言う設定\n",
    "        self.log_interval = 100\n",
    "        \n",
    "        # トレーニングしたweightやparamsを保存するか\n",
    "        self.save_model = True\n",
    "        \n",
    "        # テストをするときに1000個ずつ画像を処理する\n",
    "        self.test_batch_size = 1000\n",
    "        \n",
    "args = Args()\n",
    "\n",
    "# check it\n",
    "args.test_batch_size\n",
    "args.no_cuda"
   ]
  },
  {
   "cell_type": "code",
   "execution_count": 103,
   "metadata": {},
   "outputs": [],
   "source": [
    "# we use cpu\n",
    "use_cuda = False\n",
    "\n",
    "# torchの乱数の初期値を42にセット\n",
    "torch.manual_seed(args.seed)\n",
    "\n",
    "# use_cudaがTrueであればcuda、それ以外はcpuを入れる\n",
    "device = torch.device(\"cuda\" if use_cuda else \"cpu\")\n"
   ]
  },
  {
   "cell_type": "code",
   "execution_count": 104,
   "metadata": {},
   "outputs": [],
   "source": [
    "# cpu\n",
    "# device = torch.device(\"cpu\")\n",
    "\n",
    "# gpu\n",
    "# device = torch.device(\"cuda\")\n",
    "\n",
    "# GPUは使うものを指定可能\n",
    "# device = torch.device(\"cuda:0\")\n",
    "# device = torch.device(\"cuda:1\")"
   ]
  },
  {
   "cell_type": "markdown",
   "metadata": {},
   "source": [
    "## datasets"
   ]
  },
  {
   "cell_type": "code",
   "execution_count": 105,
   "metadata": {},
   "outputs": [],
   "source": [
    "# 画像をTensorに変換\n",
    "# ノーマライズする\n",
    "transform = transforms.Compose(\n",
    "    [transforms.ToTensor(), transforms.Normalize((0.1307,), (0.3081,))]\n",
    ")\n",
    "\n",
    "# トレーニングデータをダウンロードする\n",
    "# トレーニングする\n",
    "dataset1 = datasets.MNIST(\"../data\", train=True, download=True, transform=transform)\n",
    "\n",
    "# トレーニングしない\n",
    "# validationデータセット\n",
    "dataset2 = datasets.MNIST(\"../data\", train=False, transform=transform)\n"
   ]
  },
  {
   "cell_type": "code",
   "execution_count": 106,
   "metadata": {},
   "outputs": [
    {
     "data": {
      "text/plain": [
       "(torch.Size([1, 28, 28]), 6)"
      ]
     },
     "execution_count": 106,
     "metadata": {},
     "output_type": "execute_result"
    }
   ],
   "source": [
    "x_sample, y_sample = dataset1[129]\n",
    "x_sample.shape, y_sample"
   ]
  },
  {
   "cell_type": "code",
   "execution_count": 109,
   "metadata": {},
   "outputs": [
    {
     "data": {
      "text/plain": [
       "2"
      ]
     },
     "execution_count": 109,
     "metadata": {},
     "output_type": "execute_result"
    }
   ],
   "source": [
    "# タプル型である、2つのデータが帰って来ている\n",
    "len(dataset1[129])"
   ]
  },
  {
   "cell_type": "code",
   "execution_count": 110,
   "metadata": {},
   "outputs": [
    {
     "data": {
      "text/plain": [
       "(60000, 10000)"
      ]
     },
     "execution_count": 110,
     "metadata": {},
     "output_type": "execute_result"
    }
   ],
   "source": [
    "len(dataset1), len(dataset2)"
   ]
  },
  {
   "cell_type": "code",
   "execution_count": 111,
   "metadata": {},
   "outputs": [
    {
     "data": {
      "text/plain": [
       "{'batch_size': 64}"
      ]
     },
     "execution_count": 111,
     "metadata": {},
     "output_type": "execute_result"
    }
   ],
   "source": [
    "# add some other params for dataloaders\n",
    "# データセットを使用し、バッチ毎にデータをとってこれるdataloaderを定義\n",
    "\n",
    "train_kwargs = {\"batch_size\": args.batch_size}\n",
    "test_kwargs = {\"batch_size\": args.test_batch_size}\n",
    "if use_cuda:\n",
    "    cuda_kwargs = {\"num_workers\": 1, \"pin_memory\": True, \"shuffle\": True}\n",
    "    train_kwargs.update(cuda_kwargs)\n",
    "    test_kwargs.update(cuda_kwargs)\n",
    "    \n",
    "train_kwargs\n",
    "\n",
    "# batch_size: 64個ずつ\n",
    "# num_workers: 画像をTensorにしたりargに入れる。Python的にいくつのプロセス、スレッドで実行するか\n",
    "# pin_memory: メモリを効率よく使う指定： True\n",
    "# shuffle: データを取り出すときに順番をシャッフルして使う\n"
   ]
  },
  {
   "cell_type": "code",
   "execution_count": 112,
   "metadata": {},
   "outputs": [],
   "source": [
    "# prepare data loader\n",
    "# **２つで情報が順番に入る\n",
    "\n",
    "# training dataloader\n",
    "train_loader = torch.utils.data.DataLoader(dataset1, **train_kwargs)\n",
    "\n",
    "# validation dataloader\n",
    "test_loader = torch.utils.data.DataLoader(dataset2, **test_kwargs)"
   ]
  },
  {
   "cell_type": "code",
   "execution_count": 113,
   "metadata": {},
   "outputs": [
    {
     "data": {
      "text/plain": [
       "938"
      ]
     },
     "execution_count": 113,
     "metadata": {},
     "output_type": "execute_result"
    }
   ],
   "source": [
    "len(train_loader)"
   ]
  },
  {
   "cell_type": "code",
   "execution_count": 114,
   "metadata": {},
   "outputs": [
    {
     "data": {
      "text/plain": [
       "60032"
      ]
     },
     "execution_count": 114,
     "metadata": {},
     "output_type": "execute_result"
    }
   ],
   "source": [
    "938 * args.batch_size"
   ]
  },
  {
   "cell_type": "code",
   "execution_count": 115,
   "metadata": {},
   "outputs": [
    {
     "data": {
      "text/plain": [
       "(torch.Size([64, 1, 28, 28]), torch.Size([64]))"
      ]
     },
     "execution_count": 115,
     "metadata": {},
     "output_type": "execute_result"
    }
   ],
   "source": [
    "x_sample1, y_sample1 = next(iter(train_loader))\n",
    "x_sample1.shape, y_sample1.shape\n",
    "\n",
    "### End of Dataset, Dataloader"
   ]
  },
  {
   "cell_type": "markdown",
   "metadata": {},
   "source": [
    "## architecture"
   ]
  },
  {
   "cell_type": "code",
   "execution_count": 116,
   "metadata": {},
   "outputs": [],
   "source": [
    "# architecture\n",
    "\n",
    "# nn.ModuleはPytorchの基本class\n",
    "class Net(nn.Module):\n",
    "    def __init__(self):\n",
    "        super(Net, self).__init__()\n",
    "        \n",
    "        # 画像処理の鉄板であるconvlutionを2つ定義\n",
    "        self.conv1 = nn.Conv2d(1, 32, 3, 1)\n",
    "        self.conv2 = nn.Conv2d(32, 64, 3, 1)\n",
    "        \n",
    "        # overfittingを防ぐためのdropoutを2つ定義\n",
    "        self.dropout1 = nn.Dropout(0.25)\n",
    "        self.dropout2 = nn.Dropout(0.5)\n",
    "        \n",
    "        # 行列演算を2つ定義\n",
    "        self.fc1 = nn.Linear(9216, 128)\n",
    "        self.fc2 = nn.Linear(128, 10)\n",
    "\n",
    "    # Pytorchで必ず必要なfunction\n",
    "    # forwardで実際にxとしてデータが入ってくる\n",
    "    def forward(self, x):\n",
    "        x = self.conv1(x)\n",
    "        \n",
    "        # 不連続な処理を入れるためにreluを入れる\n",
    "        x = F.relu(x)\n",
    "        \n",
    "        x = self.conv2(x)\n",
    "        x = F.relu(x)\n",
    "        \n",
    "        # 画像の大きさを縦横半分にする\n",
    "        x = F.max_pool2d(x, 2)\n",
    "        \n",
    "        x = self.dropout1(x)\n",
    "        \n",
    "        # Tensorの形を平す\n",
    "        x = torch.flatten(x, 1)\n",
    "        x = self.fc1(x)\n",
    "        x = F.relu(x)\n",
    "        x = self.dropout2(x)\n",
    "        x = self.fc2(x)\n",
    "        \n",
    "        # softmaxはpercent化のようなもの\n",
    "        # (いぬ、ねこ、とり) (0.6, 0.3, 0.1)\n",
    "        \n",
    "        # log_softmax\n",
    "        output = F.log_softmax(x, dim=1)\n",
    "        return output\n",
    "        \n"
   ]
  },
  {
   "cell_type": "code",
   "execution_count": null,
   "metadata": {},
   "outputs": [],
   "source": []
  },
  {
   "cell_type": "code",
   "execution_count": 117,
   "metadata": {},
   "outputs": [
    {
     "data": {
      "text/plain": [
       "Net(\n",
       "  (conv1): Conv2d(1, 32, kernel_size=(3, 3), stride=(1, 1))\n",
       "  (conv2): Conv2d(32, 64, kernel_size=(3, 3), stride=(1, 1))\n",
       "  (dropout1): Dropout(p=0.25, inplace=False)\n",
       "  (dropout2): Dropout(p=0.5, inplace=False)\n",
       "  (fc1): Linear(in_features=9216, out_features=128, bias=True)\n",
       "  (fc2): Linear(in_features=128, out_features=10, bias=True)\n",
       ")"
      ]
     },
     "execution_count": 117,
     "metadata": {},
     "output_type": "execute_result"
    }
   ],
   "source": [
    "model = Net().to(device)\n",
    "\n",
    "optimizer = optim.Adadelta(model.parameters(), lr=args.lr)\n",
    "\n",
    "# 変更を担当する。epochごとに\n",
    "scheduler = StepLR(optimizer, step_size=1, gamma=args.gamma)\n",
    "\n",
    "model"
   ]
  },
  {
   "cell_type": "markdown",
   "metadata": {},
   "source": [
    "## training loop"
   ]
  },
  {
   "cell_type": "code",
   "execution_count": 118,
   "metadata": {},
   "outputs": [
    {
     "name": "stdout",
     "output_type": "stream",
     "text": [
      "Train Epoch: 1 [0/60000 (0%)]\tLoss: 2.291810\n",
      "Train Epoch: 1 [6400/60000 (11%)]\tLoss: 0.363821\n",
      "Train Epoch: 1 [12800/60000 (21%)]\tLoss: 0.098491\n",
      "Train Epoch: 1 [19200/60000 (32%)]\tLoss: 0.292254\n",
      "Train Epoch: 1 [25600/60000 (43%)]\tLoss: 0.045614\n",
      "Train Epoch: 1 [32000/60000 (53%)]\tLoss: 0.156594\n",
      "Train Epoch: 1 [38400/60000 (64%)]\tLoss: 0.127547\n",
      "Train Epoch: 1 [44800/60000 (75%)]\tLoss: 0.128466\n",
      "Train Epoch: 1 [51200/60000 (85%)]\tLoss: 0.101601\n",
      "Train Epoch: 1 [57600/60000 (96%)]\tLoss: 0.271945\n",
      "\n",
      "Test set: Average loss: 0.0539, Accuracy: 9822/10000 (98%)\n",
      "\n",
      "Train Epoch: 2 [0/60000 (0%)]\tLoss: 0.046443\n",
      "Train Epoch: 2 [6400/60000 (11%)]\tLoss: 0.192264\n",
      "Train Epoch: 2 [12800/60000 (21%)]\tLoss: 0.144113\n",
      "Train Epoch: 2 [19200/60000 (32%)]\tLoss: 0.108311\n",
      "Train Epoch: 2 [25600/60000 (43%)]\tLoss: 0.054301\n",
      "Train Epoch: 2 [32000/60000 (53%)]\tLoss: 0.075777\n",
      "Train Epoch: 2 [38400/60000 (64%)]\tLoss: 0.094268\n",
      "Train Epoch: 2 [44800/60000 (75%)]\tLoss: 0.042151\n",
      "Train Epoch: 2 [51200/60000 (85%)]\tLoss: 0.135723\n",
      "Train Epoch: 2 [57600/60000 (96%)]\tLoss: 0.145299\n",
      "\n",
      "Test set: Average loss: 0.0357, Accuracy: 9881/10000 (99%)\n",
      "\n"
     ]
    }
   ],
   "source": [
    "# training loop\n",
    "\n",
    "for epoch in range(1, args.epochs + 1):\n",
    "\n",
    "    #     train(args, model, device, train_loader, optimizer, epoch)\n",
    "    # training \n",
    "    \n",
    "    # モデルを学習モードにする\n",
    "    # model.eval() < 推論モード\n",
    "    model.train()\n",
    "    \n",
    "    for batch_idx, (data, target) in enumerate(train_loader):\n",
    "        \n",
    "        # data.shape: (64,1,28,28), target.shape: (64)\n",
    "        data, target = data.to(device), target.to(device)\n",
    "        \n",
    "        # 微分のデータおwいあt\n",
    "        optimizer.zero_grad()\n",
    "        \n",
    "        \n",
    "        output = model(data)\n",
    "        loss = F.nll_loss(output, target)\n",
    "        loss.backward()\n",
    "        optimizer.step()\n",
    "        if batch_idx % args.log_interval == 0:\n",
    "            print(\n",
    "                \"Train Epoch: {} [{}/{} ({:.0f}%)]\\tLoss: {:.6f}\".format(\n",
    "                    epoch,\n",
    "                    batch_idx * len(data),\n",
    "                    len(train_loader.dataset),\n",
    "                    100.0 * batch_idx / len(train_loader),\n",
    "                    \n",
    "                    # 実際どのitemか\n",
    "                    loss.item(),\n",
    "                )\n",
    "            )\n",
    "            if args.dry_run:\n",
    "                break\n",
    "\n",
    "    # test(model, device, test_loader)\n",
    "    \n",
    "    # validation\n",
    "    # モデルを評価モードに切り替える\n",
    "    model.eval()\n",
    "    test_loss = 0\n",
    "    correct = 0\n",
    "    with torch.no_grad():\n",
    "        for data, target in test_loader:\n",
    "            data, target = data.to(device), target.to(device)\n",
    "            output = model(data)\n",
    "            \n",
    "            # ロスを追加で足す\n",
    "            test_loss += F.nll_loss(\n",
    "                output, target, reduction=\"sum\"\n",
    "            ).item()  # sum up batch loss\n",
    "            \n",
    "            pred = output.argmax(\n",
    "                dim=1, keepdim=True\n",
    "            )  # get the index of the max log-probability\n",
    "            correct += pred.eq(target.view_as(pred)).sum().item()\n",
    "\n",
    "    test_loss /= len(test_loader.dataset)\n",
    "\n",
    "    print(\n",
    "        \"\\nTest set: Average loss: {:.4f}, Accuracy: {}/{} ({:.0f}%)\\n\".format(\n",
    "            test_loss,\n",
    "            correct,\n",
    "            len(test_loader.dataset),\n",
    "            100.0 * correct / len(test_loader.dataset),\n",
    "        )\n",
    "    )\n",
    "    \n",
    "    # update \n",
    "    scheduler.step()\n",
    "    \n",
    "    \n",
    "    "
   ]
  },
  {
   "cell_type": "code",
   "execution_count": 81,
   "metadata": {},
   "outputs": [],
   "source": [
    "# save model\n",
    "\n",
    "# state_dictは現在の値\n",
    "if args.save_model:\n",
    "    torch.save(model.state_dict(), \"mnist_cnn.pth\")\n",
    "    "
   ]
  },
  {
   "cell_type": "code",
   "execution_count": 82,
   "metadata": {},
   "outputs": [],
   "source": [
    "# load and use it"
   ]
  },
  {
   "cell_type": "markdown",
   "metadata": {},
   "source": [
    "## How to train a model with MY DATA!"
   ]
  },
  {
   "cell_type": "code",
   "execution_count": 83,
   "metadata": {},
   "outputs": [],
   "source": [
    "# \n",
    "# https://github.com/myleott/mnist_png"
   ]
  },
  {
   "cell_type": "code",
   "execution_count": 84,
   "metadata": {},
   "outputs": [],
   "source": [
    "# from torchaudio.datasets.utils import walk_files\n",
    "\n",
    "from typing import Any, Iterable, List, Optional, Tuple, Union\n",
    "\n",
    "def walk_files(root: str,\n",
    "               suffix: Union[str, Tuple[str]],\n",
    "               prefix: bool = False,\n",
    "               remove_suffix: bool = False) -> Iterable[str]:\n",
    "    \"\"\"List recursively all files ending with a suffix at a given root\n",
    "    Args:\n",
    "        root (str): Path to directory whose folders need to be listed\n",
    "        suffix (str or tuple): Suffix of the files to match, e.g. '.png' or ('.jpg', '.png').\n",
    "            It uses the Python \"str.endswith\" method and is passed directly\n",
    "        prefix (bool, optional): If true, prepends the full path to each result, otherwise\n",
    "            only returns the name of the files found (Default: ``False``)\n",
    "        remove_suffix (bool, optional): If true, removes the suffix to each result defined in suffix,\n",
    "            otherwise will return the result as found (Default: ``False``).\n",
    "    \"\"\"\n",
    "\n",
    "    root = os.path.expanduser(root)\n",
    "\n",
    "    for dirpath, dirs, files in os.walk(root):\n",
    "        dirs.sort()\n",
    "        # `dirs` is the list used in os.walk function and by sorting it in-place here, we change the\n",
    "        # behavior of os.walk to traverse sub directory alphabetically\n",
    "        # see also\n",
    "        # https://stackoverflow.com/questions/6670029/can-i-force-python3s-os-walk-to-visit-directories-in-alphabetical-order-how#comment71993866_6670926\n",
    "        files.sort()\n",
    "        for f in files:\n",
    "            if f.endswith(suffix):\n",
    "\n",
    "                if remove_suffix:\n",
    "                    f = f[: -len(suffix)]\n",
    "\n",
    "                if prefix:\n",
    "                    f = os.path.join(dirpath, f)\n",
    "\n",
    "                yield f\n"
   ]
  },
  {
   "cell_type": "code",
   "execution_count": 85,
   "metadata": {},
   "outputs": [],
   "source": [
    "import os\n",
    "\n",
    "walker = walk_files(\n",
    "    \"/disk2/data/mnist_png/mnist_png/training\",\n",
    "    suffix=\"png\",\n",
    "    prefix=True,\n",
    "    remove_suffix=False\n",
    ")\n",
    "_walker = list(walker)"
   ]
  },
  {
   "cell_type": "code",
   "execution_count": 86,
   "metadata": {},
   "outputs": [],
   "source": [
    "# _walker"
   ]
  },
  {
   "cell_type": "code",
   "execution_count": 87,
   "metadata": {},
   "outputs": [],
   "source": [
    "from torch.utils.data import Dataset"
   ]
  },
  {
   "cell_type": "code",
   "execution_count": 88,
   "metadata": {},
   "outputs": [
    {
     "data": {
      "text/plain": [
       "(torch.Size([1, 28, 28]), 5)"
      ]
     },
     "execution_count": 88,
     "metadata": {},
     "output_type": "execute_result"
    }
   ],
   "source": [
    "# check datasets1\n",
    "dataset1[0][0].shape, dataset1[0][1]"
   ]
  },
  {
   "cell_type": "code",
   "execution_count": 89,
   "metadata": {},
   "outputs": [],
   "source": [
    "from PIL import Image\n",
    "\n",
    "# transform = transforms.Compose(\n",
    "#     [transforms.ToTensor(), transforms.Normalize((0.1307,), (0.3081,))]\n",
    "# )\n",
    "\n",
    "class MyDataset(Dataset):\n",
    "    def __init__(self, data_list):\n",
    "        \"\"\"\n",
    "        MyDataset based on Dataset\n",
    "        \"\"\"\n",
    "        super(MyDataset, self).__init__()\n",
    "        self.data_list = data_list\n",
    "        \n",
    "        # 同じデータ処理を定義しておく\n",
    "        self.toTensor = transforms.ToTensor()\n",
    "        self.normalize = transforms.Normalize((0.1307,), (0.3081,))\n",
    "        \n",
    "    # indexを受け取って、データを返す    \n",
    "    def __getitem__(self, index):\n",
    "        \n",
    "        # get path\n",
    "        _path = self.data_list[index]\n",
    "        \n",
    "        # get label\n",
    "        # 最後から2つ目をlabelとして取得\n",
    "        _label = _path.split(\"/\")[-2]\n",
    "        \n",
    "        # read image \n",
    "        img = Image.open(_path)\n",
    "        \n",
    "        # apply transforms\n",
    "        img = self.toTensor(img)\n",
    "        img = self.normalize(img)\n",
    "         \n",
    "        return img, int(_label)\n",
    "\n",
    "    # データの数\n",
    "    def __len__(self):\n",
    "        return len(self.data_list)\n"
   ]
  },
  {
   "cell_type": "code",
   "execution_count": 96,
   "metadata": {},
   "outputs": [],
   "source": [
    "my_dataset = MyDataset(_walker)"
   ]
  },
  {
   "cell_type": "code",
   "execution_count": 97,
   "metadata": {},
   "outputs": [
    {
     "data": {
      "text/plain": [
       "0"
      ]
     },
     "execution_count": 97,
     "metadata": {},
     "output_type": "execute_result"
    }
   ],
   "source": [
    "len(my_dataset)"
   ]
  },
  {
   "cell_type": "code",
   "execution_count": 98,
   "metadata": {},
   "outputs": [
    {
     "ename": "IndexError",
     "evalue": "list index out of range",
     "output_type": "error",
     "traceback": [
      "\u001b[0;31m---------------------------------------------------------------------------\u001b[0m",
      "\u001b[0;31mIndexError\u001b[0m                                Traceback (most recent call last)",
      "\u001b[0;32m<ipython-input-98-9258217fed4c>\u001b[0m in \u001b[0;36m<module>\u001b[0;34m\u001b[0m\n\u001b[0;32m----> 1\u001b[0;31m \u001b[0mmy_dataset\u001b[0m\u001b[0;34m[\u001b[0m\u001b[0;36m0\u001b[0m\u001b[0;34m]\u001b[0m\u001b[0;34m[\u001b[0m\u001b[0;36m0\u001b[0m\u001b[0;34m]\u001b[0m\u001b[0;34m.\u001b[0m\u001b[0mshape\u001b[0m\u001b[0;34m,\u001b[0m \u001b[0mmy_dataset\u001b[0m\u001b[0;34m[\u001b[0m\u001b[0;36m0\u001b[0m\u001b[0;34m]\u001b[0m\u001b[0;34m[\u001b[0m\u001b[0;36m1\u001b[0m\u001b[0;34m]\u001b[0m\u001b[0;34m\u001b[0m\u001b[0;34m\u001b[0m\u001b[0m\n\u001b[0m",
      "\u001b[0;32m<ipython-input-89-8c330b28e10d>\u001b[0m in \u001b[0;36m__getitem__\u001b[0;34m(self, index)\u001b[0m\n\u001b[1;32m     21\u001b[0m \u001b[0;34m\u001b[0m\u001b[0m\n\u001b[1;32m     22\u001b[0m         \u001b[0;31m# get path\u001b[0m\u001b[0;34m\u001b[0m\u001b[0;34m\u001b[0m\u001b[0;34m\u001b[0m\u001b[0m\n\u001b[0;32m---> 23\u001b[0;31m         \u001b[0m_path\u001b[0m \u001b[0;34m=\u001b[0m \u001b[0mself\u001b[0m\u001b[0;34m.\u001b[0m\u001b[0mdata_list\u001b[0m\u001b[0;34m[\u001b[0m\u001b[0mindex\u001b[0m\u001b[0;34m]\u001b[0m\u001b[0;34m\u001b[0m\u001b[0;34m\u001b[0m\u001b[0m\n\u001b[0m\u001b[1;32m     24\u001b[0m \u001b[0;34m\u001b[0m\u001b[0m\n\u001b[1;32m     25\u001b[0m         \u001b[0;31m# get label\u001b[0m\u001b[0;34m\u001b[0m\u001b[0;34m\u001b[0m\u001b[0;34m\u001b[0m\u001b[0m\n",
      "\u001b[0;31mIndexError\u001b[0m: list index out of range"
     ]
    }
   ],
   "source": [
    "my_dataset[0][0].shape, my_dataset[0][1]"
   ]
  },
  {
   "cell_type": "code",
   "execution_count": null,
   "metadata": {},
   "outputs": [],
   "source": [
    "my_train_loader = torch.utils.data.DataLoader(my_dataset, **train_kwargs)"
   ]
  },
  {
   "cell_type": "code",
   "execution_count": null,
   "metadata": {},
   "outputs": [],
   "source": [
    "# define train block\n",
    "def train(args, model, device, train_loader, optimizer, epoch):\n",
    "    \n",
    "    model.train()\n",
    "    \n",
    "    for batch_idx, (data, target) in enumerate(train_loader):\n",
    "        data, target = data.to(device), target.to(device)\n",
    "        optimizer.zero_grad()\n",
    "        output = model(data)\n",
    "        loss = F.nll_loss(output, target)\n",
    "        loss.backward()\n",
    "        optimizer.step()\n",
    "        if batch_idx % args.log_interval == 0:\n",
    "            print(\n",
    "                \"Train Epoch: {} [{}/{} ({:.0f}%)]\\tLoss: {:.6f}\".format(\n",
    "                    epoch,\n",
    "                    batch_idx * len(data),\n",
    "                    len(train_loader.dataset),\n",
    "                    100.0 * batch_idx / len(train_loader),\n",
    "                    loss.item(),\n",
    "                )\n",
    "            )\n",
    "            if args.dry_run:\n",
    "                break\n",
    "                \n",
    "                "
   ]
  },
  {
   "cell_type": "code",
   "execution_count": null,
   "metadata": {},
   "outputs": [],
   "source": [
    "# define test block\n",
    "def test(model, device, test_loader):\n",
    "    model.eval()\n",
    "    test_loss = 0\n",
    "    correct = 0\n",
    "    with torch.no_grad():\n",
    "        for data, target in test_loader:\n",
    "            data, target = data.to(device), target.to(device)\n",
    "            output = model(data)\n",
    "            test_loss += F.nll_loss(\n",
    "                output, target, reduction=\"sum\"\n",
    "            ).item()  # sum up batch loss\n",
    "            pred = output.argmax(\n",
    "                dim=1, keepdim=True\n",
    "            )  # get the index of the max log-probability\n",
    "            correct += pred.eq(target.view_as(pred)).sum().item()\n",
    "\n",
    "    test_loss /= len(test_loader.dataset)\n",
    "\n",
    "    print(\n",
    "        \"\\nTest set: Average loss: {:.4f}, Accuracy: {}/{} ({:.0f}%)\\n\".format(\n",
    "            test_loss,\n",
    "            correct,\n",
    "            len(test_loader.dataset),\n",
    "            100.0 * correct / len(test_loader.dataset),\n",
    "        )\n",
    "    )\n",
    "\n"
   ]
  },
  {
   "cell_type": "code",
   "execution_count": 99,
   "metadata": {},
   "outputs": [
    {
     "name": "stdout",
     "output_type": "stream",
     "text": [
      "\n",
      "Test set: Average loss: 0.0282, Accuracy: 9903/10000 (99%)\n",
      "\n",
      "\n",
      "Test set: Average loss: 0.0282, Accuracy: 9903/10000 (99%)\n",
      "\n"
     ]
    }
   ],
   "source": [
    "# training loop \n",
    "for epoch in range(1, args.epochs + 1):\n",
    "    \n",
    "    # training loop\n",
    "    train(args, model, device, my_train_loader, optimizer, epoch)\n",
    "    \n",
    "    # validation loop\n",
    "    test(model, device, test_loader)\n",
    "    scheduler.step()\n"
   ]
  },
  {
   "cell_type": "code",
   "execution_count": null,
   "metadata": {},
   "outputs": [],
   "source": []
  }
 ],
 "metadata": {
  "kernelspec": {
   "display_name": "Python 3",
   "language": "python",
   "name": "python3"
  },
  "language_info": {
   "codemirror_mode": {
    "name": "ipython",
    "version": 3
   },
   "file_extension": ".py",
   "mimetype": "text/x-python",
   "name": "python",
   "nbconvert_exporter": "python",
   "pygments_lexer": "ipython3",
   "version": "3.8.8"
  }
 },
 "nbformat": 4,
 "nbformat_minor": 4
}
