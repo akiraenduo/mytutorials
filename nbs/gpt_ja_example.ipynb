{
 "cells": [
  {
   "cell_type": "code",
   "execution_count": 2,
   "metadata": {},
   "outputs": [],
   "source": [
    "# 本来なら下記コードでウェイトが読み込めるべきなんだけど、エラーになる。\n",
    "\n",
    "# from transformers import AutoTokenizer, AutoModel\n",
    "\n",
    "# tokenizer = AutoTokenizer.from_pretrained(\"geekfeed/gpt2_ja\")\n",
    "# model = AutoModel.from_pretrained(\"geekfeed/gpt2_ja\")"
   ]
  },
  {
   "cell_type": "code",
   "execution_count": 5,
   "metadata": {},
   "outputs": [],
   "source": [
    "# # ウェイトをダウンロード　初回だけ\n",
    "\n",
    "# ! git lfs install\n",
    "# ! git clone https://huggingface.co/geekfeed/gpt2_ja"
   ]
  },
  {
   "cell_type": "code",
   "execution_count": 6,
   "metadata": {},
   "outputs": [],
   "source": [
    "# 推論専用のパイプラインへウェイトを読み込む\n",
    "\n",
    "from transformers import pipeline\n",
    "\n",
    "text_generation = pipeline(\n",
    "    \"text-generation\",\n",
    "    model=\"./gpt2_ja\",\n",
    "    tokenizer=\"./gpt2_ja\",\n",
    ")"
   ]
  },
  {
   "cell_type": "code",
   "execution_count": null,
   "metadata": {},
   "outputs": [],
   "source": []
  },
  {
   "cell_type": "code",
   "execution_count": 7,
   "metadata": {},
   "outputs": [
    {
     "name": "stderr",
     "output_type": "stream",
     "text": [
      "Setting `pad_token_id` to 50256 (first `eos_token_id`) to generate sequence\n"
     ]
    },
    {
     "data": {
      "text/plain": [
       "[{'generated_text': '豊臣秀吉とは異母兄弟。・『日本書紀』には「二刀流」とある。しかし一刀流の力は使わず、三刀流の中でも大活躍して天下統一に大きく貢献する。」「三刀流には敗者はなかったはず」と記されている'}]"
      ]
     },
     "execution_count": 7,
     "metadata": {},
     "output_type": "execute_result"
    }
   ],
   "source": [
    "# まずは適当なテキストをインプットしてみよう\n",
    "\n",
    "text_generation(\"豊臣秀吉とは\")"
   ]
  },
  {
   "cell_type": "code",
   "execution_count": 8,
   "metadata": {},
   "outputs": [
    {
     "name": "stderr",
     "output_type": "stream",
     "text": [
      "Setting `pad_token_id` to 50256 (first `eos_token_id`) to generate sequence\n"
     ]
    },
    {
     "data": {
      "text/plain": [
       "[{'generated_text': 'トランプ大統領は、オバマが大統領の権限に対する議会の立法権を放棄しなかったことを公表した。\"in american ideal and nature of the promises of the pacific and profusity (london, 1879)\"'}]"
      ]
     },
     "execution_count": 8,
     "metadata": {},
     "output_type": "execute_result"
    }
   ],
   "source": [
    "text_generation(\"トランプ大統領は\")"
   ]
  },
  {
   "cell_type": "code",
   "execution_count": 9,
   "metadata": {},
   "outputs": [
    {
     "name": "stderr",
     "output_type": "stream",
     "text": [
      "Setting `pad_token_id` to 50256 (first `eos_token_id`) to generate sequence\n"
     ]
    },
    {
     "data": {
      "text/plain": [
       "[{'generated_text': '性別を教えて。小泉純一郎は:en:sendai 今日やわらかわだ。。おっちょこちょい。お客さんがいらっしゃい。。で、はっぴいえんど。おめでとう。'}]"
      ]
     },
     "execution_count": 9,
     "metadata": {},
     "output_type": "execute_result"
    }
   ],
   "source": [
    "# 「Zero shots」で性別を聞いてみる\n",
    "text_generation(\"性別を教えて。小泉純一郎は:\")"
   ]
  },
  {
   "cell_type": "code",
   "execution_count": 24,
   "metadata": {},
   "outputs": [
    {
     "name": "stderr",
     "output_type": "stream",
     "text": [
      "Setting `pad_token_id` to 50256 (first `eos_token_id`) to generate sequence\n"
     ]
    },
    {
     "data": {
      "text/plain": [
       "[{'generated_text': '性別を教えて。小泉純一郎は:男。小池百合子は:女で、日本人は:男。   人が死ぬまでに数万円も払わなかった。   男を死なせてしまう。   私には'}]"
      ]
     },
     "execution_count": 24,
     "metadata": {},
     "output_type": "execute_result"
    }
   ],
   "source": [
    "# 「One shots」で性別を聞いてみる\n",
    "text_generation(\"性別を教えて。小泉純一郎は:男。小池百合子は:\")"
   ]
  },
  {
   "cell_type": "code",
   "execution_count": 25,
   "metadata": {},
   "outputs": [
    {
     "name": "stderr",
     "output_type": "stream",
     "text": [
      "Setting `pad_token_id` to 50256 (first `eos_token_id`) to generate sequence\n"
     ]
    },
    {
     "data": {
      "text/plain": [
       "[{'generated_text': '性別を教えて。小泉純一郎は:男。小池百合子は:女。マツコデラックスは:男。ヤウ、マツコデラックスは:女。ヤマザキは:男。マツコデラックスは:男。マツコデラックス'}]"
      ]
     },
     "execution_count": 25,
     "metadata": {},
     "output_type": "execute_result"
    }
   ],
   "source": [
    "# 「Two shots」で性別を聞いてみる\n",
    "text_generation(\"性別を教えて。小泉純一郎は:男。小池百合子は:女。マツコデラックスは:\")\n"
   ]
  },
  {
   "cell_type": "code",
   "execution_count": 12,
   "metadata": {},
   "outputs": [
    {
     "name": "stderr",
     "output_type": "stream",
     "text": [
      "Setting `pad_token_id` to 50256 (first `eos_token_id`) to generate sequence\n"
     ]
    },
    {
     "data": {
      "text/plain": [
       "[{'generated_text': '性別を教えて。小泉純一郎は:男。小池百合子は:女。ナジャ＝グランディーバ:: 出木美紗子、オニキス、タオノゾラ先生は:男。\\u3000こおろ'}]"
      ]
     },
     "execution_count": 12,
     "metadata": {},
     "output_type": "execute_result"
    }
   ],
   "source": [
    "# 「Two shots」で性別を聞いてみる\n",
    "\n",
    "text_generation(\"性別を教えて。小泉純一郎は:男。小池百合子は:女。ナジャ＝グランディーバ:\")\n"
   ]
  },
  {
   "cell_type": "code",
   "execution_count": 13,
   "metadata": {},
   "outputs": [
    {
     "name": "stderr",
     "output_type": "stream",
     "text": [
      "Setting `pad_token_id` to 50256 (first `eos_token_id`) to generate sequence\n"
     ]
    },
    {
     "data": {
      "text/plain": [
       "[{'generated_text': '性別を教えて。小泉純一郎は:男。小池百合子は:女。IKKOは:男。  しかも IVKOは《はがねタイプ》。ちょっとプライドが高すぎる清らかな人。いつも自信'}]"
      ]
     },
     "execution_count": 13,
     "metadata": {},
     "output_type": "execute_result"
    }
   ],
   "source": [
    "# 「Two shots」で性別を聞いてみる\n",
    "\n",
    "text_generation(\"性別を教えて。小泉純一郎は:男。小池百合子は:女。IKKOは:\")"
   ]
  },
  {
   "cell_type": "code",
   "execution_count": 21,
   "metadata": {},
   "outputs": [
    {
     "name": "stderr",
     "output_type": "stream",
     "text": [
      "Setting `pad_token_id` to 50256 (first `eos_token_id`) to generate sequence\n"
     ]
    },
    {
     "data": {
      "text/plain": [
       "[{'generated_text': '計算して。1+3=4。4+3=5\\u30005=1 = 5 + 10 + 10 + 10 = 11.8 + 14.8\\u30007 = 12.0 + 13.5\\u300010 = 16.5'}]"
      ]
     },
     "execution_count": 21,
     "metadata": {},
     "output_type": "execute_result"
    }
   ],
   "source": [
    "# 「One shot」試しに算数をやらせてみる\n",
    "\n",
    "text_generation(\"計算して。1+3=4。4+3=\")"
   ]
  },
  {
   "cell_type": "code",
   "execution_count": 22,
   "metadata": {},
   "outputs": [
    {
     "name": "stderr",
     "output_type": "stream",
     "text": [
      "Setting `pad_token_id` to 50256 (first `eos_token_id`) to generate sequence\n"
     ]
    },
    {
     "data": {
      "text/plain": [
       "[{'generated_text': '計算して。1+3=4。4+3=7。10+5=2..............。; 0．3．2 =3．1．3．0．0．12 である．3．'}]"
      ]
     },
     "execution_count": 22,
     "metadata": {},
     "output_type": "execute_result"
    }
   ],
   "source": [
    "# 「Two shot」試しに算数をやらせてみる\n",
    "text_generation(\"計算して。1+3=4。4+3=7。10+5=\")"
   ]
  },
  {
   "cell_type": "code",
   "execution_count": null,
   "metadata": {},
   "outputs": [],
   "source": []
  }
 ],
 "metadata": {
  "kernelspec": {
   "display_name": "Python 3",
   "language": "python",
   "name": "python3"
  },
  "language_info": {
   "codemirror_mode": {
    "name": "ipython",
    "version": 3
   },
   "file_extension": ".py",
   "mimetype": "text/x-python",
   "name": "python",
   "nbconvert_exporter": "python",
   "pygments_lexer": "ipython3",
   "version": "3.7.7"
  }
 },
 "nbformat": 4,
 "nbformat_minor": 4
}
