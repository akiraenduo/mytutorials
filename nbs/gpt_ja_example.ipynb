{
 "cells": [
  {
   "cell_type": "code",
   "execution_count": 1,
   "metadata": {},
   "outputs": [],
   "source": [
    "# transformers　3.5 以上が必要です\n",
    "# ! pip install transformers --upgrade"
   ]
  },
  {
   "cell_type": "code",
   "execution_count": 5,
   "metadata": {},
   "outputs": [],
   "source": [
    "from transformers import pipeline"
   ]
  },
  {
   "cell_type": "code",
   "execution_count": 6,
   "metadata": {},
   "outputs": [],
   "source": [
    "text_generation = pipeline(\n",
    "    \"text-generation\",\n",
    "    model=\"geekfeed/gpt2_ja\",\n",
    "    tokenizer=\"geekfeed/gpt2_ja\",\n",
    ")"
   ]
  },
  {
   "cell_type": "code",
   "execution_count": null,
   "metadata": {},
   "outputs": [],
   "source": []
  },
  {
   "cell_type": "code",
   "execution_count": 7,
   "metadata": {},
   "outputs": [
    {
     "name": "stderr",
     "output_type": "stream",
     "text": [
      "Setting `pad_token_id` to `eos_token_id`:50256 for open-end generation.\n"
     ]
    },
    {
     "data": {
      "text/plain": [
       "[{'generated_text': '豊臣秀吉とは互いに因縁がある。」（『天界』巻19「天界」）にも度々登場し、自身もその直後に偶然出会った（一晩を早く聞かせてしまった）。が、その原因が本当の出来事であるという謎である。\"天界\"は'}]"
      ]
     },
     "execution_count": 7,
     "metadata": {},
     "output_type": "execute_result"
    }
   ],
   "source": [
    "# まずは適当なテキストをインプットしてみよう\n",
    "\n",
    "text_generation(\"豊臣秀吉とは\")"
   ]
  },
  {
   "cell_type": "code",
   "execution_count": 8,
   "metadata": {},
   "outputs": [
    {
     "name": "stderr",
     "output_type": "stream",
     "text": [
      "Setting `pad_token_id` to `eos_token_id`:50256 for open-end generation.\n"
     ]
    },
    {
     "data": {
      "text/plain": [
       "[{'generated_text': 'トランプ大統領は「最高裁に賛成」と批判した。 \"ruman huang\"という回答を否認したのは、当時アメリカ首相だったマイケル・ジャクソンであった。  ニューヨーク・ジャイアンツは、民主党を4対1で破り、ワシントン'}]"
      ]
     },
     "execution_count": 8,
     "metadata": {},
     "output_type": "execute_result"
    }
   ],
   "source": [
    "text_generation(\"トランプ大統領は\")"
   ]
  },
  {
   "cell_type": "code",
   "execution_count": 9,
   "metadata": {},
   "outputs": [
    {
     "name": "stderr",
     "output_type": "stream",
     "text": [
      "Setting `pad_token_id` to `eos_token_id`:50256 for open-end generation.\n"
     ]
    },
    {
     "data": {
      "text/plain": [
       "[{'generated_text': '性別を教えて。小泉純一郎は:en:zabra (the lynn christmas)をプロデューサーとしたという。\"a waves of the american recognition of the economics,\" を\"the econom'}]"
      ]
     },
     "execution_count": 9,
     "metadata": {},
     "output_type": "execute_result"
    }
   ],
   "source": [
    "# 「Zero shots」で性別を聞いてみる\n",
    "text_generation(\"性別を教えて。小泉純一郎は:\")"
   ]
  },
  {
   "cell_type": "code",
   "execution_count": 10,
   "metadata": {},
   "outputs": [
    {
     "name": "stderr",
     "output_type": "stream",
     "text": [
      "Setting `pad_token_id` to `eos_token_id`:50256 for open-end generation.\n"
     ]
    },
    {
     "data": {
      "text/plain": [
       "[{'generated_text': '性別を教えて。小泉純一郎は:男。小池百合子は:女。（前者の）（一）…\\u3000元ネタは\\u3000父（前身）…\\u3000下妻市（後）。…\\u3000他は\\u3000男。\\u3000'}]"
      ]
     },
     "execution_count": 10,
     "metadata": {},
     "output_type": "execute_result"
    }
   ],
   "source": [
    "# 「One shots」で性別を聞いてみる\n",
    "text_generation(\"性別を教えて。小泉純一郎は:男。小池百合子は:\")"
   ]
  },
  {
   "cell_type": "code",
   "execution_count": 11,
   "metadata": {},
   "outputs": [
    {
     "name": "stderr",
     "output_type": "stream",
     "text": [
      "Setting `pad_token_id` to `eos_token_id`:50256 for open-end generation.\n"
     ]
    },
    {
     "data": {
      "text/plain": [
       "[{'generated_text': '性別を教えて。小泉純一郎は:男。小池百合子は:女。マツコデラックスは:人。マツコは:男。おめでとう。マツコは:男。セノバは=ウバツは○×。'}]"
      ]
     },
     "execution_count": 11,
     "metadata": {},
     "output_type": "execute_result"
    }
   ],
   "source": [
    "# 「Two shots」で性別を聞いてみる\n",
    "text_generation(\"性別を教えて。小泉純一郎は:男。小池百合子は:女。マツコデラックスは:\")\n"
   ]
  },
  {
   "cell_type": "code",
   "execution_count": 12,
   "metadata": {},
   "outputs": [
    {
     "name": "stderr",
     "output_type": "stream",
     "text": [
      "Setting `pad_token_id` to `eos_token_id`:50256 for open-end generation.\n"
     ]
    },
    {
     "data": {
      "text/plain": [
       "[{'generated_text': '性別を教えて。小泉純一郎は:男。小池百合子は:女。ナジャ＝グランディーバ: 男。ガーリック: カサ - マダガスカル: ウィアード・アイザック・ニュートン法や'}]"
      ]
     },
     "execution_count": 12,
     "metadata": {},
     "output_type": "execute_result"
    }
   ],
   "source": [
    "# 「Two shots」で性別を聞いてみる\n",
    "\n",
    "text_generation(\"性別を教えて。小泉純一郎は:男。小池百合子は:女。ナジャ＝グランディーバ:\")\n"
   ]
  },
  {
   "cell_type": "code",
   "execution_count": 13,
   "metadata": {},
   "outputs": [
    {
     "name": "stderr",
     "output_type": "stream",
     "text": [
      "Setting `pad_token_id` to `eos_token_id`:50256 for open-end generation.\n"
     ]
    },
    {
     "data": {
      "text/plain": [
       "[{'generated_text': '性別を教えて。小泉純一郎は:男。小池百合子は:女。IKKOは:男性。1歳には血液型があるの。 あなたは…  明日が…   何回も何回も'}]"
      ]
     },
     "execution_count": 13,
     "metadata": {},
     "output_type": "execute_result"
    }
   ],
   "source": [
    "# 「Two shots」で性別を聞いてみる\n",
    "\n",
    "text_generation(\"性別を教えて。小泉純一郎は:男。小池百合子は:女。IKKOは:\")"
   ]
  },
  {
   "cell_type": "code",
   "execution_count": 14,
   "metadata": {},
   "outputs": [
    {
     "name": "stderr",
     "output_type": "stream",
     "text": [
      "Setting `pad_token_id` to `eos_token_id`:50256 for open-end generation.\n"
     ]
    },
    {
     "data": {
      "text/plain": [
       "[{'generated_text': '計算して。1+3=4。4+3=3から  であれば、 を、 で表すことができれば、 が  がすべて  を  の点  の方に対し  で表す（この点  が  と同'}]"
      ]
     },
     "execution_count": 14,
     "metadata": {},
     "output_type": "execute_result"
    }
   ],
   "source": [
    "# 「One shot」試しに算数をやらせてみる\n",
    "\n",
    "text_generation(\"計算して。1+3=4。4+3=\")"
   ]
  },
  {
   "cell_type": "code",
   "execution_count": 15,
   "metadata": {},
   "outputs": [
    {
     "name": "stderr",
     "output_type": "stream",
     "text": [
      "Setting `pad_token_id` to `eos_token_id`:50256 for open-end generation.\n"
     ]
    },
    {
     "data": {
      "text/plain": [
       "[{'generated_text': '計算して。1+3=4。4+3=7。10+5=21と計算してある。   とすると、 と表す。  を  に写す。  は  の  が等しいので、 の'}]"
      ]
     },
     "execution_count": 15,
     "metadata": {},
     "output_type": "execute_result"
    }
   ],
   "source": [
    "# 「Two shot」試しに算数をやらせてみる\n",
    "text_generation(\"計算して。1+3=4。4+3=7。10+5=\")"
   ]
  },
  {
   "cell_type": "code",
   "execution_count": null,
   "metadata": {},
   "outputs": [],
   "source": []
  },
  {
   "cell_type": "code",
   "execution_count": null,
   "metadata": {},
   "outputs": [],
   "source": []
  },
  {
   "cell_type": "code",
   "execution_count": null,
   "metadata": {},
   "outputs": [],
   "source": []
  },
  {
   "cell_type": "code",
   "execution_count": null,
   "metadata": {},
   "outputs": [],
   "source": []
  }
 ],
 "metadata": {
  "kernelspec": {
   "display_name": "Python 3",
   "language": "python",
   "name": "python3"
  },
  "language_info": {
   "codemirror_mode": {
    "name": "ipython",
    "version": 3
   },
   "file_extension": ".py",
   "mimetype": "text/x-python",
   "name": "python",
   "nbconvert_exporter": "python",
   "pygments_lexer": "ipython3",
   "version": "3.7.7"
  }
 },
 "nbformat": 4,
 "nbformat_minor": 4
}
