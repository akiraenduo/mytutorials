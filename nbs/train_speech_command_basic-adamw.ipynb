{
 "cells": [
  {
   "cell_type": "code",
   "execution_count": 1,
   "metadata": {},
   "outputs": [],
   "source": [
    "# this is an example of federated leraning for voice data\n",
    "# I borrowed almost all codes from this repositry. Thank a lot!\n",
    "# https://github.com/tugstugi/pytorch-speech-commands.git\n",
    "\n",
    "# you can learn \n",
    "# 1. how to handle audio datasets\n",
    "# 2. how to do federated learning with audio datasets"
   ]
  },
  {
   "cell_type": "code",
   "execution_count": 2,
   "metadata": {},
   "outputs": [],
   "source": [
    "import warnings\n",
    "warnings.filterwarnings('ignore')"
   ]
  },
  {
   "cell_type": "code",
   "execution_count": 3,
   "metadata": {},
   "outputs": [],
   "source": [
    "# First let's run some code for jupyter notebooks\n",
    "%reload_ext autoreload\n",
    "%autoreload 2\n",
    "%matplotlib inline"
   ]
  },
  {
   "cell_type": "code",
   "execution_count": 4,
   "metadata": {},
   "outputs": [],
   "source": [
    "# import dependencies.\n",
    "import torch\n",
    "from torchvision.transforms import Compose\n",
    "from torch.utils.data.sampler import WeightedRandomSampler\n",
    "from torch.utils.data import DataLoader\n",
    "from torch.utils.data import Dataset\n",
    "import torch.nn as nn\n",
    "import math\n",
    "import time\n",
    "from tqdm import *\n",
    "import os\n",
    "import librosa\n",
    "import numpy as np\n",
    "import random\n",
    "# from torch.autograd import Variable"
   ]
  },
  {
   "cell_type": "code",
   "execution_count": null,
   "metadata": {},
   "outputs": [],
   "source": []
  },
  {
   "cell_type": "code",
   "execution_count": 5,
   "metadata": {},
   "outputs": [],
   "source": [
    "# CLASSES = 'unknown, silence, yes, no, up, down, left, right, on, off, stop, go'.split(', ')\n",
    "CLASSES = 'unknown, silence, yes, no, left, right'.split(', ')"
   ]
  },
  {
   "cell_type": "code",
   "execution_count": 6,
   "metadata": {},
   "outputs": [],
   "source": [
    "# prepare datasets"
   ]
  },
  {
   "cell_type": "code",
   "execution_count": 7,
   "metadata": {},
   "outputs": [],
   "source": [
    "# prepare datasets\n",
    "\n",
    "# create directory it not exist\n",
    "# we put data on datasets directory\n",
    "if os.path.isdir('./datasets') is False:\n",
    "    try:\n",
    "        os.mkdir('./datasets')\n",
    "    except OSError:\n",
    "        print (\"Creation of the directory datasets failed\")\n",
    "\n",
    "# download data\n",
    "# ! wget -O datasets/speech_commands_v0.01.tar.gz http://download.tensorflow.org/data/speech_commands_v0.01.tar.gz\n",
    "\n",
    "# prepare directories\n",
    "if os.path.isdir('./datasets/speech_commands') is False:\n",
    "    try:\n",
    "        os.mkdir('./datasets/speech_commands')\n",
    "    except OSError:\n",
    "        print (\"Creation of the directory datasets/speech_commands failed\")\n",
    "        \n",
    "if os.path.isdir('./datasets/speech_commands/audio') is False:\n",
    "    try:\n",
    "        os.mkdir('./datasets/speech_commands/audio')\n",
    "    except OSError:\n",
    "        print (\"Creation of the directory datasets/speech_commands/audio failed\")\n",
    "        \n",
    "\n",
    "# untar files.\n",
    "# ! tar -xzf datasets/speech_commands_v0.01.tar.gz -C datasets/speech_command/audio\n",
    "        "
   ]
  },
  {
   "cell_type": "code",
   "execution_count": 8,
   "metadata": {},
   "outputs": [],
   "source": [
    "# once you downloaded datasets,\n",
    "# you can split datasets into train and valid.\n",
    "# since which one is for validation is defined by txt file, just split data accordingly.\n",
    "\n",
    "# mode files \n",
    "def move_files(src_folder, to_folder, list_file):\n",
    "    with open(list_file) as f:\n",
    "        for line in f.readlines():\n",
    "            line = line.rstrip()\n",
    "            dirname = os.path.dirname(line)\n",
    "            dest = os.path.join(to_folder, dirname)\n",
    "            if not os.path.exists(dest):\n",
    "                os.mkdir(dest)\n",
    "            shutil.move(os.path.join(src_folder, line), dest)"
   ]
  },
  {
   "cell_type": "code",
   "execution_count": 9,
   "metadata": {},
   "outputs": [],
   "source": [
    "# move files\n",
    "def prepare_dataset():\n",
    "    audio_folder = \"datasets/speech_commands/audio\"\n",
    "    validation_path = \"datasets/speech_commands/audio/validation_list.txt\"\n",
    "    test_path = \"datasets/speech_commands/audio/testing_list.txt\"\n",
    "\n",
    "    valid_folder = \"datasets/speech_commands/valid\"\n",
    "    test_folder = \"datasets/speech_commands/test\"\n",
    "    train_folder = \"datasets/speech_commands/train\"\n",
    "\n",
    "    if os.path.isdir(valid_folder) is False:\n",
    "        os.mkdir(valid_folder)\n",
    "    if os.path.isdir(test_folder) is False:\n",
    "        os.mkdir(test_folder)\n",
    "\n",
    "    move_files(audio_folder, test_folder, test_path)\n",
    "    move_files(audio_folder, valid_folder, validation_path)\n",
    "    os.rename(audio_folder, train_folder)"
   ]
  },
  {
   "cell_type": "code",
   "execution_count": 10,
   "metadata": {},
   "outputs": [],
   "source": [
    "# import shutil for moving files.\n",
    "# impo rt shutil\n",
    "\n",
    "# run prepare datasets\n",
    "# prepare_dataset()\n"
   ]
  },
  {
   "cell_type": "code",
   "execution_count": null,
   "metadata": {},
   "outputs": [],
   "source": []
  },
  {
   "cell_type": "code",
   "execution_count": null,
   "metadata": {},
   "outputs": [],
   "source": []
  },
  {
   "cell_type": "code",
   "execution_count": null,
   "metadata": {},
   "outputs": [],
   "source": []
  },
  {
   "cell_type": "code",
   "execution_count": 11,
   "metadata": {},
   "outputs": [],
   "source": [
    "# here we define convenient functions for audio.\n",
    "# most of them is for data augmentation"
   ]
  },
  {
   "cell_type": "code",
   "execution_count": 12,
   "metadata": {},
   "outputs": [],
   "source": [
    "# this is just returning true or false ramdomly\n",
    "def should_apply_transform(prob=0.5):\n",
    "    \"\"\"Transforms are only randomly applied with the given probability.\"\"\"\n",
    "    return random.random() < prob"
   ]
  },
  {
   "cell_type": "code",
   "execution_count": 13,
   "metadata": {},
   "outputs": [],
   "source": [
    "# change ampletude for data augmentation\n",
    "class ChangeAmplitude(object):\n",
    "    \"\"\"Changes amplitude of an audio randomly.\"\"\"\n",
    "\n",
    "    def __init__(self, amplitude_range=(0.7, 1.1)):\n",
    "        self.amplitude_range = amplitude_range\n",
    "\n",
    "    def __call__(self, data):\n",
    "        if not should_apply_transform():\n",
    "            return data\n",
    "\n",
    "        data['samples'] = data['samples'] * random.uniform(*self.amplitude_range)\n",
    "        return data"
   ]
  },
  {
   "cell_type": "code",
   "execution_count": 14,
   "metadata": {},
   "outputs": [],
   "source": [
    "# change speedch and pitch for data augmentation\n",
    "class ChangeSpeedAndPitchAudio(object):\n",
    "    \"\"\"Change the speed of an audio. This transform also changes the pitch of the audio.\"\"\"\n",
    "\n",
    "    def __init__(self, max_scale=0.2):\n",
    "        self.max_scale = max_scale\n",
    "\n",
    "    def __call__(self, data):\n",
    "        if not should_apply_transform():\n",
    "            return data\n",
    "\n",
    "        samples = data['samples']\n",
    "        sample_rate = data['sample_rate']\n",
    "        scale = random.uniform(-self.max_scale, self.max_scale)\n",
    "        speed_fac = 1.0  / (1 + scale)\n",
    "        data['samples'] = np.interp(np.arange(0, len(samples), speed_fac), np.arange(0,len(samples)), samples).astype(np.float32)\n",
    "        return data"
   ]
  },
  {
   "cell_type": "code",
   "execution_count": 15,
   "metadata": {},
   "outputs": [],
   "source": [
    "# function to fix audio length \n",
    "# Because our architecture is not RNN-based but CNN-based, we need shapes of all input data exact same.\n",
    "class FixAudioLength(object):\n",
    "    \"\"\"Either pads or truncates an audio into a fixed length.\"\"\"\n",
    "\n",
    "    def __init__(self, time=1):\n",
    "        self.time = time\n",
    "\n",
    "    def __call__(self, data):\n",
    "        samples = data['samples']\n",
    "        sample_rate = data['sample_rate']\n",
    "        length = int(self.time * sample_rate)\n",
    "        if length < len(samples):\n",
    "            data['samples'] = samples[:length]\n",
    "        elif length > len(samples):\n",
    "            data['samples'] = np.pad(samples, (0, length - len(samples)), \"constant\")\n",
    "        return data"
   ]
  },
  {
   "cell_type": "code",
   "execution_count": 16,
   "metadata": {},
   "outputs": [],
   "source": [
    "\n",
    "class ToSTFT(object):\n",
    "    \"\"\"Applies on an audio the short time fourier transform.\"\"\"\n",
    "\n",
    "    def __init__(self, n_fft=2048, hop_length=512):\n",
    "        self.n_fft = n_fft\n",
    "        self.hop_length = hop_length\n",
    "\n",
    "    def __call__(self, data):\n",
    "        samples = data['samples']\n",
    "        sample_rate = data['sample_rate']\n",
    "        data['n_fft'] = self.n_fft\n",
    "        data['hop_length'] = self.hop_length\n",
    "        data['stft'] = librosa.stft(samples, n_fft=self.n_fft, hop_length=self.hop_length)\n",
    "        data['stft_shape'] = data['stft'].shape\n",
    "        return data"
   ]
  },
  {
   "cell_type": "code",
   "execution_count": 17,
   "metadata": {},
   "outputs": [],
   "source": [
    "class StretchAudioOnSTFT(object):\n",
    "    \"\"\"Stretches an audio on the frequency domain.\"\"\"\n",
    "\n",
    "    def __init__(self, max_scale=0.2):\n",
    "        self.max_scale = max_scale\n",
    "\n",
    "    def __call__(self, data):\n",
    "        if not should_apply_transform():\n",
    "            return data\n",
    "\n",
    "        stft = data['stft']\n",
    "        sample_rate = data['sample_rate']\n",
    "        hop_length = data['hop_length']\n",
    "        scale = random.uniform(-self.max_scale, self.max_scale)\n",
    "        stft_stretch = librosa.core.phase_vocoder(stft, 1+scale, hop_length=hop_length)\n",
    "        data['stft'] = stft_stretch\n",
    "        return data"
   ]
  },
  {
   "cell_type": "code",
   "execution_count": 18,
   "metadata": {},
   "outputs": [],
   "source": [
    "class TimeshiftAudioOnSTFT(object):\n",
    "    \"\"\"A simple timeshift on the frequency domain without multiplying with exp.\"\"\"\n",
    "\n",
    "    def __init__(self, max_shift=8):\n",
    "        self.max_shift = max_shift\n",
    "\n",
    "    def __call__(self, data):\n",
    "        if not should_apply_transform():\n",
    "            return data\n",
    "\n",
    "        stft = data['stft']\n",
    "        shift = random.randint(-self.max_shift, self.max_shift)\n",
    "        a = -min(0, shift)\n",
    "        b = max(0, shift)\n",
    "        stft = np.pad(stft, ((0, 0), (a, b)), \"constant\")\n",
    "        if a == 0:\n",
    "            stft = stft[:,b:]\n",
    "        else:\n",
    "            stft = stft[:,0:-a]\n",
    "        data['stft'] = stft\n",
    "        return data"
   ]
  },
  {
   "cell_type": "code",
   "execution_count": 19,
   "metadata": {},
   "outputs": [],
   "source": [
    "class FixSTFTDimension(object):\n",
    "    \"\"\"Either pads or truncates in the time axis on the frequency domain, applied after stretching, time shifting etc.\"\"\"\n",
    "\n",
    "    def __call__(self, data):\n",
    "        stft = data['stft']\n",
    "        t_len = stft.shape[1]\n",
    "        orig_t_len = data['stft_shape'][1]\n",
    "        if t_len > orig_t_len:\n",
    "            stft = stft[:,0:orig_t_len]\n",
    "        elif t_len < orig_t_len:\n",
    "            stft = np.pad(stft, ((0, 0), (0, orig_t_len-t_len)), \"constant\")\n",
    "\n",
    "        data['stft'] = stft\n",
    "        return data\n"
   ]
  },
  {
   "cell_type": "code",
   "execution_count": 20,
   "metadata": {},
   "outputs": [],
   "source": [
    "# data augmentation\n",
    "data_aug_transform = Compose([\n",
    "    ChangeAmplitude(), \n",
    "    ChangeSpeedAndPitchAudio(), \n",
    "    FixAudioLength(), \n",
    "    ToSTFT(), \n",
    "    StretchAudioOnSTFT(), \n",
    "    TimeshiftAudioOnSTFT(), \n",
    "    FixSTFTDimension()])\n"
   ]
  },
  {
   "cell_type": "code",
   "execution_count": null,
   "metadata": {},
   "outputs": [],
   "source": []
  },
  {
   "cell_type": "code",
   "execution_count": 21,
   "metadata": {},
   "outputs": [],
   "source": [
    "class BackgroundNoiseDataset(Dataset):\n",
    "    \"\"\"Dataset for silence / background noise.\"\"\"\n",
    "\n",
    "    def __init__(self, folder, transform=None, sample_rate=16000, sample_length=1):\n",
    "        audio_files = [d for d in os.listdir(folder) if os.path.isfile(os.path.join(folder, d)) and d.endswith('.wav')]\n",
    "        samples = []\n",
    "        for f in audio_files:\n",
    "            path = os.path.join(folder, f)\n",
    "            s, sr = librosa.load(path, sample_rate)\n",
    "            samples.append(s)\n",
    "\n",
    "        samples = np.hstack(samples)\n",
    "        c = int(sample_rate * sample_length)\n",
    "        r = len(samples) // c\n",
    "        self.samples = samples[:r*c].reshape(-1, c)\n",
    "        self.sample_rate = sample_rate\n",
    "        self.classes = CLASSES\n",
    "        self.transform = transform\n",
    "        self.path = folder\n",
    "\n",
    "    def __len__(self):\n",
    "        return len(self.samples)\n",
    "\n",
    "    def __getitem__(self, index):\n",
    "        data = {'samples': self.samples[index], 'sample_rate': self.sample_rate, 'target': 1, 'path': self.path}\n",
    "        \n",
    "        if self.transform is not None:\n",
    "            data = self.transform(data)\n",
    "\n",
    "        return data"
   ]
  },
  {
   "cell_type": "code",
   "execution_count": null,
   "metadata": {},
   "outputs": [],
   "source": []
  },
  {
   "cell_type": "code",
   "execution_count": null,
   "metadata": {},
   "outputs": [],
   "source": []
  },
  {
   "cell_type": "code",
   "execution_count": null,
   "metadata": {},
   "outputs": [],
   "source": []
  },
  {
   "cell_type": "code",
   "execution_count": 22,
   "metadata": {},
   "outputs": [],
   "source": [
    "# define background nosie datasets\n",
    "\n",
    "# background_noise_dir = \"./datasets/speech_commands/train/_background_noise_\"\n",
    "background_noise_dir = \"/disk2/ohashi/pytorch-speech-commands/datasets/speech_commands/train/_background_noise_\"\n",
    "\n",
    "bg_dataset = BackgroundNoiseDataset(background_noise_dir, data_aug_transform)\n"
   ]
  },
  {
   "cell_type": "code",
   "execution_count": null,
   "metadata": {},
   "outputs": [],
   "source": []
  },
  {
   "cell_type": "code",
   "execution_count": 23,
   "metadata": {},
   "outputs": [],
   "source": [
    "# function to add background noise on datasets\n",
    "\n",
    "class AddBackgroundNoiseOnSTFT(Dataset):\n",
    "    \"\"\"Adds a random background noise on the frequency domain.\"\"\"\n",
    "\n",
    "    def __init__(self, bg_dataset, max_percentage=0.45):\n",
    "        self.bg_dataset = bg_dataset\n",
    "        self.max_percentage = max_percentage\n",
    "\n",
    "    def __call__(self, data):\n",
    "        if not should_apply_transform():\n",
    "            return data\n",
    "\n",
    "        noise = random.choice(self.bg_dataset)['stft']\n",
    "        percentage = random.uniform(0, self.max_percentage)\n",
    "        data['stft'] = data['stft'] * (1 - percentage) + noise * percentage\n",
    "        return data"
   ]
  },
  {
   "cell_type": "code",
   "execution_count": 24,
   "metadata": {},
   "outputs": [],
   "source": [
    "# create a function\n",
    "add_bg_noise = AddBackgroundNoiseOnSTFT(bg_dataset)"
   ]
  },
  {
   "cell_type": "code",
   "execution_count": null,
   "metadata": {},
   "outputs": [],
   "source": []
  },
  {
   "cell_type": "code",
   "execution_count": 25,
   "metadata": {},
   "outputs": [],
   "source": [
    "# function to convert data from STFT into MelSpectrogram\n",
    "\n",
    "class ToMelSpectrogramFromSTFT(object):\n",
    "    \"\"\"Creates the mel spectrogram from the short time fourier transform of a file. The result is a 32x32 matrix.\"\"\"\n",
    "\n",
    "    def __init__(self, n_mels=32):\n",
    "        self.n_mels = n_mels\n",
    "\n",
    "    def __call__(self, data):\n",
    "        stft = data['stft']\n",
    "        sample_rate = data['sample_rate']\n",
    "        n_fft = data['n_fft']\n",
    "        mel_basis = librosa.filters.mel(sample_rate, n_fft, self.n_mels)\n",
    "        s = np.dot(mel_basis, np.abs(stft)**2.0)\n",
    "        data['mel_spectrogram'] = librosa.power_to_db(s, ref=np.max)\n",
    "        return data"
   ]
  },
  {
   "cell_type": "code",
   "execution_count": 26,
   "metadata": {},
   "outputs": [],
   "source": [
    "class DeleteSTFT(object):\n",
    "    \"\"\"Pytorch doesn't like complex numbers, use this transform to remove STFT after computing the mel spectrogram.\"\"\"\n",
    "\n",
    "    def __call__(self, data):\n",
    "        del data['stft']\n",
    "        return data"
   ]
  },
  {
   "cell_type": "code",
   "execution_count": null,
   "metadata": {},
   "outputs": [],
   "source": []
  },
  {
   "cell_type": "code",
   "execution_count": 27,
   "metadata": {},
   "outputs": [],
   "source": [
    "class ToTensor(object):\n",
    "    \"\"\"Converts into a tensor.\"\"\"\n",
    "\n",
    "    def __init__(self, np_name, tensor_name, normalize=None):\n",
    "        self.np_name = np_name\n",
    "        self.tensor_name = tensor_name\n",
    "        self.normalize = normalize\n",
    "\n",
    "    def __call__(self, data):\n",
    "        tensor = torch.FloatTensor(data[self.np_name])\n",
    "        if self.normalize is not None:\n",
    "            mean, std = self.normalize\n",
    "            tensor -= mean\n",
    "            tensor /= std\n",
    "        data[self.tensor_name] = tensor\n",
    "        return data"
   ]
  },
  {
   "cell_type": "code",
   "execution_count": null,
   "metadata": {},
   "outputs": [],
   "source": []
  },
  {
   "cell_type": "code",
   "execution_count": 28,
   "metadata": {},
   "outputs": [],
   "source": [
    "# define data preprocessing more\n",
    "\n",
    "n_mels = 32\n",
    "\n",
    "train_feature_transform = Compose([\n",
    "    ToMelSpectrogramFromSTFT(n_mels=n_mels), \n",
    "    DeleteSTFT(), \n",
    "    ToTensor('mel_spectrogram', 'input')])\n"
   ]
  },
  {
   "cell_type": "code",
   "execution_count": null,
   "metadata": {},
   "outputs": [],
   "source": []
  },
  {
   "cell_type": "code",
   "execution_count": 29,
   "metadata": {},
   "outputs": [],
   "source": [
    "class LoadAudio(object):\n",
    "    \"\"\"Loads an audio into a numpy array.\"\"\"\n",
    "\n",
    "    def __init__(self, sample_rate=16000):\n",
    "        self.sample_rate = sample_rate\n",
    "\n",
    "    def __call__(self, data):\n",
    "        \n",
    "        path = data['path']\n",
    "        if path:\n",
    "            samples, sample_rate = librosa.load(path, self.sample_rate)\n",
    "        else:\n",
    "            # silence\n",
    "            sample_rate = self.sample_rate\n",
    "            samples = np.zeros(sample_rate, dtype=np.float32)\n",
    "        data['samples'] = samples\n",
    "        data['sample_rate'] = sample_rate\n",
    "        return data"
   ]
  },
  {
   "cell_type": "code",
   "execution_count": 30,
   "metadata": {},
   "outputs": [],
   "source": [
    "class SpeechCommandsDataset(Dataset):\n",
    "    \"\"\"Google speech commands dataset. Only 'yes', 'no', 'up', 'down', 'left',\n",
    "    'right', 'on', 'off', 'stop' and 'go' are treated as known classes.\n",
    "    All other classes are used as 'unknown' samples.\n",
    "    See for more information: https://www.kaggle.com/c/tensorflow-speech-recognition-challenge\n",
    "    \"\"\"\n",
    "\n",
    "    def __init__(self, folder, transform=None, classes=CLASSES, silence_percentage=0.1, use_rate=1.0):\n",
    "        all_classes = [d for d in os.listdir(folder) if os.path.isdir(os.path.join(folder, d)) and not d.startswith('_')]\n",
    "        #for c in classes[2:]:\n",
    "        #    assert c in all_classes\n",
    "\n",
    "        class_to_idx = {classes[i]: i for i in range(len(classes))}\n",
    "        for c in all_classes:\n",
    "            if c not in class_to_idx: \n",
    "                class_to_idx[c] = 0\n",
    "\n",
    "                \n",
    "        data = []\n",
    "        for c in all_classes:\n",
    "            d = os.path.join(folder, c)\n",
    "            target = class_to_idx[c]\n",
    "            if c in classes:\n",
    "                for f in os.listdir(d):\n",
    "                    path = os.path.join(d, f)\n",
    "                    data.append((path, target))               \n",
    "                \n",
    "#         data = []\n",
    "#         for c in all_classes:\n",
    "#             d = os.path.join(folder, c)\n",
    "#             target = class_to_idx[c]\n",
    "#             for f in os.listdir(d):\n",
    "#                 path = os.path.join(d, f)\n",
    "#                 data.append((path, target))\n",
    "\n",
    "        # add silence\n",
    "        target = class_to_idx['silence']\n",
    "        data += [('', target)] * int(len(data) * silence_percentage)\n",
    "\n",
    "        self.classes = classes\n",
    "        self.data = data\n",
    "        self.transform = transform\n",
    "\n",
    "    def __len__(self):\n",
    "        return len(self.data)\n",
    "\n",
    "    def __getitem__(self, index):\n",
    "        path, target = self.data[index]\n",
    "        data = {'path': path, 'target': target}\n",
    "\n",
    "        if self.transform is not None:\n",
    "            data = self.transform(data)\n",
    "        \n",
    "        # return data, target\n",
    "        return data['input'], target\n",
    "\n",
    "    def make_weights_for_balanced_classes(self):\n",
    "        \"\"\"adopted from https://discuss.pytorch.org/t/balanced-sampling-between-classes-with-torchvision-dataloader/2703/3\"\"\"\n",
    "\n",
    "        nclasses = len(self.classes)\n",
    "        count = np.zeros(nclasses)\n",
    "        for item in self.data:\n",
    "            count[item[1]] += 1\n",
    "\n",
    "        N = float(sum(count))\n",
    "        weight_per_class = N / count\n",
    "        weight = np.zeros(len(self))\n",
    "        for idx, item in enumerate(self.data):\n",
    "            weight[idx] = weight_per_class[item[1]]\n",
    "        return weight"
   ]
  },
  {
   "cell_type": "code",
   "execution_count": null,
   "metadata": {},
   "outputs": [],
   "source": []
  },
  {
   "cell_type": "code",
   "execution_count": 31,
   "metadata": {},
   "outputs": [],
   "source": [
    "# here lets see each augmetation steps"
   ]
  },
  {
   "cell_type": "code",
   "execution_count": 32,
   "metadata": {},
   "outputs": [
    {
     "data": {
      "text/html": [
       "\n",
       "                <audio  controls=\"controls\" >\n",
       "                    <source src=\"data:audio/x-wav;base64,UklGRiR9AABXQVZFZm10IBAAAAABAAEAgD4AAAB9AAACABAAZGF0YQB9AADx//D/7f/q/+n/6P/n/+f/5//o/+f/5v/m/+n/6//s/+v/7f/w//P/9f/2//b/9//4//n/+f/5//j/9v/2//X/9P/1//f//P8AAAAA///6//f/+P/5//v/+P/1//H/8P/v/+3/7f/t//D/9v/4//j/9f/w/+//7//w//H/8P/u/+7/8//3//z//f/9//3//P/7//f/8//x//H/8f/w/+3/6v/q/+z/7f/u/+3/7P/q/+r/6f/q/+3/8P/z//X/9v/4//v//f/9//z/+f/5//z//P/8//n/9v/0//P/8v/w/+3/7P/s/+3/7v/w//D/8f/x//H/8P/u/+z/6f/n/+b/5v/n/+j/6P/p/+r/7f/v//D/8P/v/+3/7v/w//T/9//6//z//P/6//b/8f/v/+7/8P/x//L/8P/u/+v/6v/r//D/9v/5//n/9v/y//D/8v/1//b/9f/z//P/8v/x/+//7f/s/+v/6v/o/+f/5v/n/+r/7f/y//b/+P/4//j/+f/6//z//v/9//v/9//0//P/8//z//T/9P/z//D/7f/q/+v/7//0//n//f/+//7//f/8//r/+P/1//L/8P/w//D/8P/t/+3/7//z//T/8//z//T/+f///wAA/v/3//L/8P/x//H/8P/s/+j/5//m/+f/6f/s/+//8f/z//X/9P/0//T/9v/5//r//P/8//3//v/+//z/+v/4//b/9//4//f/9v/z//D/7v/u/+//8f/y//D/7f/q/+r/6v/s/+z/7P/t//D/8//z//D/7f/r/+3/7//u/+v/6f/o/+n/6//t//D/8f/z//P/9P/0//P/8v/w/+3/6//s//D/9P/4//r/+v/5//f/9f/z//H/8v/0//f/+f/4//T/8f/w//H/8//0//L/7v/t/+3/8P/y//L/8v/y//L/8f/w//D/8//2//n/+v/5//r//f8AAAQABwAFAAEAAAD+//3//f/8//z/+//5//n/+f/4//f/9//2//T/8P/s/+r/6v/t//H/8//1//T/8//y//L/8//1//n//P/9//z/+f/0//D/7//t/+r/5//k/+P/5P/n/+j/6v/r/+3/7v/u/+z/6P/l/+X/5//q/+z/7f/t/+3/7f/t/+3/7f/u//D/8v/0//X/9f/0//P/9P/3//z//f/8//n/9v/1//X/9v/2//j/+f/5//b/8P/r/+r/7f/w//P/8//z//T/9f/z//H/8P/x//b/+//8//v/+f/3//b/9P/z//H/8f/x//D/7//t/+z/7P/s/+z/7P/t/+//8//5//3////9//z//P/+/////v/7//j/9//2//b/8//w/+7/7f/r/+n/6P/q/+3/8v/0//X/9f/2//b/9v/z/+7/6//q/+v/7P/r/+r/6P/o/+n/6v/r/+3/7v/x//P/9v/2//X/9f/2//b/9P/x/+7/7f/v//D/8P/v//D/9P/4//n/+P/2//b/+P/5//n/+f/5//r/+f/2//P/8v/z//X/9v/2//b/9v/2//f/9//2//b/9//4//b/8//v/+3/7P/t/+//8f/y//H/8P/u/+z/6v/n/+j/6v/s/+3/7P/s/+3/7//w/+//7f/q/+j/5//n/+b/5v/o/+z/7//w//D/7//v//D/8v/0//T/8//z//H/8P/w//D/8P/x//T/+f/8//3/+v/1//H/8P/z//X/9v/z//D/7f/t//D/9f/3//b/9P/z//P/9P/1//T/9P/2//f/+P/2//P/8//z//T/8//w/+7/7v/w/+7/6//o/+n/7f/w//P/8//z//b/9//4//b/8//y//H/8P/v/+3/7P/s/+3/7//v/+//7//x//T/9//5//n/+P/5//z//v/+//3//P/8//7/AAAAAP3/+v/3//b/9v/3//j/+P/3//X/8P/s/+f/5f/m/+n/7P/v//L/9P/3//n/+v/5//j/9f/z//L/8P/t/+r/6v/t/+3/7//y//P/8v/w//H/9f/1//D/7P/r/+z/7f/r/+r/6P/n/+j/6v/r/+r/6f/r/+//8//2//j/+f/5//n/+P/1/+//6v/o/+f/5//o/+3/8//5//n/9v/z//P/8//z/+//6P/k/+L/5P/l/+f/6P/n/+f/6f/s/+7/7//u/+3/7f/w//P/9v/2//X/9f/2//b/9f/2//n/+f/3//b/+P/5//n/9//3//j/+f/3//b/9v/0//P/8v/y//L/8f/w//D/8v/0//b/9//3//b/8//y//L/9P/3//n/+//5//X/8v/0//n/+//5//b/8//z//D/7P/q/+3/8f/z//H/7v/s/+v/7f/v//D/8P/v/+7/7f/t//D/8//1//T/8//w//D/8v/0//b/9v/2//b/9v/2//b/9v/2//b/9f/0//T/9f/2//b/9f/0//P/8//x/+7/6v/n/+X/5f/n/+j/6P/o/+f/6P/p/+z/7v/w//D/7v/t/+z/7P/t/+z/6v/q/+z/7//x//H/8P/x//X/+v/9//z/+f/0//D/8P/y//P/8//x/+3/6v/p/+v/7//z//X/9f/0//P/8//z//P/8//z//P/9P/0//T/8//y//D/7v/u//D/8//1//b/8//x/+//7f/t/+v/6v/q/+n/6f/q/+z/7//y//T/9f/1//X/9f/1//T/8//z//P/9f/3//j/+f/5//z///8AAP//+v/1//L/8//0//b/8//w/+7/7v/v//D/7f/p/+b/5v/o/+r/6v/o/+f/5//q/+v/7P/r/+r/6//t//D/8//0//X/9P/z//D/7v/t/+v/6v/q/+n/5//n/+j/6v/r/+3/8P/z//j//P///wAAAAAAAAAAAAAAAAAAAAAAAAAAAAAAAAAAAAAAAAAAAAAAAAAAAAAAAAAAAAAAAAAAAAAAAAAAAAAAAAAAAAAAAAAAAAAAAAAAAAAAAAAAAAAAAAAAAAAAAAAAAAAAAAAAAAAAAP///P/5//b/9v/2//f/9//2//T/8f/u/+r/6v/q/+3/8P/w/+//7f/q/+j/5P/g/93/3P/e/97/3//h/+L/5f/n/+j/6f/o/+f/5v/k/+T/4//j/+L/4f/g/+D/4f/i/+P/5P/n/+r/7//z//b/9//3//j/9//0//L/8P/w//D/8v/z//L/8P/t/+v/5//n/+j/6//t/+3/7f/r/+n/5//j/97/3P/b/93/3v/e/+H/4v/l/+f/6P/p/+j/5//m/+T/5P/j/+P/4v/h/+D/4P/h/+L/4//k/+f/6v/v//P/9v/3//f/+P/3//T/8v/w//D/8P/y//P/8v/w/+3/6//n/+f/6P/r/+3/7f/t/+v/6f/n/+P/3v/c/9v/3f/e/97/4f/i/+X/5//o/+n/6P/n/+b/5P/k/+P/4//i/+H/4P/g/+H/4v/j/+T/5//q/+//8//2//f/9//4//f/9P/y//D/8P/x//P/8//z//H/7//t/+r/6f/q/+3/8P/w/+//7v/t/+r/5//k/+L/4v/k/+T/5f/n/+n/6//t/+7/7//u/+7/7f/s/+v/6//r/+v/6v/q/+r/6v/s/+3/7v/w//L/9f/5//r/+//7//z/+//5//j/9//2//j/+f/5//n/+P/2//b/9P/z//X/9v/4//j/9//3//b/9v/0//L/8f/x//P/8//z//X/9v/2//f/+f/5//n/+f/4//j/9//3//j/+P/3//f/9//4//n/+f/5//r/+//8//7//////////////////v/+//3//P/8//z//P/8//v/+v/5//n/+f/7//z//P/8//v/+//6//n/+P/4//j/+P/5//n/+f/6//v//P/8//z//P/8//z//P/7//z//P/8//z/+//7//z//P/8//z//f/+/////////wAAAAAAAAAA///////////+//7////+/wAAAAAAAAAA//8AAAAAAAAAAAAAAAAAAAAAAAD//////////wAAAAAAAAAAAAAAAAAAAAAAAAAAAAAAAAAAAAAAAAAAAAAAAAAAAAAAAAAAAAAAAAAAAAAAAAAAAAAAAAAAAAAAAAAAAAAAAAAAAAAAAAAAAAAAAAAAAAAAAAAAAAAAAAAAAAAAAAAAAAAAAAAAAAAAAAAAAAAAAAAAAAAAAAAAAAAAAAAAAAAAAAAAAAAAAAAAAAAAAAAAAAAAAAAAAAAAAAAAAAAAAAAAAAAAAAAAAAAAAAAAAAAAAAAAAAAAAAAAAAAAAAAAAAAAAAAAAAAAAAAAAAAAAAAAAAAAAAAAAAAAAAAAAAAAAAAAAAAAAAAAAAAAAAAAAAAAAAAAAAAAAAAAAAAAAAAAAAAAAAAAAAAAAAAAAAAAAAAAAAAAAAAAAAAAAAAAAAAAAAAAAAAAAAAAAAAAAAAAAAAAAAAAAAAAAAAAAAAAAAAAAAAAAAAAAAAAAAAAAAAAAAAAAAAAAAAAAAAAAAAAAAAAAAAAAAAAAAAAAAAAAAAAAAAAAAAAAAAAAAAAAAAAAAAAAAAAAAAAAAAAAAAAAAAAAAAAAAAAAAAAAAAAAAAAAAAAAAAAAAAAAAAAAAAAAAAAAAAAAAAAAAAAAAAAAAAAAAAAAAAAAAAAAAAAAAAAAAAAAAAAAAAAAAAAAAAAAAAAAAAAAAAAAAAAAAAAAAAAAAAAAAAAAAAAAAAAAAAAAAAAAAAAAAAAAAAAAAAAAAAAAAAAAAAAAAAAAAAAAAAAAAAAAAAAAAAAAAAAAAAAAAAAAAAAAAAAAAAAAAAAAAAAAAAAAAAAAAAAAAAAAAAAAAAAAAAAAAAAAAAAAAAAAAAAAAAAAAAAAAAAAAAAAAAAAAAAAAAAAAAAAAAAAAAAAAAAAAAAAAAAAAAAAAAAAAAAAAAAAAAAAAAAAAAAAAAAAAAAAAAAAAAAAAAAAAAAAAAAAAAAAAAAAAAAAAAAAAAAAAAAAAAAAAAAAAAAAAAAAAAAAAAAAAAAAAAAAAAAAAAAAAAAAAAAAAAAAAAAAAAAAAAAAAAAAAAAAAAAAAAAAAAAAAAAAAAAAAAAAAAAAAAAAAAAAAAAAAAAAAAAAAAAAAAAAAAAAAAAAAAAAAAAAAAAAAAAAAAAAAAAAAAAAAAAAAAAAAAAAAAAAAAAAAAAAAAAAAAAAAAAAAAAAAAAAAAAAAAAAAAAAAAAAAAAAAAAAAAAAAAAAAAAAAAAAAAAAAAAAAAAAAAAAAAAAAAAAAAAAAAAAAAAAAAAAAAAAAAAAAAAAAAAAAAAAAAAAAAAAAAAAAAAAAAAAAAAAAAAAAAAAAAAAAAAAAAAAAAAAAAAAAAAAAAAAAAAAAAAAAAAAAAAAAAAAAAAAAAAAAAAAAAAAAAAAAAAAAAAAAAAAAAAAAAAAAAAAAAAAAAAAAAAAAAAAAAAAAAAAAAAAAAAAAAAAAAAAAAAAAAAAAAAAAAAAAAAAAAAAAAAAAAAAAAAAAAAAAAAAAAAAAAAAAAAAAAAAAAAAAAAAAAAAAAAAAAAAAAAAAAAAAAAAAAAAAAAAAAAAAAAAAAAAAAAAAAAAAAAAAAAAAAAAAAAAAAAAAAAAAAAAAAAAAAAAAAAAAAAAAAAAAAAAAAAAAAAAAAAAAAAAAAAAAAAAAAAAAAAAAAAAAAAAAAAAAAAAAAAAAAAAAAAAAAAAAAAAAAAAAAAAAAAAAAAAAAAAAAAAAAAAAAAAAAAAAAAAAAAAAAAAAAAAAAAAAAAAAAAAAAAAAAAAAAAAAAAAAAAAAAAAAAAAAAAAAAAAAAAAAAAAAAAAAAAAAAAAAAAAAAAAAAAAAAAAAAAAAAAAAAAAAAAAAAAAAAAAAAAAAAAAAAAAAAAAAAAAAAAAAAAAAAAAAAAAAAAAAAAAAAAAAAAAAAAAAAAAAAAAAAAAAAAAAAAAAAAAAAAAAAAAAAAAAAAAAAAAAAAAAAAAAAAAAAAAAAAAAAAAAAAAAAAAAAAAAAAAAAAAAAAAAAAAQADAAYACgANABMAGAAeACMAKAAsADAAMgAzADIAMAArACUAHQAUAAsAAAD4/+r/3f/P/8L/tP+o/5z/lP+R/5H/lP+W/5v/ov+r/7H/t/+//8j/0v/e/+v//P8KAB4ANQBMAGAAcgB/AIsAlQCXAJQAiAB4AGIASAArABAA+P/d/8X/tP+r/6X/ov+d/5b/jv+F/37/d/90/3X/e/+G/5H/nv+r/7v/1P/8/y8AfQDiAGQB+QGRAh0DgQOxA5gDLwN3AnQBRgAD/8n9svzN+zX74vra+gT7Sfum+wX8bPzM/CL9e/3W/UX+vv5C/8v/TQDPAEMBsAEXAn0C7QJnA/gDkAQuBbgFIwZcBlsGEwaPBcsE4APcAsgByADP/wX/UP7N/V79Dv3L/JT8cPxM/EH8L/wv/C/8OvxO/Gn8ifyw/N38Hf1t/dP9U/7s/p//XgAgAdYBcwLtAjsDWwNTAy0D7wKjAkkC6gGIASkBzwB8ADAA8P+0/33/TP8g//f+0f6s/on+Zv5G/ib+Bv7n/dD9yv3a/Qj+VP69/j7/yf9SANEAOwGGAbABvgG4AaoBlwGEAXMBZwFlAWgBbwF0AXYBdwF1AXABYwFNAS8BBwHOAIIAJQDE/1z/8v6O/jv+AP7g/db93f30/Rf+Rf55/rD+4v4N/zT/Wv9+/5//vv/e/wEALABaAIMApgDBANkA7gACARMBIAElASEBEQHuALYAagARAL3/cv8y//7+2f7F/sX+zv7c/u/+CP8l/0H/XP96/5z/wv/t/xwATgB7AJsAuQDSANwA3ADMAMEAsgCZAIMAagBXAEAAIAD8/8z/mf9t/0j/Mf8m/y7/QP9X/2f/bf9v/3b/ov8CALsA0wFIA+EEfAawB34IcgipB+cFbwOFAGv9k/oL+DT2IfXa9E71MfZM94L4ifl7+hj7kfvz+1v89/yw/Z7+ov+iAJ0BcAIsA8UDWwT/BM4FyQbrBxAJJgoFC4ELjwv/CvwJXwiBBmQEUwJqALL+af1e/Nn7dvtW+y37B/vd+pz6aPoO+tn5mPmc+Z/53vkO+m/6zPpP++H7gfxI/RP+IP8oAGUBjAK7A7cEfwX0BQQGwwUnBXEEkQPRAgwCgwEXAdcArQB2AEIA5/+I//n+av7E/UH9z/yL/Fv8RfxL/Fn8gfyp/Oz8RP2//Vr+Gf/k/7wAiAFLAvACaQO/A90D6wPfA78DmwNhAy0D9wKvAlgC8QF1AQsBfwD+/1//z/5V/uj9iP03/f788Pz4/Bj9Tf2V/en9QP6P/tj+Ff9J/3j/o//O//n/JwBdAJgA1QARAUcBdAGUAaMBoAGJAWIBLgHuAKwAagAuAP//2f/B/7T/sP+y/7X/tf+u/53/g/9d/zb/DP/j/sL+rf6p/rP+vP7D/sr+wv6v/pX+hf6Q/rD+6f5C/5r/zf/i/6//mf+K/43/9//DAFACnARGByMKjwwyDgwP0w2wCzwHMwLR/GH3WfPi7yDu2+237ujwePO49VH4nPki+4L7mvun+4T7Mvzz/Gn+FQC3AXgDHwWcBhYIPQl+ChAMfQ1CD1IQORE9EX8QFw+cDL4JAwaoAjj/tPyF+if5hvg1+NH4zfhy+e74yvjn9xD3MfYy9dL0b/QV9aT1PveH+Jv6Nvwq/s//IAGwAogD8wSsBdwGWwcFCAcI6AdjB3YGeQUXBCwDBwKaAf4A0AB4ACgAqv/g/uX9l/xb+wb6Hflc+DX4ZvgT+SX6WPvP/Ar+YP9JAC8BtgE5ApUC/AJpA+MDaQTjBFYFqAXRBdcFxAW4BbYFpwWPBXkFLwW4BLcDQwJrAC7+3PtW+S73fvVx9GD0wvTo9Xn3Kvko+8r8Nv5o/zoAFwG1AT8CzwJTAwEEgwT3BE8FfwWoBX8FQwXOBDEEjQOzAu8BCwE1AHP/r/4m/qj9ev19/bD9Gf5u/sz+6P7W/pv+IP61/Tj9/fwA/TL9wf1c/iP/w/8zAG0AVQA3ANL/hf9v/3P/v//D/2T/w/7S/eb8W/xv/NH9nwDnBA8KNw+SE0YW/xbvFEcQvAgaAOb28+7o6D3lneR05pTqwu8D9Tj5IPwa/Q390ftb+lX5+vgB+vb72f4bAnQFxwi3C2gOdhAvEm4TlRRxFeQVgBX0E18Rnw1mCWAEqP80+0r4xva49mr3J/ja+Nf4fPgF9/L0NfKp7/jtXu1B7jXwivNm9/b78v9zA+gFbAcoCE0IGQjGB4wHQAc8B+cG3AZXBt8FEwUuBIcD1wJ3AtwBOwE0AN3+3Px3+qP39/TP8pLxdfFr8nD0Wfe++hv+2wDRAvMDYwROBOsDiwN7A+kDzwQHBmQHyAgOCugKQQvOCs8JZgifBs4EvQLnAE7/6f21/Gv7S/pF+X34qfcT91z2/fXs9dr1dPbV9vT3V/lC+379+f+NAj8FsAePCe0KXwt6C7wKcQmhB3wFgQN6Afn/ev6p/Sf9HP1Q/YP9tv2z/av9Ov0G/Wr8SvwU/Dz8kfwU/e/9tf7J/1gAMQGFAeIB1gGVAVABCQHzALsAtQBPAD0Aov88/3L+D/6a/af9gP05/db88Pt2+2/6Yvr6+ob9YwJaCLkPoBVuGmsc3RqrFS4NIwH89qLrb+VR4XfgxOP/5zHu2fN795L5TPrS+BP5RvcE+IP5A/ynAFgE7gh6DMcPSRKwFJAW5hiLGs4b1RvvGY0W8hC3CasCwvo59k3y3vGF8rH04Paf+G34aPbP8uDtvOpd5wfoMukL7pXzifpZATwGFQtyDL0OiA79DqwOjw5jDncN5wvXCNAFnQHX/rr7uPq9+rf7m/07/rP+Cv2T+lf2E/K87Y7r1OoI7e7wmPYD/aECVwfcCfUKyAqsCeYICQgPCFEIvggiCQMJjwivB6sGrgXbBC8EkAO0AkwBPf9r/DH5+PVW89LxzvFm83H2gfr1/hUDLwbBB4wHwQXrAtn/YP0h/Gr8Bv5vAP8CFwVXBqYGIwYRBbsDUAL2AL3/pf64/QL9lfyC/N/8qv3Q/h8AYQFLAqsCYwJ+ATIAyv6M/br8fvzr/Pj9hf9KAfsCNwTBBHYEYwPEAer/R/4O/VT8+fsF/IH8U/03/vv+l/8BAEcAKgCf/4X+L/3L+237d/th/MX82fyI/BX8KfzU+3P8J/5MA+ILhRaIILgnaSgRKNIdcRTgAybzp+cm3HjbhtoN3gzix+X06K3sJ+0n71PxavMw+jX9eALrBesHVQymDckSBBagGzsgDiX0J/In3ySjHCUVAwi0AEj1pvBQ63/qievN7efvhe9g7xjsQu1C6pzsw+tB7ovytvXY/XEA2Ai/CwQUmxezHH8eYh3KG9UVUBCFCJYBDPsN9sHyL/Ak8Nbu9O8V7+fvbvDH8D3y5vFi8xn0dvYD+Qj86P/zA48JUg49E3wVpBbBFUET6g+4Cp8GGwJA/6z8bPr++An3PPZF9V31D/YM93r4bPkY+lr6fvoD+2v8cv7dAW8FTgmyDHAOmA+cDlgNlwuhCY4IwQYUBUQCZP4H+kj1evH/7lrufu8H8kj1svi8+yD+BACIASED8wQEBxoJvwqJCzALuQlpB7cEDwLS/xL+x/zN+/n6Pfqk+Vn5kvl3+gX8E/5PAFcC1wOjBLgEQwSHA78CDwJxAeMAVwCc/6H+aP1G/J37wvvb/Gb+y/84AJz/S/6//H37gvso/S//ygBBAbgAQP+b/OD6evlM+1v9kv4kAFUAfP8m/Tj8/PybB7gW5yj/NKk3IC0YHo8LSvhv64/bVdc31WjWZdwN2v/aLN3f4fDsUvhr/z8IXQl9CVwHEATvBS8KyROSH8EpKDCJLsAnsh1pEzwKLASp/An48fD+6WbkMNzR2jbbuOX78Ej+nQLYBCn/Ffum91/0Y/ny+zAIxxA2GrYe3x3WG5QWzBV0EIYPSQccAPT01emJ4G/aO9kR3ZXks+1M9u/7lP45/8j+ggAXA6AHNww2D98QuhBiD1UOsQ33DawOkw5fDOkGu/5j9eHs5eeY5nLo9Ozg8Z723PqA/an/8gFbBKsHuAphDL8Mfgt9CeMH/gY3B0wIbQnDCWAIBwUiALr6NvaC8+3y/vPS9ab36Pjq+fj6A/ye/WP/uAAfAg8DOwOEA38DiwNoBIsF0wbIB7wHUQbpAw4Bev4g/Jr6+flI+XH5UPnr+QH7T/w+/yQBQwNbBDYEOwQEA2gCqwEmAT4BVAGeAV8BvwAOAJj/E//g/pH+wf2v/NT7Tfts+5H8CP74/+cAtAG1AWIA2f+q/nX+Rv43/kv/VP8ZAFIAPQDSAKMABgHZAKAAzQBj/wf+Gv3O/Ln9rP4vABYATP+Y/rT7Hvpo+Z/99wrkG9QrNTJ7K5gcLgue/NTzae2y5unf1NZ70WPRl9U44BLsbvgpA3cIAglIBi8ElgWfCnsRaxcaG1McBBtkGeYXCRXZEdYMRAXM/IbyKehQ4eHeY+FI58jtMvTO+o0CUAqYD1QRLg+vCksHYQSzAnQCXQKYBJcH3wrlDAYMsQdBAmH7IvZD8U3sh+k458nowOyW8gb6+gDMBr0KlwxfDIgLZwnDB8MFpgRkAzwClwEFAXMBxAFeAQgAVf0b+tP2nvT387v0ifYw+af8iQA4BBsHeQkiC78LFwusCKQFUwKy/63+df5r/xwAKQAOAPf+JP4V/dL7iPrh+MD3Yfcq+K/6mf0tAXgE9AVfB4cGdwUJBIUCPgG7AL3/lP+v//L/DAEHApgC0AIcAhYBCgAy/5/+P/7p/cb90P0y/r/+Uv/y/30A4gDvAG0Agf99/sP9c/1q/X79rv0k/gH/MwCCAaUCXwN8A+cCtQFAAAf/T/4Y/i/+e/75/pL/BgAKAJb//P7H/jH/5v9MAAwAe/8b/xz/Qf8p/8b+Rf4G/mP+XP+UAKEBJQIkAqwB2wANAHr/aP9m/5v+Yv3S+0f5GfZ39ND5hgkkH/8w9zTJKJQUYAEm9lX0YPPZ6nTarslUw5rLy96h9EsDSAi4BlsCBAErBVcMzRLPFMwSrQ8tDvkR/xlPIDcgAhfABg32GurQ5ILkluWL5ZzkrOX36gn1mAKfD1UZ0x2vGjAS5QiXAr4BOwQwBlsFnQDi+777Lv9TBK4F5f+k9dTqcOWp5hPto/XY++b+5QBOBDgJnw4WEi8SxQ0PBt7+Evqr+Xr8MwArAhEBDP+q/Lz7Yfzf/FD8gPlm9rD0s/U7+u//jwVfCfMKzQp4CckIkwd4BZgC0f6R+275qvnB/JAAoQN+BRQFjQIJ/0T87/oR+R33pvYG9xf40vrU/uwC2AVeB6MHQQYOBecDfQJWAUEAVwCCAG8BTwMzBHcEywNZAkkA1v0y/M/7/Ps+/GH9b/4x/4EAdQFbAmgCygHhANH+JP2x+/76dfvo/Ob+6P8EAUkC0wI/ApIBlADZ/mH91/wM/jT/cwCqAWMCDwMNAgUBYgDs/kj9NPyl+1j7xfte/GX8dPyh/VT/+QDUAvQDkwOzAl8CzwF7ADH/sv0l+3j40/ax9nn7+An1Hw8yVjVDKH0SAf9m9WL0ZvLZ5rDTh8RvxCrV/u2JAXkHTAKd+1L7AQOADo8WBRYtD0IKIg3iFjMiCyh4Iv8RYv5r7yTojudQ6UTo9OMn4ark7u8dAC8O7xNREnoPcQ+lEUwTlhGYC7gD4P54/+wCawSyAUT87fY188jwv+5G7RTtnO5k8qv4GQBhBpIKDQ3YDc8MfgqjB5gEgAGF/hX8Bfu3+3j9Gv/P/zH/Yf07+8L5kfl/+t77Xf0J/yIB3wPjBk8JDArBCCMGowIn/8n8N/s/+s75dPlb+sT8Hf9OAScDxANZA+MB8P/a/tr+kv+vAJUB6AG4AW4BXgFLAdEAof/E/fb7DvuV+2r9uv+vAf8C5wPHBJwF6wUpBVsDNAF+/6z+kv5p/tH9Fv3B/EX9g/7g/3MA7f/i/u39BP5e/2oAJwHrAVIBAAAQ/yz+R/5D/2n/yv5m/h7+bP1i/d3+hP85/1kAdAEyAVABXAKLArMA+P5C/zn/DP42/ij/l/47/eD8GP1L/Cb6SvdK9TL49wQvGygwojU4KOcRQv9I92/49feI623WXcd3yoPfW/l/B7sE6fnB8n71PgEIDk8SFw3pBh8ILBJFIE0qOClYHKcJcfif7ZPqxOt+6w/o8+TP5h7wpf45C7IP5wv3BEQCFQiOEUIVPRBLB7wA/AB2B4oMSQhY+/Dt3efV6gny5Pas9vnzlPO7+LwCXAyYD30L0wSsAIgASwOOBl8H9AS9Afb/S/8E/xb/GP4A+hT08PAc83L4kv3MALgB+wDvAFsDHwdsCXYItASFAFf+hf65/3kA0P+t/Y/7Jvt1/BX+1v7H/gb/QAD9AcgDeQUzBj4FfwM7AoUBBQGAAJP/Jf7k/G78tfw+/aD91/1P/mL/DQEYAxcFjwYsB9kGoAW0A3sBaP+5/Xr8p/su+wf7RPvy++v8+f3j/nj/2P8gAFcAsgBWAeUBVQLtAgMD2QHz/0T+7vwQ/JD7p/rZ+Qf7Cv47AEcBRwNkBZsE4gFBAFr/AP5J/en8cPvg+cT4xvaj9L/1hv44E48t0jnsLN8RTPuR8lr29fqu8kHd3MonzM7hAP4mC5MCPvHK5jzspfsfDAoULxBDC4EO8xu4Ki4wNSh5FQAALu7D5GTlveqv7E3rB+tH7Uv0EwEYDEEN6QUN/ff80wkbHO0kTx2aD1AEGwHbBpUJmwBc7XPdJN296AP47f8+/EP19fJE+V8EYQ3aDuMHswDEAAcHBg4NEV4NcARr+5P2kfaL+Cj58Pau80zyJPQR+WD/hQPXAib/3/xJ/nMCYQdxCnkJgwUUApcBZQNhBLMBFvwV90L15PYB+1H/fgGtARMCFwQDBwUJqAguBisDJgG+AJ0BWQI3ASL+Jfs/+hL7u/t2++X6x/od/AEAjAWaCU4KrAivBnMF4wQLBFgCFgCD/fP6t/lk+n77lvsl+/r6C/vS+yb+/wBQAjMChAKnA6gENgUMBTADVv9w+036yfvG/ET86ft9+6L6kvvn/VX+J/40AJ0BLgCp/wsBxACc/pL9bQBHDF8iqzSOMMsWk/oG63vpne7m7sjj9dVi1EbiVPbYBI8Fk/n77ITra/aHBh8T1RdsF1AXBRp/Hs0gfRz2EEMBO/Fx5nDmR+/29076Vffy8ojxmfY3/1cDIAHL/oMBbQtfGxwnHCNBE5sEyvw5+3P9VPzk81XroOpR8aT6bQCV/dX0++7I8Mz4YQP5CxEPug31CxgMhw2vDX0JlQAf97rxuvFH9sH8zv9M/Cz2KvPw86L2g/q9/VD+iv5UAtcILQ44ENYN6waA/1j8Rv3y/m//D/5u+zz6IPxH/7gAV/81/A76Vfvt/2AFAwl5CUEHVwSZAh8CoAFAABv+Mvzt+1n9Cv8sAFcAvv6w/Ov8Fv9hAUkEOwefB0sGJwZHBmYEFgFM/XH5kPfJ+Cb7bfx8/F/88PwA/ob+Z/65/goAtgHHAuACcQJBAiUCvwCh/Rn7f/rj+az4fPik+YT6ffqs+kz8R/6FAC8InxpbMrc5GCZRBsTueOmn7o7zFPHu5HjbBd2m5gfxc/MS7nblluIG7cz/xRMcItslgyF/GwkZhxlfGcUV1w55BDb4cPLa9bD8D/1x8mHnJOIv5APvKfzYA9MDTwNWCHYSYx6TINQUZwfA/0kAnwYmDMwMuQIf+OvzN/Oy837wXe4I6zHsXvNA+xYElAZjBuQCyQAbA08FxwmoC+8K0QfwBCsECwJA/7T7IPc58sXwgfOZ90j7s/2t/RH77Pkn/Kr/1wInBVYFqwMrA9AEawYjBtsDVQBh/aX82P2H/4gAigAbABkAnwAxAXUBPgG2AHMA4ADAAWAC+AFUAFH+Kf1x/cX+CwBwADQAWACKAZwDawXJBeEEuQOwAusB7gEfAm0B+f9o/rj8avsT+836JPrl+VT6+/r0/CkAvgExAMr9q/0I/9v/CAA+AW0CDAFL/sr90P+G/TT9wQ0pLCM8wCd3AfHk5N/g7Er8wAB18xvjfd2Z5DXv8vGW7HLjheAn6dX7+BGSIDAhIBfaDUUMyRCAF/QdXyDCGWULm/00+Nv59fne81rr7OaH6CDvd/hsAEEBxflI9ev8wQwEFxkUGQ1XCf0Khw/KErQShgpQ/8r5xPtPAJP+/PdW8NfqZ+pY7tv2F/2x/Qf6ePZG+ar+JARzBs4FOwbWBS4H4QhuCaoIywOE/1T8TfvQ/Lr9sv6a/Mr5+/cF9+z3RvmW/EH/oP/2/nL/EwK7Aw8DMgFDAJ0A2QGgAzsFfAWXA8kAwv6h/kUAfwLbA58DjwL9AVkCnAKjAZD/uv1o/bH+ZwAUAWwAWf+x/uH+uf/MACUCyAPABA4EqwLuAZkBdAEpAdj/Ov7J/cD+eP8L/nv7Wfnf9zb5XP1m/3b+Cf6f/q/+rf4jBRQaUjJ/MjoUI/Hb44/vawPaDC8FhfJJ4VjaCt2h47ro8Ogg5qPnbfIzAvMNJRAzCfb/uf4mCUsY4CNNKGMjcRXMBc79wv+/BRoIfwSX/rT5gPaV9ev1zvOd7n7rlfD6/qMNsQ7yAPfzx/OI/R4KXxR6FoYP2wewBnAJuQlrBdr+8fne+ar+FASLBLv9mPKN6Q3oUu5M95v9Ov/i/CD5kfeM+SD9ygCoBN4Hngn8CtoLEgqnBeQA4/zE+rD8PgFMA+YAhPyv94XzmfMi+RL//ACdAPEA/wHUApkC4QA8/7f/HwLhBHAGQQV5AfX9a/3M/wwD8wSBBIwCuAD3/yoAqADbANsAGwHEAaQCWANEA9EBY/9Y/eL87P1X/9v/8v6S/Wv97v4tAHr/F/5S/oz/of9C/wAAfgBV/lr7p/qZ+9P/hg7oJewuwBdx8oPidvEgC08azxQhAJfpr97L4Lznhu467nbp+eWZ6YLzv/li+ZPy3+739LkDOxXyHjgf/RepDjkI8AcNEIQbUSF/Gz4OQQJp/Fb7EPv2+Vv43vaa9vP5J/4u+cPp496a5Yb4Ago/ETcMBQEv+JT5/QJvDB8Rng6DCy4L8Aw8DtEKwwTj/T/6n/zTASMEGf8+9WzsNenR7L/0cPu7/ID5cfXo86r1xvlo/vUBAwTzBMYF/AZpB4wFyAIkAu0DiwWZBX8E7gHd/cj6JfvC/bD/0v+r/v/8CvzD/JD+IQASAUwBvgBLABQBxwImBEwELwPJAXQBWAJDA/ACLAEr/4b+f/8pAasCDwNTArQBzAHKAWUBygCI/2j+yP75/8z/1v4U/gn98PsM+xT7h/sm/MH7SfvP+yT95QCqC50eJCUfEiPz/+bk+ZIT2SBKFub+R+sy5MPrWvPj+Nz2C+6k5vflW+788s3wL+vs6f7zqAQuEBkOUwVVAPECgAmPEWMZRx48HXgUDwv+BmoLSxDTELAMFwjgBJ7/jv7l/V78EPEv6r3tNvkg/7H6pfLW6M7oTfIZAkYIHwT//Lv4y/zUAwAMfAzsClEHIAakBncJHwtPCdkFHwOjAjsD9AGh/ej4JPiT+TH6gPmX+Jn2QvRx8xX0p/Uw+Ov5UPnB+B/75f79AOUAnQDZASQEvwUsBkYGZgZOBvQFhwU4BUwFlwVLBcsDlwELAAwAHQHlAW0BwP/q/Tr9Kv7V/5kAi/9D/Vz7Gftq/BH+Cv+o/6kA9wGrAiQCMgE4AUsC5wJfAtgByALLA1cDWQLAAQ0BWv87/q39rPyQ+5z7p/0DBp0TfxTHAWLrROu0AQQVmRivCeb1Qes07Xf4q/+1AEb78PCd6mztivU8+A3zcO3u75L6OwQ7BMb8Yvh+/PEFoQ2nDz0OYAwyC54KbwuyDokSuxPBDzgK9wdXCUoKIwpsCWcEQP1l9yv5Pv24/E35jvIV8YXzmvmg/Sb5VfMR7snxvvplAjgE+v1j+sj68QCwBwMJoQcpA3MCtwRjB7wKPwlPBi0C6P97AgcEwwMUADH8ivp9+QL6IvuC+6L5BffC9ir5v/pT+SH31fZC+Zr8pf+/AfABAQDJ/VH+awIfB3kIIQYzA9MCNwURCE8JhwhbBuMDjAK/AqMDbwRvBO8C2ACt/zb/CP8v/z/+BPyc+7z9bP/j/0MAlP9y/RL8WPxx/WD+VP7K/fT+EAB1/oX9DwBrAq8Arf5q/4gANwAKAewDGQmVEhkU0wXy8nvx9wQ/E+oRxAOn81jtD/EL+4j/xP2I+SPybezJ7kz3HPtb9y/z2PQz+o7+jf3S9432Ef3BBoIJ/AbXA7QDkwUgCM0NJhEyEx8OzwkEBiUJvg7lERQRNg1ICT8CdP3o/QQFewYTAsf6i/SP9NH1HfsO+Hb2sPUH9WP1zfOm9/32MPo0+wP89PxC/JT8Xvvp/LwBDAW0B28FrQIbAqkCywXzB+UIkwf1A18BTwCxAUgDPAPaAQ8ATf5c/Rb8Hvmd9775l/yg/M/6APkQ+LT5A/1W/k/92fxa/dT9K/8MAt8EnwVHBLcCkQKcA8cEsQUHBlYFSAQLBEYEmQMZAmEBGAIFA+cCwQGOAAkAHAB/ADsBuAHYAD7/h/73/pn/FgB+/3X99fu3+8z7Bfw6/aX9Xvxm+1j89v1b/v3+P/5e/aX/7AfNEAgM3fyW85/93g+BFbYMPf6S9nv2bftsAe8C0ADg+XXx/u3I87D8Hv7A+Dz01/Tt97f5OPhz9677mQJUBeABsv0h/mMDvwZzBywHvwd4CKwF2QWeCBEPNhH1C2cH1gaXCR8GlgSsBr4NqAz8BY39GPqo/RQBoAIs/c35GvfP9iL2yfY1+i36qvm19MXzY/UD+aX6//p1/Bn/8v4I/cD7hP5vA3AFmwNnALL+H/9uACMCLASXBVsD1v8A/kH/hgGrAlAEqwNXAf7/0f+LAKD/Gf8M/5//eP5U/fb8xP0j/o/9VP0r/Qb+of1T/SL9uf1C/ov+Bf/f/wAAe//Q/kf/tgCiAVoBVwCa/5r/BACUAC8BlQH8AAEAdf+9/1gAtwAnAfUAVwAAAPn/JwD4/9n/0v/w/7T/ff9v/5r/q/+P/4f/hP+v/6P/l/+N/6X/vf/M/+H/+//2/+H/zP/b/wAAGQASAPf/4//o//j/AAALAAsAAAD//yIAVgBBAPP/wf/2/1cAdgBEAPj/z//P/+n/BgANAAMA4v+3/6b/xP/x//n/3v/J/8z/2//k/93/2v/t/woAFgAHAPf/+f8NABwAHwAdAB8AIgAWABYAIgA8AEQALgAcABkAJAAWABAAGAAzAC4AFQD5/+z/+f8CAAgA+P/s/+P/4f/g/+L/7v/u/+3/3P/a/9//6//w//L/9v//////+f/1//3/CQAOAAkAAAD+////AAAEAAoADgAHAAAA/P///wIABQAKAAgAAgAAAAAAAAAAAP////8AAP7/+//6//z//f/8//z/+//9//z//P/8//z//v//////AAAAAAAA//8AAAAAAgABAAAAAAAAAAAAAAABAAEAAQAAAAAAAAAAAAAAAQABAAAAAAAAAAAAAAAAAAAAAAAAAAAAAAAAAAAAAAAAAAAAAAAAAAAA+v/w//D/AAAWABwAGgAOAAYAEwAsADYASABpAGkATQAsAGEAfwBkAFYAZQCxAMMASQH7AW4BtP+D/gQAnAJDA6MBLf8P/nb+ev+mAEkBkQDh/ez6xPrG/R8APv/l/OH7Bv3m/ZL9//xz/dX+/P5+/rr+y/+AAPD/AAB6AXcC6wHBAI4ApAHfAoMDbAN9Ah8C3wJ9A2cDVwIAAp8C9AIPA1sCuwFuAZEBqgEtAZgAh/8y/3L/+v8QANT+nf24/Pz80v3S/SL9Bfyv+4P7aPuo/B/+fv4+/Tb8rfw2/dD98/6gAFQBv//o/Wn+DAHNAkMCbQGCASsBwP9v/1ABbwNgA4YBMgDz/7AAiAGrApwDvAItAT4AYwFkAuYBcwFgAcwByQC5/+T/YgBJAD3/Pv++/6L//P5G/uL9ev2Y/WD+D/+Z/lP92vwC/qX/BwBt/wn/Gf/7/tr+lP/fAKUBcgHHAGcAjQAaAZABhwEVAe0ATgG/AXUBAQB3/2QAiAFQAcH/Sv9L/1//iv+j/0UAWADl/wb/Z/7Q/pn/MwAuALn/Xf9g/zf/kv77/SD+yv4y/2b/dv9O/+T+fv5W/qH+WP8hAHAAKwBuAM8AOAFHATEB9AFBAicCYAGwAAgBOQFjAQkBhABBAB8ATAAhAI//Gv8Z/yT/NP/K/2oAAwDn/vH+XgBuATABawAvAHEAhAA6AIf/I/86/xAAgQDe/3j+p/1R/hv/hP+6/n7+gf50//P/bgBYAB0Abf/s/hz/FgAYASYBRQA8//P+oP9zAJEA/f+i/9//ZAD8/5j/pf9uAHoB2QFvAvkBPgF1AJAASwJPAyQD5gAY/wf/lP96ACkBrAEoAEX90/wc/6oBZgEo/0H91fzJ/Vj+Iv8H/67+sP0z/uj+t/6O/Tv9uv3x/bb98/37/mD/T/70/QD/owDAANL/AABuAPwAqAGJAoEDSAP7AvMCywJLA4QDlAPTAvcBDwKwAm0DAwL9ANL/VADtAJcB6gF3AJv/gf5d/iD/sQD7AL/+PvwC/Ab+HP/g/mn9/Pyd/NH8pP0m/gX+Qv1Z/Y7+2/7Y/jz+9P3m/S7++P99AR0BMv8z/gb/hQAOAd8AzwBZAKoAxADjABEB8ABcASwBEQFrAQ0CrAJvAqYBKQGgAVcCPQILAQoAJQD5AI4BUwFhAGL//P7C/hz/iP/G/7T/4f5z/p/9R/1C/nn/QQBU/4D+hv6y/p3/OgDYAKcAaf+V/lf+BQDSAfQB4QBL/+z+tP+uAJoA2v+e/zoAiwAHAPb/7v9zAMAAbQAfAF3/TP+R/9//KgDY/+3/KwBrABoAO/9D/8f/lACmAGIASAD8//f/x/9qAKwA2wDtAPv/cP8J/4v/gf/u/vn+Nv/R/63/Gf9L/vf9if5b/7n/kf+Z/7v/SgClALAAlgBbAKYAugC6ANoA5gDuAJEAtAA3ASkBPQDv/uT+oP8iAOT/T/+a/xsAfwABACv/B/+x//0AhgESAVUAFwBUAHkAwwAbAQUBPgBC/8z+SP8BAO7/MP+3/sf+5f4u/63//P/g/5P/Ev9w/n3+fv/YAPwAJABl/2z/MgCLAI8A8P+Z/wAAhQDJAB8Arv9d/5L/HwDHACcBlgAAADT/ZP8ZAKAAiABs/7T+YP7i/pj/KQCAADUAFgAcAJMApAA1AE8A3gCRAUUBqQCmAMMA7wBtAAEAqP9F/0v/8f4E/0z/0P8UAH3/K/9i/zMAZADY/53/3v91AH8ATQA9AGUAswAZAEL/5/4u/5z/QP/9/h//ov8BAPL/FABYAKMAkwA0ANb/yv88AJoAXwDM/8T/KABmANH/vP5i/rP+JP/t/mz+q/5p//j/GAAcAHwAEQFbATsB/QAzAdIB4AFBAbkAmwCgADgAqf9o/5P/5/+X/77+Df4y/iv/7f8WAL3/PP/2/uL+ZP9RAFgBsQHVALT/Y/+xAAgCxAEfALb+EP/t/0QA8f+z//D/qf8z/xz/5P+/AG0AOP8W/gP+Cv8VACcApP9q/7T/HgByAMQAtwASAI//AAALAYgB9wAdAN//8v/d/7f/AQB6AHIApv/b/hn/qP/M/2z/Iv8z/xT/Qv/X/6AAMgEFAZ0ANAAzAIUAlgCdAHgATABDAEoAMgCo/wT/0v5O/4r/VP/8/lD/igAVAcUAvP8n/zX/V//M/wkAtwD9ALoASQCx/6z/ef9e/2P/jf8LAOH/cv9f//r/7QDyABgARP9a/woAbgA9AAAAYQC4ALsAKADB//P/+f8AAMn/8P8vAAAAff/z/jT/t/80AEYA8P+u/3H/cf9s/7T/KAAtAA0AzP/b/xAAbQDVAIsANgCu/6r/SwD1AD4BRgCJ/07/tf9EAPn/df/A/p/+HP/L/3MASQCX/w7/Zv9UANQAmAAdAEUA8AArAdAAJwDh/zIAOQDh/2D/OP+B/5L/V//L/rL+JP+4//D/t/++/+H/MQBlAK4AswAvANL/w/+KACIBDgFFAEH/7P7y/m7/7f80APD/Qf/4/iv/0v8+AHMAQgC//7L/AACLAJoAHgDS/7H/RgDkAAABfADF/7r/AACBACAAY//s/vj+x/8oAGQABQB7/zr/9P5C/6L/JAByACsApv89/wMA8gBvAcMAAADI//z/YQB3AJEAKAC3/zT/Gv9a/7f/DwDh/3v/K/9p////7v+d/wz/Vv/q/4QA2wDBAJQAOAD//wAA7f8uAGUAtQDUAIMAEABy/0X/df+Q/6D/Qf8B/+n+XP8pAFgA7f/f/sv+X/9VAMUAnQB9ADwAVgBtALkA6wDOAJwAKQDb/+T/FgBJAOP/Ov/V/vf+Nf9w/5n/v/+r/2L/L/9y/08A5ADDAA0AtP85APgARwGmAOr/vv/X/wwAt/+0/4X/U/8H/7/+C/8L/0v/Pv+E/y4AogDbAE8ATACQALgAsgB1AJYAwwDjANsAQgC0/yL/A/8t/8n/MQBIALH/Cf+y/vj+x//6/9r/kf/s/3oAqwC5AEYA7v/Y/x8AiABJAA4Ak/9m/3r/FgDMAKoAFgAy/wj/Qv/2/38AiAB5AAAAs/9b/9f/YgBKAL3/R/+0/xcAXADt/6v/p//b/0cAMgB2ADQABwC3/0D/rv/+/1IA/v96/6H/7f9yAEwAs/8l/8/+S//q/7oA+QCdAC8A0v8qAGEAkQBYAOf/iv9v/7z/IwAVAOj/q//T//D/4f+0/4T/d/9f/3r/i//E/97/GgA6AEwAQQBJAGcAhACEAHIAbwB2AGoATQAWAMn/hP98/43/kf+F/2z/Uf9m/6z/4v/z/wAADQD7/9n/3f8TAFsAewBkAD0AHQAEAOT/v/+q/6j/uf+9/6j/ef9L/zH/UP+y/zoAxADqAMMAXQAQAA0AHABHAC4ALwBkAKAAowAGAH//Xf+3/wEA1f+j/37/nf/S/+D/6v+k/4//gv+l/+j/u/+5/6T/DQA/AHYAdQAGAKX/av/q/20A1ACTAAoAyf+0/97/2//x/9v/+f8yACIAwP81/wj/YP/Y/ygA6/+a/53/EACZAMYAWwC8/3H/qv8oAEwANwATAPj////k/9//1f/I/9T/yP/U/73/rv/Y/wAAJgAHAAAAAAAEAEYAiwC9AIEARQAPAOH/wf+n/+b/KQBkAAkATv/o/gf/mf///x8A/f+o/3D/ef/S/zIAVwAWALz/pf/8/3EAnQBjAAcA4f/z/xsAEQAEAAEAJQBJABIA0/+R/67/6f8FAC0APgBVAAAAgf8j/zP/iv+X/5T/i//n/1UAVQAWAKP/iv+n/8//JABAAF4AOwAAAPn/HQBoADcA6/+m/8L/7f/h//b/8/81ABAA0P+k/6z/MwBxAG8A/f/i/0YAngCjAP7/X/8D/yr/lP/n/yUA7v+E/0j/mf89AIIAUADG/2v/hf/b/0gAbgBZAP//hP91/8P/RgBtAB4Avf9z/4b/sv/p/xAA7P/P/+T/NwCCAH8AZwAbANv/0v8AAHkAoABJAKf/TP+q/ygAeQBGAK7/Ov82/7r/IgAKAK7/Y/9w/6v/9f8wAEQACgCQ/z3/Q/+h/xQAfACzAIIANwAAAPn/AADy/+z/4/8AADEAVgBbAB8A0v94/2H/qv8DADsADQDd/8//3/8EAOz/yv+g/5b/xP///1cAcQBRABEA2v/R/+z/OQBtAGkAMADj/77/wP/x/wQA5f/L/7r/xP/J/8n/0v/G/7b/nf+S/7L/+f8fABgABgAQAD8AQAAmAAAA5//e/83/7f8lAE8AQQABAMv/q/+0/9//+f/r/9X/yv/V/+T/9/8TAA8ABADs/8P/uv+3/9L/5v/0/xIAAQD//wQADQAKAP//LQBTAGgAZABXAEAADwD3/+H/7P///yUAKQDw/7H/YP9H/1D/bP9//4f/rf+7/8P/wP/S/woAPwBsAGcAUgBDADEAOwA4ADQAEwD3/wYADgABAMb/lv+I/4D/iv+W/8L/4v/n/9r/w//F/+7/MABXAD4ABwDr//r/HgA0ABkA7//W/9j/2//Y/+T/7//0//r/9v/4////BAAAAO3/5//X/77/uP/A/8//z//R/8z/u//B/+b/HQAwACkAHwAYABMABQAoAF8AfwBeABcA+//w////EAAiAB8A6v+v/4n/kP+9/+z/AADV/4v/bP+Z//P/HgABALn/n//T/x0ATgA+AA0A1f+8/8f/6P8qAGQAYQAhAOH/wf+6/8v/5P/w/+r/6v8AAAAA6f+8/7L/xv/j/woAFAAHANH/o/+r/9f/HAA3ACgA7f+4/6//xf///yQAMgAUAPH/5//n//v/AQAGABAABwDw/9f/6v8YACIAAgDb/8P/zv/s/xEAFgD1/8//xP/5/0AAZQBAAPb/0f/U/+7/DQAaAAcA1/+//87/5f/6//P/2/+7/6v/v//q/w4A///B/5v/p//a/xwASQAuANr/k/+Y/83/BwAeAP//vv+P/5j/wP/6/xoAHAAVAPz/8/8EABwAIgATAAcAFQAoAB8A9v/J/8D/wf/V/+3/8//7/+7/1f+9/7H/wP/X/+3/AAAcAC0AHwAIAP3/AQANAAwADwAeAC0AJQABAOL/1P+//63/vP/V//b//P/h/8D/pf+q/7r/3f/7/w4AEwDy/9H/uP/T//7/CwAAAOf/9v8LABMAAADe/9P/0v/0/y4AawCAAE4ABgDS/8r/7/8RACIAAADK/7T/w//u/wAA+P/b/7f/tP/R//f/BwDt/8T/vf/p/x8AOgAnAPf/xP+4//D/OwBzAG4AHwDM/6b/0v8aADkAKwD2/8D/rv+6/9j/5P/k/83/rv+T/4X/nP/J/wAAEwAHAPj/7P8HAC0ARgBAABAA7f/j/xAAOgAxAA0Ay/+c/5L/t//w/wEAAADZ/7r/uf/R//f/DAAOAPv/5f/o/wMAIQAqABsABAAFABkAIAANAPv/8P/p/+D/2//W/9D/yf+9/7X/vv/P/9D/yf/S/+H/3v/R/93///8VABQAAQDu/+r/AAAfAC4AKwAfAAUA5f/Y/+X/+f8KABoAEwD3/9z/1v/h/93/z//J/9X/8P/q/9D/wP/G/9b/0f/a/wAALAAsAAEA2P/Q//P/HwA8ACEA+f/m//3/LQBAAC0A+f/A/67/xf8AACAAGgD4/8L/q/+0/9X/2//I/8P/zP/u//7/8f/W/8z/5P/x//T/8v/2/wEADQANAPf/2//b//v/GwAnABsAAwDy/+f/6v/w//X/9v/t/+H/z//F/9P/4//t/+T/2P/n/wAAGAAOAPH/6v/z/w0AHgATAP//4f/k/+7/+f///wAABADy/9D/uf+6/8b/yf/J/8n/1P/m//r////s/9L/wP/Q//z/JAA9ACwAEwD///P/+/8FABAAAADe/9X/5v/8/wQAAQDt/8r/u//S//j/BgAAAPj/+P/8////AAD///n/4f/G/8T/0P/q/wAAFgApABkAAQD3/wUAEwAAAOj/2v/g/+3/9v/6/+f/6v/2//b/5//b/+3//P8HAAEA/P/2/+3/8P/t//P/7f/r//T//v8GAP//8P/c/9r/6v/2////BwAUAA0A+v/q/+r/6//i/9X/0v/a/97/3P/n//b/+f/t/+L/3v/n//7/BwAKAAAA/P/2/+//9//8////+//3/wAA///2/+7/7v/q/9X/zP/R/9//7f/2//X/6v/f/9r/3v/i/+n/7//0//v///8LABwAJQAaAPn/7P/2/wMA/v/f/9v/5//z//L/7/8AAAIA9v/d/8v/zv/P/9f/3P/Y/93/5f/z//D/5P/j//D/CAAcABUA///z/wAAEAAQAAQA+f/t/+T/5//t//L/8f/p/9z/2//r//f/8P/g/9v/2//a/+D/8P/5/+3/3P/J/8z/3v/2////8v/y//b/AAANAA8ADAAAAAEADAANAAgAAADz/+L/5f///xAABQDt/97/4f/j/97/3//m/+H/2v/f/+n/5//i/+j/8//4//b/+f8GABYAEwAEAAAACgARAAUA+f/7/wkADgD9/97/zv/V/+j/9P/y/+v/6v/p/+f/7v8AAAkAAADt/97/5v/9/w0ACADt/8v/uv/B/9X/5P/i/93/4f/n/+r/6v/q/+f/4//q//f//v/+////BQATACEAHQADAOv/5P/v//z/BAAQABoAEwD7/9//2v/y/xAAHwAPAPP/2//U/9r/4f/h/9j/0P/V/97/5v/s//D/8P/y//z/AwADAAAAAAAAAPz/+v///wQABwAAAPP/5P/n//z/DQARAAcA9f/h/+T/+/8IAAQA9v/m/+D/5P/q//P//v/2/9f/vP+7/83/2v/S/8D/uv/G/9b/4//w/wAABwAHAAAA8//v//3/BwABAPz/BQAcACAAEAD8/+3/7P/1//z//v/7//T/6v/f/9n/3f/q//X///8BAP//8//t//L/9f/1//P/7f/i/+P/8/8HABgAGgAIAPP/7//8////8P/d/9j/3//q//D/9v8AAAcAAAD8/////v/w/+f/7//2//T/8P/y//P/8//3//r/8f/h/9j/2P/a/9n/2v/f/+j/7//r/9//3v/u////AgABAAAA/P/x/+v/8f/+/wQAAgD2/+P/2v/k//v/BgABAPj/8v/z/+3/2//O/9T/5v/t/+f/4f/i/+H/3//g/+T/7P/2//r/9P/s/+j/5//t//r/AQAAAP3//v////v/+P/7//////////7//P///wQAAgDz/+H/4f/v/wAADwAKAPj/6f/t//X/8//t//H/+f/8//D/3v/W/+H/8//+////+f/z//n/CgAYAA4A9v/b/8//1//o//z/BgAEAPT/4f/d/+r/+/8BAP//8P/e/9T/1f/h//b/AwAFAP//+P/3//L/6P/k/+T/5f/m/+v/8////wUABQABAAAA/f/x//D//f8CAP//8v/o/+T/4f/h/+T/5//n/+b/6f/p/+H/2f/b/9//4P/f/+T/7P/2////CgAUAA4A/f/u//L///8BAAAAAAD6/+7/4v/h/+3//P8AAPD/2//Y/+r/AAAHAAAA5P/M/9D/6P/2//L/7P/t//D/8P/r/+r/8//6//n/9v/5////AgAEAAAA+//2//D/7v/z//T/7f/g/9j/2//n//n/AQABAPn/7P/l/+j/7P/t//H//f8BAP//9f/y//L/8P/u/+3/8P/5/wAA+P/q/+L/6P/z//b/9v/5/wAAAAAAAAAAAwD///v//P///wEABAAEAPj/6f/h/+X/6v/s/+r/5v/j/+T/6P/n/93/3f/n//T/9f/3//b/6v/V/8//1f/a/9v/3f/n//z/DQAQAAUA///5/+3/6v/4/wUACwAEAAIABgAHAP//8//w//H/5//d/9//8P/8/wEA/f/0/+j/8P/3/wAA9//u/+X/8f/z/+3/4v/n/+f/3v/b/97/4//i/+f/6v/r/+H/3v/q/wAAEAATAA4ACwAMAAcA/v/z//f/AAAFAP//8//p//D/+f/7//D/7P/r//D/8P/s/+H/2//f/+n/7//2/wAABwALABAAEAAGAPv/8P/k/97/4f/r//P/9//z/+f/3f/e/+j/8P/s/+X/4//k/+r/9v8CAAYA/P/r/+T/5//t//H/9v/8/////v///wIABwAAAPP/8//9/wAA9v/n/+b/8P/7/wAAAgAAAPH/4P/b/93/3v/l/+//8P/r/+f/5//o/+v/8//5//n/+f/6////AgADAPz/7//q/+7/9f/2//P/8//4//f/6v/e/9//6//y//D/6//n/+T/5P/l/+f/6f/t//P/9v/y/+7/8////wEA+f/r//D//P/5/+v/7P/5/wAA/P/2//j/AAADAAQAAQABAAAA/f/y/+f/5f/w//n/+f/0/+7/5//g/+H/4f/Y/9X/4//z//P/6f/t//v/AAAAAAAABQAKAAkAAwAAAPv/9//y/+3/5v/f/9r/2//j/+n/6//q/+b/3v/b/+H/6//v/+3/6v/z/wEACwAJAAMA///1//H/+P///wAA///5//b/+f/7//n/9v/y/+3/7f/y//b/9v/1/+7/6f/t//X/+P/7/wAAAAD0/+L/2f/e/+v/+/8AAAAA///4/+3/5v/h/+L/7v/8//n/5//Z/97/7f/0/+j/1f/S/+f/AAACAPD/0v/J/97///8PABAABgABAAIABQAEAAAA/P/2//D/6//n/+r/8P/5//7//P/z/+n/5v/q/+//8P/t/+//+v8EAAUA/P/t//D/AQAWABYA/f/b/8//3v/2/wEAAAD2/+z/6v/w//X/8v/u//P/9//z//H/9P/v/+D/1v/u/wAA7f/g//b/DAD//9P/5P8aAB4A8P+7/+T/FwD0/wEALABbAH8Atv/I/s7+HP+XABQC//+k/bT+mQDAAO7/BABaAC4AvP+2/2kAZwDq/8H/EwDSAP8AGACZ/xkABACu/+f/2P+L/43/yv8HANT/R/8+/8j/KgDk/3v/2P8oAMn/ov/L/9X/3f/V//L/yQAUAU7/wP6zAGMBVwAHANT/4v+1AKkAGQFbABb/df8x/8n/NADY/37/av+i/7z+DP8AAAoA7f/P/+v/6P+r/33/TQCzAPb/zP9gAHgAFgDk/97/JQCo/6v/rQCIAK7/PAAjAa3/Nv9z/2wAbQDt/tP/wQBRAb/+5/4KAJD/wP99/1gAaADD/yj/Zf+XAI8AMP9W/3wAUwDV/zz/3QBNAAf/DwDA/2IATgB7/+3/NADr/7f/wv+HAOz/hv/CACYAMwA1/7v/GwA2AEAA3/3sANMBFv9F/ngAOwF5/47+uP+4AMEACwF9/tj/uAD3/+3/zf1wAXIA8f4GAIr/QQEX/2L+AACoAfX/0v7EAaD/WP+X/34AjAH6/HwAWAIN/73/wP77ABcAKP8xAJL+CAJFAKj+xQC2/rAAhwCE/tH/yADLABb/NwDJ/yn/RAHt/4r+ef5QAZQBBP/S/5v/bAAeAGD/LAHv/zgA+AAx/2cAg/6g/4sB7v3LAQ3/qP37AgL/z/4JARIBpf37/vsCvf+D/l7+aQBJACcA2/8f/1kC8f3x/VUCfwGe/VsAKQEi/mEBeQFkAFb9owFe/rMBz/86ABwBV/1ZAdH+eQDK/7n/6v7j/vMABP/1AZ7+lwHA/jX9NQLcAab/1fxTBBj/3PyUAQsBDf/I/mcB/gBTAR/8VwAwA9/+H/2VA6z/Ev1fAvoAJ/4T////eQD1/8f/LAAjAXT94P4HA1n+Wf/tALv/8AFb/iIAOAC0/4T/VP6Z/wACFQPD+5j/2QLo/oP8ywPD/7z+cQA9AQoAEQBh/VoAOQL3/EYAxQMi/nb9cAHCAGj9hwA+Aa7/JgD4/un/vgHR/iP+JAK5ALH9ZAAbAor/6P5CAKj/fP9q/zMA5AC8//n+AAAzAz3+wPt7Au8CHP5s/jsDOgCL/Mv/vwMu/ov+Fv91ATcAsP3nAJkB3v+g/NsAgAKYAIL8HQGIAfb/1P4yAHQABQHM/qD+swLD/jAAhQBR/rn/uAF4Aen90fy8AvMCGP4p/dAB0AE//vv9VwBfAcD+jP9JAEsBkv7b/+wAGABp/fX/ZAKq/lIA1P5BAfoApP1gACgARwH0/7//N//dAB8A9f3L/xwAEwFD/1cAtAD8/yb/b/9m/33/uAB1AR/+ZwDvAUX+UwCx/zX+gADVAKkAJ/+7AIUAHf9X/6v/ngDK/yABvf82/x0BFgAj/x7+KgFmAZL+0f98ABYAZ//i/ocA/wDF/tf/3gBv//r/hv9I/8kAzAAt/y4AggD6/kv/2P+gAOr/GwB4/6kA5f9F/xwAHADw/3v/uv9oADMBXf+f/8D+lP9QArj/1v5iAFcBSf4A/xQBrAFs/in+EQI8Afb+SP6LAH7/e/+zAIcBewCg/hz/GAFsAJv+rP8mABsAxv8LATcA2f4r/m3/bgEoACv/vgA+ARMA0f2VAM4AOf+P/gIBFwFs/rX/LgDVAB3/Xf8rATUAwf9v/1cACv+c/xYAY//b/4ABuQCC//3/P/5WAMr/TABsABsAwQBu/0//HQD/AB7/av/6AGQAFAF+/8j/QwBa/07+9P+UAsn/+P2TAGQBvP7r/XX/1wF5//T+lwBoAcv/uv8u/6z/tQAAAEn/wP89AYkA0/7j/kwAgABN/vv/pgEAAG0Ao/71//v/nv/h////7gDAAFEBQv5+/9v/5f15ABAA2ACU//T/dAAl/3kAe/8/APkA0f8KAHYAxv+i/03/PgAqAHYA+/9I/3kAgQBA/57+TAAKAB7/+P94AKYBFQCH/3j+SQCOABb/4/+RACv/gwCpAG//T/+KAAAAeP4LAbIBtf8e/yYBKP8X/8L/rf+iAA0A4f8p/xMBtP/j/eL+CwKtAJr+EgB6AaMB7v3o/SMBQgH+/pn/NAA6Abf/MP9P/4wAY/+z/i0CVQHM/vX+2QA4/0f/gQDYADr/w/90Adn/kP+p/97/df5T//UAfQGJ/1z/UAC5/yX/Qv9VAGUBpgBr/twAgQDz/q7+XADgAFH/vv/RAMT/agDr/yb/SgCi/xf/1P+EALoAKP+n/2QAW//Z/+n/kv+LAJsBTgA5/t4AhQHW/af9cQA8AlkAn/+4ANn/wf8m/nT+FAJKAMz+5wDGAC8A7f4u/6sA0f9H/5z/2AEIAUv+NP94APUANv6s/ugBGgHG/wr/0QBUAGb+KAAEAGD/nABMAN3/tf+oAAsAa/1p/wcCrADI/8r/CgBv/639VwAjAfMAdf77/vwADQGw/0H+gf/zAIz/RP9OAaEBEf8l/3AANADJ/8P/kACX/3f/GQEeALj+3v58AIwA3/4o/34BDgE1/ysAuf/Q/i7/fQCsAV0AEP9D/8IA7f+L/qkAYgF8/wv/HADMAEIAvP7k/zcBt/+I/xoBvgAF/2f/Yf+0/1H/Lv9wAdf/P/9SAKAAXQDs/S7/AwLqABP+rf90AsD/s/1p/2gApP9q/wgAYQEUAX/+bP6sAFMAqv4uAGABrwDj/+b/zAB+/2b+N/+iAJgAn/+eADkAV/+u/1//df8XALoAgAA0ABkBjQA2/pf+QQDp/wUAiQAdAIcAWwCy/iv/x//S/8P/jv8+ASkB9v9I/3v/rQAM/9z+zQAuAZcAPP8uADwA0f+M/qb/lADs/8P/UACvADH/pP85AAz/u/+CACgA3v9HALr/jf9AAIIAZv8W/ysAwACSADH/aQAkAL7/gv8y/3sAzwDw/6//EwDV//P/sv8DAAAAtv+F/w8ANgDt/9r/KgBzAOX/Uf89/6AAfABw/yv/nQCu/5v/CAAhADQAQP8FAEYA6v9O/1oAeQCq/7T/KQB7ACIAY/+Z/0EA5f8QAL3/BwBkALL/Wv++/+EAFgAn/84A9v+vAGf/oP/5//L/zf/L/z8AIwAoADf/hv/j/1kAUf+u/2sAAwECAHL/RADx/2r/Dv+hANMAWP8BAE8AfABi/9L+vv9eANn/Ov9QALsAlAB6/xX/QwDc/0D/tP+vAP8AYv+4/ucAXwDj/qz/2/+CABcAsv9eAH8A6P89/9z/5/8sAAAAwv+SAPj/3v+6/6v/qf+m/73/XgDJAD4A/v+l//P/l/8WAET/XwAiAHYATwD2/97/O/+D/zgA3v8OAM//RwBqABQA4v+o/2MAGgBK/ysANwAbALr/e/8LAAAAv/+Z/zEAQAA0AN7/of8jAKL/g//d/2cAJACe/6j/zQAfAE//BwDo/9r/hv9BAIcAuP/z/w0AWwCJ/y7/BQA6AMb/fP8eAH8ATACT/5P/SADq/1//zf9SAJQAq/83/7sAKABg/7P/wf8KANn/uP9eAKwAHAC3/7j/7//G/w4AZv9sABYAUgAuAOf/1P9M/4v/PQD5/xMA0/88AGQAEADj/6j/YwAaAEr/KwA3ABsAuv97/wsAAAC//5n/MQBAADQA3v+h/yMAov+D/93/ZwAkAJ7/qP/NAB8AT/8HAOj/2v+G/0EAhwC4//P/DQBaAIj/QP8NACsAtv+h/yYAUgAxAN7/m/86AA0AjP/W/xwAYQDZ/2//VQAPALf/q//r/ygA0f8QAPn/agCZ//L//v/A/7MA8f/+/1wAtf+0/7T/+v9fAE3/SgBqAAgAwv9E/xQAa//p/0AATAAOANP/2//b/3r/5/8AAK7/KgD3/2IA3f8VAA4Ac/+v/8v/BwAEAN//eADd/6v/eP/f/1kAvf/k/9L/TADn/8j/9P8xANb/yf/f/x8A+P8IABQA+//n//r/4P8PAND/k//P/y4ABgC9/yoAEQAiAPX/df/8/y4AAACR//7/mgAQAG3/uf/w/xkAHQBd/x4AmgCy/9v/9P/z/ykAqf+R/87/kQC9/xIACwAcAPT/hv/O/+X/nQDn/yoA4P++/8D/qP/b/8r/NwABAOP/HwCD/xkAyv/F/xQAwf9xAIH/bQDs/5v/IwDe/ysAxP/+/0YA8P+x//P/FwDn/5H/KQANAO3/BwCz/xQALwBs/xkAAQDt/yAAuv8rABMAxf+s/xIAHACc/yEACgDV/9D/FgD9/wsA9/+d//P/BADX/3f/RgDV/xMAyf+n/zEA8P+c/wwANwDi/+v/UgCm//H/AQDx/83/0v9BAPL/8//g/yUABgCg//D/BAAhAMv/3f8QAPv/CwDd//n//P/m/wMA4f/0/8b/HgDK/xkAMQDH/x4Az/8QAPT/wv8AAOf/CADW/7X/SgAPAAAA5P8FACUAqv/B/wYAHAB4/wcAQQD5/9//+P/L//D/jP/Z/yIADADn/8n/TwC+/wAAtP+5/xEAAQDj/yIAMwDV/9n/r/8uALz/vf8xAC4A9P/t/9v/GQDW/+v/4f8cAPz/wP8dANX/FwC+/zoArv/h/1sA4v8QAKv////g/8b/FgA4ANv/2f9kAOr/tf/D/xYA/P+A/yMAEwBKANP/sv8sAHL/SQDY/+r/AQAXACcA5P8pAMP/CACx/8P/3v8GAOf/5/8EAOv/MwDB/9j/vf/9/9f/x/8XAOT/PgDy/6/////V/wkA8f/Y/1EA9f/h/+T/7P8LAMP/vv/S/wAANgD+/x8ANQDJ/8b/vv/k//f/xv8oACsADwAeAOT/7f/i/4r/AwCn/xoA+//T/1QAEADP/7b/8//G/43/BAAOAMH/LQAAAPn/2f8LAOr/zP/8//P/BQD3/yAA8//H/+P/BwDm/+3/w//5/yoA7v/z/9b/AwDc/+D/zP8AAC0Avf8BAPv/FgD1/+7/+f/3////5P/z/wcA0v/L//D/IADZ/wAABADF/wAAtv/S/97/CwDz/xkAGgDi/93/4//T/93/3P8PAO//+/8EAPb/2//R/+f/EAD0/8//PQAKAMD/7////wAA2//M/wMAIgDq/93/7v/p/+3/sf/c//n/1f80ANT/DADt//H/EwDk/8T/+f/5//D/8v/y/yUA/v/O/xsA4v/n/wIAq//o//X/zP8AANz///8FAPb/DADD/9X/vf+4/+3/4P///+r/AADg//D/7f/D//D/wP/8/wAA6P///+H/GQDs/9//6v/F/xwAtf/4/+//HgA0AAAA/v/1/xAA6v/b/+f/MQDq/xMAEwA+ACUAwP8EAOr/3P/m/+3/7//6/xEA5/8VAN3/2P/0/8b/8//h/+X/+/8rACEABAAIAN3/2//K/8X/8P8KANL/OAAAAP//3//X//D/8f/g/8P/IgAAAA8A8v8LAPn/vf/L/6X/AAAiAMD/CwD5//n//v/V/wIA7v/z/wEA/v8HAB8A8P/c/xMAz//p/+T/2P8JAMH/8//8//z/BACq/x4A///K/wQA1f8kANL/4f8RAP3//v/Y/wAA9P/z/6//8P/L/wYA+P/G/xcA+P/Y//D/z/8MAOD/zv/q/xwA9v/G//r/9v/W/93/CAAJAPD/+v/y/wAAAADb/wQA7v/L/xoA4/8MAP//zf9BANX/zP/2/9r/AADT/xkADADe//X/zP8lAAAA1f8AADQA3//Z////8v/e/8n/7P8TAPz/w//d////4P/M/wQA6v8KANn/3v/v/+n/5f+1/wYAAAD8/wYA7f8eAAcA7v/w//D/5v8YAO//5P8OAOP/6v/l/wAA8P/t//v/8v8EAMn/FAAHAND/HADt/xsAwf/z/yEA8f8DAOL/EAAZAMX/9f/a/8//7v+v/wQA0P/S/xQA+f/a/+3/7f/k/9D/2//0//X/5//b/wcA7v/l//P/AQDd//P/4/8EAAQA8P///+3/AwDT/w0ADwDL/xwACgAAAPD/5P8AAOz/9v/d/wEAAADY/xIA5v8AAOD/AwDc/+L/z/8HAPT/AADe/+z/GADP/xwA5//4/+3/4//p/+H/8P8GAOH/9f8AAOf/GgDH/xAA3//P/wAA8/8AAPb/+v/n/wIAJQDW/+r/BQDk//v/6v/z/xIA8v/p/xYA/P/b/+f/6v8LAM3//v/x/xgA1v/t//j/6v/y/wEA9P8OAAEA7f/3/+n/8//D//3/zP8DAOb/3f8JAPP/7v8CAOT/8//l/9n/CgDv/9L//f/+/wQACQDy//n/DADQ//b/AwDS//H/9P/w//3/4f/s/+3/8P/5/+z/DADq/w8Auf8NAPP/3v8HANL/OQDS/+n/+f/h/wAAw/8AAOz/4v/5////9v/0/8T/6v/f/+f/yf/t/w0A6f/w/wQA//8AAND/8P8RAPT/AwDo/y0A5P/4//D/9//o/+j/+//n/xIA2/8AAPj/7P/h/+r/2//x/+b/2/8fAAAAzf8BAO///P/y/+T/FgDi/9z/8//e//7//P/5//z/3P/q//z/6P8JAOL/8v8HAMf/BQDh//D/AADN/wIA6f/2/wAA5v8BANr/CADn/8//DgDV/w4A1P8ZAPr/3P8BAOv/4//0/+f/9v/5/+b/9v/m/wAA8f/k/wUA0f/e//X/y////9D/9P8XAL7/AgABAOr/AQDe/xEA4//3/xAA7/8rANv/BwD6/8r/7f/o/+T/5f/r/wAA2P/3//P/2/8NAMz/BgDq/+f/0P/5/wAA2/8EAO3/7P8AAPb/DAACANj/9//Y//b/9v/i/wAA4f/n//L/5/8HAPP/0f8GAMT/4v/l/+f/8//c/wUA1v8VAPb/6P8PANv/+v/0/+j/GADx//7/3//b/wgAw/8WANn/6v8HANn/EADi/+T/7//8/wAA8P/5/wEA+/8BANH/CwDk//n/8f8NAAkABQD//97/AgDc/+r/5f/7/8z/BAAAAPr/+P/z/+r/6v/k/+f/HADP/woA2/8AAP//zv8JANX/5v/n/9H/+//V//z/5P/h//b/x/8BAOn/3/8PAOf/BAD0/wAAHwDo//n/7f/m/wgA+v8CAAAA4P/l/+r/AAD6/+L/7f/y//P/2P/t//X/zv/z/+r/6f/2/wsA9v/z//v/+/8OAOT/BwDj/wAA5P/0/wQA///P/+3/z//2/+j/2f8IAPH/7P8KANn/9//i/+r/AQDe//z/6P8KAO//EwDw/wIA7P/r//r/8P/x/+7/6v/z/97/9P/k/+7/+P/i/wcA5P/g//v/1f8NANn/+//4/+f/AAD7//L/AQDs//L/5v/p//P/5/8AAOf/+P/t/+r/2/8JAP//6v8fAPz/DgDt/+z//f/f/+//6P8FAOT/9f/2//D/AADw/wUA9v8AAPX/9f8AAPv/9////+H//f/2//X/CADq//X/AAD9//3/5v/w/97/5//4/+L/8v/2/+X/9f/o/93/+f/j/97/6P/h//P/5v/0//b/3f/5//P/9//4/+D/9P8EAO//6P/n/+f/9v/s//T/8f/5//j//v/h////6f8WAAkA4/8RAPb/CgDt/wAA9f/n//b/4v8BAPb/9f/r/+3/5P/q//f/6//n/+X//v8BAO//4//2//T/5P/0//L/6//e//P/8P/0/+r/9P/z/+H/4f/y/+f/3P/W/+X/7f/p//P/+P/1//n/5P/o//X/2v/1//n/6f/s/93/4v/o//D/2//2/+z/7P8AAPX/AAANAPP/+f8HAPn/AwABAAQA+/8BAAAA5/8KAOv/8P/8//7/AADe//H/9v/8//b//P/0/+X/5//n//L/7f/z//3/+P8HAO3////4/+f/CADk//b/7v/q/wYA5//z/+P/7//5/9z/8v/w////+P/p//f/4P/3/+///v8AAOf/AADt//3/7f/2/+//3//v/+X/4v/v/+T/5//2//f/+/8FAPj////t/+r//f/w/wAA///6/wAA9v/8/+3/9P/q//f/9v/8/+j/+v/2/+v/6v/h//v/5//6//P/5P/i/+b/9//z//D/+P/k/9//7//c//D/3v/m/wAA8/8VAAEAAgD9//L/AQDy//P/2//r//P/+P8BAPH/CQD+//D/BwD9//n/5P/w/+L//v/l/+z/+v/f/+r/5P/5//P/4f/t/+X/5v/r/+v/AgDt//n/8v/w/wEA9f8AAPH/8P/j/+f/8v/n//H//P/t//f/5f/v/+j/4v/3/+3//P/0/+j/8P/l//L/5//1//H/2f/w/93/6P/1//L/BgD0/+7/+//h//j/6v/n/xUA5/8EANn/8/////b//f/s/woA8f/p/+f/8//3/+3//P8NAAAA+f/u/wAA6//S/9X/y//S/9//2//t//P/5f/s/+n/9v/2/+P/8f/w/+D/5f/5//b/8P/q/+j/7f/j/+z/9f/w/+3/8P/5/+r/6v/1/+3/6P/m/+v/9v/z/+b/9f///9//5P/w/+r/5v/k/wAAAwD8//b/AAAFAPn/AQAAAAAABwD5/wIA9v/w////8v8AAPD/9P8BAAAAAAAKAOn/+f/k/+H////k/+r/6v/Z//D/9v/t//T/+f/t//j/7v/u/wIA6P/y/wEA9f/2/+H/9//9/+X/8f/h//H//P/x/wMA+f/x//L/7v/2/97/4P/w/+//8f/p//D//v/2//T/8f/p//L/6v/y//n/6P/t/+T/6v/9//P/+//w/+7/+f/n//3/8f8BAP3/9f/z//r//v8BAPv/+f8BAAAA7v/r//n/6f/3/+3//P/v/+n/8f/z/wEA+P/5/+3/8P/z//n//v/8//n/6v/h/9//4v/s/+H/8v/h/+r/6v/0//n/7//u//T/2v/b/+T/8P/4//b/9//z//3/9v/w//L/7P8AAOr/9v8AAPL/AwADAAcABwAAAAIA9f/s/+j/6//z/+P/8//t//r/4v/9/+L//f/0/+P//P/j//b/3//8/+r/7//w/+f/8f/i//b/+P/z/wYA5P/t//D/3//n/9T/5v/s/+//AAD2/wUA/P/u//D/2//u//D/5//0//H//P////n/9v/o//D/7//t//n/+f8AAP//+f8EAPn/8P/w/+r/+f/y//H/9//z//H/7f/z//P////5/+v/+P/x//P/7f/j/+T/2//m/+r/6f/q/+b/7f/5//b/+//4//L/6f/n//b/6f/+//T//v/6//3/AAAAAPv/6v/1/+v/6P/q/+z/4v/w/+3/7v/z//L/9//5/////P/0/+//6v/2//j/9P/4//v/8P/y/+3/4//n/+b/5P/g/+D/5P/q/+7/7P/0//D/7//u//D/+f/5//z/+f/z//3/AQAEAPf/+v/6/+X/8P/h//D/6P/w/+7/8f/x/+f/6P/s/+//5//w//H//v/v//H/6//z//X/7v/2/+3/8//2//v/7f/h//D/5P/x//P/9f/z//D/7//q//f/8/8AAAAA8P/8//j/8//n/+D/5//w//T/6v/p//f/+f/z//n/7f/l/+f/4P/k/+H/4P/v//n/AAD5//n/+v/z//H/5P/w//v/+P/0/+b/7f/t/+r/6v/n//L/5//g/+L/5//y/+n/9v/4//H/8P/w////8v/5//f/9f/t/+n/8P/y//X/9v/0//n/8f/x//b/AAAAAPj/+f/+/wAA+v/9//T/5//t/+b/9f/5/+z/6v/k//r//P/8/wAA/P/2//b/8f/8//P/6v/q/+7/7v/t/+7/5//k/+3/6//n/+H/4f/v//j/7f/g/9v/3v/q/+//6P/t/+z/7f/u/+n/7f/o/+v/8//x//X/7f/q/+3/7f/2//X//f8BAPP/8//0//j/9v/r//n/9P/+/////P/5//L/9P////b/+f///wAA/P/9/wAA//////X/4P/k/+f/6P/z//j/AAAAAPz/8v/w//P/5//q/+f/8v/6/+3/9f/8//z/5//p//n/8P/q/+b/8f/8/+//5v/t//n/+f/0//H/9P/z//D/8//t//v/9v/9//b/7//z//f/AQD///L/6v/q//r//v/5//r/+f/3//T/+P/5//D/6v/s/+3/8P/2//j//v/2/+//5//s//r/+P/8//P/9f/z//X/+f/4//b/8//z//r//f/9//P/7f/w//r/7v/0/+T/9//y//n/9//s/+z/3v/r//D/+v/r/+3/8//5//D/5f/p/+7/8//2/+3/7P/s//j////8//f/9/8AAPz/9v/z/+7/7v/l/+r/6P/r//P/7v/4//n/9P/r/+P/7v/u//L/+f/3//n/9v/8//3/8//0//T/+P/4//P/+f/5//P/6//m/+r/6f/q//H/8//1//r////+//3//v/9/wAA///1/+b/5f/x//X/+f/z//X/9v/u/+3/7f/4//f/8P/2//v//f/z/+r/6f/h/97/5f/l/+r/5v/h/+z/6v/q/9v/3//k/+T/5f/w//L/9//3//f/8f/s//D/8//w/+r/7//2//r//v8BAAEA9P/y//P/9//o/+b/5v/o/+X/7f/4//7///8AAAMAAAD5//b/+f8BAAAA+f/6//z/AgABAP///f/2//P/6v/s//D/7f/o/+n/7P/r/+z/8v/4//L/7f/o/+7/8//t//P/9P/2/+3/5//q/+T/6v/p/+z/7//t//b/8P/5/wAA+P/0/+3/9P/x/+//+P/w//P/9v8AAP3/8//4//r//P/x//T/8//4/+r/8f/3//D/6P/d/+b/6//u//T//P/6//n/6//v//b/8//r//L/8v/q//X/+f/+//b//v/5//L/9P/2//X/8f/t//T/8//2//X/9P/1/+//5//o/+//8//z//X/9v/1//D/8v/t/+f/6v/u/+r/7v/s/+f/6v/k/93/2f/h/9z/3f/Z/+L/4f/m/+n/5v/k//L/+f/6//7/+f/t/+3/8f/0//H/7P/z////AAACAAMA/P/6//r/7v/r/+3/8f/6//f/8//2//P/8f/z//b/AAAAAP//AQD8/+//8//8//7/9v/w//P/9f/z/+//8f/2//b/9P/2//T/9//2//f/+f/y/+7/7P/k/+T/3//Y/+r/4f/k/+P/6v/q/+T/5f/l/+P/5f/q//j/9v/q/+r/8//5//X/8P/t//H/+P/9//j/9v/z//P/AAAAAPz/6//l/+H/6//p//X/AAAAAPv/9v/6//v/+//t//D/7v/y//D/7f/v/+r/8v/z/+//8//l/+f/6//t//b/8P/v/+b/5//l//D/9f/0/+7/+v/4//D/4//i/+T/6P/v/+//9//0//b/5v/o//P/9//w/+n/7P/2//D/8P/2//j/+v/4//z//P////f/8v/k/+z/8f/z//T/7v/z//P/8P/z//H//f/5//n/8f/x//P////+//7/+f///wEA+f/z/+n/6f/z//n/AQD7/+//7v/r/+//9v/4/wAA/P/3//n/8P/v//D/8//5//X/+f/4//P/7v/t/+3/5v/e/+D/6P/r//b/+v////j/8f/1/+v/7v/q/+//7f/p/+f/5//l/+v/5P/n/+j/8P/v/+r/8//1//P/6//x//T/5//t/+3/+v8BAP///v/0/+//8P/2//r/+f/+//r/+//5//n////9/wAA8//5//P/8//1//n//f/3//f/+f/7/wAA+P/6//f/+//6//z/AAD5//v/8//y/+r/5//s/+j/6v/o/+r/7//z//X/8P/w//b/8v/0//P/7v/m/+7/9//5/+3/6f/t/+n/4//i/+j/7v/t/+z/6v/y//T/9v/r/+f/4P/f/97/4f/h/+P/7f/0//L/8//6//n/9f/z//P/9P/z//P/9P/6//P/7//w//j/+f/8//b/7//0//r//f/9/wAAAAAAAPv/+//6//n/+f/7/+//7f/o/+T/7P/2//b/+P/2/+f/6v/r//D/6P/t//X/8//q/+3/8f/1//H/7P/u/+v/5f/v/+3/7v/s/+3/8v/w/+r/6v/v/+3/7f/l/+f/6//u//P/8P/u/+3/8//w/+3/6//w//D/8P/z//b/9v/z//b/+//7//f/9v/2//L/6//t//j//v/5//P/9//+//7/+f/5//v/+P/y//D/7//r/+f/6//z//n/9v/w/+3/8P/2//v/9//y//P/8v/q/+f/7P/t/+r/7v/4//b/7P/l/+T/5//q/+z/7P/q/+j/6//w//P/8f/t/+v/7//2//n/9v/z/+//7P/t/+//7f/s/+7/8P/t/+n/5f/n/+v/7f/r//D/9//3//L/8f/z//T/8P/o/+T/6f/s/+T/2//c/+X/6v/s/+r/6f/q/+3/8P/v/+3/6//n/+f/6v/y//n//v///wAAAAD+//b/9P/5//7//P/5//f//P////z/+v///wAA+P/v//D/9v/4//j//P8AAAAA+f/1//b/9P/v/+7/8P/q/+X/6P/t/+r/6P/s/+3/6//s/+z/7P/x//j/9v/w/+3/6//q/+f/5P/k/+f/6f/p/+3/8v/y/+3/7f/v//D/8//6//3/9v/v//H/9P/0//P/8//1//b/9v/2//P/9P/5/////f/3//P/8f/v/+7/8v/6///////6//n/+f/4//b/9//2//f/+f/0/+r/6P/t/+3/5//k/+X/6v/w//L/8//y/+z/5v/q//D/7//r/+z/6v/p/+3/9f/2//P/7//u//H/9v/2//D/8P/z//H/7P/u//H/7P/k/+b/7v/z//T/8//w//D/8P/x//T/+/8AAAAA+P/y//L/8v/z//r/AAABAAAAAAD///n/9P/0//P/8//2//f/9f/3//z/+f/w//P/+f/5//b/8//u/+r/6v/q/+3/7v/s/+r/7f/w/+//7f/q/+T/3f/d/+X/7f/w/+7/7f/r/+T/3v/f/+f/8P/3//X/8//1//H/5f/e/9//3f/d/+T/7P/z//b/8f/t/+//7v/o/+r/8P/v/+z/7P/q/+j/6v/t//H/+f///////P/+/wAABwAIAAQAAQABAAAA9v/t/+7/9v/5//T/8P/x//P/8P/w//T/+f/4//P/8v/0//f/9//0//D/8P/0//b/9P/w//H/8f/s/+b/5//u//L/8P/w//T/+v/7//j/9P/w/+v/6//w//X/+f/8///////+//z/+P/z//D/8P/w/+v/5v/k/+b/5P/h/+L/5//p/+f/6f/v//H/7f/t//T//P/9//n/9v/4//b/7v/m/+b/7f/0//T/8P/w//P/9v/5//n/+//9////AAAAAAAAAAD+//r/9//5//z///8AAAAAAgADAAAA/P/2/+3/5//n/+3/7f/n/+f/6//s/+r/6//t/+z/8P/3//n/9v/1//P/7//t/+//8f/y//X/8//r/+H/4P/m/+r/5//j/+X/6P/p/+f/4//k/+//+P/2//P/9v/4//b/9v/1//D/6v/t//P/9v/0//P/9P/z//L/9f/2//T/8f/w//D/9P/6//3//P/8///////0/+z/7P/u/+//8P/w/+z/7P/w//P/9P/z//D/7f/t/+v/6v/t//D/7v/q/+r/8P/3//X/7f/q/+//7//u//H/9P/y//P/+P/3//P/9v/8/wAAAQACAAAA+f/0//b/+f/5//T/8P/w//P/8//u/+r/5v/h/97/3//i/+T/4v/f/+H/6f/y//b/9P/z//b//P/+//n/8f/s/+3/8P/s/+T/4v/n/+v/6v/n/+z/9P/2/+//7P/x//n/+f/z/+3/7f/z//n/+f/1//D/8P/x//H/8P/w//P/9P/x/+3/7f/z//n/+f/3//b/+P/9/wAA/P/2//P/9v/+/wIAAwAAAPv/+/8AAAAA+f/x//P/+v/3/+r/4f/j/+v/8P/w//H/8v/z//b/+f/7//f/8f/v//D/8//3//n/9//z//H/7v/p/+L/3P/e/+j/8v/x/+3/8P/w/+z/8P/5//z/9v/u/+z/7f/s/+r/6v/v//b/+//8//n/9v/8////9//q/+f/8f/5//H/5//s//j/+f/z//H/8v/1//n/9//t/+r/8v/5//j/8//w/+//7//t/+3/8//8//z/9f/u/+r/5v/p//D/8f/w//L/8v/w//H/8v/w//H/8//x//L/9v/z/+//7f/n/+T/5//p/+H/2v/b/9//6f/z//b/8P/s/+//9f/8/wAAAAAAAPn/9f/5/wAAAAD8//b/8v/v/+//8P/z//b/9//6////AAD+//r/+f/9/wAAAAD+//n/9v/z/+7/6//q/+z/7f/s/+r/6v/q/+j/5//n/+f/5f/k/+X/6v/t/+v/7f/z//f/9f/0//f/+v/5//X/9P/4//r/+f/4//r///8BAAAA9v/r/+r/7f/t/+3/8P/x//H/8f/w//D/9//6//b/8//v/+v/6//y//j/9//w/+r/7P/z//b/8f/u//H/9v/2//H/7f/s/+3/7//y//f/+v/3/+//7P/z//v/+//0//D/9f/6//z//P8AAAAA/P/4//n/+v/4//b/9v/2//P/8v/y//D/7f/q/+b/6f/z//f/8v/r/+v/7f/q/+j/5v/i/+H/5P/q/+7/8f/0//f/+f/5//r/+f/1//D/8v/0/+//7P/z//n/9P/y//n////6//b/+/////v/9f/3//z/+P/w/+//9P/2//P/8f/z//D/6v/o/+r/6v/r//P//f////n/9P/0//T/8v/y//H/7P/m/+P/5P/n/+r/7P/v//P/9//5//j/9P/w//D/7P/k/+H/5v/p/+r/7f/v/+7/7f/r/+f/5f/q//L/9//5//r/+v/1/+v/5//q/+3/7f/w//b/9f/w/+3/8P/x//H/9f/8/wAAAQAAAP7//f/8//n/9v/2//j/9v/z/+7/6//s/+3/7f/q/+v/8P/z//T/7//q/+r/8P/4//z//f/8//z//P/6//f/8//t/+n/7P/y//f/9v/y//D/8//2//b/8//x//L/9P/z/+3/6P/r//b//v/+//n/9f/1//j//P/9//z/9//x/+z/6v/s//D/8//w/+r/5f/m/+r/7v/w//D/8v/0//b/9//5//z/+f/0//D/7//v/+//7f/r/+r/5//m/+f/6f/q/+z/7f/v/+3/5//i/+P/6f/t//D/8P/w//D/7//x//b/+v/7//n/9//2//P/7//t/+//8P/v/+7/8P/x//H/7v/v//P/9P/x//D/8P/y//f///8AAPr/8//3//3//v/+/wAA///5//T/8//z//L/7//t/+3/7//z//j//f////v/9f/w/+z/6//t//P/9v/z/+3/6//s/+r/6//u/+r/4//i/+n/6//n/+f/7f/x//D/8P/w//P/9v/2//P/7v/u//H/8v/t/+b/5P/o/+7/8//1//X/9f/6///////8//z/+v/3//f//P/9//3/AAAEAAEA+v/y//H/+f////3/+f/4//b/8P/v//L/7//p/+v/8f/w//L/+f/8//b/8//0//P/8P/u/+//8v/2//b/8v/u/+3/7f/s/+n/5//n/+f/5//q/+z/7f/w//b/9//y//D/9//8//j/8f/u//P//P8AAAAA/P/8//v/9//1//f/+v/7//r/+f/3//n//P/6//H/6f/l/+T/5P/n/+z/8v/y/+3/6//x//P/8P/y//b/9P/v/+3/7f/u//L/8v/s/+r/8f/2//P/7//w//H/7v/u/+//7f/q/+3/8P/u/+3/8P/x/+7/7v/z//f/+f/5//T/7v/s/+7/7v/t/+z/7f/t/+7/7f/t//H/9v/z/+//7v/w//D/8f/z//X/+f/7//b/7v/t/+3/7v/w//T/+//+//3/+//2//D/6//u//b/+P/0//T/+f/7//b/8f/v/+//7v/w//T/9//2//L/8P/y//f/+//8//n/8//t/+r/6v/q/+r/7f/0//v//f/5//L/7f/t/+v/5//i/+H/5f/t//D/8P/u//D/8f/w/+r/5//q//D/8v/w/+//8f/z//L/7f/r/+//8//1//P/8f/x//P/+P/4//H/6f/n/+3/8//1//b/+P/2//D/6v/k/9//4P/p//P/9v/z//H/9P/0/+7/5//n/+z/7//v/+7/8P/z//n///8BAAAA/v/5//n/+f/2/+//7v/z//r/+v/2//H/8P/x//D/7//u/+//8P/w//H/8f/w/+//7f/t/+3/7//x//P/9P/z//D/7f/r/+n/5v/l/+f/7f/y//X/9f/x//D/8v/3//v//P/8/wAAAAAAAPn/8//x//D/7//t/+3/8P/x//D/8P/y//P/8//y//P/9v/2//b/9v/2//X/8f/w//D/7//t/+//8//0//L/8v/z//P/8P/s/+j/4//d/97/5P/n/+f/5//q/+z/6v/n/+j/6//u/w==\" type=\"audio/x-wav\" />\n",
       "                    Your browser does not support the audio element.\n",
       "                </audio>\n",
       "              "
      ],
      "text/plain": [
       "<IPython.lib.display.Audio object>"
      ]
     },
     "execution_count": 32,
     "metadata": {},
     "output_type": "execute_result"
    }
   ],
   "source": [
    "# First, let's see a data sample\n",
    "\n",
    "import IPython.display\n",
    "example_path = \"/disk2/ohashi/pytorch-speech-commands/datasets/speech_commands/train/right/9f4098cb_nohash_0.wav\"\n",
    "# example_path = \"datasets/speech_commands/train/five/4def68db_nohash_1.wav\"\n",
    "\n",
    "IPython.display.Audio(example_path)"
   ]
  },
  {
   "cell_type": "code",
   "execution_count": 33,
   "metadata": {},
   "outputs": [],
   "source": [
    "# data is like  data = {'path': path, 'target': target}\n",
    "# 7 if for 'right'\n",
    "sample_data = {\n",
    "    'path': example_path,\n",
    "    'target': 7\n",
    "}"
   ]
  },
  {
   "cell_type": "code",
   "execution_count": 34,
   "metadata": {},
   "outputs": [],
   "source": [
    "# CLASSES[7]"
   ]
  },
  {
   "cell_type": "code",
   "execution_count": 35,
   "metadata": {},
   "outputs": [
    {
     "data": {
      "text/plain": [
       "16000"
      ]
     },
     "execution_count": 35,
     "metadata": {},
     "output_type": "execute_result"
    }
   ],
   "source": [
    "# load audio \n",
    "# samples keeps actual data which mean 16000 numbers, which means exact 1 second of audio\n",
    "\n",
    "_load_audio = LoadAudio()\n",
    "_audio_sample = _load_audio(sample_data)\n",
    "len(_audio_sample[\"samples\"])"
   ]
  },
  {
   "cell_type": "code",
   "execution_count": 36,
   "metadata": {},
   "outputs": [
    {
     "name": "stdout",
     "output_type": "stream",
     "text": [
      "[-0.00044457 -0.0005223  -0.00049201 ... -0.00064532 -0.00065675\n",
      " -0.00039846] 22050\n"
     ]
    },
    {
     "data": {
      "text/plain": [
       "<matplotlib.collections.PolyCollection at 0x7f2baf0eb850>"
      ]
     },
     "execution_count": 36,
     "metadata": {},
     "output_type": "execute_result"
    },
    {
     "data": {
      "image/png": "[encoded data removed]",
      "text/plain": [
       "<Figure size 1008x360 with 1 Axes>"
      ]
     },
     "metadata": {
      "needs_background": "light"
     },
     "output_type": "display_data"
    }
   ],
   "source": [
    "# let's see wave form too\n",
    "\n",
    "import librosa\n",
    "import librosa.display\n",
    "import matplotlib.pyplot as plt\n",
    "x, sr = librosa.load(sample_data['path'])\n",
    "print(x, sr)\n",
    "\n",
    "plt.figure(figsize=(14, 5))\n",
    "librosa.display.waveplot(x, sr=sr)"
   ]
  },
  {
   "cell_type": "code",
   "execution_count": 37,
   "metadata": {},
   "outputs": [
    {
     "data": {
      "text/plain": [
       "(1025, 32)"
      ]
     },
     "execution_count": 37,
     "metadata": {},
     "output_type": "execute_result"
    }
   ],
   "source": [
    "# ToSTFT change shape from (16000) to (1025, 36)\n",
    "_toSTFT = ToSTFT()\n",
    "_stft_sample = _toSTFT(_audio_sample)\n",
    "_stft_sample[\"stft_shape\"]"
   ]
  },
  {
   "cell_type": "code",
   "execution_count": 38,
   "metadata": {},
   "outputs": [
    {
     "data": {
      "text/plain": [
       "(32, 32)"
      ]
     },
     "execution_count": 38,
     "metadata": {},
     "output_type": "execute_result"
    }
   ],
   "source": [
    "# then change shape from (1025, 36) to (32, 32)\n",
    "# this is the shape of input \n",
    "_toMelSpectrogramFromSTFT = ToMelSpectrogramFromSTFT()\n",
    "_mel_sample = _toMelSpectrogramFromSTFT(_stft_sample)\n",
    "_mel_sample[\"mel_spectrogram\"].shape"
   ]
  },
  {
   "cell_type": "code",
   "execution_count": null,
   "metadata": {},
   "outputs": [],
   "source": []
  },
  {
   "cell_type": "code",
   "execution_count": 39,
   "metadata": {},
   "outputs": [],
   "source": [
    "# finally we define dataset here\n",
    "\n",
    "# # train_dataset_dir = \"./datasets/speech_commands/train\"\n",
    "# train_dataset_dir = \"/disk2/ohashi/pytorch-speech-commands/datasets/speech_commands/train\"\n",
    "\n",
    "# train_dataset = SpeechCommandsDataset(train_dataset_dir,\n",
    "#                                 Compose([LoadAudio(),\n",
    "#                                          data_aug_transform,\n",
    "#                                          add_bg_noise,\n",
    "#                                          train_feature_transform]))\n",
    "\n",
    "\n",
    "# specify the percent of entire datasets\n",
    "use_rate = 0.5\n",
    "# use_rate = 1.0\n",
    "\n",
    "train_dataset_dir = \"./datasets/speech_commands/train\"\n",
    "train_dataset = SpeechCommandsDataset(train_dataset_dir,\n",
    "                                Compose([LoadAudio(),\n",
    "                                         data_aug_transform,\n",
    "                                         add_bg_noise,\n",
    "                                         train_feature_transform]), use_rate=use_rate)"
   ]
  },
  {
   "cell_type": "code",
   "execution_count": null,
   "metadata": {},
   "outputs": [],
   "source": []
  },
  {
   "cell_type": "code",
   "execution_count": null,
   "metadata": {},
   "outputs": [],
   "source": []
  },
  {
   "cell_type": "code",
   "execution_count": 40,
   "metadata": {},
   "outputs": [],
   "source": [
    "# this is a function to create melSpectrogram datasets from audio directly to skip data augumentation\n",
    "class ToMelSpectrogram(object):\n",
    "    \"\"\"Creates the mel spectrogram from an audio. The result is a 32x32 matrix.\"\"\"\n",
    "\n",
    "    def __init__(self, n_mels=32):\n",
    "        self.n_mels = n_mels\n",
    "\n",
    "    def __call__(self, data):\n",
    "        samples = data['samples']\n",
    "        sample_rate = data['sample_rate']\n",
    "        s = librosa.feature.melspectrogram(samples, sr=sample_rate, n_mels=self.n_mels)\n",
    "        data['mel_spectrogram'] = librosa.power_to_db(s, ref=np.max)\n",
    "        return data"
   ]
  },
  {
   "cell_type": "code",
   "execution_count": 41,
   "metadata": {},
   "outputs": [],
   "source": [
    "valid_feature_transform = Compose([\n",
    "    ToMelSpectrogram(n_mels=n_mels), \n",
    "    ToTensor('mel_spectrogram', 'input')])"
   ]
  },
  {
   "cell_type": "code",
   "execution_count": 42,
   "metadata": {},
   "outputs": [],
   "source": [
    "# define validation sets\n",
    "\n",
    "# valid_dataset_dir = \"./datasets/speech_commands/valid\"\n",
    "valid_dataset_dir = \"/disk2/ohashi/pytorch-speech-commands/datasets/speech_commands/valid\"\n",
    "\n",
    "valid_dataset = SpeechCommandsDataset(valid_dataset_dir,\n",
    "                                Compose([LoadAudio(),\n",
    "                                         FixAudioLength(),\n",
    "                                         valid_feature_transform]))\n"
   ]
  },
  {
   "cell_type": "code",
   "execution_count": 43,
   "metadata": {},
   "outputs": [
    {
     "data": {
      "text/plain": [
       "8144"
      ]
     },
     "execution_count": 43,
     "metadata": {},
     "output_type": "execute_result"
    }
   ],
   "source": [
    "\n",
    "# get weights for each classes\n",
    "weights = train_dataset.make_weights_for_balanced_classes()\n",
    "len(weights)"
   ]
  },
  {
   "cell_type": "code",
   "execution_count": 44,
   "metadata": {},
   "outputs": [
    {
     "data": {
      "text/plain": [
       "array([4.39740821, 4.39740821, 4.39740821, 4.39740821])"
      ]
     },
     "execution_count": 44,
     "metadata": {},
     "output_type": "execute_result"
    }
   ],
   "source": [
    "weights[:4]"
   ]
  },
  {
   "cell_type": "code",
   "execution_count": 45,
   "metadata": {},
   "outputs": [],
   "source": [
    "# define dataloaders\n",
    "\n",
    "batch_size = 64\n",
    "dataload_workers_nums = 4\n",
    "\n",
    "\n",
    "sampler = WeightedRandomSampler(weights, len(weights))\n",
    "\n",
    "\n",
    "train_dataloader = DataLoader(train_dataset, batch_size=batch_size, sampler=sampler, \n",
    "                              num_workers=dataload_workers_nums)\n",
    "\n",
    "\n",
    "valid_dataloader = DataLoader(valid_dataset, batch_size=batch_size, shuffle=False, \n",
    "                              num_workers=dataload_workers_nums)\n"
   ]
  },
  {
   "cell_type": "code",
   "execution_count": null,
   "metadata": {},
   "outputs": [],
   "source": []
  },
  {
   "cell_type": "code",
   "execution_count": 46,
   "metadata": {},
   "outputs": [],
   "source": [
    "# aaa = next(iter(train_dataloader))"
   ]
  },
  {
   "cell_type": "code",
   "execution_count": null,
   "metadata": {},
   "outputs": [],
   "source": []
  },
  {
   "cell_type": "code",
   "execution_count": null,
   "metadata": {},
   "outputs": [],
   "source": []
  },
  {
   "cell_type": "code",
   "execution_count": 47,
   "metadata": {},
   "outputs": [],
   "source": [
    "# now we can define our architecture"
   ]
  },
  {
   "cell_type": "code",
   "execution_count": 48,
   "metadata": {},
   "outputs": [],
   "source": [
    "def conv3x3(in_planes, out_planes, stride=1):\n",
    "    \"\"\"3x3 convolution with padding\"\"\"\n",
    "    return nn.Conv2d(in_planes, out_planes, kernel_size=3, stride=stride,\n",
    "                     padding=1, bias=False)"
   ]
  },
  {
   "cell_type": "code",
   "execution_count": 49,
   "metadata": {},
   "outputs": [],
   "source": [
    "class BasicBlock(nn.Module):\n",
    "    expansion = 1\n",
    "\n",
    "    def __init__(self, inplanes, planes, stride=1, downsample=None):\n",
    "        super(BasicBlock, self).__init__()\n",
    "        self.conv1 = conv3x3(inplanes, planes, stride)\n",
    "        self.bn1 = nn.BatchNorm2d(planes)\n",
    "        self.relu = nn.ReLU(inplace=True)\n",
    "        self.conv2 = conv3x3(planes, planes)\n",
    "        self.bn2 = nn.BatchNorm2d(planes)\n",
    "        self.downsample = downsample\n",
    "        self.stride = stride\n",
    "\n",
    "    def forward(self, x):\n",
    "        residual = x\n",
    "\n",
    "        out = self.conv1(x)\n",
    "        out = self.bn1(out)\n",
    "        out = self.relu(out)\n",
    "\n",
    "        out = self.conv2(out)\n",
    "        out = self.bn2(out)\n",
    "\n",
    "        if self.downsample is not None:\n",
    "            residual = self.downsample(x)\n",
    "\n",
    "        out += residual\n",
    "        out = self.relu(out)\n",
    "\n",
    "        return out"
   ]
  },
  {
   "cell_type": "code",
   "execution_count": 50,
   "metadata": {},
   "outputs": [],
   "source": [
    "class ResNet(nn.Module):\n",
    "\n",
    "    def __init__(self, block, layers, num_classes=1000, in_channels=3):\n",
    "        self.inplanes = 64\n",
    "        super(ResNet, self).__init__()\n",
    "        self.conv1 = nn.Conv2d(in_channels, 64, kernel_size=7, stride=2, padding=3,\n",
    "                               bias=False)\n",
    "        self.bn1 = nn.BatchNorm2d(64)\n",
    "        self.relu = nn.ReLU(inplace=True)\n",
    "        self.maxpool = nn.MaxPool2d(kernel_size=3, stride=2, padding=1)\n",
    "        self.layer1 = self._make_layer(block, 64, layers[0])\n",
    "        self.layer2 = self._make_layer(block, 128, layers[1], stride=2)\n",
    "        self.layer3 = self._make_layer(block, 256, layers[2], stride=2)\n",
    "        self.layer4 = self._make_layer(block, 512, layers[3], stride=2)\n",
    "        self.avgpool = nn.AvgPool2d(1, stride=1)\n",
    "        self.fc = nn.Linear(512 * block.expansion, num_classes)\n",
    "\n",
    "        for m in self.modules():\n",
    "            if isinstance(m, nn.Conv2d):\n",
    "                n = m.kernel_size[0] * m.kernel_size[1] * m.out_channels\n",
    "                m.weight.data.normal_(0, math.sqrt(2. / n))\n",
    "            elif isinstance(m, nn.BatchNorm2d):\n",
    "                m.weight.data.fill_(1)\n",
    "                m.bias.data.zero_()\n",
    "\n",
    "    def _make_layer(self, block, planes, blocks, stride=1):\n",
    "        downsample = None\n",
    "        if stride != 1 or self.inplanes != planes * block.expansion:\n",
    "            downsample = nn.Sequential(\n",
    "                nn.Conv2d(self.inplanes, planes * block.expansion,\n",
    "                          kernel_size=1, stride=stride, bias=False),\n",
    "                nn.BatchNorm2d(planes * block.expansion),\n",
    "            )\n",
    "\n",
    "        layers = []\n",
    "        layers.append(block(self.inplanes, planes, stride, downsample))\n",
    "        self.inplanes = planes * block.expansion\n",
    "        for i in range(1, blocks):\n",
    "            layers.append(block(self.inplanes, planes))\n",
    "\n",
    "        return nn.Sequential(*layers)\n",
    "\n",
    "    def forward(self, x):\n",
    "        x = self.conv1(x)\n",
    "        x = self.bn1(x)\n",
    "        x = self.relu(x)\n",
    "        x = self.maxpool(x)\n",
    "\n",
    "        x = self.layer1(x)\n",
    "        x = self.layer2(x)\n",
    "        x = self.layer3(x)\n",
    "        x = self.layer4(x)\n",
    "\n",
    "        x = self.avgpool(x)\n",
    "        x = x.view(x.size(0), -1)\n",
    "        x = self.fc(x)\n",
    "\n",
    "        return x"
   ]
  },
  {
   "cell_type": "code",
   "execution_count": 51,
   "metadata": {},
   "outputs": [],
   "source": [
    "def resnet34(pretrained=False, **kwargs):\n",
    "    \"\"\"Constructs a ResNet-34 model.\n",
    "    Args:\n",
    "        pretrained (bool): If True, returns a model pre-trained on ImageNet\n",
    "    \"\"\"\n",
    "    model = ResNet(BasicBlock, [3, 4, 6, 3], **kwargs)\n",
    "    if pretrained:\n",
    "        model.load_state_dict(model_zoo.load_url('https://download.pytorch.org/models/resnet34-333f7ec4.pth'))\n",
    "    return model"
   ]
  },
  {
   "cell_type": "code",
   "execution_count": 52,
   "metadata": {},
   "outputs": [],
   "source": [
    "# create model \n",
    "model = resnet34(num_classes=len(CLASSES), in_channels=1)\n"
   ]
  },
  {
   "cell_type": "code",
   "execution_count": 53,
   "metadata": {},
   "outputs": [],
   "source": [
    "device = torch.device(\"cuda\")\n",
    "\n",
    "# if use_gpu:\n",
    "#     device = torch.device(\"cuda\")\n",
    "# else:\n",
    "#     device = torch.device(\"cpu\")\n"
   ]
  },
  {
   "cell_type": "code",
   "execution_count": null,
   "metadata": {},
   "outputs": [],
   "source": []
  },
  {
   "cell_type": "code",
   "execution_count": 54,
   "metadata": {},
   "outputs": [],
   "source": [
    "# move model to gpu if you use gpu\n",
    "model = model.to(device)\n",
    "# model.to(device)"
   ]
  },
  {
   "cell_type": "code",
   "execution_count": 55,
   "metadata": {},
   "outputs": [],
   "source": [
    "# loss function is normal crossentrophy\n",
    "criterion = torch.nn.CrossEntropyLoss()"
   ]
  },
  {
   "cell_type": "code",
   "execution_count": 56,
   "metadata": {},
   "outputs": [],
   "source": [
    "\n",
    "# define optimizer\n",
    "# adamw seems to be best\n",
    "learning_rate = 1e-4\n",
    "weight_decay = 1e-2\n",
    "\n",
    "# # SGD works\n",
    "# # optimizer = torch.optim.SGD(model.parameters(), lr=learning_rate, momentum=0.9, weight_decay=1e-2)\n",
    "# optimizer = torch.optim.SGD(model.parameters(), lr=learning_rate, weight_decay=1e-2)\n",
    "\n",
    "# AdamW is best\n",
    "optimizer = torch.optim.AdamW(model.parameters(), lr=learning_rate, weight_decay=weight_decay)\n"
   ]
  },
  {
   "cell_type": "code",
   "execution_count": null,
   "metadata": {},
   "outputs": [],
   "source": []
  },
  {
   "cell_type": "code",
   "execution_count": 57,
   "metadata": {},
   "outputs": [],
   "source": [
    "start_timestamp = int(time.time()*1000)\n",
    "start_epoch = 0\n",
    "# max_epochs = 70\n",
    "max_epochs = 18\n",
    "best_accuracy = 0\n",
    "best_loss = 1e100\n",
    "global_step = 0"
   ]
  },
  {
   "cell_type": "code",
   "execution_count": 58,
   "metadata": {},
   "outputs": [],
   "source": [
    "# probably we don't need schduler for this tutorial\n",
    "\n",
    "lr_scheduler_patience = 5\n",
    "lr_scheduler_gamma = 0.1\n",
    "\n",
    "lr_scheduler = torch.optim.lr_scheduler.ReduceLROnPlateau(\n",
    "    optimizer, \n",
    "    patience=lr_scheduler_patience, \n",
    "    factor=lr_scheduler_gamma)\n"
   ]
  },
  {
   "cell_type": "code",
   "execution_count": 59,
   "metadata": {},
   "outputs": [],
   "source": [
    "def get_lr():\n",
    "    return optimizer.param_groups[0]['lr']"
   ]
  },
  {
   "cell_type": "code",
   "execution_count": 60,
   "metadata": {},
   "outputs": [],
   "source": [
    "\n",
    "full_name = \"basic-sgd\"\n",
    "\n",
    "def train(epoch):\n",
    "    global global_step\n",
    "\n",
    "    # print(\"epoch %3d with lr=%.02e\" % (epoch, get_lr()))\n",
    "    phase = 'train'\n",
    "    \n",
    "    model.train()  # Set model to training mode\n",
    "\n",
    "    running_loss = 0.0\n",
    "    it = 0\n",
    "    correct = 0\n",
    "    total = 0\n",
    "\n",
    "    pbar = tqdm(train_dataloader, unit=\"audios\", unit_scale=train_dataloader.batch_size)\n",
    "    for batch in pbar:\n",
    "        \n",
    "        optimizer.zero_grad()\n",
    "        \n",
    "#         inputs_x = batch[0]\n",
    "        inputs = batch[0]\n",
    "        targets = batch[1]\n",
    "        \n",
    "        # inputs = batch['input']\n",
    "        # inputs = inputs_x['input']\n",
    "        inputs = torch.unsqueeze(inputs, 1)\n",
    "#         targets = batch['target']\n",
    "        \n",
    "        inputs = inputs.to(device)\n",
    "        targets = targets.to(device)\n",
    "\n",
    "        # forward/backward\n",
    "        outputs = model(inputs)\n",
    "\n",
    "        loss = criterion(outputs, targets)\n",
    "        \n",
    "        loss.backward()\n",
    "        optimizer.step()\n",
    "\n",
    "        # statistics\n",
    "        it += 1\n",
    "        global_step += 1\n",
    "    \n",
    "        # running_loss += loss.data[0]\n",
    "        running_loss += loss.item()\n",
    "        \n",
    "        pred = outputs.max(1, keepdim=True)[1]\n",
    "        \n",
    "        # correct += pred.eq(targets.data.view_as(pred)).sum().item()\n",
    "        correct += pred.eq(targets.view_as(pred)).sum().item()\n",
    "        total += targets.size(0)\n",
    "        \n",
    "        # update the progress bar    \n",
    "        pbar.set_postfix({\n",
    "            'loss': \"%.05f\" % (running_loss / it),\n",
    "            'acc': \"%.02f%%\" % (100*correct/total)\n",
    "        })\n",
    "    \n",
    "    accuracy = correct/total\n",
    "    epoch_loss = running_loss / it\n",
    "    print('%s/accuracy' % phase, 100*accuracy, epoch)\n",
    "    print('%s/epoch_loss' % phase, epoch_loss, epoch)\n",
    "    "
   ]
  },
  {
   "cell_type": "code",
   "execution_count": 61,
   "metadata": {},
   "outputs": [],
   "source": [
    "def valid(epoch):\n",
    "    global best_accuracy, best_loss, global_step\n",
    "\n",
    "    phase = 'valid'\n",
    "    model.eval()  # Set model to evaluate mode\n",
    "\n",
    "    running_loss = 0.0\n",
    "    it = 0\n",
    "    correct = 0\n",
    "    total = 0\n",
    "\n",
    "    pbar = tqdm(valid_dataloader, unit=\"audios\", unit_scale=valid_dataloader.batch_size)\n",
    "    for batch in pbar:\n",
    "        \n",
    "        # inputs_x = batch[0]\n",
    "        inputs = batch[0]\n",
    "        targets = batch[1]\n",
    "        \n",
    "        \n",
    "        # inputs = batch['input']\n",
    "#         inputs = inputs_x['input']\n",
    "        inputs = torch.unsqueeze(inputs, 1)\n",
    "        # targets = batch['target']\n",
    "\n",
    "        inputs = inputs.to(device)\n",
    "        targets = targets.to(device)\n",
    "        \n",
    "        # forward\n",
    "        outputs = model(inputs)\n",
    "        loss = criterion(outputs, targets)\n",
    "\n",
    "        # statistics\n",
    "        it += 1\n",
    "        global_step += 1\n",
    "        running_loss += loss.item()\n",
    "        pred = outputs.data.max(1, keepdim=True)[1]\n",
    "\n",
    "        _correct = pred.eq(targets.view_as(pred)).sum().item()\n",
    "        correct += _correct\n",
    "\n",
    "        total += targets.size(0)\n",
    "        \n",
    "        # update the progress bar\n",
    "        pbar.set_postfix({\n",
    "            'loss': \"%.05f\" % (running_loss / it),\n",
    "            'acc': \"%.02f%%\" % (100*correct/total)\n",
    "        })\n",
    "    \n",
    "    accuracy = correct/total\n",
    "    epoch_loss = running_loss / it\n",
    "    \n",
    "    print('%s/accuracy' % phase, 100*accuracy, epoch)\n",
    "    print('%s/epoch_loss' % phase, epoch_loss, epoch)\n",
    "    \n",
    "    checkpoint = {\n",
    "        'epoch': epoch,\n",
    "        'step': global_step,\n",
    "        'state_dict': model.state_dict(),\n",
    "        'loss': epoch_loss,\n",
    "        'accuracy': accuracy,\n",
    "        'optimizer' : optimizer.state_dict(),\n",
    "    }\n",
    "\n",
    "    if accuracy > best_accuracy:\n",
    "        best_accuracy = accuracy\n",
    "        torch.save(checkpoint, 'checkpoints/best-loss-speech-commands-checkpoint-%s.pth' % full_name)\n",
    "        torch.save(model, '%d-%s-best-loss.pth' % (start_timestamp, full_name))\n",
    "    if epoch_loss < best_loss:\n",
    "        best_loss = epoch_loss\n",
    "        torch.save(checkpoint, 'checkpoints/best-acc-speech-commands-checkpoint-%s.pth' % full_name)\n",
    "        torch.save(model, '%d-%s-best-acc.pth' % (start_timestamp, full_name))\n",
    "    \n",
    "    torch.save(checkpoint, 'checkpoints/last-speech-commands-checkpoint.pth')\n",
    "    del checkpoint  # reduce memory\n",
    "\n",
    "    return epoch_loss"
   ]
  },
  {
   "cell_type": "code",
   "execution_count": null,
   "metadata": {},
   "outputs": [],
   "source": []
  },
  {
   "cell_type": "code",
   "execution_count": null,
   "metadata": {},
   "outputs": [
    {
     "name": "stderr",
     "output_type": "stream",
     "text": [
      "100%|██████████| 8192/8192 [00:11<00:00, 695.90audios/s, loss=1.23572, acc=47.59%]\n",
      "  0%|          | 0/1152 [00:00<?, ?audios/s]"
     ]
    },
    {
     "name": "stdout",
     "output_type": "stream",
     "text": [
      "train/accuracy 47.59332023575639 0\n",
      "train/epoch_loss 1.2357177282683551 0\n"
     ]
    },
    {
     "name": "stderr",
     "output_type": "stream",
     "text": [
      "100%|██████████| 1152/1152 [00:00<00:00, 1557.92audios/s, loss=0.77711, acc=66.93%]\n"
     ]
    },
    {
     "name": "stdout",
     "output_type": "stream",
     "text": [
      "valid/accuracy 66.93051890941074 0\n",
      "valid/epoch_loss 0.777112805750221 0\n"
     ]
    },
    {
     "name": "stderr",
     "output_type": "stream",
     "text": [
      "100%|██████████| 8192/8192 [00:12<00:00, 681.21audios/s, loss=0.91253, acc=63.69%]\n",
      "  0%|          | 0/1152 [00:00<?, ?audios/s]"
     ]
    },
    {
     "name": "stdout",
     "output_type": "stream",
     "text": [
      "train/accuracy 63.69106090373281 1\n",
      "train/epoch_loss 0.9125270829536021 1\n"
     ]
    },
    {
     "name": "stderr",
     "output_type": "stream",
     "text": [
      "100%|██████████| 1152/1152 [00:00<00:00, 1560.46audios/s, loss=0.61267, acc=76.25%]\n"
     ]
    },
    {
     "name": "stdout",
     "output_type": "stream",
     "text": [
      "valid/accuracy 76.2532981530343 1\n",
      "valid/epoch_loss 0.6126726203494601 1\n"
     ]
    },
    {
     "name": "stderr",
     "output_type": "stream",
     "text": [
      "100%|██████████| 8192/8192 [00:11<00:00, 696.76audios/s, loss=0.78119, acc=69.02%]\n",
      "  0%|          | 0/1152 [00:00<?, ?audios/s]"
     ]
    },
    {
     "name": "stdout",
     "output_type": "stream",
     "text": [
      "train/accuracy 69.02013752455795 2\n",
      "train/epoch_loss 0.7811865482944995 2\n"
     ]
    },
    {
     "name": "stderr",
     "output_type": "stream",
     "text": [
      "100%|██████████| 1152/1152 [00:00<00:00, 1576.07audios/s, loss=0.31598, acc=88.39%]\n"
     ]
    },
    {
     "name": "stdout",
     "output_type": "stream",
     "text": [
      "valid/accuracy 88.39050131926122 2\n",
      "valid/epoch_loss 0.315979256398148 2\n"
     ]
    },
    {
     "name": "stderr",
     "output_type": "stream",
     "text": [
      "100%|██████████| 8192/8192 [00:11<00:00, 698.99audios/s, loss=0.66585, acc=74.36%]\n",
      "  0%|          | 0/1152 [00:00<?, ?audios/s]"
     ]
    },
    {
     "name": "stdout",
     "output_type": "stream",
     "text": [
      "train/accuracy 74.3614931237721 3\n",
      "train/epoch_loss 0.6658544132951647 3\n"
     ]
    },
    {
     "name": "stderr",
     "output_type": "stream",
     "text": [
      "100%|██████████| 1152/1152 [00:00<00:00, 1582.33audios/s, loss=0.27858, acc=89.18%]\n"
     ]
    },
    {
     "name": "stdout",
     "output_type": "stream",
     "text": [
      "valid/accuracy 89.18205804749341 3\n",
      "valid/epoch_loss 0.2785802644987901 3\n"
     ]
    },
    {
     "name": "stderr",
     "output_type": "stream",
     "text": [
      "100%|██████████| 8192/8192 [00:12<00:00, 678.74audios/s, loss=0.58532, acc=77.95%]\n",
      "  0%|          | 0/1152 [00:00<?, ?audios/s]"
     ]
    },
    {
     "name": "stdout",
     "output_type": "stream",
     "text": [
      "train/accuracy 77.94695481335953 4\n",
      "train/epoch_loss 0.5853195360396057 4\n"
     ]
    },
    {
     "name": "stderr",
     "output_type": "stream",
     "text": [
      "100%|██████████| 1152/1152 [00:00<00:00, 1693.01audios/s, loss=0.18914, acc=92.52%]\n"
     ]
    },
    {
     "name": "stdout",
     "output_type": "stream",
     "text": [
      "valid/accuracy 92.52418645558487 4\n",
      "valid/epoch_loss 0.18914344161748886 4\n"
     ]
    },
    {
     "name": "stderr",
     "output_type": "stream",
     "text": [
      "100%|██████████| 8192/8192 [00:11<00:00, 700.17audios/s, loss=0.50035, acc=81.41%]\n",
      "  0%|          | 0/1152 [00:00<?, ?audios/s]"
     ]
    },
    {
     "name": "stdout",
     "output_type": "stream",
     "text": [
      "train/accuracy 81.40962671905697 5\n",
      "train/epoch_loss 0.5003539498429745 5\n"
     ]
    },
    {
     "name": "stderr",
     "output_type": "stream",
     "text": [
      "100%|██████████| 1152/1152 [00:00<00:00, 1595.51audios/s, loss=0.21386, acc=91.82%]\n"
     ]
    },
    {
     "name": "stdout",
     "output_type": "stream",
     "text": [
      "valid/accuracy 91.82058047493403 5\n",
      "valid/epoch_loss 0.2138627121845881 5\n"
     ]
    },
    {
     "name": "stderr",
     "output_type": "stream",
     "text": [
      "100%|██████████| 8192/8192 [00:12<00:00, 675.82audios/s, loss=0.47642, acc=82.63%]\n",
      "  0%|          | 0/1152 [00:00<?, ?audios/s]"
     ]
    },
    {
     "name": "stdout",
     "output_type": "stream",
     "text": [
      "train/accuracy 82.62524557956779 6\n",
      "train/epoch_loss 0.4764156767632812 6\n"
     ]
    },
    {
     "name": "stderr",
     "output_type": "stream",
     "text": [
      "100%|██████████| 1152/1152 [00:00<00:00, 1398.71audios/s, loss=0.17564, acc=92.52%]\n"
     ]
    },
    {
     "name": "stdout",
     "output_type": "stream",
     "text": [
      "valid/accuracy 92.52418645558487 6\n",
      "valid/epoch_loss 0.17563986074593332 6\n"
     ]
    },
    {
     "name": "stderr",
     "output_type": "stream",
     "text": [
      "100%|██████████| 8192/8192 [00:11<00:00, 708.26audios/s, loss=0.44313, acc=83.80%]\n",
      "  0%|          | 0/1152 [00:00<?, ?audios/s]"
     ]
    },
    {
     "name": "stdout",
     "output_type": "stream",
     "text": [
      "train/accuracy 83.80402750491159 7\n",
      "train/epoch_loss 0.44313403288833797 7\n"
     ]
    },
    {
     "name": "stderr",
     "output_type": "stream",
     "text": [
      "100%|██████████| 1152/1152 [00:00<00:00, 1542.38audios/s, loss=0.17166, acc=93.49%]\n"
     ]
    },
    {
     "name": "stdout",
     "output_type": "stream",
     "text": [
      "valid/accuracy 93.49164467897977 7\n",
      "valid/epoch_loss 0.17166481705175507 7\n"
     ]
    },
    {
     "name": "stderr",
     "output_type": "stream",
     "text": [
      "100%|██████████| 8192/8192 [00:11<00:00, 717.20audios/s, loss=0.42417, acc=84.53%]\n",
      "  0%|          | 0/1152 [00:00<?, ?audios/s]"
     ]
    },
    {
     "name": "stdout",
     "output_type": "stream",
     "text": [
      "train/accuracy 84.52848722986246 8\n",
      "train/epoch_loss 0.4241748395143077 8\n"
     ]
    },
    {
     "name": "stderr",
     "output_type": "stream",
     "text": [
      "100%|██████████| 1152/1152 [00:00<00:00, 1620.22audios/s, loss=0.13706, acc=94.99%]\n"
     ]
    },
    {
     "name": "stdout",
     "output_type": "stream",
     "text": [
      "valid/accuracy 94.9868073878628 8\n",
      "valid/epoch_loss 0.13706265539965695 8\n"
     ]
    },
    {
     "name": "stderr",
     "output_type": "stream",
     "text": [
      "100%|██████████| 8192/8192 [00:11<00:00, 693.68audios/s, loss=0.39108, acc=85.95%]\n",
      "  0%|          | 0/1152 [00:00<?, ?audios/s]"
     ]
    },
    {
     "name": "stdout",
     "output_type": "stream",
     "text": [
      "train/accuracy 85.95284872298625 9\n",
      "train/epoch_loss 0.39107993827201426 9\n"
     ]
    },
    {
     "name": "stderr",
     "output_type": "stream",
     "text": [
      "100%|██████████| 1152/1152 [00:00<00:00, 1376.42audios/s, loss=0.17277, acc=94.81%]\n"
     ]
    },
    {
     "name": "stdout",
     "output_type": "stream",
     "text": [
      "valid/accuracy 94.81090589270009 9\n",
      "valid/epoch_loss 0.17276982735428545 9\n"
     ]
    },
    {
     "name": "stderr",
     "output_type": "stream",
     "text": [
      "100%|██████████| 8192/8192 [00:11<00:00, 702.45audios/s, loss=0.38125, acc=86.10%]\n",
      "  0%|          | 0/1152 [00:00<?, ?audios/s]"
     ]
    },
    {
     "name": "stdout",
     "output_type": "stream",
     "text": [
      "train/accuracy 86.10019646365423 10\n",
      "train/epoch_loss 0.381245753262192 10\n"
     ]
    },
    {
     "name": "stderr",
     "output_type": "stream",
     "text": [
      "100%|██████████| 1152/1152 [00:00<00:00, 1451.70audios/s, loss=0.11171, acc=96.04%]\n"
     ]
    },
    {
     "name": "stdout",
     "output_type": "stream",
     "text": [
      "valid/accuracy 96.04221635883906 10\n",
      "valid/epoch_loss 0.11171216227942043 10\n"
     ]
    },
    {
     "name": "stderr",
     "output_type": "stream",
     "text": [
      "100%|██████████| 8192/8192 [00:11<00:00, 694.07audios/s, loss=0.35190, acc=87.52%]\n",
      "  0%|          | 0/1152 [00:00<?, ?audios/s]"
     ]
    },
    {
     "name": "stdout",
     "output_type": "stream",
     "text": [
      "train/accuracy 87.524557956778 11\n",
      "train/epoch_loss 0.3518964189570397 11\n"
     ]
    },
    {
     "name": "stderr",
     "output_type": "stream",
     "text": [
      "100%|██████████| 1152/1152 [00:00<00:00, 1614.82audios/s, loss=0.16025, acc=93.93%]\n"
     ]
    },
    {
     "name": "stdout",
     "output_type": "stream",
     "text": [
      "valid/accuracy 93.93139841688655 11\n",
      "valid/epoch_loss 0.16024969663057062 11\n"
     ]
    },
    {
     "name": "stderr",
     "output_type": "stream",
     "text": [
      "100%|██████████| 8192/8192 [00:11<00:00, 708.87audios/s, loss=0.34237, acc=87.52%]\n",
      "  0%|          | 0/1152 [00:00<?, ?audios/s]"
     ]
    },
    {
     "name": "stdout",
     "output_type": "stream",
     "text": [
      "train/accuracy 87.524557956778 12\n",
      "train/epoch_loss 0.3423735788674094 12\n"
     ]
    },
    {
     "name": "stderr",
     "output_type": "stream",
     "text": [
      "100%|██████████| 1152/1152 [00:00<00:00, 1445.01audios/s, loss=0.14808, acc=94.64%]\n"
     ]
    },
    {
     "name": "stdout",
     "output_type": "stream",
     "text": [
      "valid/accuracy 94.63500439753739 12\n",
      "valid/epoch_loss 0.14807742378777927 12\n"
     ]
    },
    {
     "name": "stderr",
     "output_type": "stream",
     "text": [
      "100%|██████████| 8192/8192 [00:11<00:00, 710.74audios/s, loss=0.33466, acc=88.09%]\n",
      "  0%|          | 0/1152 [00:00<?, ?audios/s]"
     ]
    },
    {
     "name": "stdout",
     "output_type": "stream",
     "text": [
      "train/accuracy 88.08939096267191 13\n",
      "train/epoch_loss 0.3346572120208293 13\n"
     ]
    },
    {
     "name": "stderr",
     "output_type": "stream",
     "text": [
      "100%|██████████| 1152/1152 [00:00<00:00, 1620.88audios/s, loss=0.11849, acc=95.51%]\n"
     ]
    },
    {
     "name": "stdout",
     "output_type": "stream",
     "text": [
      "valid/accuracy 95.51451187335093 13\n",
      "valid/epoch_loss 0.11848598077065414 13\n"
     ]
    },
    {
     "name": "stderr",
     "output_type": "stream",
     "text": [
      " 45%|████▍     | 3648/8192 [00:05<00:06, 688.45audios/s, loss=0.32097, acc=88.40%]"
     ]
    }
   ],
   "source": [
    "\n",
    "start_epoch = 0\n",
    "\n",
    "if os.path.isdir('./checkpoints') is False:\n",
    "    try:\n",
    "        os.mkdir('./checkpoints')\n",
    "    except OSError:\n",
    "        print (\"Creation of the directory %s failed\" % path)\n",
    "    \n",
    "\n",
    "since = time.time()\n",
    "for epoch in range(start_epoch, max_epochs):\n",
    "\n",
    "    train(epoch)\n",
    "    epoch_loss = valid(epoch)\n",
    "\n",
    "    lr_scheduler.step(metrics=epoch_loss)\n",
    "\n",
    "    time_elapsed = time.time() - since\n",
    "    time_str = 'total time elapsed: {:.0f}h {:.0f}m {:.0f}s '.format(time_elapsed // 3600, time_elapsed % 3600 // 60, time_elapsed % 60)\n",
    "    # print(\"%s, best accuracy: %.02f%%, best loss %f\" % (time_str, 100*best_accuracy, best_loss))\n",
    "    \n",
    "print(\"finished\")\n",
    "\n"
   ]
  },
  {
   "cell_type": "code",
   "execution_count": null,
   "metadata": {},
   "outputs": [],
   "source": [
    "len(train_dataset)"
   ]
  },
  {
   "cell_type": "code",
   "execution_count": null,
   "metadata": {},
   "outputs": [],
   "source": [
    "raise Exception(\"stop\")"
   ]
  },
  {
   "cell_type": "code",
   "execution_count": null,
   "metadata": {},
   "outputs": [],
   "source": [
    "# test "
   ]
  },
  {
   "cell_type": "code",
   "execution_count": null,
   "metadata": {},
   "outputs": [],
   "source": [
    "# First, let's see a data sample\n",
    "\n",
    "import IPython.display\n",
    "example_path = \"./datasets/speech_commands/train/right/9f4098cb_nohash_0.wav\"\n",
    "\n",
    "IPython.display.Audio(example_path)"
   ]
  },
  {
   "cell_type": "code",
   "execution_count": null,
   "metadata": {},
   "outputs": [],
   "source": [
    "# load audio \n",
    "_load_audio = LoadAudio()\n",
    "_audio_sample = _load_audio(sample_data)\n",
    "len(_audio_sample[\"samples\"])"
   ]
  },
  {
   "cell_type": "code",
   "execution_count": null,
   "metadata": {},
   "outputs": [],
   "source": [
    "_fixAudioLength = FixAudioLength()"
   ]
  },
  {
   "cell_type": "code",
   "execution_count": null,
   "metadata": {},
   "outputs": [],
   "source": [
    "_fixed_sample = _fixAudioLength(_audio_sample)"
   ]
  },
  {
   "cell_type": "code",
   "execution_count": null,
   "metadata": {},
   "outputs": [],
   "source": [
    "_processed_input = valid_feature_transform(_fixed_sample)"
   ]
  },
  {
   "cell_type": "code",
   "execution_count": null,
   "metadata": {},
   "outputs": [],
   "source": [
    "# load saved weights\n",
    "weight_path2 = \"./checkpoints/best-acc-speech-commands-checkpoint-basic1.pth\"\n",
    "# weight_path2 = \"./checkpoints/best-acc-speech-commands-checkpoint-speech_command_with_fl.pth\"\n",
    "# weight_path2 = \"./checkpoints/last-speech-commands-checkpoint.pth\"\n",
    "\n",
    "state2 = torch.load(\n",
    "    weight_path2, \n",
    "    map_location=torch.device(\"cpu\"))\n",
    "\n",
    "_ = model2.load_state_dict(state2['state_dict'])"
   ]
  },
  {
   "cell_type": "code",
   "execution_count": null,
   "metadata": {},
   "outputs": [],
   "source": [
    "# get prediction\n",
    "_ = model2.eval()\n",
    "_eval_output = model2(_processed_input)\n",
    "_eval_pred = _eval_output.max(1, keepdim=True)[1]\n",
    "_eval_pred\n",
    "\n",
    "CLASSES"
   ]
  },
  {
   "cell_type": "code",
   "execution_count": null,
   "metadata": {},
   "outputs": [],
   "source": []
  },
  {
   "cell_type": "code",
   "execution_count": null,
   "metadata": {},
   "outputs": [],
   "source": []
  }
 ],
 "metadata": {
  "kernelspec": {
   "display_name": "Python 3",
   "language": "python",
   "name": "python3"
  },
  "language_info": {
   "codemirror_mode": {
    "name": "ipython",
    "version": 3
   },
   "file_extension": ".py",
   "mimetype": "text/x-python",
   "name": "python",
   "nbconvert_exporter": "python",
   "pygments_lexer": "ipython3",
   "version": "3.7.7"
  }
 },
 "nbformat": 4,
 "nbformat_minor": 4
}
