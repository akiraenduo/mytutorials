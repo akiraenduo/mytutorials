{
 "cells": [
  {
   "cell_type": "code",
   "execution_count": 1,
   "metadata": {},
   "outputs": [],
   "source": [
    "# this is an example of federated leraning for voice data\n",
    "# I borrowed almost all codes from this repositry. Thank a lot!\n",
    "# https://github.com/tugstugi/pytorch-speech-commands.git"
   ]
  },
  {
   "cell_type": "code",
   "execution_count": 2,
   "metadata": {},
   "outputs": [],
   "source": [
    "import warnings\n",
    "warnings.filterwarnings('ignore')"
   ]
  },
  {
   "cell_type": "code",
   "execution_count": 3,
   "metadata": {},
   "outputs": [],
   "source": [
    "# First let's run some code for jupyter notebooks\n",
    "%reload_ext autoreload\n",
    "%autoreload 2\n",
    "%matplotlib inline"
   ]
  },
  {
   "cell_type": "code",
   "execution_count": 4,
   "metadata": {},
   "outputs": [],
   "source": [
    "# import dependencies.\n",
    "import torch\n",
    "from torchvision.transforms import Compose\n",
    "from torch.utils.data.sampler import WeightedRandomSampler\n",
    "from torch.utils.data import DataLoader\n",
    "from torch.utils.data import Dataset\n",
    "import torch.nn as nn\n",
    "import math\n",
    "import time\n",
    "from tqdm import *\n",
    "import os\n",
    "import librosa\n",
    "import numpy as np\n",
    "import random\n",
    "# from torch.autograd import Variable"
   ]
  },
  {
   "cell_type": "code",
   "execution_count": null,
   "metadata": {},
   "outputs": [],
   "source": []
  },
  {
   "cell_type": "code",
   "execution_count": 5,
   "metadata": {},
   "outputs": [],
   "source": [
    "# CLASSES = 'unknown, silence, yes, no, up, down, left, right, on, off, stop, go'.split(', ')\n",
    "CLASSES = 'unknown, silence, yes, no, left, right'.split(', ')"
   ]
  },
  {
   "cell_type": "code",
   "execution_count": 6,
   "metadata": {},
   "outputs": [],
   "source": [
    "# prepare datasets"
   ]
  },
  {
   "cell_type": "code",
   "execution_count": 7,
   "metadata": {},
   "outputs": [],
   "source": [
    "# prepare datasets\n",
    "\n",
    "# create directory it not exist\n",
    "# we put data on datasets directory\n",
    "if os.path.isdir('./datasets') is False:\n",
    "    try:\n",
    "        os.mkdir('./datasets')\n",
    "    except OSError:\n",
    "        print (\"Creation of the directory datasets failed\")\n",
    "\n",
    "# download data\n",
    "# ! wget -O datasets/speech_commands_v0.01.tar.gz http://download.tensorflow.org/data/speech_commands_v0.01.tar.gz\n",
    "\n",
    "# prepare directories\n",
    "if os.path.isdir('./datasets/speech_commands') is False:\n",
    "    try:\n",
    "        os.mkdir('./datasets/speech_commands')\n",
    "    except OSError:\n",
    "        print (\"Creation of the directory datasets/speech_commands failed\")\n",
    "        \n",
    "if os.path.isdir('./datasets/speech_commands/audio') is False:\n",
    "    try:\n",
    "        os.mkdir('./datasets/speech_commands/audio')\n",
    "    except OSError:\n",
    "        print (\"Creation of the directory datasets/speech_commands/audio failed\")\n",
    "        \n",
    "\n",
    "# untar files.\n",
    "# ! tar -xzf datasets/speech_commands_v0.01.tar.gz -C datasets/speech_command/audio\n",
    "        "
   ]
  },
  {
   "cell_type": "code",
   "execution_count": 8,
   "metadata": {},
   "outputs": [],
   "source": [
    "# once you downloaded datasets,\n",
    "# you can split datasets into train and valid.\n",
    "# since which one is for validation is defined by txt file, just split data accordingly.\n",
    "\n",
    "# mode files \n",
    "def move_files(src_folder, to_folder, list_file):\n",
    "    with open(list_file) as f:\n",
    "        for line in f.readlines():\n",
    "            line = line.rstrip()\n",
    "            dirname = os.path.dirname(line)\n",
    "            dest = os.path.join(to_folder, dirname)\n",
    "            if not os.path.exists(dest):\n",
    "                os.mkdir(dest)\n",
    "            shutil.move(os.path.join(src_folder, line), dest)"
   ]
  },
  {
   "cell_type": "code",
   "execution_count": 9,
   "metadata": {},
   "outputs": [],
   "source": [
    "# move files\n",
    "def prepare_dataset():\n",
    "    audio_folder = \"datasets/speech_commands/audio\"\n",
    "    validation_path = \"datasets/speech_commands/audio/validation_list.txt\"\n",
    "    test_path = \"datasets/speech_commands/audio/testing_list.txt\"\n",
    "\n",
    "    valid_folder = \"datasets/speech_commands/valid\"\n",
    "    test_folder = \"datasets/speech_commands/test\"\n",
    "    train_folder = \"datasets/speech_commands/train\"\n",
    "\n",
    "    if os.path.isdir(valid_folder) is False:\n",
    "        os.mkdir(valid_folder)\n",
    "    if os.path.isdir(test_folder) is False:\n",
    "        os.mkdir(test_folder)\n",
    "\n",
    "    move_files(audio_folder, test_folder, test_path)\n",
    "    move_files(audio_folder, valid_folder, validation_path)\n",
    "    os.rename(audio_folder, train_folder)"
   ]
  },
  {
   "cell_type": "code",
   "execution_count": 10,
   "metadata": {},
   "outputs": [],
   "source": [
    "# import shutil for moving files.\n",
    "# impo rt shutil\n",
    "\n",
    "# run prepare datasets\n",
    "# prepare_dataset()\n"
   ]
  },
  {
   "cell_type": "code",
   "execution_count": 11,
   "metadata": {},
   "outputs": [
    {
     "name": "stdout",
     "output_type": "stream",
     "text": [
      "speech_commands  speech_commands_v0.01.tar.gz\r\n"
     ]
    }
   ],
   "source": [
    "! ls datasets"
   ]
  },
  {
   "cell_type": "code",
   "execution_count": null,
   "metadata": {},
   "outputs": [],
   "source": []
  },
  {
   "cell_type": "code",
   "execution_count": null,
   "metadata": {},
   "outputs": [],
   "source": []
  },
  {
   "cell_type": "code",
   "execution_count": 12,
   "metadata": {},
   "outputs": [],
   "source": [
    "# here we define convenient functions for audio.\n",
    "# most of them is for data augmentation"
   ]
  },
  {
   "cell_type": "code",
   "execution_count": 13,
   "metadata": {},
   "outputs": [],
   "source": [
    "# this is just returning true or false ramdomly\n",
    "def should_apply_transform(prob=0.5):\n",
    "    \"\"\"Transforms are only randomly applied with the given probability.\"\"\"\n",
    "    return random.random() < prob"
   ]
  },
  {
   "cell_type": "code",
   "execution_count": 14,
   "metadata": {},
   "outputs": [],
   "source": [
    "# change ampletude for data augmentation\n",
    "class ChangeAmplitude(object):\n",
    "    \"\"\"Changes amplitude of an audio randomly.\"\"\"\n",
    "\n",
    "    def __init__(self, amplitude_range=(0.7, 1.1)):\n",
    "        self.amplitude_range = amplitude_range\n",
    "\n",
    "    def __call__(self, data):\n",
    "        if not should_apply_transform():\n",
    "            return data\n",
    "\n",
    "        data['samples'] = data['samples'] * random.uniform(*self.amplitude_range)\n",
    "        return data"
   ]
  },
  {
   "cell_type": "code",
   "execution_count": 15,
   "metadata": {},
   "outputs": [],
   "source": [
    "# change speedch and pitch for data augmentation\n",
    "class ChangeSpeedAndPitchAudio(object):\n",
    "    \"\"\"Change the speed of an audio. This transform also changes the pitch of the audio.\"\"\"\n",
    "\n",
    "    def __init__(self, max_scale=0.2):\n",
    "        self.max_scale = max_scale\n",
    "\n",
    "    def __call__(self, data):\n",
    "        if not should_apply_transform():\n",
    "            return data\n",
    "\n",
    "        samples = data['samples']\n",
    "        sample_rate = data['sample_rate']\n",
    "        scale = random.uniform(-self.max_scale, self.max_scale)\n",
    "        speed_fac = 1.0  / (1 + scale)\n",
    "        data['samples'] = np.interp(np.arange(0, len(samples), speed_fac), np.arange(0,len(samples)), samples).astype(np.float32)\n",
    "        return data"
   ]
  },
  {
   "cell_type": "code",
   "execution_count": 16,
   "metadata": {},
   "outputs": [],
   "source": [
    "# function to fix audio length \n",
    "# Because our architecture is not RNN-based but CNN-based, we need shapes of all input data exact same.\n",
    "class FixAudioLength(object):\n",
    "    \"\"\"Either pads or truncates an audio into a fixed length.\"\"\"\n",
    "\n",
    "    def __init__(self, time=1):\n",
    "        self.time = time\n",
    "\n",
    "    def __call__(self, data):\n",
    "        samples = data['samples']\n",
    "        sample_rate = data['sample_rate']\n",
    "        length = int(self.time * sample_rate)\n",
    "        if length < len(samples):\n",
    "            data['samples'] = samples[:length]\n",
    "        elif length > len(samples):\n",
    "            data['samples'] = np.pad(samples, (0, length - len(samples)), \"constant\")\n",
    "        return data"
   ]
  },
  {
   "cell_type": "code",
   "execution_count": 17,
   "metadata": {},
   "outputs": [],
   "source": [
    "\n",
    "class ToSTFT(object):\n",
    "    \"\"\"Applies on an audio the short time fourier transform.\"\"\"\n",
    "\n",
    "    def __init__(self, n_fft=2048, hop_length=512):\n",
    "        self.n_fft = n_fft\n",
    "        self.hop_length = hop_length\n",
    "\n",
    "    def __call__(self, data):\n",
    "        samples = data['samples']\n",
    "        sample_rate = data['sample_rate']\n",
    "        data['n_fft'] = self.n_fft\n",
    "        data['hop_length'] = self.hop_length\n",
    "        data['stft'] = librosa.stft(samples, n_fft=self.n_fft, hop_length=self.hop_length)\n",
    "        data['stft_shape'] = data['stft'].shape\n",
    "        return data"
   ]
  },
  {
   "cell_type": "code",
   "execution_count": 18,
   "metadata": {},
   "outputs": [],
   "source": [
    "class StretchAudioOnSTFT(object):\n",
    "    \"\"\"Stretches an audio on the frequency domain.\"\"\"\n",
    "\n",
    "    def __init__(self, max_scale=0.2):\n",
    "        self.max_scale = max_scale\n",
    "\n",
    "    def __call__(self, data):\n",
    "        if not should_apply_transform():\n",
    "            return data\n",
    "\n",
    "        stft = data['stft']\n",
    "        sample_rate = data['sample_rate']\n",
    "        hop_length = data['hop_length']\n",
    "        scale = random.uniform(-self.max_scale, self.max_scale)\n",
    "        stft_stretch = librosa.core.phase_vocoder(stft, 1+scale, hop_length=hop_length)\n",
    "        data['stft'] = stft_stretch\n",
    "        return data"
   ]
  },
  {
   "cell_type": "code",
   "execution_count": 19,
   "metadata": {},
   "outputs": [],
   "source": [
    "class TimeshiftAudioOnSTFT(object):\n",
    "    \"\"\"A simple timeshift on the frequency domain without multiplying with exp.\"\"\"\n",
    "\n",
    "    def __init__(self, max_shift=8):\n",
    "        self.max_shift = max_shift\n",
    "\n",
    "    def __call__(self, data):\n",
    "        if not should_apply_transform():\n",
    "            return data\n",
    "\n",
    "        stft = data['stft']\n",
    "        shift = random.randint(-self.max_shift, self.max_shift)\n",
    "        a = -min(0, shift)\n",
    "        b = max(0, shift)\n",
    "        stft = np.pad(stft, ((0, 0), (a, b)), \"constant\")\n",
    "        if a == 0:\n",
    "            stft = stft[:,b:]\n",
    "        else:\n",
    "            stft = stft[:,0:-a]\n",
    "        data['stft'] = stft\n",
    "        return data"
   ]
  },
  {
   "cell_type": "code",
   "execution_count": 20,
   "metadata": {},
   "outputs": [],
   "source": [
    "class FixSTFTDimension(object):\n",
    "    \"\"\"Either pads or truncates in the time axis on the frequency domain, applied after stretching, time shifting etc.\"\"\"\n",
    "\n",
    "    def __call__(self, data):\n",
    "        stft = data['stft']\n",
    "        t_len = stft.shape[1]\n",
    "        orig_t_len = data['stft_shape'][1]\n",
    "        if t_len > orig_t_len:\n",
    "            stft = stft[:,0:orig_t_len]\n",
    "        elif t_len < orig_t_len:\n",
    "            stft = np.pad(stft, ((0, 0), (0, orig_t_len-t_len)), \"constant\")\n",
    "\n",
    "        data['stft'] = stft\n",
    "        return data\n"
   ]
  },
  {
   "cell_type": "code",
   "execution_count": 21,
   "metadata": {},
   "outputs": [],
   "source": [
    "# data augmentation\n",
    "data_aug_transform = Compose([\n",
    "    ChangeAmplitude(), \n",
    "    ChangeSpeedAndPitchAudio(), \n",
    "    FixAudioLength(), \n",
    "    ToSTFT(), \n",
    "    StretchAudioOnSTFT(), \n",
    "    TimeshiftAudioOnSTFT(), \n",
    "    FixSTFTDimension()])\n"
   ]
  },
  {
   "cell_type": "code",
   "execution_count": null,
   "metadata": {},
   "outputs": [],
   "source": []
  },
  {
   "cell_type": "code",
   "execution_count": 22,
   "metadata": {},
   "outputs": [],
   "source": [
    "class BackgroundNoiseDataset(Dataset):\n",
    "    \"\"\"Dataset for silence / background noise.\"\"\"\n",
    "\n",
    "    def __init__(self, folder, transform=None, sample_rate=16000, sample_length=1):\n",
    "        audio_files = [d for d in os.listdir(folder) if os.path.isfile(os.path.join(folder, d)) and d.endswith('.wav')]\n",
    "        samples = []\n",
    "        for f in audio_files:\n",
    "            path = os.path.join(folder, f)\n",
    "            s, sr = librosa.load(path, sample_rate)\n",
    "            samples.append(s)\n",
    "\n",
    "        samples = np.hstack(samples)\n",
    "        c = int(sample_rate * sample_length)\n",
    "        r = len(samples) // c\n",
    "        self.samples = samples[:r*c].reshape(-1, c)\n",
    "        self.sample_rate = sample_rate\n",
    "        self.classes = CLASSES\n",
    "        self.transform = transform\n",
    "        self.path = folder\n",
    "\n",
    "    def __len__(self):\n",
    "        return len(self.samples)\n",
    "\n",
    "    def __getitem__(self, index):\n",
    "        data = {'samples': self.samples[index], 'sample_rate': self.sample_rate, 'target': 1, 'path': self.path}\n",
    "        \n",
    "        if self.transform is not None:\n",
    "            data = self.transform(data)\n",
    "\n",
    "        return data"
   ]
  },
  {
   "cell_type": "code",
   "execution_count": null,
   "metadata": {},
   "outputs": [],
   "source": []
  },
  {
   "cell_type": "code",
   "execution_count": null,
   "metadata": {},
   "outputs": [],
   "source": []
  },
  {
   "cell_type": "code",
   "execution_count": null,
   "metadata": {},
   "outputs": [],
   "source": []
  },
  {
   "cell_type": "code",
   "execution_count": 23,
   "metadata": {},
   "outputs": [],
   "source": [
    "# define background nosie datasets\n",
    "\n",
    "# background_noise_dir = \"./datasets/speech_commands/train/_background_noise_\"\n",
    "background_noise_dir = \"/disk2/ohashi/pytorch-speech-commands/datasets/speech_commands/train/_background_noise_\"\n",
    "\n",
    "bg_dataset = BackgroundNoiseDataset(background_noise_dir, data_aug_transform)\n"
   ]
  },
  {
   "cell_type": "code",
   "execution_count": null,
   "metadata": {},
   "outputs": [],
   "source": []
  },
  {
   "cell_type": "code",
   "execution_count": 24,
   "metadata": {},
   "outputs": [],
   "source": [
    "# function to add background noise on datasets\n",
    "\n",
    "class AddBackgroundNoiseOnSTFT(Dataset):\n",
    "    \"\"\"Adds a random background noise on the frequency domain.\"\"\"\n",
    "\n",
    "    def __init__(self, bg_dataset, max_percentage=0.45):\n",
    "        self.bg_dataset = bg_dataset\n",
    "        self.max_percentage = max_percentage\n",
    "\n",
    "    def __call__(self, data):\n",
    "        if not should_apply_transform():\n",
    "            return data\n",
    "\n",
    "        noise = random.choice(self.bg_dataset)['stft']\n",
    "        percentage = random.uniform(0, self.max_percentage)\n",
    "        data['stft'] = data['stft'] * (1 - percentage) + noise * percentage\n",
    "        return data"
   ]
  },
  {
   "cell_type": "code",
   "execution_count": 25,
   "metadata": {},
   "outputs": [],
   "source": [
    "# create a function\n",
    "add_bg_noise = AddBackgroundNoiseOnSTFT(bg_dataset)"
   ]
  },
  {
   "cell_type": "code",
   "execution_count": null,
   "metadata": {},
   "outputs": [],
   "source": []
  },
  {
   "cell_type": "code",
   "execution_count": 26,
   "metadata": {},
   "outputs": [],
   "source": [
    "# function to convert data from STFT into MelSpectrogram\n",
    "\n",
    "class ToMelSpectrogramFromSTFT(object):\n",
    "    \"\"\"Creates the mel spectrogram from the short time fourier transform of a file. The result is a 32x32 matrix.\"\"\"\n",
    "\n",
    "    def __init__(self, n_mels=32):\n",
    "        self.n_mels = n_mels\n",
    "\n",
    "    def __call__(self, data):\n",
    "        stft = data['stft']\n",
    "        sample_rate = data['sample_rate']\n",
    "        n_fft = data['n_fft']\n",
    "        mel_basis = librosa.filters.mel(sample_rate, n_fft, self.n_mels)\n",
    "        s = np.dot(mel_basis, np.abs(stft)**2.0)\n",
    "        data['mel_spectrogram'] = librosa.power_to_db(s, ref=np.max)\n",
    "        return data"
   ]
  },
  {
   "cell_type": "code",
   "execution_count": 27,
   "metadata": {},
   "outputs": [],
   "source": [
    "class DeleteSTFT(object):\n",
    "    \"\"\"Pytorch doesn't like complex numbers, use this transform to remove STFT after computing the mel spectrogram.\"\"\"\n",
    "\n",
    "    def __call__(self, data):\n",
    "        del data['stft']\n",
    "        return data"
   ]
  },
  {
   "cell_type": "code",
   "execution_count": null,
   "metadata": {},
   "outputs": [],
   "source": []
  },
  {
   "cell_type": "code",
   "execution_count": 28,
   "metadata": {},
   "outputs": [],
   "source": [
    "class ToTensor(object):\n",
    "    \"\"\"Converts into a tensor.\"\"\"\n",
    "\n",
    "    def __init__(self, np_name, tensor_name, normalize=None):\n",
    "        self.np_name = np_name\n",
    "        self.tensor_name = tensor_name\n",
    "        self.normalize = normalize\n",
    "\n",
    "    def __call__(self, data):\n",
    "        tensor = torch.FloatTensor(data[self.np_name])\n",
    "        if self.normalize is not None:\n",
    "            mean, std = self.normalize\n",
    "            tensor -= mean\n",
    "            tensor /= std\n",
    "        data[self.tensor_name] = tensor\n",
    "        return data"
   ]
  },
  {
   "cell_type": "code",
   "execution_count": null,
   "metadata": {},
   "outputs": [],
   "source": []
  },
  {
   "cell_type": "code",
   "execution_count": 29,
   "metadata": {},
   "outputs": [],
   "source": [
    "# define data preprocessing more\n",
    "\n",
    "n_mels = 32\n",
    "\n",
    "train_feature_transform = Compose([\n",
    "    ToMelSpectrogramFromSTFT(n_mels=n_mels), \n",
    "    DeleteSTFT(), \n",
    "    ToTensor('mel_spectrogram', 'input')])\n"
   ]
  },
  {
   "cell_type": "code",
   "execution_count": null,
   "metadata": {},
   "outputs": [],
   "source": []
  },
  {
   "cell_type": "code",
   "execution_count": 30,
   "metadata": {},
   "outputs": [],
   "source": [
    "class LoadAudio(object):\n",
    "    \"\"\"Loads an audio into a numpy array.\"\"\"\n",
    "\n",
    "    def __init__(self, sample_rate=16000):\n",
    "        self.sample_rate = sample_rate\n",
    "\n",
    "    def __call__(self, data):\n",
    "        \n",
    "        path = data['path']\n",
    "        if path:\n",
    "            samples, sample_rate = librosa.load(path, self.sample_rate)\n",
    "        else:\n",
    "            # silence\n",
    "            sample_rate = self.sample_rate\n",
    "            samples = np.zeros(sample_rate, dtype=np.float32)\n",
    "        data['samples'] = samples\n",
    "        data['sample_rate'] = sample_rate\n",
    "        return data"
   ]
  },
  {
   "cell_type": "code",
   "execution_count": 31,
   "metadata": {},
   "outputs": [],
   "source": [
    "class SpeechCommandsDataset(Dataset):\n",
    "    \"\"\"Google speech commands dataset. Only 'yes', 'no', 'up', 'down', 'left',\n",
    "    'right', 'on', 'off', 'stop' and 'go' are treated as known classes.\n",
    "    All other classes are used as 'unknown' samples.\n",
    "    See for more information: https://www.kaggle.com/c/tensorflow-speech-recognition-challenge\n",
    "    \"\"\"\n",
    "\n",
    "    def __init__(self, folder, transform=None, classes=CLASSES, silence_percentage=0.1, use_rate=1.0):\n",
    "        all_classes = [d for d in os.listdir(folder) if os.path.isdir(os.path.join(folder, d)) and not d.startswith('_')]\n",
    "        #for c in classes[2:]:\n",
    "        #    assert c in all_classes\n",
    "\n",
    "        class_to_idx = {classes[i]: i for i in range(len(classes))}\n",
    "        for c in all_classes:\n",
    "            if c not in class_to_idx: \n",
    "                class_to_idx[c] = 0\n",
    "\n",
    "                \n",
    "        data = []\n",
    "        for c in all_classes:\n",
    "            d = os.path.join(folder, c)\n",
    "            target = class_to_idx[c]\n",
    "            if c in classes:\n",
    "                for f in os.listdir(d):\n",
    "                    path = os.path.join(d, f)\n",
    "                    data.append((path, target))               \n",
    "                \n",
    "#         data = []\n",
    "#         for c in all_classes:\n",
    "#             d = os.path.join(folder, c)\n",
    "#             target = class_to_idx[c]\n",
    "#             for f in os.listdir(d):\n",
    "#                 path = os.path.join(d, f)\n",
    "#                 data.append((path, target))\n",
    "\n",
    "        # add silence\n",
    "        target = class_to_idx['silence']\n",
    "        data += [('', target)] * int(len(data) * silence_percentage)\n",
    "\n",
    "        self.classes = classes\n",
    "        self.data = data\n",
    "        self.transform = transform\n",
    "\n",
    "    def __len__(self):\n",
    "        return len(self.data)\n",
    "\n",
    "    def __getitem__(self, index):\n",
    "        path, target = self.data[index]\n",
    "        data = {'path': path, 'target': target}\n",
    "\n",
    "        if self.transform is not None:\n",
    "            data = self.transform(data)\n",
    "        \n",
    "        # return data, target\n",
    "        return data['input'], target\n",
    "\n",
    "    def make_weights_for_balanced_classes(self):\n",
    "        \"\"\"adopted from https://discuss.pytorch.org/t/balanced-sampling-between-classes-with-torchvision-dataloader/2703/3\"\"\"\n",
    "\n",
    "        nclasses = len(self.classes)\n",
    "        count = np.zeros(nclasses)\n",
    "        for item in self.data:\n",
    "            count[item[1]] += 1\n",
    "\n",
    "        N = float(sum(count))\n",
    "        weight_per_class = N / count\n",
    "        weight = np.zeros(len(self))\n",
    "        for idx, item in enumerate(self.data):\n",
    "            weight[idx] = weight_per_class[item[1]]\n",
    "        return weight"
   ]
  },
  {
   "cell_type": "code",
   "execution_count": null,
   "metadata": {},
   "outputs": [],
   "source": []
  },
  {
   "cell_type": "code",
   "execution_count": 32,
   "metadata": {},
   "outputs": [],
   "source": [
    "# here lets see each augmetation steps"
   ]
  },
  {
   "cell_type": "code",
   "execution_count": 33,
   "metadata": {},
   "outputs": [
    {
     "data": {
      "text/html": [
       "\n",
       "                <audio  controls=\"controls\" >\n",
       "                    <source src=\"data:audio/x-wav;base64,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\" type=\"audio/x-wav\" />\n",
       "                    Your browser does not support the audio element.\n",
       "                </audio>\n",
       "              "
      ],
      "text/plain": [
       "<IPython.lib.display.Audio object>"
      ]
     },
     "execution_count": 33,
     "metadata": {},
     "output_type": "execute_result"
    }
   ],
   "source": [
    "# First, let's see a data sample\n",
    "\n",
    "import IPython.display\n",
    "example_path = \"./datasets/speech_commands/train/right/9f4098cb_nohash_0.wav\"\n",
    "# example_path = \"datasets/speech_commands/train/five/4def68db_nohash_1.wav\"\n",
    "\n",
    "IPython.display.Audio(example_path)"
   ]
  },
  {
   "cell_type": "code",
   "execution_count": 34,
   "metadata": {},
   "outputs": [
    {
     "data": {
      "text/plain": [
       "['unknown', 'silence', 'yes', 'no', 'left', 'right']"
      ]
     },
     "execution_count": 34,
     "metadata": {},
     "output_type": "execute_result"
    }
   ],
   "source": [
    "CLASSES\n"
   ]
  },
  {
   "cell_type": "code",
   "execution_count": 35,
   "metadata": {},
   "outputs": [],
   "source": [
    "# data is like  data = {'path': path, 'target': target}\n",
    "# 7 if for 'right'\n",
    "sample_data = {\n",
    "    'path': example_path,\n",
    "    'target': 5\n",
    "}"
   ]
  },
  {
   "cell_type": "code",
   "execution_count": 36,
   "metadata": {},
   "outputs": [],
   "source": [
    "# CLASSES[7]"
   ]
  },
  {
   "cell_type": "code",
   "execution_count": 37,
   "metadata": {},
   "outputs": [
    {
     "data": {
      "text/plain": [
       "16000"
      ]
     },
     "execution_count": 37,
     "metadata": {},
     "output_type": "execute_result"
    }
   ],
   "source": [
    "# load audio \n",
    "# samples keeps actual data which mean 16000 numbers, which means exact 1 second of audio\n",
    "\n",
    "_load_audio = LoadAudio()\n",
    "_audio_sample = _load_audio(sample_data)\n",
    "len(_audio_sample[\"samples\"])"
   ]
  },
  {
   "cell_type": "code",
   "execution_count": 38,
   "metadata": {},
   "outputs": [
    {
     "name": "stdout",
     "output_type": "stream",
     "text": [
      "[-0.00044457 -0.0005223  -0.00049201 ... -0.00064532 -0.00065675\n",
      " -0.00039846] 22050\n"
     ]
    },
    {
     "data": {
      "text/plain": [
       "<matplotlib.collections.PolyCollection at 0x7f4f57ba4ed0>"
      ]
     },
     "execution_count": 38,
     "metadata": {},
     "output_type": "execute_result"
    },
    {
     "data": {
      "image/png": "[encoded data removed]",
      "text/plain": [
       "<Figure size 1008x360 with 1 Axes>"
      ]
     },
     "metadata": {
      "needs_background": "light"
     },
     "output_type": "display_data"
    }
   ],
   "source": [
    "# let's see wave form too\n",
    "\n",
    "import librosa\n",
    "import librosa.display\n",
    "import matplotlib.pyplot as plt\n",
    "x, sr = librosa.load(sample_data['path'])\n",
    "print(x, sr)\n",
    "\n",
    "plt.figure(figsize=(14, 5))\n",
    "librosa.display.waveplot(x, sr=sr)"
   ]
  },
  {
   "cell_type": "code",
   "execution_count": 39,
   "metadata": {},
   "outputs": [
    {
     "data": {
      "text/plain": [
       "(1025, 32)"
      ]
     },
     "execution_count": 39,
     "metadata": {},
     "output_type": "execute_result"
    }
   ],
   "source": [
    "# ToSTFT change shape from (16000) to (1025, 36)\n",
    "_toSTFT = ToSTFT()\n",
    "_stft_sample = _toSTFT(_audio_sample)\n",
    "_stft_sample[\"stft_shape\"]"
   ]
  },
  {
   "cell_type": "code",
   "execution_count": 40,
   "metadata": {},
   "outputs": [
    {
     "data": {
      "text/plain": [
       "(32, 32)"
      ]
     },
     "execution_count": 40,
     "metadata": {},
     "output_type": "execute_result"
    }
   ],
   "source": [
    "# then change shape from (1025, 36) to (32, 32)\n",
    "# this is the shape of input \n",
    "_toMelSpectrogramFromSTFT = ToMelSpectrogramFromSTFT()\n",
    "_mel_sample = _toMelSpectrogramFromSTFT(_stft_sample)\n",
    "_mel_sample[\"mel_spectrogram\"].shape"
   ]
  },
  {
   "cell_type": "code",
   "execution_count": null,
   "metadata": {},
   "outputs": [],
   "source": []
  },
  {
   "cell_type": "code",
   "execution_count": 41,
   "metadata": {},
   "outputs": [],
   "source": [
    "# finally we define dataset here\n",
    "\n",
    "# # train_dataset_dir = \"./datasets/speech_commands/train\"\n",
    "# train_dataset_dir = \"/disk2/ohashi/pytorch-speech-commands/datasets/speech_commands/train\"\n",
    "\n",
    "# train_dataset = SpeechCommandsDataset(train_dataset_dir,\n",
    "#                                 Compose([LoadAudio(),\n",
    "#                                          data_aug_transform,\n",
    "#                                          add_bg_noise,\n",
    "#                                          train_feature_transform]))\n",
    "\n",
    "\n",
    "# specify the percent of entire datasets\n",
    "use_rate = 0.5\n",
    "# use_rate = 1.0\n",
    "\n",
    "train_dataset_dir = \"./datasets/speech_commands/train\"\n",
    "# train_dataset = SpeechCommandsDataset(train_dataset_dir,\n",
    "#                                 Compose([LoadAudio(),\n",
    "#                                          data_aug_transform,\n",
    "#                                          add_bg_noise,\n",
    "#                                          train_feature_transform]), use_rate=use_rate)\n",
    "\n"
   ]
  },
  {
   "cell_type": "code",
   "execution_count": null,
   "metadata": {},
   "outputs": [],
   "source": []
  },
  {
   "cell_type": "code",
   "execution_count": null,
   "metadata": {},
   "outputs": [],
   "source": []
  },
  {
   "cell_type": "code",
   "execution_count": 42,
   "metadata": {},
   "outputs": [],
   "source": [
    "# this is a function to create melSpectrogram datasets from audio directly to skip data augumentation\n",
    "class ToMelSpectrogram(object):\n",
    "    \"\"\"Creates the mel spectrogram from an audio. The result is a 32x32 matrix.\"\"\"\n",
    "\n",
    "    def __init__(self, n_mels=32):\n",
    "        self.n_mels = n_mels\n",
    "\n",
    "    def __call__(self, data):\n",
    "        samples = data['samples']\n",
    "        sample_rate = data['sample_rate']\n",
    "        s = librosa.feature.melspectrogram(samples, sr=sample_rate, n_mels=self.n_mels)\n",
    "        data['mel_spectrogram'] = librosa.power_to_db(s, ref=np.max)\n",
    "        return data"
   ]
  },
  {
   "cell_type": "code",
   "execution_count": 43,
   "metadata": {},
   "outputs": [],
   "source": [
    "valid_feature_transform = Compose([\n",
    "    ToMelSpectrogram(n_mels=n_mels), \n",
    "    ToTensor('mel_spectrogram', 'input')])"
   ]
  },
  {
   "cell_type": "code",
   "execution_count": 44,
   "metadata": {},
   "outputs": [],
   "source": [
    "train_dataset = SpeechCommandsDataset(train_dataset_dir,\n",
    "                                Compose([LoadAudio(),\n",
    "                                         FixAudioLength(),\n",
    "                                         valid_feature_transform]), use_rate=use_rate)"
   ]
  },
  {
   "cell_type": "code",
   "execution_count": 45,
   "metadata": {},
   "outputs": [],
   "source": [
    "# define validation sets\n",
    "\n",
    "# valid_dataset_dir = \"./datasets/speech_commands/valid\"\n",
    "valid_dataset_dir = \"/disk2/ohashi/pytorch-speech-commands/datasets/speech_commands/valid\"\n",
    "\n",
    "valid_dataset = SpeechCommandsDataset(valid_dataset_dir,\n",
    "                                Compose([LoadAudio(),\n",
    "                                         FixAudioLength(),\n",
    "                                         valid_feature_transform]))\n"
   ]
  },
  {
   "cell_type": "code",
   "execution_count": 46,
   "metadata": {},
   "outputs": [
    {
     "data": {
      "text/plain": [
       "8144"
      ]
     },
     "execution_count": 46,
     "metadata": {},
     "output_type": "execute_result"
    }
   ],
   "source": [
    "\n",
    "# get weights for each classes\n",
    "weights = train_dataset.make_weights_for_balanced_classes()\n",
    "len(weights)"
   ]
  },
  {
   "cell_type": "code",
   "execution_count": 47,
   "metadata": {},
   "outputs": [
    {
     "data": {
      "text/plain": [
       "array([4.39740821, 4.39740821, 4.39740821, 4.39740821])"
      ]
     },
     "execution_count": 47,
     "metadata": {},
     "output_type": "execute_result"
    }
   ],
   "source": [
    "weights[:4]"
   ]
  },
  {
   "cell_type": "code",
   "execution_count": 48,
   "metadata": {},
   "outputs": [],
   "source": [
    "# define dataloaders\n",
    "\n",
    "batch_size = 64\n",
    "dataload_workers_nums = 4\n",
    "\n",
    "\n",
    "sampler = WeightedRandomSampler(weights, len(weights))\n",
    "\n",
    "\n",
    "train_dataloader = DataLoader(train_dataset, batch_size=batch_size, sampler=sampler, \n",
    "                              num_workers=dataload_workers_nums)\n",
    "\n",
    "\n",
    "valid_dataloader = DataLoader(valid_dataset, batch_size=batch_size, shuffle=False, \n",
    "                              num_workers=dataload_workers_nums)\n"
   ]
  },
  {
   "cell_type": "code",
   "execution_count": null,
   "metadata": {},
   "outputs": [],
   "source": []
  },
  {
   "cell_type": "code",
   "execution_count": 49,
   "metadata": {},
   "outputs": [],
   "source": [
    "# aaa = next(iter(train_dataloader))"
   ]
  },
  {
   "cell_type": "code",
   "execution_count": null,
   "metadata": {},
   "outputs": [],
   "source": []
  },
  {
   "cell_type": "code",
   "execution_count": null,
   "metadata": {},
   "outputs": [],
   "source": []
  },
  {
   "cell_type": "code",
   "execution_count": 50,
   "metadata": {},
   "outputs": [],
   "source": [
    "# now we can define our architecture"
   ]
  },
  {
   "cell_type": "code",
   "execution_count": 51,
   "metadata": {},
   "outputs": [],
   "source": [
    "def conv3x3(in_planes, out_planes, stride=1):\n",
    "    \"\"\"3x3 convolution with padding\"\"\"\n",
    "    return nn.Conv2d(in_planes, out_planes, kernel_size=3, stride=stride,\n",
    "                     padding=1, bias=False)"
   ]
  },
  {
   "cell_type": "code",
   "execution_count": 52,
   "metadata": {},
   "outputs": [],
   "source": [
    "class BasicBlock(nn.Module):\n",
    "    expansion = 1\n",
    "\n",
    "    def __init__(self, inplanes, planes, stride=1, downsample=None):\n",
    "        super(BasicBlock, self).__init__()\n",
    "        self.conv1 = conv3x3(inplanes, planes, stride)\n",
    "        self.bn1 = nn.BatchNorm2d(planes)\n",
    "        self.relu = nn.ReLU(inplace=True)\n",
    "        self.conv2 = conv3x3(planes, planes)\n",
    "        self.bn2 = nn.BatchNorm2d(planes)\n",
    "        self.downsample = downsample\n",
    "        self.stride = stride\n",
    "\n",
    "    def forward(self, x):\n",
    "        residual = x\n",
    "\n",
    "        out = self.conv1(x)\n",
    "        out = self.bn1(out)\n",
    "        out = self.relu(out)\n",
    "\n",
    "        out = self.conv2(out)\n",
    "        out = self.bn2(out)\n",
    "\n",
    "        if self.downsample is not None:\n",
    "            residual = self.downsample(x)\n",
    "\n",
    "        out += residual\n",
    "        out = self.relu(out)\n",
    "\n",
    "        return out"
   ]
  },
  {
   "cell_type": "code",
   "execution_count": 53,
   "metadata": {},
   "outputs": [],
   "source": [
    "class ResNet(nn.Module):\n",
    "\n",
    "    def __init__(self, block, layers, num_classes=1000, in_channels=3):\n",
    "        self.inplanes = 64\n",
    "        super(ResNet, self).__init__()\n",
    "        self.conv1 = nn.Conv2d(in_channels, 64, kernel_size=7, stride=2, padding=3,\n",
    "                               bias=False)\n",
    "        self.bn1 = nn.BatchNorm2d(64)\n",
    "        self.relu = nn.ReLU(inplace=True)\n",
    "        self.maxpool = nn.MaxPool2d(kernel_size=3, stride=2, padding=1)\n",
    "        self.layer1 = self._make_layer(block, 64, layers[0])\n",
    "        self.layer2 = self._make_layer(block, 128, layers[1], stride=2)\n",
    "        self.layer3 = self._make_layer(block, 256, layers[2], stride=2)\n",
    "        self.layer4 = self._make_layer(block, 512, layers[3], stride=2)\n",
    "        self.avgpool = nn.AvgPool2d(1, stride=1)\n",
    "        self.fc = nn.Linear(512 * block.expansion, num_classes)\n",
    "\n",
    "        for m in self.modules():\n",
    "            if isinstance(m, nn.Conv2d):\n",
    "                n = m.kernel_size[0] * m.kernel_size[1] * m.out_channels\n",
    "                m.weight.data.normal_(0, math.sqrt(2. / n))\n",
    "            elif isinstance(m, nn.BatchNorm2d):\n",
    "                m.weight.data.fill_(1)\n",
    "                m.bias.data.zero_()\n",
    "\n",
    "    def _make_layer(self, block, planes, blocks, stride=1):\n",
    "        downsample = None\n",
    "        if stride != 1 or self.inplanes != planes * block.expansion:\n",
    "            downsample = nn.Sequential(\n",
    "                nn.Conv2d(self.inplanes, planes * block.expansion,\n",
    "                          kernel_size=1, stride=stride, bias=False),\n",
    "                nn.BatchNorm2d(planes * block.expansion),\n",
    "            )\n",
    "\n",
    "        layers = []\n",
    "        layers.append(block(self.inplanes, planes, stride, downsample))\n",
    "        self.inplanes = planes * block.expansion\n",
    "        for i in range(1, blocks):\n",
    "            layers.append(block(self.inplanes, planes))\n",
    "\n",
    "        return nn.Sequential(*layers)\n",
    "\n",
    "    def forward(self, x):\n",
    "        x = self.conv1(x)\n",
    "        x = self.bn1(x)\n",
    "        x = self.relu(x)\n",
    "        x = self.maxpool(x)\n",
    "\n",
    "        x = self.layer1(x)\n",
    "        x = self.layer2(x)\n",
    "        x = self.layer3(x)\n",
    "        x = self.layer4(x)\n",
    "\n",
    "        x = self.avgpool(x)\n",
    "        x = x.view(x.size(0), -1)\n",
    "        x = self.fc(x)\n",
    "\n",
    "        return x"
   ]
  },
  {
   "cell_type": "code",
   "execution_count": 54,
   "metadata": {},
   "outputs": [],
   "source": [
    "def resnet34(pretrained=False, **kwargs):\n",
    "    \"\"\"Constructs a ResNet-34 model.\n",
    "    Args:\n",
    "        pretrained (bool): If True, returns a model pre-trained on ImageNet\n",
    "    \"\"\"\n",
    "    model = ResNet(BasicBlock, [3, 4, 6, 3], **kwargs)\n",
    "    if pretrained:\n",
    "        model.load_state_dict(model_zoo.load_url('https://download.pytorch.org/models/resnet34-333f7ec4.pth'))\n",
    "    return model"
   ]
  },
  {
   "cell_type": "code",
   "execution_count": 55,
   "metadata": {},
   "outputs": [],
   "source": [
    "# create model \n",
    "model = resnet34(num_classes=len(CLASSES), in_channels=1)\n"
   ]
  },
  {
   "cell_type": "code",
   "execution_count": 56,
   "metadata": {},
   "outputs": [
    {
     "data": {
      "text/plain": [
       "ResNet(\n",
       "  (conv1): Conv2d(1, 64, kernel_size=(7, 7), stride=(2, 2), padding=(3, 3), bias=False)\n",
       "  (bn1): BatchNorm2d(64, eps=1e-05, momentum=0.1, affine=True, track_running_stats=True)\n",
       "  (relu): ReLU(inplace=True)\n",
       "  (maxpool): MaxPool2d(kernel_size=3, stride=2, padding=1, dilation=1, ceil_mode=False)\n",
       "  (layer1): Sequential(\n",
       "    (0): BasicBlock(\n",
       "      (conv1): Conv2d(64, 64, kernel_size=(3, 3), stride=(1, 1), padding=(1, 1), bias=False)\n",
       "      (bn1): BatchNorm2d(64, eps=1e-05, momentum=0.1, affine=True, track_running_stats=True)\n",
       "      (relu): ReLU(inplace=True)\n",
       "      (conv2): Conv2d(64, 64, kernel_size=(3, 3), stride=(1, 1), padding=(1, 1), bias=False)\n",
       "      (bn2): BatchNorm2d(64, eps=1e-05, momentum=0.1, affine=True, track_running_stats=True)\n",
       "    )\n",
       "    (1): BasicBlock(\n",
       "      (conv1): Conv2d(64, 64, kernel_size=(3, 3), stride=(1, 1), padding=(1, 1), bias=False)\n",
       "      (bn1): BatchNorm2d(64, eps=1e-05, momentum=0.1, affine=True, track_running_stats=True)\n",
       "      (relu): ReLU(inplace=True)\n",
       "      (conv2): Conv2d(64, 64, kernel_size=(3, 3), stride=(1, 1), padding=(1, 1), bias=False)\n",
       "      (bn2): BatchNorm2d(64, eps=1e-05, momentum=0.1, affine=True, track_running_stats=True)\n",
       "    )\n",
       "    (2): BasicBlock(\n",
       "      (conv1): Conv2d(64, 64, kernel_size=(3, 3), stride=(1, 1), padding=(1, 1), bias=False)\n",
       "      (bn1): BatchNorm2d(64, eps=1e-05, momentum=0.1, affine=True, track_running_stats=True)\n",
       "      (relu): ReLU(inplace=True)\n",
       "      (conv2): Conv2d(64, 64, kernel_size=(3, 3), stride=(1, 1), padding=(1, 1), bias=False)\n",
       "      (bn2): BatchNorm2d(64, eps=1e-05, momentum=0.1, affine=True, track_running_stats=True)\n",
       "    )\n",
       "  )\n",
       "  (layer2): Sequential(\n",
       "    (0): BasicBlock(\n",
       "      (conv1): Conv2d(64, 128, kernel_size=(3, 3), stride=(2, 2), padding=(1, 1), bias=False)\n",
       "      (bn1): BatchNorm2d(128, eps=1e-05, momentum=0.1, affine=True, track_running_stats=True)\n",
       "      (relu): ReLU(inplace=True)\n",
       "      (conv2): Conv2d(128, 128, kernel_size=(3, 3), stride=(1, 1), padding=(1, 1), bias=False)\n",
       "      (bn2): BatchNorm2d(128, eps=1e-05, momentum=0.1, affine=True, track_running_stats=True)\n",
       "      (downsample): Sequential(\n",
       "        (0): Conv2d(64, 128, kernel_size=(1, 1), stride=(2, 2), bias=False)\n",
       "        (1): BatchNorm2d(128, eps=1e-05, momentum=0.1, affine=True, track_running_stats=True)\n",
       "      )\n",
       "    )\n",
       "    (1): BasicBlock(\n",
       "      (conv1): Conv2d(128, 128, kernel_size=(3, 3), stride=(1, 1), padding=(1, 1), bias=False)\n",
       "      (bn1): BatchNorm2d(128, eps=1e-05, momentum=0.1, affine=True, track_running_stats=True)\n",
       "      (relu): ReLU(inplace=True)\n",
       "      (conv2): Conv2d(128, 128, kernel_size=(3, 3), stride=(1, 1), padding=(1, 1), bias=False)\n",
       "      (bn2): BatchNorm2d(128, eps=1e-05, momentum=0.1, affine=True, track_running_stats=True)\n",
       "    )\n",
       "    (2): BasicBlock(\n",
       "      (conv1): Conv2d(128, 128, kernel_size=(3, 3), stride=(1, 1), padding=(1, 1), bias=False)\n",
       "      (bn1): BatchNorm2d(128, eps=1e-05, momentum=0.1, affine=True, track_running_stats=True)\n",
       "      (relu): ReLU(inplace=True)\n",
       "      (conv2): Conv2d(128, 128, kernel_size=(3, 3), stride=(1, 1), padding=(1, 1), bias=False)\n",
       "      (bn2): BatchNorm2d(128, eps=1e-05, momentum=0.1, affine=True, track_running_stats=True)\n",
       "    )\n",
       "    (3): BasicBlock(\n",
       "      (conv1): Conv2d(128, 128, kernel_size=(3, 3), stride=(1, 1), padding=(1, 1), bias=False)\n",
       "      (bn1): BatchNorm2d(128, eps=1e-05, momentum=0.1, affine=True, track_running_stats=True)\n",
       "      (relu): ReLU(inplace=True)\n",
       "      (conv2): Conv2d(128, 128, kernel_size=(3, 3), stride=(1, 1), padding=(1, 1), bias=False)\n",
       "      (bn2): BatchNorm2d(128, eps=1e-05, momentum=0.1, affine=True, track_running_stats=True)\n",
       "    )\n",
       "  )\n",
       "  (layer3): Sequential(\n",
       "    (0): BasicBlock(\n",
       "      (conv1): Conv2d(128, 256, kernel_size=(3, 3), stride=(2, 2), padding=(1, 1), bias=False)\n",
       "      (bn1): BatchNorm2d(256, eps=1e-05, momentum=0.1, affine=True, track_running_stats=True)\n",
       "      (relu): ReLU(inplace=True)\n",
       "      (conv2): Conv2d(256, 256, kernel_size=(3, 3), stride=(1, 1), padding=(1, 1), bias=False)\n",
       "      (bn2): BatchNorm2d(256, eps=1e-05, momentum=0.1, affine=True, track_running_stats=True)\n",
       "      (downsample): Sequential(\n",
       "        (0): Conv2d(128, 256, kernel_size=(1, 1), stride=(2, 2), bias=False)\n",
       "        (1): BatchNorm2d(256, eps=1e-05, momentum=0.1, affine=True, track_running_stats=True)\n",
       "      )\n",
       "    )\n",
       "    (1): BasicBlock(\n",
       "      (conv1): Conv2d(256, 256, kernel_size=(3, 3), stride=(1, 1), padding=(1, 1), bias=False)\n",
       "      (bn1): BatchNorm2d(256, eps=1e-05, momentum=0.1, affine=True, track_running_stats=True)\n",
       "      (relu): ReLU(inplace=True)\n",
       "      (conv2): Conv2d(256, 256, kernel_size=(3, 3), stride=(1, 1), padding=(1, 1), bias=False)\n",
       "      (bn2): BatchNorm2d(256, eps=1e-05, momentum=0.1, affine=True, track_running_stats=True)\n",
       "    )\n",
       "    (2): BasicBlock(\n",
       "      (conv1): Conv2d(256, 256, kernel_size=(3, 3), stride=(1, 1), padding=(1, 1), bias=False)\n",
       "      (bn1): BatchNorm2d(256, eps=1e-05, momentum=0.1, affine=True, track_running_stats=True)\n",
       "      (relu): ReLU(inplace=True)\n",
       "      (conv2): Conv2d(256, 256, kernel_size=(3, 3), stride=(1, 1), padding=(1, 1), bias=False)\n",
       "      (bn2): BatchNorm2d(256, eps=1e-05, momentum=0.1, affine=True, track_running_stats=True)\n",
       "    )\n",
       "    (3): BasicBlock(\n",
       "      (conv1): Conv2d(256, 256, kernel_size=(3, 3), stride=(1, 1), padding=(1, 1), bias=False)\n",
       "      (bn1): BatchNorm2d(256, eps=1e-05, momentum=0.1, affine=True, track_running_stats=True)\n",
       "      (relu): ReLU(inplace=True)\n",
       "      (conv2): Conv2d(256, 256, kernel_size=(3, 3), stride=(1, 1), padding=(1, 1), bias=False)\n",
       "      (bn2): BatchNorm2d(256, eps=1e-05, momentum=0.1, affine=True, track_running_stats=True)\n",
       "    )\n",
       "    (4): BasicBlock(\n",
       "      (conv1): Conv2d(256, 256, kernel_size=(3, 3), stride=(1, 1), padding=(1, 1), bias=False)\n",
       "      (bn1): BatchNorm2d(256, eps=1e-05, momentum=0.1, affine=True, track_running_stats=True)\n",
       "      (relu): ReLU(inplace=True)\n",
       "      (conv2): Conv2d(256, 256, kernel_size=(3, 3), stride=(1, 1), padding=(1, 1), bias=False)\n",
       "      (bn2): BatchNorm2d(256, eps=1e-05, momentum=0.1, affine=True, track_running_stats=True)\n",
       "    )\n",
       "    (5): BasicBlock(\n",
       "      (conv1): Conv2d(256, 256, kernel_size=(3, 3), stride=(1, 1), padding=(1, 1), bias=False)\n",
       "      (bn1): BatchNorm2d(256, eps=1e-05, momentum=0.1, affine=True, track_running_stats=True)\n",
       "      (relu): ReLU(inplace=True)\n",
       "      (conv2): Conv2d(256, 256, kernel_size=(3, 3), stride=(1, 1), padding=(1, 1), bias=False)\n",
       "      (bn2): BatchNorm2d(256, eps=1e-05, momentum=0.1, affine=True, track_running_stats=True)\n",
       "    )\n",
       "  )\n",
       "  (layer4): Sequential(\n",
       "    (0): BasicBlock(\n",
       "      (conv1): Conv2d(256, 512, kernel_size=(3, 3), stride=(2, 2), padding=(1, 1), bias=False)\n",
       "      (bn1): BatchNorm2d(512, eps=1e-05, momentum=0.1, affine=True, track_running_stats=True)\n",
       "      (relu): ReLU(inplace=True)\n",
       "      (conv2): Conv2d(512, 512, kernel_size=(3, 3), stride=(1, 1), padding=(1, 1), bias=False)\n",
       "      (bn2): BatchNorm2d(512, eps=1e-05, momentum=0.1, affine=True, track_running_stats=True)\n",
       "      (downsample): Sequential(\n",
       "        (0): Conv2d(256, 512, kernel_size=(1, 1), stride=(2, 2), bias=False)\n",
       "        (1): BatchNorm2d(512, eps=1e-05, momentum=0.1, affine=True, track_running_stats=True)\n",
       "      )\n",
       "    )\n",
       "    (1): BasicBlock(\n",
       "      (conv1): Conv2d(512, 512, kernel_size=(3, 3), stride=(1, 1), padding=(1, 1), bias=False)\n",
       "      (bn1): BatchNorm2d(512, eps=1e-05, momentum=0.1, affine=True, track_running_stats=True)\n",
       "      (relu): ReLU(inplace=True)\n",
       "      (conv2): Conv2d(512, 512, kernel_size=(3, 3), stride=(1, 1), padding=(1, 1), bias=False)\n",
       "      (bn2): BatchNorm2d(512, eps=1e-05, momentum=0.1, affine=True, track_running_stats=True)\n",
       "    )\n",
       "    (2): BasicBlock(\n",
       "      (conv1): Conv2d(512, 512, kernel_size=(3, 3), stride=(1, 1), padding=(1, 1), bias=False)\n",
       "      (bn1): BatchNorm2d(512, eps=1e-05, momentum=0.1, affine=True, track_running_stats=True)\n",
       "      (relu): ReLU(inplace=True)\n",
       "      (conv2): Conv2d(512, 512, kernel_size=(3, 3), stride=(1, 1), padding=(1, 1), bias=False)\n",
       "      (bn2): BatchNorm2d(512, eps=1e-05, momentum=0.1, affine=True, track_running_stats=True)\n",
       "    )\n",
       "  )\n",
       "  (avgpool): AvgPool2d(kernel_size=1, stride=1, padding=0)\n",
       "  (fc): Linear(in_features=512, out_features=6, bias=True)\n",
       ")"
      ]
     },
     "execution_count": 56,
     "metadata": {},
     "output_type": "execute_result"
    }
   ],
   "source": [
    "model"
   ]
  },
  {
   "cell_type": "code",
   "execution_count": 57,
   "metadata": {},
   "outputs": [],
   "source": [
    "device = torch.device(\"cuda\")\n",
    "\n",
    "# if use_gpu:\n",
    "#     device = torch.device(\"cuda\")\n",
    "# else:\n",
    "#     device = torch.device(\"cpu\")\n"
   ]
  },
  {
   "cell_type": "code",
   "execution_count": null,
   "metadata": {},
   "outputs": [],
   "source": []
  },
  {
   "cell_type": "code",
   "execution_count": 58,
   "metadata": {},
   "outputs": [],
   "source": [
    "# move model to gpu if you use gpu\n",
    "model = model.to(device)\n",
    "# model.to(device)"
   ]
  },
  {
   "cell_type": "code",
   "execution_count": 59,
   "metadata": {},
   "outputs": [],
   "source": [
    "# loss function is normal crossentrophy\n",
    "criterion = torch.nn.CrossEntropyLoss()"
   ]
  },
  {
   "cell_type": "code",
   "execution_count": 60,
   "metadata": {},
   "outputs": [],
   "source": [
    "\n",
    "# define optimizer\n",
    "# adamw seems to be best\n",
    "learning_rate = 1e-4\n",
    "weight_decay = 1e-2\n",
    "\n",
    "# # SGD works\n",
    "# # optimizer = torch.optim.SGD(model.parameters(), lr=learning_rate, momentum=0.9, weight_decay=1e-2)\n",
    "# optimizer = torch.optim.SGD(model.parameters(), lr=learning_rate, weight_decay=1e-2)\n",
    "\n",
    "# AdamW is best\n",
    "optimizer = torch.optim.AdamW(model.parameters(), lr=learning_rate, weight_decay=weight_decay)\n"
   ]
  },
  {
   "cell_type": "code",
   "execution_count": null,
   "metadata": {},
   "outputs": [],
   "source": []
  },
  {
   "cell_type": "code",
   "execution_count": 61,
   "metadata": {},
   "outputs": [],
   "source": [
    "start_timestamp = int(time.time()*1000)\n",
    "start_epoch = 0\n",
    "# max_epochs = 70\n",
    "max_epochs = 18\n",
    "best_accuracy = 0\n",
    "best_loss = 1e100\n",
    "global_step = 0"
   ]
  },
  {
   "cell_type": "code",
   "execution_count": 62,
   "metadata": {},
   "outputs": [],
   "source": [
    "# probably we don't need schduler for this tutorial\n",
    "\n",
    "lr_scheduler_patience = 5\n",
    "lr_scheduler_gamma = 0.1\n",
    "\n",
    "lr_scheduler = torch.optim.lr_scheduler.ReduceLROnPlateau(\n",
    "    optimizer, \n",
    "    patience=lr_scheduler_patience, \n",
    "    factor=lr_scheduler_gamma)\n"
   ]
  },
  {
   "cell_type": "code",
   "execution_count": 63,
   "metadata": {},
   "outputs": [],
   "source": [
    "def get_lr():\n",
    "    return optimizer.param_groups[0]['lr']"
   ]
  },
  {
   "cell_type": "code",
   "execution_count": 64,
   "metadata": {},
   "outputs": [],
   "source": [
    "\n",
    "full_name = \"basic-sgd\"\n",
    "\n",
    "def train(epoch):\n",
    "    global global_step\n",
    "\n",
    "    # print(\"epoch %3d with lr=%.02e\" % (epoch, get_lr()))\n",
    "    phase = 'train'\n",
    "    \n",
    "    model.train()  # Set model to training mode\n",
    "\n",
    "    running_loss = 0.0\n",
    "    it = 0\n",
    "    correct = 0\n",
    "    total = 0\n",
    "\n",
    "    pbar = tqdm(train_dataloader, unit=\"audios\", unit_scale=train_dataloader.batch_size)\n",
    "    for batch in pbar:\n",
    "        \n",
    "        optimizer.zero_grad()\n",
    "        \n",
    "#         inputs_x = batch[0]\n",
    "        inputs = batch[0]\n",
    "        targets = batch[1]\n",
    "        \n",
    "        # inputs = batch['input']\n",
    "        # inputs = inputs_x['input']\n",
    "        inputs = torch.unsqueeze(inputs, 1)\n",
    "#         targets = batch['target']\n",
    "        \n",
    "        inputs = inputs.to(device)\n",
    "        targets = targets.to(device)\n",
    "\n",
    "        # forward/backward\n",
    "        outputs = model(inputs)\n",
    "\n",
    "        loss = criterion(outputs, targets)\n",
    "        \n",
    "        loss.backward()\n",
    "        optimizer.step()\n",
    "\n",
    "        # statistics\n",
    "        it += 1\n",
    "        global_step += 1\n",
    "    \n",
    "        # running_loss += loss.data[0]\n",
    "        running_loss += loss.item()\n",
    "        \n",
    "        pred = outputs.max(1, keepdim=True)[1]\n",
    "        \n",
    "        # correct += pred.eq(targets.data.view_as(pred)).sum().item()\n",
    "        correct += pred.eq(targets.view_as(pred)).sum().item()\n",
    "        total += targets.size(0)\n",
    "        \n",
    "        # update the progress bar    \n",
    "        pbar.set_postfix({\n",
    "            'loss': \"%.05f\" % (running_loss / it),\n",
    "            'acc': \"%.02f%%\" % (100*correct/total)\n",
    "        })\n",
    "    \n",
    "    accuracy = correct/total\n",
    "    epoch_loss = running_loss / it\n",
    "    print('%s/accuracy' % phase, 100*accuracy, epoch)\n",
    "    print('%s/epoch_loss' % phase, epoch_loss, epoch)\n",
    "    "
   ]
  },
  {
   "cell_type": "code",
   "execution_count": 65,
   "metadata": {},
   "outputs": [],
   "source": [
    "def valid(epoch):\n",
    "    global best_accuracy, best_loss, global_step\n",
    "\n",
    "    phase = 'valid'\n",
    "    model.eval()  # Set model to evaluate mode\n",
    "\n",
    "    running_loss = 0.0\n",
    "    it = 0\n",
    "    correct = 0\n",
    "    total = 0\n",
    "\n",
    "    pbar = tqdm(valid_dataloader, unit=\"audios\", unit_scale=valid_dataloader.batch_size)\n",
    "    for batch in pbar:\n",
    "        \n",
    "        # inputs_x = batch[0]\n",
    "        inputs = batch[0]\n",
    "        targets = batch[1]\n",
    "        \n",
    "        \n",
    "        # inputs = batch['input']\n",
    "#         inputs = inputs_x['input']\n",
    "        inputs = torch.unsqueeze(inputs, 1)\n",
    "        # targets = batch['target']\n",
    "\n",
    "        inputs = inputs.to(device)\n",
    "        targets = targets.to(device)\n",
    "        \n",
    "        # forward\n",
    "        outputs = model(inputs)\n",
    "        loss = criterion(outputs, targets)\n",
    "\n",
    "        # statistics\n",
    "        it += 1\n",
    "        global_step += 1\n",
    "        running_loss += loss.item()\n",
    "        pred = outputs.data.max(1, keepdim=True)[1]\n",
    "\n",
    "        _correct = pred.eq(targets.view_as(pred)).sum().item()\n",
    "        correct += _correct\n",
    "\n",
    "        total += targets.size(0)\n",
    "        \n",
    "        # update the progress bar\n",
    "        pbar.set_postfix({\n",
    "            'loss': \"%.05f\" % (running_loss / it),\n",
    "            'acc': \"%.02f%%\" % (100*correct/total)\n",
    "        })\n",
    "    \n",
    "    accuracy = correct/total\n",
    "    epoch_loss = running_loss / it\n",
    "    \n",
    "    print('%s/accuracy' % phase, 100*accuracy, epoch)\n",
    "    print('%s/epoch_loss' % phase, epoch_loss, epoch)\n",
    "    \n",
    "    checkpoint = {\n",
    "        'epoch': epoch,\n",
    "        'step': global_step,\n",
    "        'state_dict': model.state_dict(),\n",
    "        'loss': epoch_loss,\n",
    "        'accuracy': accuracy,\n",
    "        'optimizer' : optimizer.state_dict(),\n",
    "    }\n",
    "\n",
    "    if accuracy > best_accuracy:\n",
    "        best_accuracy = accuracy\n",
    "        torch.save(checkpoint, 'checkpoints/best-loss-speech-commands-checkpoint-%s.pth' % full_name)\n",
    "        torch.save(model, '%d-%s-best-loss.pth' % (start_timestamp, full_name))\n",
    "    if epoch_loss < best_loss:\n",
    "        best_loss = epoch_loss\n",
    "        torch.save(checkpoint, 'checkpoints/best-acc-speech-commands-checkpoint-%s.pth' % full_name)\n",
    "        torch.save(model, '%d-%s-best-acc.pth' % (start_timestamp, full_name))\n",
    "    \n",
    "    torch.save(checkpoint, 'checkpoints/last-speech-commands-checkpoint.pth')\n",
    "    del checkpoint  # reduce memory\n",
    "\n",
    "    return epoch_loss"
   ]
  },
  {
   "cell_type": "code",
   "execution_count": null,
   "metadata": {},
   "outputs": [],
   "source": []
  },
  {
   "cell_type": "code",
   "execution_count": 66,
   "metadata": {},
   "outputs": [
    {
     "name": "stderr",
     "output_type": "stream",
     "text": [
      "100%|██████████| 8192/8192 [00:05<00:00, 1614.71audios/s, loss=0.69390, acc=71.94%]\n",
      "  0%|          | 0/1152 [00:00<?, ?audios/s]"
     ]
    },
    {
     "name": "stdout",
     "output_type": "stream",
     "text": [
      "train/accuracy 71.9425343811395 0\n",
      "train/epoch_loss 0.6939028587657958 0\n"
     ]
    },
    {
     "name": "stderr",
     "output_type": "stream",
     "text": [
      "100%|██████████| 1152/1152 [00:00<00:00, 1687.20audios/s, loss=0.46859, acc=82.94%]\n"
     ]
    },
    {
     "name": "stdout",
     "output_type": "stream",
     "text": [
      "valid/accuracy 82.93755496921725 0\n",
      "valid/epoch_loss 0.46859290781948304 0\n"
     ]
    },
    {
     "name": "stderr",
     "output_type": "stream",
     "text": [
      "100%|██████████| 8192/8192 [00:05<00:00, 1575.40audios/s, loss=0.27666, acc=89.71%]\n",
      "  0%|          | 0/1152 [00:00<?, ?audios/s]"
     ]
    },
    {
     "name": "stdout",
     "output_type": "stream",
     "text": [
      "train/accuracy 89.71021611001964 1\n",
      "train/epoch_loss 0.2766589086968452 1\n"
     ]
    },
    {
     "name": "stderr",
     "output_type": "stream",
     "text": [
      "100%|██████████| 1152/1152 [00:00<00:00, 1673.82audios/s, loss=0.35145, acc=86.19%]\n"
     ]
    },
    {
     "name": "stdout",
     "output_type": "stream",
     "text": [
      "valid/accuracy 86.19173262972735 1\n",
      "valid/epoch_loss 0.3514523050851292 1\n"
     ]
    },
    {
     "name": "stderr",
     "output_type": "stream",
     "text": [
      "100%|██████████| 8192/8192 [00:04<00:00, 1801.48audios/s, loss=0.17751, acc=93.89%]\n",
      "  0%|          | 0/1152 [00:00<?, ?audios/s]"
     ]
    },
    {
     "name": "stdout",
     "output_type": "stream",
     "text": [
      "train/accuracy 93.88506876227898 2\n",
      "train/epoch_loss 0.1775093349860981 2\n"
     ]
    },
    {
     "name": "stderr",
     "output_type": "stream",
     "text": [
      "100%|██████████| 1152/1152 [00:00<00:00, 1697.56audios/s, loss=0.31238, acc=89.09%]\n"
     ]
    },
    {
     "name": "stdout",
     "output_type": "stream",
     "text": [
      "valid/accuracy 89.09410729991205 2\n",
      "valid/epoch_loss 0.3123849063283867 2\n"
     ]
    },
    {
     "name": "stderr",
     "output_type": "stream",
     "text": [
      "100%|██████████| 8192/8192 [00:05<00:00, 1612.09audios/s, loss=0.12740, acc=95.27%]\n",
      "  0%|          | 0/1152 [00:00<?, ?audios/s]"
     ]
    },
    {
     "name": "stdout",
     "output_type": "stream",
     "text": [
      "train/accuracy 95.27259332023576 3\n",
      "train/epoch_loss 0.12740356803988107 3\n"
     ]
    },
    {
     "name": "stderr",
     "output_type": "stream",
     "text": [
      "100%|██████████| 1152/1152 [00:00<00:00, 1696.22audios/s, loss=0.31827, acc=89.18%]\n"
     ]
    },
    {
     "name": "stdout",
     "output_type": "stream",
     "text": [
      "valid/accuracy 89.18205804749341 3\n",
      "valid/epoch_loss 0.31826657243072987 3\n"
     ]
    },
    {
     "name": "stderr",
     "output_type": "stream",
     "text": [
      "100%|██████████| 8192/8192 [00:04<00:00, 1649.11audios/s, loss=0.10501, acc=96.28%]\n",
      "  0%|          | 0/1152 [00:00<?, ?audios/s]"
     ]
    },
    {
     "name": "stdout",
     "output_type": "stream",
     "text": [
      "train/accuracy 96.2794695481336 4\n",
      "train/epoch_loss 0.10501195277902298 4\n"
     ]
    },
    {
     "name": "stderr",
     "output_type": "stream",
     "text": [
      "100%|██████████| 1152/1152 [00:00<00:00, 1659.67audios/s, loss=0.30656, acc=90.33%]\n"
     ]
    },
    {
     "name": "stdout",
     "output_type": "stream",
     "text": [
      "valid/accuracy 90.325417766051 4\n",
      "valid/epoch_loss 0.30655685087872875 4\n"
     ]
    },
    {
     "name": "stderr",
     "output_type": "stream",
     "text": [
      "100%|██████████| 8192/8192 [00:04<00:00, 1646.42audios/s, loss=0.08132, acc=97.13%]\n",
      "  0%|          | 0/1152 [00:00<?, ?audios/s]"
     ]
    },
    {
     "name": "stdout",
     "output_type": "stream",
     "text": [
      "train/accuracy 97.12671905697447 5\n",
      "train/epoch_loss 0.0813232990767574 5\n"
     ]
    },
    {
     "name": "stderr",
     "output_type": "stream",
     "text": [
      "100%|██████████| 1152/1152 [00:00<00:00, 1692.94audios/s, loss=0.27001, acc=91.56%]\n"
     ]
    },
    {
     "name": "stdout",
     "output_type": "stream",
     "text": [
      "valid/accuracy 91.55672823218998 5\n",
      "valid/epoch_loss 0.2700147374222676 5\n"
     ]
    },
    {
     "name": "stderr",
     "output_type": "stream",
     "text": [
      "100%|██████████| 8192/8192 [00:04<00:00, 1796.01audios/s, loss=0.05581, acc=98.28%]\n",
      "  0%|          | 0/1152 [00:00<?, ?audios/s]"
     ]
    },
    {
     "name": "stdout",
     "output_type": "stream",
     "text": [
      "train/accuracy 98.28094302554028 6\n",
      "train/epoch_loss 0.05581033421913162 6\n"
     ]
    },
    {
     "name": "stderr",
     "output_type": "stream",
     "text": [
      "100%|██████████| 1152/1152 [00:00<00:00, 1668.18audios/s, loss=0.22746, acc=92.52%]\n"
     ]
    },
    {
     "name": "stdout",
     "output_type": "stream",
     "text": [
      "valid/accuracy 92.52418645558487 6\n",
      "valid/epoch_loss 0.22745856249497998 6\n"
     ]
    },
    {
     "name": "stderr",
     "output_type": "stream",
     "text": [
      "100%|██████████| 8192/8192 [00:04<00:00, 1697.01audios/s, loss=0.05988, acc=98.12%]\n",
      "  0%|          | 0/1152 [00:00<?, ?audios/s]"
     ]
    },
    {
     "name": "stdout",
     "output_type": "stream",
     "text": [
      "train/accuracy 98.1213163064833 7\n",
      "train/epoch_loss 0.05988119027460925 7\n"
     ]
    },
    {
     "name": "stderr",
     "output_type": "stream",
     "text": [
      "100%|██████████| 1152/1152 [00:00<00:00, 1647.34audios/s, loss=0.21959, acc=92.96%]\n"
     ]
    },
    {
     "name": "stdout",
     "output_type": "stream",
     "text": [
      "valid/accuracy 92.96394019349165 7\n",
      "valid/epoch_loss 0.21958968933257791 7\n"
     ]
    },
    {
     "name": "stderr",
     "output_type": "stream",
     "text": [
      "100%|██████████| 8192/8192 [00:05<00:00, 1585.03audios/s, loss=0.04685, acc=98.54%]\n",
      "  0%|          | 0/1152 [00:00<?, ?audios/s]"
     ]
    },
    {
     "name": "stdout",
     "output_type": "stream",
     "text": [
      "train/accuracy 98.53880157170923 8\n",
      "train/epoch_loss 0.04685405133932363 8\n"
     ]
    },
    {
     "name": "stderr",
     "output_type": "stream",
     "text": [
      "100%|██████████| 1152/1152 [00:00<00:00, 1709.87audios/s, loss=0.24148, acc=92.26%]\n"
     ]
    },
    {
     "name": "stdout",
     "output_type": "stream",
     "text": [
      "valid/accuracy 92.26033421284082 8\n",
      "valid/epoch_loss 0.2414831237660514 8\n"
     ]
    },
    {
     "name": "stderr",
     "output_type": "stream",
     "text": [
      "100%|██████████| 8192/8192 [00:04<00:00, 1733.25audios/s, loss=0.06123, acc=97.70%]\n",
      "  0%|          | 0/1152 [00:00<?, ?audios/s]"
     ]
    },
    {
     "name": "stdout",
     "output_type": "stream",
     "text": [
      "train/accuracy 97.70383104125737 9\n",
      "train/epoch_loss 0.06122771849913988 9\n"
     ]
    },
    {
     "name": "stderr",
     "output_type": "stream",
     "text": [
      "100%|██████████| 1152/1152 [00:00<00:00, 1741.89audios/s, loss=0.23804, acc=92.70%]\n"
     ]
    },
    {
     "name": "stdout",
     "output_type": "stream",
     "text": [
      "valid/accuracy 92.70008795074757 9\n",
      "valid/epoch_loss 0.23803803800708717 9\n"
     ]
    },
    {
     "name": "stderr",
     "output_type": "stream",
     "text": [
      "100%|██████████| 8192/8192 [00:04<00:00, 1880.61audios/s, loss=0.04937, acc=98.31%]\n",
      "  0%|          | 0/1152 [00:00<?, ?audios/s]"
     ]
    },
    {
     "name": "stdout",
     "output_type": "stream",
     "text": [
      "train/accuracy 98.30550098231828 10\n",
      "train/epoch_loss 0.049369756830856204 10\n"
     ]
    },
    {
     "name": "stderr",
     "output_type": "stream",
     "text": [
      "100%|██████████| 1152/1152 [00:00<00:00, 1726.43audios/s, loss=0.22708, acc=93.14%]\n"
     ]
    },
    {
     "name": "stdout",
     "output_type": "stream",
     "text": [
      "valid/accuracy 93.13984168865436 10\n",
      "valid/epoch_loss 0.22708116906384626 10\n"
     ]
    },
    {
     "name": "stderr",
     "output_type": "stream",
     "text": [
      "100%|██████████| 8192/8192 [00:04<00:00, 1768.27audios/s, loss=0.04214, acc=98.61%]\n",
      "  0%|          | 0/1152 [00:00<?, ?audios/s]"
     ]
    },
    {
     "name": "stdout",
     "output_type": "stream",
     "text": [
      "train/accuracy 98.61247544204322 11\n",
      "train/epoch_loss 0.042144995473790914 11\n"
     ]
    },
    {
     "name": "stderr",
     "output_type": "stream",
     "text": [
      "100%|██████████| 1152/1152 [00:00<00:00, 1702.25audios/s, loss=0.23848, acc=92.17%]\n"
     ]
    },
    {
     "name": "stdout",
     "output_type": "stream",
     "text": [
      "valid/accuracy 92.17238346525946 11\n",
      "valid/epoch_loss 0.23847967593206298 11\n"
     ]
    },
    {
     "name": "stderr",
     "output_type": "stream",
     "text": [
      "100%|██████████| 8192/8192 [00:04<00:00, 1828.12audios/s, loss=0.03598, acc=98.81%]\n",
      "  0%|          | 0/1152 [00:00<?, ?audios/s]"
     ]
    },
    {
     "name": "stdout",
     "output_type": "stream",
     "text": [
      "train/accuracy 98.8089390962672 12\n",
      "train/epoch_loss 0.0359831686510006 12\n"
     ]
    },
    {
     "name": "stderr",
     "output_type": "stream",
     "text": [
      "100%|██████████| 1152/1152 [00:00<00:00, 1676.46audios/s, loss=0.22819, acc=92.70%]\n"
     ]
    },
    {
     "name": "stdout",
     "output_type": "stream",
     "text": [
      "valid/accuracy 92.70008795074757 12\n",
      "valid/epoch_loss 0.22819143906235695 12\n"
     ]
    },
    {
     "name": "stderr",
     "output_type": "stream",
     "text": [
      "100%|██████████| 8192/8192 [00:05<00:00, 1615.33audios/s, loss=0.03448, acc=98.87%]\n",
      "  0%|          | 0/1152 [00:00<?, ?audios/s]"
     ]
    },
    {
     "name": "stdout",
     "output_type": "stream",
     "text": [
      "train/accuracy 98.87033398821218 13\n",
      "train/epoch_loss 0.034476944914786145 13\n"
     ]
    },
    {
     "name": "stderr",
     "output_type": "stream",
     "text": [
      "100%|██████████| 1152/1152 [00:00<00:00, 1691.58audios/s, loss=0.20505, acc=93.58%]\n"
     ]
    },
    {
     "name": "stdout",
     "output_type": "stream",
     "text": [
      "valid/accuracy 93.57959542656113 13\n",
      "valid/epoch_loss 0.2050469977160295 13\n"
     ]
    },
    {
     "name": "stderr",
     "output_type": "stream",
     "text": [
      "100%|██████████| 8192/8192 [00:05<00:00, 1616.79audios/s, loss=0.02274, acc=99.15%]\n",
      "  0%|          | 0/1152 [00:00<?, ?audios/s]"
     ]
    },
    {
     "name": "stdout",
     "output_type": "stream",
     "text": [
      "train/accuracy 99.15275049115914 14\n",
      "train/epoch_loss 0.022735498074325733 14\n"
     ]
    },
    {
     "name": "stderr",
     "output_type": "stream",
     "text": [
      "100%|██████████| 1152/1152 [00:00<00:00, 1675.72audios/s, loss=0.19610, acc=93.58%]\n"
     ]
    },
    {
     "name": "stdout",
     "output_type": "stream",
     "text": [
      "valid/accuracy 93.57959542656113 14\n",
      "valid/epoch_loss 0.19610442676477963 14\n"
     ]
    },
    {
     "name": "stderr",
     "output_type": "stream",
     "text": [
      "100%|██████████| 8192/8192 [00:05<00:00, 1579.18audios/s, loss=0.03857, acc=98.87%]\n",
      "  0%|          | 0/1152 [00:00<?, ?audios/s]"
     ]
    },
    {
     "name": "stdout",
     "output_type": "stream",
     "text": [
      "train/accuracy 98.87033398821218 15\n",
      "train/epoch_loss 0.038570907796383835 15\n"
     ]
    },
    {
     "name": "stderr",
     "output_type": "stream",
     "text": [
      "100%|██████████| 1152/1152 [00:00<00:00, 1676.40audios/s, loss=0.19285, acc=93.84%]\n"
     ]
    },
    {
     "name": "stdout",
     "output_type": "stream",
     "text": [
      "valid/accuracy 93.84344766930519 15\n",
      "valid/epoch_loss 0.19285167960657013 15\n"
     ]
    },
    {
     "name": "stderr",
     "output_type": "stream",
     "text": [
      "100%|██████████| 8192/8192 [00:05<00:00, 1573.16audios/s, loss=0.03768, acc=98.81%]\n",
      "  0%|          | 0/1152 [00:00<?, ?audios/s]"
     ]
    },
    {
     "name": "stdout",
     "output_type": "stream",
     "text": [
      "train/accuracy 98.8089390962672 16\n",
      "train/epoch_loss 0.03767617132689338 16\n"
     ]
    },
    {
     "name": "stderr",
     "output_type": "stream",
     "text": [
      "100%|██████████| 1152/1152 [00:00<00:00, 1615.18audios/s, loss=0.25732, acc=92.79%]\n"
     ]
    },
    {
     "name": "stdout",
     "output_type": "stream",
     "text": [
      "valid/accuracy 92.78803869832893 16\n",
      "valid/epoch_loss 0.257320575002167 16\n"
     ]
    },
    {
     "name": "stderr",
     "output_type": "stream",
     "text": [
      "100%|██████████| 8192/8192 [00:04<00:00, 1811.96audios/s, loss=0.05884, acc=98.10%]\n",
      "  0%|          | 0/1152 [00:00<?, ?audios/s]"
     ]
    },
    {
     "name": "stdout",
     "output_type": "stream",
     "text": [
      "train/accuracy 98.09675834970531 17\n",
      "train/epoch_loss 0.05883537254703697 17\n"
     ]
    },
    {
     "name": "stderr",
     "output_type": "stream",
     "text": [
      "100%|██████████| 1152/1152 [00:00<00:00, 1690.63audios/s, loss=0.23055, acc=92.88%]\n"
     ]
    },
    {
     "name": "stdout",
     "output_type": "stream",
     "text": [
      "valid/accuracy 92.87598944591029 17\n",
      "valid/epoch_loss 0.2305483172337214 17\n",
      "finished\n"
     ]
    }
   ],
   "source": [
    "\n",
    "start_epoch = 0\n",
    "\n",
    "if os.path.isdir('./checkpoints') is False:\n",
    "    try:\n",
    "        os.mkdir('./checkpoints')\n",
    "    except OSError:\n",
    "        print (\"Creation of the directory %s failed\" % path)\n",
    "    \n",
    "\n",
    "since = time.time()\n",
    "for epoch in range(start_epoch, max_epochs):\n",
    "\n",
    "    train(epoch)\n",
    "    epoch_loss = valid(epoch)\n",
    "\n",
    "    lr_scheduler.step(metrics=epoch_loss)\n",
    "\n",
    "    time_elapsed = time.time() - since\n",
    "    time_str = 'total time elapsed: {:.0f}h {:.0f}m {:.0f}s '.format(time_elapsed // 3600, time_elapsed % 3600 // 60, time_elapsed % 60)\n",
    "    # print(\"%s, best accuracy: %.02f%%, best loss %f\" % (time_str, 100*best_accuracy, best_loss))\n",
    "    \n",
    "print(\"finished\")\n",
    "\n"
   ]
  },
  {
   "cell_type": "code",
   "execution_count": 67,
   "metadata": {},
   "outputs": [
    {
     "data": {
      "text/plain": [
       "8144"
      ]
     },
     "execution_count": 67,
     "metadata": {},
     "output_type": "execute_result"
    }
   ],
   "source": [
    "len(train_dataset)"
   ]
  },
  {
   "cell_type": "code",
   "execution_count": 68,
   "metadata": {},
   "outputs": [
    {
     "ename": "Exception",
     "evalue": "stop",
     "output_type": "error",
     "traceback": [
      "\u001b[0;31m---------------------------------------------------------------------------\u001b[0m",
      "\u001b[0;31mException\u001b[0m                                 Traceback (most recent call last)",
      "\u001b[0;32m<ipython-input-68-5981adc29e69>\u001b[0m in \u001b[0;36m<module>\u001b[0;34m\u001b[0m\n\u001b[0;32m----> 1\u001b[0;31m \u001b[0;32mraise\u001b[0m \u001b[0mException\u001b[0m\u001b[0;34m(\u001b[0m\u001b[0;34m\"stop\"\u001b[0m\u001b[0;34m)\u001b[0m\u001b[0;34m\u001b[0m\u001b[0;34m\u001b[0m\u001b[0m\n\u001b[0m",
      "\u001b[0;31mException\u001b[0m: stop"
     ]
    }
   ],
   "source": [
    "raise Exception(\"stop\")"
   ]
  },
  {
   "cell_type": "code",
   "execution_count": 69,
   "metadata": {},
   "outputs": [],
   "source": [
    "# test "
   ]
  },
  {
   "cell_type": "code",
   "execution_count": 70,
   "metadata": {},
   "outputs": [
    {
     "data": {
      "text/html": [
       "\n",
       "                <audio  controls=\"controls\" >\n",
       "                    <source src=\"data:audio/x-wav;base64,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\" type=\"audio/x-wav\" />\n",
       "                    Your browser does not support the audio element.\n",
       "                </audio>\n",
       "              "
      ],
      "text/plain": [
       "<IPython.lib.display.Audio object>"
      ]
     },
     "execution_count": 70,
     "metadata": {},
     "output_type": "execute_result"
    }
   ],
   "source": [
    "# First, let's see a data sample\n",
    "\n",
    "import IPython.display\n",
    "example_path = \"ko_voice_right_16000.wav\"\n",
    "\n",
    "IPython.display.Audio(example_path)"
   ]
  },
  {
   "cell_type": "code",
   "execution_count": 71,
   "metadata": {},
   "outputs": [],
   "source": [
    "# define model again\n",
    "model2 = resnet34(num_classes=len(CLASSES), in_channels=1)"
   ]
  },
  {
   "cell_type": "code",
   "execution_count": 72,
   "metadata": {},
   "outputs": [
    {
     "data": {
      "text/plain": [
       "16000"
      ]
     },
     "execution_count": 72,
     "metadata": {},
     "output_type": "execute_result"
    }
   ],
   "source": [
    "# load audio \n",
    "_load_audio = LoadAudio()\n",
    "_audio_sample = _load_audio(sample_data)\n",
    "len(_audio_sample[\"samples\"])"
   ]
  },
  {
   "cell_type": "code",
   "execution_count": 73,
   "metadata": {},
   "outputs": [],
   "source": [
    "_fixAudioLength = FixAudioLength()"
   ]
  },
  {
   "cell_type": "code",
   "execution_count": 74,
   "metadata": {},
   "outputs": [],
   "source": [
    "_fixed_sample = _fixAudioLength(_audio_sample)"
   ]
  },
  {
   "cell_type": "code",
   "execution_count": 75,
   "metadata": {},
   "outputs": [
    {
     "data": {
      "text/plain": [
       "torch.Size([32, 32])"
      ]
     },
     "execution_count": 75,
     "metadata": {},
     "output_type": "execute_result"
    }
   ],
   "source": [
    "_processed_input = valid_feature_transform(_fixed_sample)\n",
    "_processed_input = _processed_input['input']\n",
    "_processed_input.shape"
   ]
  },
  {
   "cell_type": "code",
   "execution_count": 76,
   "metadata": {},
   "outputs": [
    {
     "data": {
      "text/plain": [
       "torch.Size([1, 1, 32, 32])"
      ]
     },
     "execution_count": 76,
     "metadata": {},
     "output_type": "execute_result"
    }
   ],
   "source": [
    "_processed_input = _processed_input[None]\n",
    "_processed_input = _processed_input[None]\n",
    "_processed_input.shape"
   ]
  },
  {
   "cell_type": "code",
   "execution_count": 77,
   "metadata": {},
   "outputs": [],
   "source": [
    "# load saved weights\n",
    "weight_path2 = \"./checkpoints/best-acc-speech-commands-checkpoint-basic1.pth\"\n",
    "# weight_path2 = \"./checkpoints/best-acc-speech-commands-checkpoint-speech_command_with_fl.pth\"\n",
    "# weight_path2 = \"./checkpoints/last-speech-commands-checkpoint.pth\"\n",
    "\n",
    "state2 = torch.load(\n",
    "    weight_path2, \n",
    "    map_location=torch.device(\"cpu\"))\n",
    "\n",
    "_ = model2.load_state_dict(state2['state_dict'])"
   ]
  },
  {
   "cell_type": "code",
   "execution_count": 78,
   "metadata": {},
   "outputs": [
    {
     "data": {
      "text/plain": [
       "tensor([[5]])"
      ]
     },
     "execution_count": 78,
     "metadata": {},
     "output_type": "execute_result"
    }
   ],
   "source": [
    "# get prediction\n",
    "_ = model2.eval()\n",
    "_eval_output = model2(_processed_input)\n",
    "_eval_pred = _eval_output.max(1, keepdim=True)[1]\n",
    "_eval_pred\n",
    "\n"
   ]
  },
  {
   "cell_type": "code",
   "execution_count": 79,
   "metadata": {},
   "outputs": [
    {
     "data": {
      "text/plain": [
       "['unknown', 'silence', 'yes', 'no', 'left', 'right']"
      ]
     },
     "execution_count": 79,
     "metadata": {},
     "output_type": "execute_result"
    }
   ],
   "source": [
    "CLASSES"
   ]
  },
  {
   "cell_type": "code",
   "execution_count": null,
   "metadata": {},
   "outputs": [],
   "source": []
  },
  {
   "cell_type": "code",
   "execution_count": null,
   "metadata": {},
   "outputs": [],
   "source": []
  },
  {
   "cell_type": "code",
   "execution_count": null,
   "metadata": {},
   "outputs": [],
   "source": []
  },
  {
   "cell_type": "code",
   "execution_count": null,
   "metadata": {},
   "outputs": [],
   "source": []
  },
  {
   "cell_type": "code",
   "execution_count": null,
   "metadata": {},
   "outputs": [],
   "source": []
  },
  {
   "cell_type": "code",
   "execution_count": null,
   "metadata": {},
   "outputs": [],
   "source": []
  },
  {
   "cell_type": "code",
   "execution_count": null,
   "metadata": {},
   "outputs": [],
   "source": []
  }
 ],
 "metadata": {
  "kernelspec": {
   "display_name": "Python 3",
   "language": "python",
   "name": "python3"
  },
  "language_info": {
   "codemirror_mode": {
    "name": "ipython",
    "version": 3
   },
   "file_extension": ".py",
   "mimetype": "text/x-python",
   "name": "python",
   "nbconvert_exporter": "python",
   "pygments_lexer": "ipython3",
   "version": "3.7.7"
  }
 },
 "nbformat": 4,
 "nbformat_minor": 4
}
