{
 "cells": [
  {
   "cell_type": "markdown",
   "metadata": {
    "id": "VeWPyTlB_KbJ"
   },
   "source": [
    "# 実践その壱\n",
    "自分で用意したデータを使って画像分類モデルをトレーニングし、結果を評価する。\n",
    "\n",
    "## 条件\n",
    "- 分類してみたい画像を最低3カテゴリー用意する。レッスン2で使用した「グリズリー」「ブラックベア」「テディベア」はNG。各カテゴリー50個以上データサンプルがあること。\n",
    "- fastaiのライブラリを使用すること\n",
    "\n",
    "\n",
    "## ヒント\n",
    "- レッスン2の動画（ https://www.youtube.com/watch?v=MIaAUIc87r4&list=PLPth6MvJU5iFbsl1eNOLV1jJUv2JMjdgg ） を参考にAzureのSearch APIを使ってデータをダウンロードするもよし、こちらの動画（ https://www.youtube.com/watch?v=YZ0czV4N9d0&list=PLPth6MvJU5iEG4Ql3RbKdj7fWWu4JSJmH ）Googleで検索した画像をJavascriptで落とすのも良し。一つ一つ手動でダウロードして一つずつアップロードするも良し。方法は自由です。\n",
    "\n",
    "### その他\n",
    "fastaiのバージョンは2.xを使用してください。Google Colabにデフォルトで入っているバージョンは1.0のため、まず最初にfastaiをアップグレードする必要があります。\n",
    "\n",
    "```\n",
    "! pip install --upgrade fastai==2.4.1\n",
    "```\n",
    "\n",
    "上記実行後、ランタイムを再起動します。GPUを使う設定も忘れずに。"
   ]
  },
  {
   "cell_type": "code",
   "execution_count": null,
   "metadata": {
    "id": "qlUfRqGv_Mzz"
   },
   "outputs": [],
   "source": [
    "!pip install --upgrade fastai==2.4.1"
   ]
  },
  {
   "cell_type": "code",
   "execution_count": null,
   "metadata": {
    "colab": {
     "base_uri": "https://localhost:8080/",
     "height": 35
    },
    "id": "LFyYY43p_frk",
    "outputId": "8e1917ac-62ba-48ab-ff01-56ceec540dd9"
   },
   "outputs": [],
   "source": [
    "# fastaiのバージョンをチェックします。\n",
    "# 2.x ならokです。\n",
    "\n",
    "import fastai\n",
    "fastai.__version__"
   ]
  },
  {
   "cell_type": "code",
   "execution_count": null,
   "metadata": {
    "id": "3krOb1hv_KbK"
   },
   "outputs": [],
   "source": [
    "# ここにStudent IDを記載しておいてください。\n",
    "Student_ID = \"Akira Endo\"\n"
   ]
  },
  {
   "cell_type": "code",
   "execution_count": null,
   "metadata": {
    "id": "vyxS9WNE_KbK"
   },
   "outputs": [],
   "source": []
  },
  {
   "cell_type": "code",
   "execution_count": null,
   "metadata": {
    "id": "mJs4xDQH_KbL"
   },
   "outputs": [],
   "source": [
    "# import library\n",
    "from fastai.vision.all import *\n",
    "import requests "
   ]
  },
  {
   "cell_type": "code",
   "execution_count": null,
   "metadata": {
    "id": "Tsb7XDnA_KbL"
   },
   "outputs": [],
   "source": [
    "import warnings\n",
    "warnings.filterwarnings('ignore')"
   ]
  },
  {
   "cell_type": "code",
   "execution_count": null,
   "metadata": {
    "id": "7bZll_CM_KbM"
   },
   "outputs": [],
   "source": []
  },
  {
   "cell_type": "markdown",
   "metadata": {
    "id": "WxkEy2Nu_KbM"
   },
   "source": [
    "## 1. 画像を準備する\n",
    "\n",
    "まず、*data*という名前のディレクトリを作成、更にその中にカテゴリーに対応したディレクトリを作成します。\n",
    "その後カテゴリーに対応したディレクトリに画像をデータをそれぞれ入れていきます。\n",
    "\n",
    "以下に例を示します。\n",
    "```\n",
    "./data/black/1.jpg\n",
    "./data/grizzly/4.jpg\n",
    "./data/teddy/2.jpg\n",
    "```\n",
    "\n",
    "例えば```./data/black/```の中にブラックベアの画像が入ることになります。\n",
    "但し今回は自分で考えたカテゴリーを使うのでblack等はそれに合った名前を使ってください。"
   ]
  },
  {
   "cell_type": "code",
   "execution_count": null,
   "metadata": {
    "colab": {
     "base_uri": "https://localhost:8080/"
    },
    "id": "4mcPwEdn_KbM",
    "outputId": "a44758fd-5929-4653-ef15-74ecd5626f08"
   },
   "outputs": [],
   "source": [
    "# 下記を実行することで、クマのサンプルでテストできます。\n",
    "# ですが、このアサインメントをパスするには\"クマ\"以外の自分のデータを自分のスキルでなんとかして用意する必要があります。\n",
    "\n",
    "! wget http://shabelab.com/datasets/bears.tar.gz\n",
    "! tar xvzf bears.tar.gz\n",
    "# フルーツのデータセットをダウンロードする\n",
    "# !curl -L \"https://public.roboflow.com/ds/EcPqLjU7Lj?key=wt5JauBX6A\" > roboflow.zip; unzip roboflow.zip; rm roboflow.zip"
   ]
  },
  {
   "cell_type": "code",
   "execution_count": null,
   "metadata": {
    "colab": {
     "base_uri": "https://localhost:8080/"
    },
    "id": "GsT1rwCfAz64",
    "outputId": "9595df54-5f2b-49a5-bce7-96244f5b07c6"
   },
   "outputs": [],
   "source": []
  },
  {
   "cell_type": "markdown",
   "metadata": {
    "id": "28E-swve_KbN"
   },
   "source": [
    "## 2. データセットを設定し、学習を行う\n",
    "以下は各セルを順番に実行していくだけでokです。\n",
    "\n",
    "*学習のヒント:*\n",
    "将来類似の問題に出くわした際は、似た様な問題を暑かったnotebooksやgithubのプロジェクトを探し、それを変更して解決できないか試してみましょう。データを変えるだけで解決できることは少ないですが、そこが出発点として使える事は多いです。"
   ]
  },
  {
   "cell_type": "code",
   "execution_count": null,
   "metadata": {
    "id": "C9yyA69j_KbO"
   },
   "outputs": [],
   "source": [
    "# datablock\n",
    "bears = DataBlock(\n",
    "    blocks=(ImageBlock, CategoryBlock), \n",
    "    get_items=get_image_files, \n",
    "    splitter=RandomSplitter(valid_pct=0.2, seed=42),\n",
    "    get_y=parent_label,\n",
    "    item_tfms=RandomResizedCrop(224, min_scale=0.5),\n",
    "    batch_tfms=aug_transforms())"
   ]
  },
  {
   "cell_type": "code",
   "execution_count": null,
   "metadata": {
    "id": "P6uxqLYJ_KbO"
   },
   "outputs": [],
   "source": [
    "# prepare dataloaders\n",
    "dls = bears.dataloaders(\"./data\")"
   ]
  },
  {
   "cell_type": "code",
   "execution_count": null,
   "metadata": {
    "colab": {
     "base_uri": "https://localhost:8080/",
     "height": 324,
     "referenced_widgets": [
      "5ec911d3a9254c9d97b9097d40ecb276",
      "a99d3a4e0e994d99a2e9ce9812a0c477",
      "e8ff3578ee0748fbbe07b178eab6d8e8",
      "be899dcd626845a4a3cd6add77779c51",
      "92a9268bd48a4ba59dd7a66e321d8bec",
      "140d631c95ee4fb281a1ec1b8a986c68",
      "dfe242017ae04785b441bfcfe00950fc",
      "9d6f10e38bf54d53adb132b40616c9d5"
     ]
    },
    "id": "EAiTqaqS_KbP",
    "outputId": "0bafd9ac-2184-41d6-9686-7a1073d32f76"
   },
   "outputs": [],
   "source": [
    "# train \n",
    "learn = cnn_learner(dls, resnet18, metrics=error_rate)\n",
    "learn.fine_tune(4)"
   ]
  },
  {
   "cell_type": "code",
   "execution_count": null,
   "metadata": {
    "colab": {
     "base_uri": "https://localhost:8080/",
     "height": 311
    },
    "id": "ZHTLy70I_KbP",
    "outputId": "346a667d-7847-4d9c-a4ef-c465ba0bd3e7"
   },
   "outputs": [],
   "source": [
    "# evaluate training\n",
    "interp = ClassificationInterpretation.from_learner(learn)\n",
    "interp.plot_confusion_matrix()\n"
   ]
  },
  {
   "cell_type": "code",
   "execution_count": null,
   "metadata": {
    "id": "lhY8lMlB_KbP"
   },
   "outputs": [],
   "source": [
    "# save \n",
    "learn.export()"
   ]
  },
  {
   "cell_type": "code",
   "execution_count": null,
   "metadata": {
    "id": "FXjSByIr_KbQ"
   },
   "outputs": [],
   "source": []
  },
  {
   "cell_type": "markdown",
   "metadata": {
    "id": "5bp9YlrQ_KbQ"
   },
   "source": [
    "## 3. テスト\n",
    "学習で使わなかった画像を一つ用意しアップロードします。  \n",
    "その後、保存したモデルをロードし、どんな推論結果が出るかテストしてみましょう。\n",
    "\n",
    "ここではtest.jpgという名前で保存しています。"
   ]
  },
  {
   "cell_type": "code",
   "execution_count": null,
   "metadata": {
    "id": "_9YZn2dR_KbQ"
   },
   "outputs": [],
   "source": [
    "# 画像を一つアップロードする。\n",
    "# 以下はクマの例です。アサインメントでは自分のデータに合うサンプルを用意する必要があります。\n",
    "\n",
    "! wget https://shabelab.com/mp3/1200px-2010-kodiak-bear-1.jpg -O test.jpg\n"
   ]
  },
  {
   "cell_type": "code",
   "execution_count": null,
   "metadata": {
    "id": "aplS1v_G_KbQ"
   },
   "outputs": [],
   "source": [
    "# load model\n",
    "learn_inf = load_learner('export.pkl')"
   ]
  },
  {
   "cell_type": "code",
   "execution_count": null,
   "metadata": {
    "id": "NU5VCH1o_KbR"
   },
   "outputs": [],
   "source": [
    "# upload image \n",
    "test_image = \"test.jpg\""
   ]
  },
  {
   "cell_type": "code",
   "execution_count": null,
   "metadata": {
    "colab": {
     "base_uri": "https://localhost:8080/",
     "height": 647
    },
    "id": "MCGMUGz9_KbR",
    "outputId": "4d95f8fd-ac9f-476c-ccdd-fd04473d9c8c"
   },
   "outputs": [],
   "source": [
    "from IPython.display import Image\n",
    "Image(filename=test_image) "
   ]
  },
  {
   "cell_type": "code",
   "execution_count": null,
   "metadata": {
    "colab": {
     "base_uri": "https://localhost:8080/",
     "height": 35
    },
    "id": "5VQOuKSl_KbR",
    "outputId": "e9467db6-daee-4e84-e496-21e886825353"
   },
   "outputs": [],
   "source": [
    "# test model\n",
    "learn_inf.predict(test_image)"
   ]
  },
  {
   "cell_type": "code",
   "execution_count": null,
   "metadata": {},
   "outputs": [],
   "source": []
  }
 ],
 "metadata": {
  "accelerator": "GPU",
  "colab": {
   "collapsed_sections": [],
   "name": "Copy of huntercity_practice_1.ipynb",
   "provenance": []
  },
  "kernelspec": {
   "display_name": "Python 3",
   "language": "python",
   "name": "python3"
  },
  "language_info": {
   "codemirror_mode": {
    "name": "ipython",
    "version": 3
   },
   "file_extension": ".py",
   "mimetype": "text/x-python",
   "name": "python",
   "nbconvert_exporter": "python",
   "pygments_lexer": "ipython3",
   "version": "3.8.8"
  },
  "widgets": {
   "application/vnd.jupyter.widget-state+json": {
    "140d631c95ee4fb281a1ec1b8a986c68": {
     "model_module": "@jupyter-widgets/base",
     "model_name": "LayoutModel",
     "state": {
      "_model_module": "@jupyter-widgets/base",
      "_model_module_version": "1.2.0",
      "_model_name": "LayoutModel",
      "_view_count": null,
      "_view_module": "@jupyter-widgets/base",
      "_view_module_version": "1.2.0",
      "_view_name": "LayoutView",
      "align_content": null,
      "align_items": null,
      "align_self": null,
      "border": null,
      "bottom": null,
      "display": null,
      "flex": null,
      "flex_flow": null,
      "grid_area": null,
      "grid_auto_columns": null,
      "grid_auto_flow": null,
      "grid_auto_rows": null,
      "grid_column": null,
      "grid_gap": null,
      "grid_row": null,
      "grid_template_areas": null,
      "grid_template_columns": null,
      "grid_template_rows": null,
      "height": null,
      "justify_content": null,
      "justify_items": null,
      "left": null,
      "margin": null,
      "max_height": null,
      "max_width": null,
      "min_height": null,
      "min_width": null,
      "object_fit": null,
      "object_position": null,
      "order": null,
      "overflow": null,
      "overflow_x": null,
      "overflow_y": null,
      "padding": null,
      "right": null,
      "top": null,
      "visibility": null,
      "width": null
     }
    },
    "5ec911d3a9254c9d97b9097d40ecb276": {
     "model_module": "@jupyter-widgets/controls",
     "model_name": "HBoxModel",
     "state": {
      "_dom_classes": [],
      "_model_module": "@jupyter-widgets/controls",
      "_model_module_version": "1.5.0",
      "_model_name": "HBoxModel",
      "_view_count": null,
      "_view_module": "@jupyter-widgets/controls",
      "_view_module_version": "1.5.0",
      "_view_name": "HBoxView",
      "box_style": "",
      "children": [
       "IPY_MODEL_e8ff3578ee0748fbbe07b178eab6d8e8",
       "IPY_MODEL_be899dcd626845a4a3cd6add77779c51"
      ],
      "layout": "IPY_MODEL_a99d3a4e0e994d99a2e9ce9812a0c477"
     }
    },
    "92a9268bd48a4ba59dd7a66e321d8bec": {
     "model_module": "@jupyter-widgets/controls",
     "model_name": "ProgressStyleModel",
     "state": {
      "_model_module": "@jupyter-widgets/controls",
      "_model_module_version": "1.5.0",
      "_model_name": "ProgressStyleModel",
      "_view_count": null,
      "_view_module": "@jupyter-widgets/base",
      "_view_module_version": "1.2.0",
      "_view_name": "StyleView",
      "bar_color": null,
      "description_width": "initial"
     }
    },
    "9d6f10e38bf54d53adb132b40616c9d5": {
     "model_module": "@jupyter-widgets/base",
     "model_name": "LayoutModel",
     "state": {
      "_model_module": "@jupyter-widgets/base",
      "_model_module_version": "1.2.0",
      "_model_name": "LayoutModel",
      "_view_count": null,
      "_view_module": "@jupyter-widgets/base",
      "_view_module_version": "1.2.0",
      "_view_name": "LayoutView",
      "align_content": null,
      "align_items": null,
      "align_self": null,
      "border": null,
      "bottom": null,
      "display": null,
      "flex": null,
      "flex_flow": null,
      "grid_area": null,
      "grid_auto_columns": null,
      "grid_auto_flow": null,
      "grid_auto_rows": null,
      "grid_column": null,
      "grid_gap": null,
      "grid_row": null,
      "grid_template_areas": null,
      "grid_template_columns": null,
      "grid_template_rows": null,
      "height": null,
      "justify_content": null,
      "justify_items": null,
      "left": null,
      "margin": null,
      "max_height": null,
      "max_width": null,
      "min_height": null,
      "min_width": null,
      "object_fit": null,
      "object_position": null,
      "order": null,
      "overflow": null,
      "overflow_x": null,
      "overflow_y": null,
      "padding": null,
      "right": null,
      "top": null,
      "visibility": null,
      "width": null
     }
    },
    "a99d3a4e0e994d99a2e9ce9812a0c477": {
     "model_module": "@jupyter-widgets/base",
     "model_name": "LayoutModel",
     "state": {
      "_model_module": "@jupyter-widgets/base",
      "_model_module_version": "1.2.0",
      "_model_name": "LayoutModel",
      "_view_count": null,
      "_view_module": "@jupyter-widgets/base",
      "_view_module_version": "1.2.0",
      "_view_name": "LayoutView",
      "align_content": null,
      "align_items": null,
      "align_self": null,
      "border": null,
      "bottom": null,
      "display": null,
      "flex": null,
      "flex_flow": null,
      "grid_area": null,
      "grid_auto_columns": null,
      "grid_auto_flow": null,
      "grid_auto_rows": null,
      "grid_column": null,
      "grid_gap": null,
      "grid_row": null,
      "grid_template_areas": null,
      "grid_template_columns": null,
      "grid_template_rows": null,
      "height": null,
      "justify_content": null,
      "justify_items": null,
      "left": null,
      "margin": null,
      "max_height": null,
      "max_width": null,
      "min_height": null,
      "min_width": null,
      "object_fit": null,
      "object_position": null,
      "order": null,
      "overflow": null,
      "overflow_x": null,
      "overflow_y": null,
      "padding": null,
      "right": null,
      "top": null,
      "visibility": null,
      "width": null
     }
    },
    "be899dcd626845a4a3cd6add77779c51": {
     "model_module": "@jupyter-widgets/controls",
     "model_name": "HTMLModel",
     "state": {
      "_dom_classes": [],
      "_model_module": "@jupyter-widgets/controls",
      "_model_module_version": "1.5.0",
      "_model_name": "HTMLModel",
      "_view_count": null,
      "_view_module": "@jupyter-widgets/controls",
      "_view_module_version": "1.5.0",
      "_view_name": "HTMLView",
      "description": "",
      "description_tooltip": null,
      "layout": "IPY_MODEL_9d6f10e38bf54d53adb132b40616c9d5",
      "placeholder": "​",
      "style": "IPY_MODEL_dfe242017ae04785b441bfcfe00950fc",
      "value": " 44.7M/44.7M [00:00&lt;00:00, 90.4MB/s]"
     }
    },
    "dfe242017ae04785b441bfcfe00950fc": {
     "model_module": "@jupyter-widgets/controls",
     "model_name": "DescriptionStyleModel",
     "state": {
      "_model_module": "@jupyter-widgets/controls",
      "_model_module_version": "1.5.0",
      "_model_name": "DescriptionStyleModel",
      "_view_count": null,
      "_view_module": "@jupyter-widgets/base",
      "_view_module_version": "1.2.0",
      "_view_name": "StyleView",
      "description_width": ""
     }
    },
    "e8ff3578ee0748fbbe07b178eab6d8e8": {
     "model_module": "@jupyter-widgets/controls",
     "model_name": "FloatProgressModel",
     "state": {
      "_dom_classes": [],
      "_model_module": "@jupyter-widgets/controls",
      "_model_module_version": "1.5.0",
      "_model_name": "FloatProgressModel",
      "_view_count": null,
      "_view_module": "@jupyter-widgets/controls",
      "_view_module_version": "1.5.0",
      "_view_name": "ProgressView",
      "bar_style": "success",
      "description": "100%",
      "description_tooltip": null,
      "layout": "IPY_MODEL_140d631c95ee4fb281a1ec1b8a986c68",
      "max": 46830571,
      "min": 0,
      "orientation": "horizontal",
      "style": "IPY_MODEL_92a9268bd48a4ba59dd7a66e321d8bec",
      "value": 46830571
     }
    }
   }
  }
 },
 "nbformat": 4,
 "nbformat_minor": 4
}
